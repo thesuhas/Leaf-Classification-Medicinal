{
 "cells": [
  {
   "cell_type": "code",
   "execution_count": 2,
   "metadata": {},
   "outputs": [],
   "source": [
    "import Augmentor \n",
    "import numpy as np\n",
    "import os\n",
    "\n",
    "probability = np.random.random(4) #probability parameter\n",
    "dist_grid = np.random.randint(2, 11, 3) #distortion grid dimension parameters"
   ]
  },
  {
   "cell_type": "code",
   "execution_count": 3,
   "metadata": {},
   "outputs": [],
   "source": [
    "#to calculate additional number of images to be generated\n",
    "n = 75 #total number of images per specie + 1\n",
    "def imgs_no(n, specie_path):\n",
    "    img_count = 0\n",
    "    for img in os.scandir(specie_path):\n",
    "        img_count = img_count+1\n",
    "    return n-img_count "
   ]
  },
  {
   "cell_type": "code",
   "execution_count": 4,
   "metadata": {},
   "outputs": [
    {
     "name": "stderr",
     "output_type": "stream",
     "text": [
      "Processing <PIL.Image.Image image mode=RGB size=300x168 at 0x111A880D0>: 100%|██████████| 3/3 [00:00<00:00, 24.56 Samples/s]\n",
      "Processing <PIL.Image.Image image mode=RGB size=270x187 at 0x111A7BA00>: 100%|██████████| 2/2 [00:00<00:00, 43.68 Samples/s]"
     ]
    },
    {
     "name": "stdout",
     "output_type": "stream",
     "text": [
      "Initialised with 2 image(s) found.\n",
      "Output directory set to /Users/divyashekar/Documents/Semester 3/Mini Project/Leaves_project/Sample_images/Folder2.Initialised with 3 image(s) found.\n",
      "Output directory set to /Users/divyashekar/Documents/Semester 3/Mini Project/Leaves_project/Sample_images/Folder3."
     ]
    },
    {
     "name": "stderr",
     "output_type": "stream",
     "text": [
      "\n",
      "\r",
      "Executing Pipeline:   0%|          | 0/4 [00:00<?, ? Samples/s]"
     ]
    },
    {
     "name": "stdout",
     "output_type": "stream",
     "text": [
      "Initialised with 1 image(s) found.\n",
      "Output directory set to /Users/divyashekar/Documents/Semester 3/Mini Project/Leaves_project/Sample_images/Folder1."
     ]
    },
    {
     "name": "stderr",
     "output_type": "stream",
     "text": [
      "Processing <PIL.Image.Image image mode=RGB size=1120x640 at 0x111A7B310>: 100%|██████████| 4/4 [00:00<00:00,  9.31 Samples/s]\n"
     ]
    }
   ],
   "source": [
    "main_folder=\"/Users/divyashekar/Documents/Semester 3/Mini Project/Leaves_project/Sample_images\" #parent directory \n",
    "for folder in os.scandir(main_folder):\n",
    "    if(\"leaf\" in str(folder)): #according to naming convention of folder\n",
    "        p = Augmentor.Pipeline(folder, output_directory=folder.path) #augmented images added into same folder\n",
    "        p.skew(probability[0])\n",
    "        p.random_distortion(probability[1], dist_grid[0], dist_grid[1], dist_grid[2])\n",
    "        p.rotate_random_90(probability[2])\n",
    "        p.flip_random(probability[3])\n",
    "        p.sample(imgs_no(n, folder))"
   ]
  }
 ],
 "metadata": {
  "kernelspec": {
   "display_name": "Python 3",
   "language": "python",
   "name": "python3"
  },
  "language_info": {
   "codemirror_mode": {
    "name": "ipython",
    "version": 3
   },
   "file_extension": ".py",
   "mimetype": "text/x-python",
   "name": "python",
   "nbconvert_exporter": "python",
   "pygments_lexer": "ipython3",
   "version": "3.8.5"
  }
 },
 "nbformat": 4,
 "nbformat_minor": 4
}
