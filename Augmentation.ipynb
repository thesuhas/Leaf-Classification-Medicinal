{
 "cells": [
  {
   "cell_type": "code",
   "execution_count": 32,
   "metadata": {},
   "outputs": [
    {
     "name": "stdout",
     "output_type": "stream",
     "text": [
      "<DirEntry 'cat2.jpg'>\n",
      "<DirEntry 'cat3.jpeg'>\n"
     ]
    }
   ],
   "source": [
    "import Augmentor \n",
    "import numpy as np\n",
    "import os\n",
    "\n",
    "probability = np.random.random(4) #probability parameter\n",
    "dist_grid = np.random.randint(2, 11, 3) #distortion grid dimension parameters"
   ]
  },
  {
   "cell_type": "code",
   "execution_count": 40,
   "metadata": {},
   "outputs": [
    {
     "name": "stdout",
     "output_type": "stream",
     "text": [
      "<DirEntry 'Folder2'>\n",
      "<DirEntry 'Folder3'>\n",
      "<DirEntry 'Folder1'>\n"
     ]
    }
   ],
   "source": [
    "#to calculate additional number of images to be generated\n",
    "n = 5 #total number of images per specie + 1\n",
    "def imgs_no(n, specie_path):\n",
    "    img_count = 0\n",
    "    for img in os.scandir(specie_path):\n",
    "        img_count = img_count+1\n",
    "    return n-img_count "
   ]
  },
  {
   "cell_type": "code",
   "execution_count": 44,
   "metadata": {},
   "outputs": [
    {
     "name": "stderr",
     "output_type": "stream",
     "text": [
      "Processing <PIL.Image.Image image mode=RGB size=800x450 at 0x1118CA450>: 100%|██████████| 2/2 [00:00<00:00, 53.06 Samples/s]\n",
      "Processing <PIL.JpegImagePlugin.JpegImageFile image mode=RGB size=270x187 at 0x1118CA850>: 100%|██████████| 1/1 [00:00<00:00, 64.09 Samples/s]\n",
      "Processing <PIL.Image.Image image mode=RGB size=640x1120 at 0x11188F550>: 100%|██████████| 3/3 [00:00<00:00, 32.36 Samples/s]                  "
     ]
    },
    {
     "name": "stdout",
     "output_type": "stream",
     "text": [
      "Initialised with 2 image(s) found.\n",
      "Output directory set to /Users/divyashekar/Documents/Semester 3/Mini Project/Leaves_project/Sample_images/Folder2.Initialised with 3 image(s) found.\n",
      "Output directory set to /Users/divyashekar/Documents/Semester 3/Mini Project/Leaves_project/Sample_images/Folder3.Initialised with 1 image(s) found.\n",
      "Output directory set to /Users/divyashekar/Documents/Semester 3/Mini Project/Leaves_project/Sample_images/Folder1."
     ]
    },
    {
     "name": "stderr",
     "output_type": "stream",
     "text": [
      "\n"
     ]
    }
   ],
   "source": [
    "main_folder=\"/Users/divyashekar/Documents/Semester 3/Mini Project/Leaves_project/Sample_images\" #parent directory \n",
    "for folder in os.scandir(main_folder):\n",
    "    if(\"Folder\" in str(folder)): #assuming each folder containg images of one specie are named 'Folder...'\n",
    "        p = Augmentor.Pipeline(folder, output_directory=folder.path) #augmented images added into same folder\n",
    "        p.skew(probability[0])\n",
    "        p.random_distortion(probability[1], dist_grid[0], dist_grid[1], dist_grid[2])\n",
    "        p.rotate_random_90(probability[2])\n",
    "        p.flip_random(probability[3])\n",
    "        p.sample(imgs_no(n, folder))"
   ]
  },
  {
   "cell_type": "code",
   "execution_count": null,
   "metadata": {},
   "outputs": [],
   "source": []
  }
 ],
 "metadata": {
  "kernelspec": {
   "display_name": "Python 3",
   "language": "python",
   "name": "python3"
  },
  "language_info": {
   "codemirror_mode": {
    "name": "ipython",
    "version": 3
   },
   "file_extension": ".py",
   "mimetype": "text/x-python",
   "name": "python",
   "nbconvert_exporter": "python",
   "pygments_lexer": "ipython3",
   "version": "3.7.8"
  }
 },
 "nbformat": 4,
 "nbformat_minor": 4
}
