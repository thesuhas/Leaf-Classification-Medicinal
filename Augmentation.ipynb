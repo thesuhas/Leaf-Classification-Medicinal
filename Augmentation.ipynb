{
 "cells": [
  {
   "cell_type": "code",
   "execution_count": 45,
   "metadata": {},
   "outputs": [],
   "source": [
    "import Augmentor \n",
    "import numpy as np\n",
    "import os\n",
    "\n",
    "probability = np.random.random(4) #probability parameter\n",
    "dist_grid = np.random.randint(2, 11, 3) #distortion grid dimension parameters"
   ]
  },
  {
   "cell_type": "code",
   "execution_count": 46,
   "metadata": {},
   "outputs": [],
   "source": [
    "#to calculate additional number of images to be generated\n",
    "n = 121 #total number of images per specie + 1\n",
    "def imgs_no(n, specie_path):\n",
    "    img_count = 0\n",
    "    for img in os.scandir(specie_path):\n",
    "        img_count = img_count+1\n",
    "    return n-img_count "
   ]
  },
  {
   "cell_type": "code",
   "execution_count": 47,
   "metadata": {},
   "outputs": [
    {
     "name": "stderr",
     "output_type": "stream",
     "text": [
      "Processing <PIL.Image.Image image mode=RGB size=168x300 at 0x1118D49D0>: 100%|██████████| 4/4 [00:00<00:00, 32.27 Samples/s]          \n",
      "Processing <PIL.Image.Image image mode=RGB size=187x270 at 0x10600B610>: 100%|██████████| 4/4 [00:00<00:00, 81.76 Samples/s]\n",
      "Executing Pipeline:   0%|          | 0/4 [00:00<?, ? Samples/s]"
     ]
    },
    {
     "name": "stdout",
     "output_type": "stream",
     "text": [
      "Initialised with 4 image(s) found.\n",
      "Output directory set to /Users/divyashekar/Documents/Semester 3/Mini Project/Leaves_project/Sample_images/Folder2.Initialised with 4 image(s) found.\n",
      "Output directory set to /Users/divyashekar/Documents/Semester 3/Mini Project/Leaves_project/Sample_images/Folder3.Initialised with 4 image(s) found.\n",
      "Output directory set to /Users/divyashekar/Documents/Semester 3/Mini Project/Leaves_project/Sample_images/Folder1."
     ]
    },
    {
     "name": "stderr",
     "output_type": "stream",
     "text": [
      "Processing <PIL.Image.Image image mode=RGB size=1120x640 at 0x1118CA890>: 100%|██████████| 4/4 [00:00<00:00, 10.74 Samples/s]\n"
     ]
    }
   ],
   "source": [
    "main_folder=\"/Users/divyashekar/Documents/Semester 3/Mini Project/Leaves_project/Sample_images\" #parent directory \n",
    "for folder in os.scandir(main_folder):\n",
    "    if(\"Folder\" in str(folder)): #assuming each folder containg images of one specie is named 'Folder...'\n",
    "        p = Augmentor.Pipeline(folder, output_directory=folder.path) #augmented images added into same folder\n",
    "        p.skew(probability[0])\n",
    "        p.random_distortion(probability[1], dist_grid[0], dist_grid[1], dist_grid[2])\n",
    "        p.rotate_random_90(probability[2])\n",
    "        p.flip_random(probability[3])\n",
    "        p.sample(imgs_no(n, folder))"
   ]
  },
  {
   "cell_type": "code",
   "execution_count": null,
   "metadata": {},
   "outputs": [],
   "source": [
    "\"\"\"\n",
    "to change:\n",
    "1. 'main_folder' path\n",
    "2. \"folder\" string in specie fold name\n",
    "\"\"\""
   ]
  }
 ],
 "metadata": {
  "kernelspec": {
   "display_name": "Python 3",
   "language": "python",
   "name": "python3"
  },
  "language_info": {
   "codemirror_mode": {
    "name": "ipython",
    "version": 3
   },
   "file_extension": ".py",
   "mimetype": "text/x-python",
   "name": "python",
   "nbconvert_exporter": "python",
   "pygments_lexer": "ipython3",
   "version": "3.7.8"
  }
 },
 "nbformat": 4,
 "nbformat_minor": 4
}
