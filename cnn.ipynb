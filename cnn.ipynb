{
 "cells": [
  {
   "cell_type": "code",
   "execution_count": 46,
   "metadata": {},
   "outputs": [
    {
     "name": "stdout",
     "output_type": "stream",
     "text": [
      "The tensorboard extension is already loaded. To reload it, use:\n",
      "  %reload_ext tensorboard\n"
     ]
    }
   ],
   "source": [
    "import pandas as pd\n",
    "import numpy as np\n",
    "import cv2\n",
    "import tensorflow as tf\n",
    "from tensorflow import keras\n",
    "from tensorflow.keras import layers\n",
    "from tensorflow.keras.models import Sequential\n",
    "import matplotlib.pyplot as plt\n",
    "from matplotlib.pyplot import imshow\n",
    "from sklearn.model_selection import train_test_split\n",
    "from datetime import datetime\n",
    "import os\n",
    "import itertools\n",
    "import io\n",
    "import sklearn\n",
    "# Load the TensorBoard notebook extension.\n",
    "%load_ext tensorboard"
   ]
  },
  {
   "cell_type": "code",
   "execution_count": 2,
   "metadata": {},
   "outputs": [],
   "source": [
    "os.environ['TF_FORCE_GPU_ALLOW_GROWTH'] = 'true'"
   ]
  },
  {
   "cell_type": "code",
   "execution_count": 3,
   "metadata": {},
   "outputs": [
    {
     "data": {
      "text/plain": [
       "'2.4.0'"
      ]
     },
     "execution_count": 3,
     "metadata": {},
     "output_type": "execute_result"
    }
   ],
   "source": [
    "keras.__version__"
   ]
  },
  {
   "cell_type": "code",
   "execution_count": 4,
   "metadata": {},
   "outputs": [],
   "source": [
    "path = \"C:/Users/suhas/Documents/Mini Project/Leaves/\"\n",
    "test = \"C:/Users/suhas/Documents/Mini Project/Leaves/Test\""
   ]
  },
  {
   "cell_type": "code",
   "execution_count": 5,
   "metadata": {},
   "outputs": [
    {
     "name": "stdout",
     "output_type": "stream",
     "text": [
      "/device:GPU:0\n"
     ]
    }
   ],
   "source": [
    "print(tf.test.gpu_device_name())"
   ]
  },
  {
   "cell_type": "code",
   "execution_count": 6,
   "metadata": {},
   "outputs": [],
   "source": [
    "IMAGE_SIZE = 100\n",
    "num_classes = 32\n",
    "epochs = 100\n",
    "initializer = 'he_normal'"
   ]
  },
  {
   "cell_type": "code",
   "execution_count": 7,
   "metadata": {},
   "outputs": [],
   "source": [
    "def label(img_name):\n",
    "    num = img_name.split('_')[1]\n",
    "    #print(num)\n",
    "    if num == 'pubescent bamboo':\n",
    "        return 0 \n",
    "    elif num == 'chinese horse chestnut':\n",
    "        return 1 \n",
    "    elif num == 'anhui barberry':\n",
    "        return 2 \n",
    "    elif num == 'chinese redbud':\n",
    "        return 3\n",
    "    elif num == 'true indigo':\n",
    "        return 4\n",
    "    elif num == 'japanese maple':\n",
    "        return 5 \n",
    "    elif num == 'nanmu':\n",
    "        return 6 \n",
    "    elif num == 'castor aralia':\n",
    "        return 7 \n",
    "    elif num == 'chinese cinnamon':\n",
    "        return 8 \n",
    "    elif num == 'goldenrain tree':\n",
    "        return 9 \n",
    "    elif num == 'big fruited holly':\n",
    "        return 10 \n",
    "    elif num == 'japanese chestwood':\n",
    "        return 11 \n",
    "    elif num == 'wintersweet':\n",
    "        return 12 \n",
    "    elif num == 'camphor tree':\n",
    "        return 13\n",
    "    elif num == 'japan arrowwood':\n",
    "        return 14\n",
    "    elif num == 'sweet osmanthus':\n",
    "        return 15\n",
    "    elif num == 'deodar':\n",
    "        return 16\n",
    "    elif num == 'ginkgo':\n",
    "        return 17 \n",
    "    elif num == 'crape myrtle':\n",
    "        return 18 \n",
    "    elif num == 'oleandar':\n",
    "        return 19\n",
    "    elif num == 'yew plum pie':\n",
    "        return 20\n",
    "    elif num == 'japanese flowering cherry':\n",
    "        return 21 \n",
    "    elif num == 'glossy privet':\n",
    "        return 22\n",
    "    elif num == 'chinese toon':\n",
    "        return 23\n",
    "    elif num == 'peach':\n",
    "        return 24\n",
    "    elif num == 'ford woodlotus':\n",
    "        return 25\n",
    "    elif num == 'trident maple':\n",
    "        return 26\n",
    "    elif num == 'beales barberry':\n",
    "        return 27\n",
    "    elif num == 'southern magnolia':\n",
    "        return 28\n",
    "    elif num == 'canadian poplar':\n",
    "        return 29\n",
    "    elif num == 'chinese tulip tree':\n",
    "        return 30\n",
    "    elif num == 'tangerine':\n",
    "        return 31"
   ]
  },
  {
   "cell_type": "markdown",
   "metadata": {},
   "source": [
    "# Creating Dataset"
   ]
  },
  {
   "cell_type": "code",
   "execution_count": 8,
   "metadata": {},
   "outputs": [],
   "source": [
    "def create_dataset(path):\n",
    "    data = []\n",
    "    for folder in os.scandir(path):\n",
    "        if \"leaf\" in str(folder):\n",
    "            for image in os.scandir(os.path.join(path, folder)):\n",
    "                leaf = label(folder.name)\n",
    "                if (leaf == None):\n",
    "                    print(folder.name)\n",
    "                    break\n",
    "                img = cv2.imread(os.path.join(path, folder, image))\n",
    "\n",
    "                # Basic processing\n",
    "                '''imgGray = cv2.cvtColor(img, cv2.COLOR_BGR2GRAY)\n",
    "\n",
    "                imgBlur = cv2.GaussianBlur(imgGray, (3, 3), 0)\n",
    "                thresh, imgBW = cv2.threshold(imgBlur, 128, 255, cv2.THRESH_BINARY | cv2.THRESH_OTSU)\n",
    "                imgInv = cv2.bitwise_not(imgBW)\n",
    "                kernel = np.ones((50, 50))\n",
    "                imgClosed = cv2.morphologyEx(imgInv, cv2.MORPH_CLOSE, kernel)'''\n",
    "\n",
    "                # Resize\n",
    "                new = cv2.resize(img, (IMAGE_SIZE, IMAGE_SIZE))\n",
    "                #Adding third dimension to shape\n",
    "                data.append([new, leaf])\n",
    "    return data"
   ]
  },
  {
   "cell_type": "code",
   "execution_count": 9,
   "metadata": {},
   "outputs": [],
   "source": [
    "data = create_dataset(path)"
   ]
  },
  {
   "cell_type": "code",
   "execution_count": 10,
   "metadata": {},
   "outputs": [
    {
     "data": {
      "text/plain": [
       "1907"
      ]
     },
     "execution_count": 10,
     "metadata": {},
     "output_type": "execute_result"
    }
   ],
   "source": [
    "X = np.array([d[0] for d in data])\n",
    "len(X)"
   ]
  },
  {
   "cell_type": "code",
   "execution_count": 11,
   "metadata": {},
   "outputs": [
    {
     "data": {
      "text/plain": [
       "(1907, 100, 100, 3)"
      ]
     },
     "execution_count": 11,
     "metadata": {},
     "output_type": "execute_result"
    }
   ],
   "source": [
    "X = np.divide(X, 255)\n",
    "len(X)\n",
    "X.shape"
   ]
  },
  {
   "cell_type": "code",
   "execution_count": 12,
   "metadata": {},
   "outputs": [
    {
     "data": {
      "text/plain": [
       "1907"
      ]
     },
     "execution_count": 12,
     "metadata": {},
     "output_type": "execute_result"
    }
   ],
   "source": [
    "y = np.array([d[1] for d in data])\n",
    "len(y)"
   ]
  },
  {
   "cell_type": "code",
   "execution_count": 13,
   "metadata": {},
   "outputs": [],
   "source": [
    "X_train, X_test, y_train, y_test = train_test_split(X, y, random_state = 1, stratify=y)\n",
    "X_train, X_val, y_train, y_val = train_test_split(X_train, y_train, random_state = 1, stratify=y_train)"
   ]
  },
  {
   "cell_type": "code",
   "execution_count": 41,
   "metadata": {},
   "outputs": [],
   "source": [
    "class_names = ['pubescent bamboo', 'chinese horse chestnut', 'anhui barberry', 'chinese redbud', 'true indigo', 'japanese maple', 'nanmu', 'castor aralia', 'chinese cinnamon', 'goldenrain tree', 'big fruited holly', 'japanese chestwood', 'wintersweet', 'camphor tree', 'japan arrowwood', 'sweet osmanthus', 'deodar', 'ginkgo', 'crape myrtle', 'oleandar', 'yew plum pie', 'japanese flowering cherry', 'glossy privet', 'chinese toon', 'peach', 'ford woodlotus', 'trident maple', 'beales barberry', 'southern magnolia', 'canadian poplar', 'chinese tulip tree', 'tangerine']"
   ]
  },
  {
   "cell_type": "markdown",
   "metadata": {},
   "source": [
    "# CNN"
   ]
  },
  {
   "cell_type": "code",
   "execution_count": 48,
   "metadata": {},
   "outputs": [],
   "source": [
    "model = Sequential([\n",
    "    layers.InputLayer(input_shape=(IMAGE_SIZE, IMAGE_SIZE, 3)),\n",
    "    layers.Conv2D(16, 3, padding='same', activation='relu', kernel_initializer=initializer),\n",
    "    layers.MaxPool2D(),\n",
    "    layers.BatchNormalization(),\n",
    "    # Dropout layer for regularisation\n",
    "    layers.Dropout(rate=0.5),\n",
    "    layers.Conv2D(32, 3, padding='same', activation='relu', kernel_initializer=initializer),\n",
    "    layers.MaxPool2D(),\n",
    "    layers.BatchNormalization(),\n",
    "    # Dropout layer for regularisation\n",
    "    layers.Dropout(rate=0.5),\n",
    "    layers.Conv2D(64, 5, padding='same', activation='relu', kernel_initializer=initializer),\n",
    "    layers.MaxPool2D(),\n",
    "    layers.BatchNormalization(),\n",
    "    # Dropout layer for regularisation\n",
    "    layers.Dropout(rate=0.5),\n",
    "    # Flattening output to connect to Densely Connected Layers\n",
    "    layers.Flatten(),\n",
    "    layers.Dense(128, activation='relu', kernel_initializer=initializer),\n",
    "    layers.BatchNormalization(),\n",
    "    layers.Dense(num_classes, activation='softmax', kernel_initializer=initializer)\n",
    "])"
   ]
  },
  {
   "cell_type": "code",
   "execution_count": 49,
   "metadata": {},
   "outputs": [],
   "source": [
    "model.compile(optimizer='adam', loss=tf.keras.losses.SparseCategoricalCrossentropy(from_logits=True), metrics=['accuracy'])"
   ]
  },
  {
   "cell_type": "code",
   "execution_count": 50,
   "metadata": {},
   "outputs": [
    {
     "data": {
      "text/plain": [
       "(1072, 100, 100, 3)"
      ]
     },
     "execution_count": 50,
     "metadata": {},
     "output_type": "execute_result"
    }
   ],
   "source": [
    "X_train.shape"
   ]
  },
  {
   "cell_type": "code",
   "execution_count": 51,
   "metadata": {},
   "outputs": [
    {
     "name": "stdout",
     "output_type": "stream",
     "text": [
      "Model: \"sequential_1\"\n",
      "_________________________________________________________________\n",
      "Layer (type)                 Output Shape              Param #   \n",
      "=================================================================\n",
      "conv2d_3 (Conv2D)            (None, 100, 100, 16)      448       \n",
      "_________________________________________________________________\n",
      "max_pooling2d_3 (MaxPooling2 (None, 50, 50, 16)        0         \n",
      "_________________________________________________________________\n",
      "batch_normalization_4 (Batch (None, 50, 50, 16)        64        \n",
      "_________________________________________________________________\n",
      "dropout_3 (Dropout)          (None, 50, 50, 16)        0         \n",
      "_________________________________________________________________\n",
      "conv2d_4 (Conv2D)            (None, 50, 50, 32)        4640      \n",
      "_________________________________________________________________\n",
      "max_pooling2d_4 (MaxPooling2 (None, 25, 25, 32)        0         \n",
      "_________________________________________________________________\n",
      "batch_normalization_5 (Batch (None, 25, 25, 32)        128       \n",
      "_________________________________________________________________\n",
      "dropout_4 (Dropout)          (None, 25, 25, 32)        0         \n",
      "_________________________________________________________________\n",
      "conv2d_5 (Conv2D)            (None, 25, 25, 64)        51264     \n",
      "_________________________________________________________________\n",
      "max_pooling2d_5 (MaxPooling2 (None, 12, 12, 64)        0         \n",
      "_________________________________________________________________\n",
      "batch_normalization_6 (Batch (None, 12, 12, 64)        256       \n",
      "_________________________________________________________________\n",
      "dropout_5 (Dropout)          (None, 12, 12, 64)        0         \n",
      "_________________________________________________________________\n",
      "flatten_1 (Flatten)          (None, 9216)              0         \n",
      "_________________________________________________________________\n",
      "dense_2 (Dense)              (None, 128)               1179776   \n",
      "_________________________________________________________________\n",
      "batch_normalization_7 (Batch (None, 128)               512       \n",
      "_________________________________________________________________\n",
      "dense_3 (Dense)              (None, 32)                4128      \n",
      "=================================================================\n",
      "Total params: 1,241,216\n",
      "Trainable params: 1,240,736\n",
      "Non-trainable params: 480\n",
      "_________________________________________________________________\n"
     ]
    }
   ],
   "source": [
    "model.summary()"
   ]
  },
  {
   "cell_type": "code",
   "execution_count": 52,
   "metadata": {},
   "outputs": [],
   "source": [
    "callback = tf.keras.callbacks.EarlyStopping(monitor='loss', patience=20)"
   ]
  },
  {
   "cell_type": "code",
   "execution_count": null,
   "metadata": {},
   "outputs": [
    {
     "data": {
      "text/plain": [
       "Reusing TensorBoard on port 6006 (pid 9336), started 0:13:12 ago. (Use '!kill 9336' to kill it.)"
      ]
     },
     "metadata": {},
     "output_type": "display_data"
    },
    {
     "data": {
      "text/html": [
       "\n",
       "      <iframe id=\"tensorboard-frame-50d5722d459d38a5\" width=\"100%\" height=\"800\" frameborder=\"0\">\n",
       "      </iframe>\n",
       "      <script>\n",
       "        (function() {\n",
       "          const frame = document.getElementById(\"tensorboard-frame-50d5722d459d38a5\");\n",
       "          const url = new URL(\"/\", window.location);\n",
       "          const port = 6006;\n",
       "          if (port) {\n",
       "            url.port = port;\n",
       "          }\n",
       "          frame.src = url;\n",
       "        })();\n",
       "      </script>\n",
       "    "
      ],
      "text/plain": [
       "<IPython.core.display.HTML object>"
      ]
     },
     "metadata": {},
     "output_type": "display_data"
    },
    {
     "name": "stdout",
     "output_type": "stream",
     "text": [
      "Epoch 1/100\n",
      " 2/34 [>.............................] - ETA: 14s - loss: 3.4716 - accuracy: 0.0156WARNING:tensorflow:Callbacks method `on_train_batch_end` is slow compared to the batch time (batch time: 0.0156s vs `on_train_batch_end` time: 0.9170s). Check your callbacks.\n",
      "34/34 [==============================] - 9s 255ms/step - loss: 3.2353 - accuracy: 0.3274 - val_loss: 3.4628 - val_accuracy: 0.0419\n",
      "Epoch 2/100\n",
      "34/34 [==============================] - 7s 206ms/step - loss: 2.9978 - accuracy: 0.5606 - val_loss: 3.4411 - val_accuracy: 0.0754\n",
      "Epoch 3/100\n",
      "34/34 [==============================] - 7s 207ms/step - loss: 2.9012 - accuracy: 0.6558 - val_loss: 3.4064 - val_accuracy: 0.1145\n",
      "Epoch 4/100\n",
      "34/34 [==============================] - 6s 185ms/step - loss: 2.8193 - accuracy: 0.7397 - val_loss: 3.4302 - val_accuracy: 0.0782\n",
      "Epoch 5/100\n",
      "34/34 [==============================] - 6s 191ms/step - loss: 2.7722 - accuracy: 0.7799 - val_loss: 3.4326 - val_accuracy: 0.0754\n",
      "Epoch 6/100\n",
      "34/34 [==============================] - 6s 182ms/step - loss: 2.7365 - accuracy: 0.8106 - val_loss: 3.3793 - val_accuracy: 0.1453\n",
      "Epoch 7/100\n",
      "34/34 [==============================] - 7s 200ms/step - loss: 2.7193 - accuracy: 0.8340 - val_loss: 3.3816 - val_accuracy: 0.1313\n",
      "Epoch 8/100\n",
      "34/34 [==============================] - 6s 177ms/step - loss: 2.6842 - accuracy: 0.8629 - val_loss: 3.3492 - val_accuracy: 0.1592\n",
      "Epoch 9/100\n",
      "34/34 [==============================] - 7s 209ms/step - loss: 2.6643 - accuracy: 0.8815 - val_loss: 3.3480 - val_accuracy: 0.1508\n",
      "Epoch 10/100\n",
      "34/34 [==============================] - 6s 179ms/step - loss: 2.6491 - accuracy: 0.8937 - val_loss: 3.3165 - val_accuracy: 0.1760\n",
      "Epoch 11/100\n",
      "34/34 [==============================] - 6s 179ms/step - loss: 2.6365 - accuracy: 0.9095 - val_loss: 3.2968 - val_accuracy: 0.1983\n",
      "Epoch 12/100\n",
      "34/34 [==============================] - 6s 174ms/step - loss: 2.6262 - accuracy: 0.9142 - val_loss: 3.2004 - val_accuracy: 0.3296\n",
      "Epoch 13/100\n",
      "34/34 [==============================] - 6s 190ms/step - loss: 2.6191 - accuracy: 0.9160 - val_loss: 3.0967 - val_accuracy: 0.4441\n",
      "Epoch 14/100\n",
      "34/34 [==============================] - 7s 210ms/step - loss: 2.6035 - accuracy: 0.9328 - val_loss: 3.1023 - val_accuracy: 0.4358\n",
      "Epoch 15/100\n",
      "34/34 [==============================] - 6s 177ms/step - loss: 2.5860 - accuracy: 0.9506 - val_loss: 3.1650 - val_accuracy: 0.3659\n",
      "Epoch 16/100\n",
      "34/34 [==============================] - 6s 169ms/step - loss: 2.5797 - accuracy: 0.9534 - val_loss: 3.1012 - val_accuracy: 0.4274\n",
      "Epoch 17/100\n",
      "34/34 [==============================] - 6s 166ms/step - loss: 2.5807 - accuracy: 0.9543 - val_loss: 3.1231 - val_accuracy: 0.3966\n",
      "Epoch 18/100\n",
      "34/34 [==============================] - 5s 160ms/step - loss: 2.5760 - accuracy: 0.9571 - val_loss: 2.9801 - val_accuracy: 0.5670\n",
      "Epoch 19/100\n",
      "34/34 [==============================] - 6s 168ms/step - loss: 2.5733 - accuracy: 0.9590 - val_loss: 3.0019 - val_accuracy: 0.5531\n",
      "Epoch 20/100\n",
      "34/34 [==============================] - 6s 189ms/step - loss: 2.5626 - accuracy: 0.9683 - val_loss: 2.9051 - val_accuracy: 0.6480\n",
      "Epoch 21/100\n",
      "34/34 [==============================] - 6s 164ms/step - loss: 2.5621 - accuracy: 0.9655 - val_loss: 2.9749 - val_accuracy: 0.5754\n",
      "Epoch 22/100\n",
      "34/34 [==============================] - 6s 164ms/step - loss: 2.5615 - accuracy: 0.9664 - val_loss: 2.9177 - val_accuracy: 0.6173\n",
      "Epoch 23/100\n",
      "34/34 [==============================] - 4s 129ms/step - loss: 2.5532 - accuracy: 0.9767 - val_loss: 2.8600 - val_accuracy: 0.6927\n",
      "Epoch 24/100\n",
      "34/34 [==============================] - 5s 134ms/step - loss: 2.5533 - accuracy: 0.9729 - val_loss: 2.8849 - val_accuracy: 0.6732\n",
      "Epoch 25/100\n",
      "34/34 [==============================] - 4s 128ms/step - loss: 2.5492 - accuracy: 0.9767 - val_loss: 2.8492 - val_accuracy: 0.7095\n",
      "Epoch 26/100\n",
      "34/34 [==============================] - 4s 124ms/step - loss: 2.5506 - accuracy: 0.9739 - val_loss: 2.8084 - val_accuracy: 0.7346\n",
      "Epoch 27/100\n",
      "34/34 [==============================] - 5s 151ms/step - loss: 2.5516 - accuracy: 0.9757 - val_loss: 2.8370 - val_accuracy: 0.7067\n",
      "Epoch 28/100\n",
      "34/34 [==============================] - 4s 126ms/step - loss: 2.5471 - accuracy: 0.9776 - val_loss: 2.8240 - val_accuracy: 0.7235\n",
      "Epoch 29/100\n",
      "34/34 [==============================] - 4s 129ms/step - loss: 2.5495 - accuracy: 0.9767 - val_loss: 2.8449 - val_accuracy: 0.7039\n",
      "Epoch 30/100\n",
      "34/34 [==============================] - 4s 124ms/step - loss: 2.5454 - accuracy: 0.9804 - val_loss: 2.7801 - val_accuracy: 0.7570\n",
      "Epoch 31/100\n",
      "34/34 [==============================] - 4s 123ms/step - loss: 2.5493 - accuracy: 0.9748 - val_loss: 2.7239 - val_accuracy: 0.8156\n",
      "Epoch 32/100\n",
      "34/34 [==============================] - 4s 127ms/step - loss: 2.5458 - accuracy: 0.9767 - val_loss: 2.7337 - val_accuracy: 0.8017\n",
      "Epoch 33/100\n",
      "34/34 [==============================] - 4s 124ms/step - loss: 2.5450 - accuracy: 0.9785 - val_loss: 2.8179 - val_accuracy: 0.7291\n",
      "Epoch 34/100\n",
      "34/34 [==============================] - 4s 123ms/step - loss: 2.5437 - accuracy: 0.9804 - val_loss: 2.7493 - val_accuracy: 0.7793\n",
      "Epoch 35/100\n",
      "34/34 [==============================] - 5s 161ms/step - loss: 2.5426 - accuracy: 0.9804 - val_loss: 2.7210 - val_accuracy: 0.8156\n",
      "Epoch 36/100\n",
      "34/34 [==============================] - 5s 135ms/step - loss: 2.5391 - accuracy: 0.9823 - val_loss: 2.8651 - val_accuracy: 0.6872\n",
      "Epoch 37/100\n",
      "34/34 [==============================] - 4s 125ms/step - loss: 2.5388 - accuracy: 0.9832 - val_loss: 2.7611 - val_accuracy: 0.7933\n",
      "Epoch 38/100\n",
      "34/34 [==============================] - 4s 126ms/step - loss: 2.5363 - accuracy: 0.9851 - val_loss: 2.7361 - val_accuracy: 0.7961\n",
      "Epoch 39/100\n",
      "34/34 [==============================] - 4s 132ms/step - loss: 2.5369 - accuracy: 0.9851 - val_loss: 2.7624 - val_accuracy: 0.7682\n",
      "Epoch 40/100\n",
      "34/34 [==============================] - 4s 127ms/step - loss: 2.5380 - accuracy: 0.9841 - val_loss: 2.8267 - val_accuracy: 0.6983\n",
      "Epoch 41/100\n",
      "34/34 [==============================] - 4s 122ms/step - loss: 2.5401 - accuracy: 0.9832 - val_loss: 2.7844 - val_accuracy: 0.7598\n",
      "Epoch 42/100\n",
      "34/34 [==============================] - 4s 132ms/step - loss: 2.5362 - accuracy: 0.9879 - val_loss: 2.7338 - val_accuracy: 0.7989\n",
      "Epoch 43/100\n",
      "34/34 [==============================] - 5s 137ms/step - loss: 2.5320 - accuracy: 0.9888 - val_loss: 2.7400 - val_accuracy: 0.7905\n",
      "Epoch 44/100\n",
      "34/34 [==============================] - 4s 124ms/step - loss: 2.5357 - accuracy: 0.9869 - val_loss: 2.7626 - val_accuracy: 0.7877\n",
      "Epoch 45/100\n",
      "34/34 [==============================] - 4s 124ms/step - loss: 2.5329 - accuracy: 0.9879 - val_loss: 2.7494 - val_accuracy: 0.7961\n",
      "Epoch 46/100\n",
      "34/34 [==============================] - 6s 165ms/step - loss: 2.5318 - accuracy: 0.9888 - val_loss: 2.6864 - val_accuracy: 0.8436\n",
      "Epoch 47/100\n",
      "34/34 [==============================] - 4s 126ms/step - loss: 2.5316 - accuracy: 0.9907 - val_loss: 2.7198 - val_accuracy: 0.8184\n",
      "Epoch 48/100\n",
      "34/34 [==============================] - 4s 124ms/step - loss: 2.5345 - accuracy: 0.9851 - val_loss: 2.6720 - val_accuracy: 0.8631\n",
      "Epoch 49/100\n",
      "34/34 [==============================] - 4s 124ms/step - loss: 2.5307 - accuracy: 0.9907 - val_loss: 2.7205 - val_accuracy: 0.8240\n",
      "Epoch 50/100\n",
      "34/34 [==============================] - 4s 124ms/step - loss: 2.5303 - accuracy: 0.9907 - val_loss: 2.6673 - val_accuracy: 0.8631\n",
      "Epoch 51/100\n",
      "34/34 [==============================] - 4s 128ms/step - loss: 2.5302 - accuracy: 0.9897 - val_loss: 2.7156 - val_accuracy: 0.8184\n",
      "Epoch 52/100\n",
      "34/34 [==============================] - 4s 128ms/step - loss: 2.5318 - accuracy: 0.9888 - val_loss: 2.7511 - val_accuracy: 0.7961\n",
      "Epoch 53/100\n",
      "34/34 [==============================] - 4s 127ms/step - loss: 2.5317 - accuracy: 0.9897 - val_loss: 2.7413 - val_accuracy: 0.8073\n",
      "Epoch 54/100\n",
      "34/34 [==============================] - 4s 127ms/step - loss: 2.5327 - accuracy: 0.9879 - val_loss: 2.6895 - val_accuracy: 0.8575\n",
      "Epoch 55/100\n",
      "34/34 [==============================] - 4s 128ms/step - loss: 2.5296 - accuracy: 0.9897 - val_loss: 2.7312 - val_accuracy: 0.8184\n",
      "Epoch 56/100\n"
     ]
    },
    {
     "name": "stdout",
     "output_type": "stream",
     "text": [
      "34/34 [==============================] - 4s 130ms/step - loss: 2.5290 - accuracy: 0.9916 - val_loss: 2.7292 - val_accuracy: 0.8268\n",
      "Epoch 57/100\n",
      "34/34 [==============================] - 4s 131ms/step - loss: 2.5307 - accuracy: 0.9907 - val_loss: 2.7285 - val_accuracy: 0.8128\n",
      "Epoch 58/100\n",
      "34/34 [==============================] - 5s 140ms/step - loss: 2.5297 - accuracy: 0.9907 - val_loss: 2.6604 - val_accuracy: 0.8715\n",
      "Epoch 59/100\n",
      "34/34 [==============================] - 4s 130ms/step - loss: 2.5314 - accuracy: 0.9888 - val_loss: 2.6747 - val_accuracy: 0.8687\n",
      "Epoch 60/100\n",
      "34/34 [==============================] - 6s 181ms/step - loss: 2.5295 - accuracy: 0.9907 - val_loss: 2.6863 - val_accuracy: 0.8492\n",
      "Epoch 61/100\n",
      "34/34 [==============================] - 5s 133ms/step - loss: 2.5291 - accuracy: 0.9907 - val_loss: 2.7349 - val_accuracy: 0.8128\n",
      "Epoch 62/100\n",
      "34/34 [==============================] - 4s 129ms/step - loss: 2.5308 - accuracy: 0.9897 - val_loss: 2.6965 - val_accuracy: 0.8436\n",
      "Epoch 63/100\n",
      "34/34 [==============================] - 4s 128ms/step - loss: 2.5305 - accuracy: 0.9897 - val_loss: 2.7265 - val_accuracy: 0.8212\n",
      "Epoch 64/100\n",
      "34/34 [==============================] - 4s 129ms/step - loss: 2.5309 - accuracy: 0.9907 - val_loss: 2.6872 - val_accuracy: 0.8436\n",
      "Epoch 65/100\n",
      "34/34 [==============================] - 4s 125ms/step - loss: 2.5283 - accuracy: 0.9935 - val_loss: 2.7755 - val_accuracy: 0.7598\n",
      "Epoch 66/100\n",
      "34/34 [==============================] - 4s 125ms/step - loss: 2.5250 - accuracy: 0.9944 - val_loss: 2.6969 - val_accuracy: 0.8380\n",
      "Epoch 67/100\n",
      "34/34 [==============================] - 4s 122ms/step - loss: 2.5266 - accuracy: 0.9935 - val_loss: 2.6863 - val_accuracy: 0.8408\n",
      "Epoch 68/100\n",
      "34/34 [==============================] - 4s 127ms/step - loss: 2.5278 - accuracy: 0.9935 - val_loss: 2.7577 - val_accuracy: 0.7793\n",
      "Epoch 69/100\n",
      "34/34 [==============================] - 4s 128ms/step - loss: 2.5284 - accuracy: 0.9916 - val_loss: 2.7696 - val_accuracy: 0.7709\n",
      "Epoch 70/100\n",
      "34/34 [==============================] - 4s 126ms/step - loss: 2.5289 - accuracy: 0.9916 - val_loss: 2.6635 - val_accuracy: 0.8659\n",
      "Epoch 71/100\n",
      "34/34 [==============================] - 4s 125ms/step - loss: 2.5313 - accuracy: 0.9888 - val_loss: 2.6916 - val_accuracy: 0.8408\n",
      "Epoch 72/100\n",
      "34/34 [==============================] - 4s 126ms/step - loss: 2.5273 - accuracy: 0.9925 - val_loss: 2.7237 - val_accuracy: 0.8128\n",
      "Epoch 73/100\n",
      "34/34 [==============================] - 4s 126ms/step - loss: 2.5281 - accuracy: 0.9925 - val_loss: 2.7175 - val_accuracy: 0.8128\n",
      "Epoch 74/100\n",
      "34/34 [==============================] - 4s 125ms/step - loss: 2.5314 - accuracy: 0.9897 - val_loss: 2.8361 - val_accuracy: 0.7067\n",
      "Epoch 75/100\n",
      "34/34 [==============================] - 4s 128ms/step - loss: 2.5292 - accuracy: 0.9925 - val_loss: 2.7936 - val_accuracy: 0.7430\n",
      "Epoch 76/100\n",
      "34/34 [==============================] - 4s 131ms/step - loss: 2.5240 - accuracy: 0.9981 - val_loss: 2.7196 - val_accuracy: 0.8073\n",
      "Epoch 77/100\n",
      "34/34 [==============================] - 7s 196ms/step - loss: 2.5261 - accuracy: 0.9972 - val_loss: 3.0924 - val_accuracy: 0.4581\n",
      "Epoch 78/100\n",
      "34/34 [==============================] - 4s 130ms/step - loss: 2.5363 - accuracy: 0.9888 - val_loss: 2.8744 - val_accuracy: 0.6676\n",
      "Epoch 79/100\n",
      "34/34 [==============================] - 4s 132ms/step - loss: 2.5280 - accuracy: 0.9935 - val_loss: 2.6943 - val_accuracy: 0.8408\n",
      "Epoch 80/100\n",
      "34/34 [==============================] - 4s 128ms/step - loss: 2.5302 - accuracy: 0.9925 - val_loss: 2.7234 - val_accuracy: 0.8045\n",
      "Epoch 81/100\n",
      "34/34 [==============================] - 4s 131ms/step - loss: 2.5237 - accuracy: 0.9972 - val_loss: 2.6879 - val_accuracy: 0.8408\n",
      "Epoch 82/100\n",
      "34/34 [==============================] - 4s 131ms/step - loss: 2.5229 - accuracy: 0.9972 - val_loss: 2.7035 - val_accuracy: 0.8380\n",
      "Epoch 83/100\n",
      "34/34 [==============================] - 4s 126ms/step - loss: 2.5244 - accuracy: 0.9963 - val_loss: 2.7148 - val_accuracy: 0.8212\n",
      "Epoch 84/100\n",
      "34/34 [==============================] - 4s 132ms/step - loss: 2.5210 - accuracy: 0.9991 - val_loss: 2.6563 - val_accuracy: 0.8827\n",
      "Epoch 85/100\n",
      "34/34 [==============================] - 4s 130ms/step - loss: 2.5206 - accuracy: 0.9991 - val_loss: 2.6926 - val_accuracy: 0.8352\n",
      "Epoch 86/100\n",
      "34/34 [==============================] - 4s 130ms/step - loss: 2.5206 - accuracy: 0.9991 - val_loss: 2.6604 - val_accuracy: 0.8659\n",
      "Epoch 87/100\n",
      "34/34 [==============================] - 4s 128ms/step - loss: 2.5212 - accuracy: 0.9981 - val_loss: 2.6637 - val_accuracy: 0.8659\n",
      "Epoch 88/100\n",
      "34/34 [==============================] - 4s 125ms/step - loss: 2.5230 - accuracy: 0.9963 - val_loss: 2.6616 - val_accuracy: 0.8687\n",
      "Epoch 89/100\n",
      "34/34 [==============================] - 4s 127ms/step - loss: 2.5225 - accuracy: 0.9972 - val_loss: 2.7199 - val_accuracy: 0.8156\n",
      "Epoch 90/100\n",
      "34/34 [==============================] - 4s 129ms/step - loss: 2.5217 - accuracy: 0.9981 - val_loss: 2.7519 - val_accuracy: 0.7765\n",
      "Epoch 91/100\n",
      "34/34 [==============================] - 4s 127ms/step - loss: 2.5216 - accuracy: 0.9981 - val_loss: 2.6736 - val_accuracy: 0.8520\n",
      "Epoch 92/100\n",
      "34/34 [==============================] - 4s 128ms/step - loss: 2.5216 - accuracy: 0.9972 - val_loss: 2.6223 - val_accuracy: 0.9134\n",
      "Epoch 93/100\n",
      "31/34 [==========================>...] - ETA: 0s - loss: 2.5216 - accuracy: 0.9970"
     ]
    }
   ],
   "source": [
    "# Start TensorBoard.\n",
    "%tensorboard --logdir logs/image\n",
    "\n",
    "history = model.fit(x=X_train, y=y_train, epochs=epochs, validation_data = (X_val, y_val), use_multiprocessing = True, batch_size=32, callbacks=[callback, cm_callback, tensorboard_callback])"
   ]
  },
  {
   "cell_type": "code",
   "execution_count": 20,
   "metadata": {},
   "outputs": [
    {
     "data": {
      "text/plain": [
       "<matplotlib.legend.Legend at 0x2055009d0d0>"
      ]
     },
     "execution_count": 20,
     "metadata": {},
     "output_type": "execute_result"
    },
    {
     "data": {
      "image/png": "[encoded data removed]",
      "text/plain": [
       "<Figure size 432x288 with 1 Axes>"
      ]
     },
     "metadata": {
      "needs_background": "light"
     },
     "output_type": "display_data"
    }
   ],
   "source": [
    "plt.figure()\n",
    "plt.plot([i for i in range(epochs)], history.history['val_accuracy'], label='Val Acc')\n",
    "plt.plot([i for i in range(epochs)], history.history['accuracy'], label='Training Acc')\n",
    "plt.xlabel('Epoch')\n",
    "plt.ylabel('Accuracy')\n",
    "plt.legend()"
   ]
  },
  {
   "cell_type": "code",
   "execution_count": 21,
   "metadata": {},
   "outputs": [
    {
     "data": {
      "text/plain": [
       "dict_keys(['loss', 'accuracy', 'val_loss', 'val_accuracy'])"
      ]
     },
     "execution_count": 21,
     "metadata": {},
     "output_type": "execute_result"
    }
   ],
   "source": [
    "history.history.keys()"
   ]
  },
  {
   "cell_type": "code",
   "execution_count": 22,
   "metadata": {},
   "outputs": [
    {
     "name": "stdout",
     "output_type": "stream",
     "text": [
      "15/15 [==============================] - 0s 18ms/step - loss: 2.7032 - accuracy: 0.8197\n"
     ]
    },
    {
     "data": {
      "text/plain": [
       "[2.703247308731079, 0.8197064995765686]"
      ]
     },
     "execution_count": 22,
     "metadata": {},
     "output_type": "execute_result"
    }
   ],
   "source": [
    "model.evaluate(X_test, y_test)"
   ]
  },
  {
   "cell_type": "code",
   "execution_count": 23,
   "metadata": {},
   "outputs": [
    {
     "name": "stdout",
     "output_type": "stream",
     "text": [
      "WARNING:tensorflow:From C:\\Users\\suhas\\anaconda3\\lib\\site-packages\\tensorflow\\python\\training\\tracking\\tracking.py:111: Model.state_updates (from tensorflow.python.keras.engine.training) is deprecated and will be removed in a future version.\n",
      "Instructions for updating:\n",
      "This property should not be used in TensorFlow 2.0, as updates are applied automatically.\n",
      "WARNING:tensorflow:From C:\\Users\\suhas\\anaconda3\\lib\\site-packages\\tensorflow\\python\\training\\tracking\\tracking.py:111: Layer.updates (from tensorflow.python.keras.engine.base_layer) is deprecated and will be removed in a future version.\n",
      "Instructions for updating:\n",
      "This property should not be used in TensorFlow 2.0, as updates are applied automatically.\n",
      "INFO:tensorflow:Assets written to: C:/Users/suhas/Documents/College Projects/Leaf-Classification-Medicinal/model\\assets\n"
     ]
    }
   ],
   "source": [
    "tf.keras.models.save_model(model, 'C:/Users/suhas/Documents/College Projects/Leaf-Classification-Medicinal/model')"
   ]
  },
  {
   "cell_type": "code",
   "execution_count": 24,
   "metadata": {},
   "outputs": [
    {
     "data": {
      "text/plain": [
       "0.8687151074409485"
      ]
     },
     "execution_count": 24,
     "metadata": {},
     "output_type": "execute_result"
    }
   ],
   "source": [
    "max(history.history['val_accuracy'])"
   ]
  },
  {
   "cell_type": "markdown",
   "metadata": {},
   "source": [
    "## Confusion Matrix\n"
   ]
  },
  {
   "cell_type": "code",
   "execution_count": 25,
   "metadata": {},
   "outputs": [],
   "source": [
    "def plot_confusion_matrix(cm, class_names):\n",
    "  \"\"\"\n",
    "  Returns a matplotlib figure containing the plotted confusion matrix.\n",
    "\n",
    "  Args:\n",
    "    cm (array, shape = [n, n]): a confusion matrix of integer classes\n",
    "    class_names (array, shape = [n]): String names of the integer classes\n",
    "  \"\"\"\n",
    "  figure = plt.figure(figsize=(8, 8))\n",
    "  plt.imshow(cm, interpolation='nearest', cmap=plt.cm.Blues)\n",
    "  plt.title(\"Confusion matrix\")\n",
    "  plt.colorbar()\n",
    "  tick_marks = np.arange(len(class_names))\n",
    "  plt.xticks(tick_marks, class_names, rotation=45)\n",
    "  plt.yticks(tick_marks, class_names)\n",
    "\n",
    "  # Compute the labels from the normalized confusion matrix.\n",
    "  labels = np.around(cm.astype('float') / cm.sum(axis=1)[:, np.newaxis], decimals=2)\n",
    "\n",
    "  # Use white text if squares are dark; otherwise black.\n",
    "  threshold = cm.max() / 2.\n",
    "  for i, j in itertools.product(range(cm.shape[0]), range(cm.shape[1])):\n",
    "    color = \"white\" if cm[i, j] > threshold else \"black\"\n",
    "    plt.text(j, i, labels[i, j], horizontalalignment=\"center\", color=color)\n",
    "\n",
    "  plt.tight_layout()\n",
    "  plt.ylabel('True label')\n",
    "  plt.xlabel('Predicted label')\n",
    "  return figure"
   ]
  },
  {
   "cell_type": "code",
   "execution_count": 28,
   "metadata": {},
   "outputs": [
    {
     "name": "stderr",
     "output_type": "stream",
     "text": [
      "'rm' is not recognized as an internal or external command,\n",
      "operable program or batch file.\n"
     ]
    }
   ],
   "source": [
    "# Clear out prior logging data.\n",
    "!rm -rf logs/image\n",
    "\n",
    "logdir = \"logs/image/\" + datetime.now().strftime(\"%Y%m%d-%H%M%S\")\n",
    "# Define the basic TensorBoard callback.\n",
    "tensorboard_callback = keras.callbacks.TensorBoard(log_dir=logdir)\n",
    "file_writer_cm = tf.summary.create_file_writer(logdir + '/cm')"
   ]
  },
  {
   "cell_type": "code",
   "execution_count": 37,
   "metadata": {},
   "outputs": [],
   "source": [
    "def log_confusion_matrix(epoch, logs):\n",
    "  # Use the model to predict the values from the validation dataset.\n",
    "  test_pred_raw = model.predict(X_test)\n",
    "  test_pred = np.argmax(test_pred_raw, axis=1)\n",
    "\n",
    "  # Calculate the confusion matrix.\n",
    "  cm = sklearn.metrics.confusion_matrix(y_test, test_pred)\n",
    "  # Log the confusion matrix as an image summary.\n",
    "  figure = plot_confusion_matrix(cm, class_names=class_names)\n",
    "  cm_image = plot_to_image(figure)\n",
    "\n",
    "  # Log the confusion matrix as an image summary.\n",
    "  with file_writer_cm.as_default():\n",
    "    tf.summary.image(\"Confusion Matrix\", cm_image, step=epoch)\n",
    "\n",
    "# Define the per-epoch callback.\n",
    "cm_callback = keras.callbacks.LambdaCallback(on_epoch_end=log_confusion_matrix)"
   ]
  },
  {
   "cell_type": "code",
   "execution_count": 45,
   "metadata": {},
   "outputs": [],
   "source": [
    "def plot_to_image(figure):\n",
    "  \"\"\"Converts the matplotlib plot specified by 'figure' to a PNG image and\n",
    "  returns it. The supplied figure is closed and inaccessible after this call.\"\"\"\n",
    "  # Save the plot to a PNG in memory.\n",
    "  buf = io.BytesIO()\n",
    "  plt.savefig(buf, format='png')\n",
    "  # Closing the figure prevents it from being displayed directly inside\n",
    "  # the notebook.\n",
    "  plt.close(figure)\n",
    "  buf.seek(0)\n",
    "  # Convert PNG buffer to TF image\n",
    "  image = tf.image.decode_png(buf.getvalue(), channels=4)\n",
    "  # Add the batch dimension\n",
    "  image = tf.expand_dims(image, 0)\n",
    "  return image"
   ]
  },
  {
   "cell_type": "code",
   "execution_count": null,
   "metadata": {},
   "outputs": [],
   "source": []
  }
 ],
 "metadata": {
  "kernelspec": {
   "display_name": "Python 3",
   "language": "python",
   "name": "python3"
  },
  "language_info": {
   "codemirror_mode": {
    "name": "ipython",
    "version": 3
   },
   "file_extension": ".py",
   "mimetype": "text/x-python",
   "name": "python",
   "nbconvert_exporter": "python",
   "pygments_lexer": "ipython3",
   "version": "3.8.5"
  }
 },
 "nbformat": 4,
 "nbformat_minor": 4
}
