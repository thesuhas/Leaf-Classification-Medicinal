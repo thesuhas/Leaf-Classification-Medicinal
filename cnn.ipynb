{
 "cells": [
  {
   "cell_type": "code",
   "execution_count": 1,
   "metadata": {},
   "outputs": [
    {
     "name": "stderr",
     "output_type": "stream",
     "text": [
      "C:\\Users\\suhas\\anaconda3\\lib\\site-packages\\tensorflow\\python\\framework\\dtypes.py:516: FutureWarning: Passing (type, 1) or '1type' as a synonym of type is deprecated; in a future version of numpy, it will be understood as (type, (1,)) / '(1,)type'.\n",
      "  _np_qint8 = np.dtype([(\"qint8\", np.int8, 1)])\n",
      "C:\\Users\\suhas\\anaconda3\\lib\\site-packages\\tensorflow\\python\\framework\\dtypes.py:517: FutureWarning: Passing (type, 1) or '1type' as a synonym of type is deprecated; in a future version of numpy, it will be understood as (type, (1,)) / '(1,)type'.\n",
      "  _np_quint8 = np.dtype([(\"quint8\", np.uint8, 1)])\n",
      "C:\\Users\\suhas\\anaconda3\\lib\\site-packages\\tensorflow\\python\\framework\\dtypes.py:518: FutureWarning: Passing (type, 1) or '1type' as a synonym of type is deprecated; in a future version of numpy, it will be understood as (type, (1,)) / '(1,)type'.\n",
      "  _np_qint16 = np.dtype([(\"qint16\", np.int16, 1)])\n",
      "C:\\Users\\suhas\\anaconda3\\lib\\site-packages\\tensorflow\\python\\framework\\dtypes.py:519: FutureWarning: Passing (type, 1) or '1type' as a synonym of type is deprecated; in a future version of numpy, it will be understood as (type, (1,)) / '(1,)type'.\n",
      "  _np_quint16 = np.dtype([(\"quint16\", np.uint16, 1)])\n",
      "C:\\Users\\suhas\\anaconda3\\lib\\site-packages\\tensorflow\\python\\framework\\dtypes.py:520: FutureWarning: Passing (type, 1) or '1type' as a synonym of type is deprecated; in a future version of numpy, it will be understood as (type, (1,)) / '(1,)type'.\n",
      "  _np_qint32 = np.dtype([(\"qint32\", np.int32, 1)])\n",
      "C:\\Users\\suhas\\anaconda3\\lib\\site-packages\\tensorflow\\python\\framework\\dtypes.py:525: FutureWarning: Passing (type, 1) or '1type' as a synonym of type is deprecated; in a future version of numpy, it will be understood as (type, (1,)) / '(1,)type'.\n",
      "  np_resource = np.dtype([(\"resource\", np.ubyte, 1)])\n",
      "C:\\Users\\suhas\\anaconda3\\lib\\site-packages\\tensorboard\\compat\\tensorflow_stub\\dtypes.py:541: FutureWarning: Passing (type, 1) or '1type' as a synonym of type is deprecated; in a future version of numpy, it will be understood as (type, (1,)) / '(1,)type'.\n",
      "  _np_qint8 = np.dtype([(\"qint8\", np.int8, 1)])\n",
      "C:\\Users\\suhas\\anaconda3\\lib\\site-packages\\tensorboard\\compat\\tensorflow_stub\\dtypes.py:542: FutureWarning: Passing (type, 1) or '1type' as a synonym of type is deprecated; in a future version of numpy, it will be understood as (type, (1,)) / '(1,)type'.\n",
      "  _np_quint8 = np.dtype([(\"quint8\", np.uint8, 1)])\n",
      "C:\\Users\\suhas\\anaconda3\\lib\\site-packages\\tensorboard\\compat\\tensorflow_stub\\dtypes.py:543: FutureWarning: Passing (type, 1) or '1type' as a synonym of type is deprecated; in a future version of numpy, it will be understood as (type, (1,)) / '(1,)type'.\n",
      "  _np_qint16 = np.dtype([(\"qint16\", np.int16, 1)])\n",
      "C:\\Users\\suhas\\anaconda3\\lib\\site-packages\\tensorboard\\compat\\tensorflow_stub\\dtypes.py:544: FutureWarning: Passing (type, 1) or '1type' as a synonym of type is deprecated; in a future version of numpy, it will be understood as (type, (1,)) / '(1,)type'.\n",
      "  _np_quint16 = np.dtype([(\"quint16\", np.uint16, 1)])\n",
      "C:\\Users\\suhas\\anaconda3\\lib\\site-packages\\tensorboard\\compat\\tensorflow_stub\\dtypes.py:545: FutureWarning: Passing (type, 1) or '1type' as a synonym of type is deprecated; in a future version of numpy, it will be understood as (type, (1,)) / '(1,)type'.\n",
      "  _np_qint32 = np.dtype([(\"qint32\", np.int32, 1)])\n",
      "C:\\Users\\suhas\\anaconda3\\lib\\site-packages\\tensorboard\\compat\\tensorflow_stub\\dtypes.py:550: FutureWarning: Passing (type, 1) or '1type' as a synonym of type is deprecated; in a future version of numpy, it will be understood as (type, (1,)) / '(1,)type'.\n",
      "  np_resource = np.dtype([(\"resource\", np.ubyte, 1)])\n"
     ]
    }
   ],
   "source": [
    "import pandas as pd\n",
    "import numpy as np\n",
    "import cv2\n",
    "import tensorflow as tf\n",
    "from tensorflow import keras\n",
    "from tensorflow.keras import layers\n",
    "from tensorflow.keras.models import Sequential\n",
    "import matplotlib.pyplot as plt\n",
    "from matplotlib.pyplot import imshow\n",
    "from sklearn.model_selection import train_test_split\n",
    "import glob\n",
    "%load_ext tensorboard"
   ]
  },
  {
   "cell_type": "code",
   "execution_count": 2,
   "metadata": {},
   "outputs": [
    {
     "data": {
      "text/plain": [
       "'2.2.4-tf'"
      ]
     },
     "execution_count": 2,
     "metadata": {},
     "output_type": "execute_result"
    }
   ],
   "source": [
    "keras.__version__"
   ]
  },
  {
   "cell_type": "code",
   "execution_count": 3,
   "metadata": {},
   "outputs": [],
   "source": [
    "path = glob.glob(\"C:/Users/suhas/Documents/Mini Project/Leaves/*.jpg\")"
   ]
  },
  {
   "cell_type": "code",
   "execution_count": 79,
   "metadata": {},
   "outputs": [],
   "source": [
    "IMAGE_SIZE = 100\n",
    "num_classes = 32\n",
    "epochs = 100"
   ]
  },
  {
   "cell_type": "code",
   "execution_count": 5,
   "metadata": {},
   "outputs": [],
   "source": [
    "def label(img_name):\n",
    "    num = int(img_name[-8:-4])\n",
    "    if num >= 1001 and num <= 1059:\n",
    "        return 0 #'pubescent bamboo'\n",
    "    elif num >= 1060 and num <= 1122:\n",
    "        return 1 #'chinese horse chestnut'\n",
    "    elif num >= 1552 and num <= 1616:\n",
    "        return 2 #'anhui barberry'\n",
    "    elif num >= 1123 and num <= 1194:\n",
    "        return 3 #'chinese redbud'\n",
    "    elif num >= 1195 and num <= 1267:\n",
    "        return 4 #'true indigo'\n",
    "    elif num >= 1268 and num <= 1323:\n",
    "        return 5 #'japanese maple'\n",
    "    elif num >= 1324 and num <= 1385:\n",
    "        return 6 #'nanmu'\n",
    "    elif num >= 1386 and num <= 1437:\n",
    "        return 7 #'castor aralia'\n",
    "    elif num >= 1497 and num <= 1551:\n",
    "        return 8 #'chinese cinnamon'\n",
    "    elif num >= 1438 and num <= 1496:\n",
    "        return 9 #'goldenrain tree'\n",
    "    elif num >= 2001 and num <= 2050:\n",
    "        return 10 #'big-fruited holly'\n",
    "    elif num >= 2051 and num <= 2113:\n",
    "        return 11 #'japanese cheesewood'\n",
    "    elif num >= 2114 and num <= 2165:\n",
    "        return 12 #'wintersweet'\n",
    "    elif num >= 2166 and num <= 2230:\n",
    "        return 13 #'camphor tree'\n",
    "    elif num >= 2231 and num <= 2290:\n",
    "        return 14 #'japan arrowwood'\n",
    "    elif num >= 2291 and num <= 2346:\n",
    "        return 15 #'sweet osmanthus'\n",
    "    elif num >= 2347 and num <= 2423:\n",
    "        return 16 #'deodar'\n",
    "    elif num >= 2424 and num <= 2485:\n",
    "        return 17 #'gingko'\n",
    "    elif num >= 2486 and num <= 2546:\n",
    "        return 18 #'crepe myrtle'\n",
    "    elif num >= 2547 and num <= 2612:\n",
    "        return 19 #'oleander'\n",
    "    elif num >= 2616 and num <= 2675:\n",
    "        return 20 #'yew plum pine'\n",
    "    elif num >= 3001 and num <= 3055:\n",
    "        return 21 #'japanese flowering cherry'\n",
    "    elif num >= 3056 and num <= 3110:\n",
    "        return 22 #'glossy privet'\n",
    "    elif num >= 3111 and num <= 3175:\n",
    "        return 23 #'chinese toon'\n",
    "    elif num >= 3176 and num <= 3229:\n",
    "        return 24 #'peach'\n",
    "    elif num >= 3230 and num <= 3281:\n",
    "        return 25 #'ford woodlotus'\n",
    "    elif num >= 3282 and num <= 3334:\n",
    "        return 26 #'trident maple'\n",
    "    elif num >= 3335 and num <= 3389:\n",
    "        return 27 #'beales barberry'\n",
    "    elif num >= 3390 and num <= 3446:\n",
    "        return 28 #'southern magnolia'\n",
    "    elif num >= 3447 and num <= 3510:\n",
    "        return 29 #'canadian poplar'\n",
    "    elif num >= 3511 and num <= 3563:\n",
    "        return 30 #'chinese tulip tree'\n",
    "    elif num >= 3566 and num <= 3621:\n",
    "        return 31 #'tangerine'"
   ]
  },
  {
   "cell_type": "markdown",
   "metadata": {},
   "source": [
    "# Creating Dataset"
   ]
  },
  {
   "cell_type": "code",
   "execution_count": 6,
   "metadata": {},
   "outputs": [],
   "source": [
    "data = []\n",
    "for image in path:\n",
    "    leaf = label(image)\n",
    "    img = cv2.imread(image)\n",
    "    \n",
    "    # Basic processing\n",
    "    imgGray = cv2.cvtColor(img, cv2.COLOR_BGR2GRAY)\n",
    "    \n",
    "    imgBlur = cv2.GaussianBlur(imgGray, (3, 3), 0)\n",
    "    thresh, imgBW = cv2.threshold(imgBlur, 128, 255, cv2.THRESH_BINARY | cv2.THRESH_OTSU)\n",
    "    imgInv = cv2.bitwise_not(imgBW)\n",
    "    kernel = np.ones((50, 50))\n",
    "    imgClosed = cv2.morphologyEx(imgInv, cv2.MORPH_CLOSE, kernel)\n",
    "    \n",
    "    # Resize\n",
    "    new = cv2.resize(imgClosed, (IMAGE_SIZE, IMAGE_SIZE))\n",
    "    #Adding third dimension to shape\n",
    "    new.shape += (1,)\n",
    "    data.append([new, leaf])"
   ]
  },
  {
   "cell_type": "code",
   "execution_count": 7,
   "metadata": {},
   "outputs": [
    {
     "data": {
      "text/plain": [
       "1907"
      ]
     },
     "execution_count": 7,
     "metadata": {},
     "output_type": "execute_result"
    }
   ],
   "source": [
    "len(data)"
   ]
  },
  {
   "cell_type": "code",
   "execution_count": 8,
   "metadata": {},
   "outputs": [
    {
     "data": {
      "text/plain": [
       "1907"
      ]
     },
     "execution_count": 8,
     "metadata": {},
     "output_type": "execute_result"
    }
   ],
   "source": [
    "X = np.array([d[0] for d in data])\n",
    "len(X)"
   ]
  },
  {
   "cell_type": "code",
   "execution_count": 9,
   "metadata": {},
   "outputs": [
    {
     "data": {
      "text/plain": [
       "(100, 100, 1)"
      ]
     },
     "execution_count": 9,
     "metadata": {},
     "output_type": "execute_result"
    }
   ],
   "source": [
    "X = np.divide(X, 255)\n",
    "len(X)\n",
    "X[0].shape"
   ]
  },
  {
   "cell_type": "code",
   "execution_count": 10,
   "metadata": {},
   "outputs": [
    {
     "data": {
      "text/plain": [
       "1907"
      ]
     },
     "execution_count": 10,
     "metadata": {},
     "output_type": "execute_result"
    }
   ],
   "source": [
    "y = [d[1] for d in data]\n",
    "len(y)"
   ]
  },
  {
   "cell_type": "code",
   "execution_count": 11,
   "metadata": {},
   "outputs": [],
   "source": [
    "X_train, X_test, y_train, y_test = train_test_split(X, y, random_state = 1)"
   ]
  },
  {
   "cell_type": "markdown",
   "metadata": {},
   "source": [
    "# CNN"
   ]
  },
  {
   "cell_type": "code",
   "execution_count": 76,
   "metadata": {},
   "outputs": [],
   "source": [
    "model = Sequential([\n",
    "    layers.InputLayer(input_shape=(IMAGE_SIZE, IMAGE_SIZE, 1)),\n",
    "    layers.Conv2D(16, 3, padding='same', activation='relu'),\n",
    "    layers.MaxPool2D(),\n",
    "    layers.BatchNormalization(),\n",
    "    # Dropout layer for regularisation\n",
    "    layers.Dropout(rate=0.5),\n",
    "    layers.Conv2D(32, 3, padding='same', activation='relu'),\n",
    "    layers.MaxPool2D(),\n",
    "    layers.BatchNormalization(),\n",
    "    # Dropout layer for regularisation\n",
    "    layers.Dropout(rate=0.5),\n",
    "    layers.Conv2D(64, 5, padding='same', activation='relu'),\n",
    "    layers.MaxPool2D(),\n",
    "    layers.BatchNormalization(),\n",
    "    # Dropout layer for regularisation\n",
    "    layers.Dropout(rate=0.5),\n",
    "    # Flattening output to connect to Densely Connected Layers\n",
    "    layers.Flatten(),\n",
    "    layers.Dense(128, activation='relu'),\n",
    "    layers.BatchNormalization(),\n",
    "    layers.Dense(num_classes, activation='softmax')\n",
    "])"
   ]
  },
  {
   "cell_type": "code",
   "execution_count": 77,
   "metadata": {},
   "outputs": [],
   "source": [
    "model.compile(optimizer='adam', loss=tf.keras.losses.SparseCategoricalCrossentropy(from_logits=True), metrics=['accuracy'])"
   ]
  },
  {
   "cell_type": "code",
   "execution_count": 78,
   "metadata": {},
   "outputs": [
    {
     "name": "stdout",
     "output_type": "stream",
     "text": [
      "Model: \"sequential_11\"\n",
      "_________________________________________________________________\n",
      "Layer (type)                 Output Shape              Param #   \n",
      "=================================================================\n",
      "conv2d_35 (Conv2D)           (None, 100, 100, 16)      160       \n",
      "_________________________________________________________________\n",
      "max_pooling2d_35 (MaxPooling (None, 50, 50, 16)        0         \n",
      "_________________________________________________________________\n",
      "batch_normalization_35 (Batc (None, 50, 50, 16)        64        \n",
      "_________________________________________________________________\n",
      "dropout_35 (Dropout)         (None, 50, 50, 16)        0         \n",
      "_________________________________________________________________\n",
      "conv2d_36 (Conv2D)           (None, 50, 50, 32)        4640      \n",
      "_________________________________________________________________\n",
      "max_pooling2d_36 (MaxPooling (None, 25, 25, 32)        0         \n",
      "_________________________________________________________________\n",
      "batch_normalization_36 (Batc (None, 25, 25, 32)        128       \n",
      "_________________________________________________________________\n",
      "dropout_36 (Dropout)         (None, 25, 25, 32)        0         \n",
      "_________________________________________________________________\n",
      "conv2d_37 (Conv2D)           (None, 25, 25, 64)        51264     \n",
      "_________________________________________________________________\n",
      "max_pooling2d_37 (MaxPooling (None, 12, 12, 64)        0         \n",
      "_________________________________________________________________\n",
      "batch_normalization_37 (Batc (None, 12, 12, 64)        256       \n",
      "_________________________________________________________________\n",
      "dropout_37 (Dropout)         (None, 12, 12, 64)        0         \n",
      "_________________________________________________________________\n",
      "flatten_11 (Flatten)         (None, 9216)              0         \n",
      "_________________________________________________________________\n",
      "dense_22 (Dense)             (None, 128)               1179776   \n",
      "_________________________________________________________________\n",
      "batch_normalization_38 (Batc (None, 128)               512       \n",
      "_________________________________________________________________\n",
      "dense_23 (Dense)             (None, 32)                4128      \n",
      "=================================================================\n",
      "Total params: 1,240,928\n",
      "Trainable params: 1,240,448\n",
      "Non-trainable params: 480\n",
      "_________________________________________________________________\n"
     ]
    }
   ],
   "source": [
    "model.summary()"
   ]
  },
  {
   "cell_type": "code",
   "execution_count": 80,
   "metadata": {},
   "outputs": [],
   "source": [
    "tensorboard_callback = tf.keras.callbacks.TensorBoard(log_dir=\"logs\")"
   ]
  },
  {
   "cell_type": "code",
   "execution_count": 81,
   "metadata": {},
   "outputs": [
    {
     "name": "stdout",
     "output_type": "stream",
     "text": [
      "Train on 1430 samples, validate on 477 samples\n",
      "Epoch 1/100\n",
      "1430/1430 [==============================] - 12s 9ms/sample - loss: 3.2252 - acc: 0.3224 - val_loss: 3.4736 - val_acc: 0.0356\n",
      "Epoch 2/100\n",
      "1430/1430 [==============================] - 12s 8ms/sample - loss: 3.0192 - acc: 0.5259 - val_loss: 3.4785 - val_acc: 0.0356\n",
      "Epoch 3/100\n",
      "1430/1430 [==============================] - 12s 8ms/sample - loss: 2.9440 - acc: 0.6007 - val_loss: 3.4799 - val_acc: 0.0356\n",
      "Epoch 4/100\n",
      "1430/1430 [==============================] - 12s 8ms/sample - loss: 2.9085 - acc: 0.6273 - val_loss: 3.4819 - val_acc: 0.0356\n",
      "Epoch 5/100\n",
      "1430/1430 [==============================] - 12s 9ms/sample - loss: 2.8734 - acc: 0.6713 - val_loss: 3.4728 - val_acc: 0.0356\n",
      "Epoch 6/100\n",
      "1430/1430 [==============================] - 13s 9ms/sample - loss: 2.8130 - acc: 0.7343 - val_loss: 3.4773 - val_acc: 0.0356\n",
      "Epoch 7/100\n",
      "1430/1430 [==============================] - 12s 9ms/sample - loss: 2.7627 - acc: 0.7846 - val_loss: 3.4675 - val_acc: 0.0356\n",
      "Epoch 8/100\n",
      "1430/1430 [==============================] - 13s 9ms/sample - loss: 2.7518 - acc: 0.7902 - val_loss: 3.4488 - val_acc: 0.0524\n",
      "Epoch 9/100\n",
      "1430/1430 [==============================] - 13s 9ms/sample - loss: 2.7367 - acc: 0.8049 - val_loss: 3.4508 - val_acc: 0.0482\n",
      "Epoch 10/100\n",
      "1430/1430 [==============================] - 13s 9ms/sample - loss: 2.7194 - acc: 0.8189 - val_loss: 3.4298 - val_acc: 0.0839\n",
      "Epoch 11/100\n",
      "1430/1430 [==============================] - 13s 9ms/sample - loss: 2.6990 - acc: 0.8441 - val_loss: 3.3840 - val_acc: 0.1132\n",
      "Epoch 12/100\n",
      "1430/1430 [==============================] - 13s 9ms/sample - loss: 2.6892 - acc: 0.8503 - val_loss: 3.3275 - val_acc: 0.1803\n",
      "Epoch 13/100\n",
      "1430/1430 [==============================] - 14s 10ms/sample - loss: 2.6798 - acc: 0.8615 - val_loss: 3.2553 - val_acc: 0.2683\n",
      "Epoch 14/100\n",
      "1430/1430 [==============================] - 14s 10ms/sample - loss: 2.6785 - acc: 0.8573 - val_loss: 3.0177 - val_acc: 0.5577\n",
      "Epoch 15/100\n",
      "1430/1430 [==============================] - 15s 10ms/sample - loss: 2.6710 - acc: 0.8643 - val_loss: 2.9259 - val_acc: 0.6478\n",
      "Epoch 16/100\n",
      "1430/1430 [==============================] - 16s 11ms/sample - loss: 2.6647 - acc: 0.8678 - val_loss: 2.8530 - val_acc: 0.7128\n",
      "Epoch 17/100\n",
      "1430/1430 [==============================] - 17s 12ms/sample - loss: 2.6661 - acc: 0.8643 - val_loss: 2.8414 - val_acc: 0.7086\n",
      "Epoch 18/100\n",
      "1430/1430 [==============================] - 16s 11ms/sample - loss: 2.6577 - acc: 0.8720 - val_loss: 2.7998 - val_acc: 0.7463\n",
      "Epoch 19/100\n",
      "1430/1430 [==============================] - 16s 12ms/sample - loss: 2.6523 - acc: 0.8783 - val_loss: 2.7683 - val_acc: 0.7799\n",
      "Epoch 20/100\n",
      "1430/1430 [==============================] - 16s 11ms/sample - loss: 2.6478 - acc: 0.8846 - val_loss: 2.7830 - val_acc: 0.7484\n",
      "Epoch 21/100\n",
      "1430/1430 [==============================] - 16s 11ms/sample - loss: 2.6439 - acc: 0.8888 - val_loss: 2.7892 - val_acc: 0.7505\n",
      "Epoch 22/100\n",
      "1430/1430 [==============================] - 16s 11ms/sample - loss: 2.6336 - acc: 0.8944 - val_loss: 2.7842 - val_acc: 0.7589\n",
      "Epoch 23/100\n",
      "1430/1430 [==============================] - 16s 11ms/sample - loss: 2.6400 - acc: 0.8895 - val_loss: 2.7658 - val_acc: 0.7757\n",
      "Epoch 24/100\n",
      "1430/1430 [==============================] - 15s 11ms/sample - loss: 2.6321 - acc: 0.8979 - val_loss: 2.7517 - val_acc: 0.7904\n",
      "Epoch 25/100\n",
      "1430/1430 [==============================] - 15s 10ms/sample - loss: 2.6246 - acc: 0.9035 - val_loss: 2.7268 - val_acc: 0.8155\n",
      "Epoch 26/100\n",
      "1430/1430 [==============================] - 14s 10ms/sample - loss: 2.6170 - acc: 0.9147 - val_loss: 2.7450 - val_acc: 0.7925\n",
      "Epoch 27/100\n",
      "1430/1430 [==============================] - 14s 10ms/sample - loss: 2.6242 - acc: 0.9028 - val_loss: 2.7608 - val_acc: 0.7736\n",
      "Epoch 28/100\n",
      "1430/1430 [==============================] - 14s 10ms/sample - loss: 2.6171 - acc: 0.9091 - val_loss: 2.7318 - val_acc: 0.8113\n",
      "Epoch 29/100\n",
      "1430/1430 [==============================] - 14s 9ms/sample - loss: 2.6100 - acc: 0.9203 - val_loss: 2.7340 - val_acc: 0.8050\n",
      "Epoch 30/100\n",
      "1430/1430 [==============================] - 13s 9ms/sample - loss: 2.6042 - acc: 0.9217 - val_loss: 2.7543 - val_acc: 0.7862\n",
      "Epoch 31/100\n",
      "1430/1430 [==============================] - 13s 9ms/sample - loss: 2.6024 - acc: 0.9266 - val_loss: 2.7313 - val_acc: 0.8050\n",
      "Epoch 32/100\n",
      "1430/1430 [==============================] - 14s 9ms/sample - loss: 2.5979 - acc: 0.9315 - val_loss: 2.7430 - val_acc: 0.7862\n",
      "Epoch 33/100\n",
      "1430/1430 [==============================] - 13s 9ms/sample - loss: 2.6038 - acc: 0.9252 - val_loss: 2.7319 - val_acc: 0.8050\n",
      "Epoch 34/100\n",
      "1430/1430 [==============================] - 14s 10ms/sample - loss: 2.5937 - acc: 0.9357 - val_loss: 2.7452 - val_acc: 0.7841\n",
      "Epoch 35/100\n",
      "1430/1430 [==============================] - 14s 10ms/sample - loss: 2.5907 - acc: 0.9343 - val_loss: 2.7255 - val_acc: 0.8113\n",
      "Epoch 36/100\n",
      "1430/1430 [==============================] - 13s 9ms/sample - loss: 2.5869 - acc: 0.9413 - val_loss: 2.7319 - val_acc: 0.8008\n",
      "Epoch 37/100\n",
      "1430/1430 [==============================] - 13s 9ms/sample - loss: 2.5867 - acc: 0.9385 - val_loss: 2.7296 - val_acc: 0.7966\n",
      "Epoch 38/100\n",
      "1430/1430 [==============================] - 13s 9ms/sample - loss: 2.5854 - acc: 0.9406 - val_loss: 2.7152 - val_acc: 0.8050\n",
      "Epoch 39/100\n",
      "1430/1430 [==============================] - 14s 9ms/sample - loss: 2.5836 - acc: 0.9413 - val_loss: 2.7147 - val_acc: 0.8113\n",
      "Epoch 40/100\n",
      "1430/1430 [==============================] - 14s 10ms/sample - loss: 2.5782 - acc: 0.9448 - val_loss: 2.7262 - val_acc: 0.8050\n",
      "Epoch 41/100\n",
      "1430/1430 [==============================] - 14s 10ms/sample - loss: 2.5787 - acc: 0.9441 - val_loss: 2.7255 - val_acc: 0.8008\n",
      "Epoch 42/100\n",
      "1430/1430 [==============================] - 14s 10ms/sample - loss: 2.5762 - acc: 0.9476 - val_loss: 2.7187 - val_acc: 0.8092\n",
      "Epoch 43/100\n",
      "1430/1430 [==============================] - 14s 10ms/sample - loss: 2.5742 - acc: 0.9483 - val_loss: 2.7065 - val_acc: 0.8302\n",
      "Epoch 44/100\n",
      "1430/1430 [==============================] - 14s 10ms/sample - loss: 2.5744 - acc: 0.9517 - val_loss: 2.7277 - val_acc: 0.8029\n",
      "Epoch 45/100\n",
      "1430/1430 [==============================] - 14s 10ms/sample - loss: 2.5753 - acc: 0.9497 - val_loss: 2.7172 - val_acc: 0.8134\n",
      "Epoch 46/100\n",
      "1430/1430 [==============================] - 14s 10ms/sample - loss: 2.5720 - acc: 0.9510 - val_loss: 2.7216 - val_acc: 0.7987\n",
      "Epoch 47/100\n",
      "1430/1430 [==============================] - 14s 10ms/sample - loss: 2.5733 - acc: 0.9483 - val_loss: 2.7285 - val_acc: 0.7966\n",
      "Epoch 48/100\n",
      "1430/1430 [==============================] - 14s 10ms/sample - loss: 2.5723 - acc: 0.9510 - val_loss: 2.7120 - val_acc: 0.8260\n",
      "Epoch 49/100\n",
      "1430/1430 [==============================] - 14s 10ms/sample - loss: 2.5727 - acc: 0.9503 - val_loss: 2.7386 - val_acc: 0.7862\n",
      "Epoch 50/100\n",
      "1430/1430 [==============================] - 14s 10ms/sample - loss: 2.5699 - acc: 0.9531 - val_loss: 2.7115 - val_acc: 0.8218\n",
      "Epoch 51/100\n",
      "1430/1430 [==============================] - 14s 10ms/sample - loss: 2.5712 - acc: 0.9517 - val_loss: 2.7356 - val_acc: 0.7987\n",
      "Epoch 52/100\n",
      "1430/1430 [==============================] - 14s 10ms/sample - loss: 2.5684 - acc: 0.9559 - val_loss: 2.7446 - val_acc: 0.7841\n",
      "Epoch 53/100\n",
      "1430/1430 [==============================] - 14s 10ms/sample - loss: 2.5648 - acc: 0.9580 - val_loss: 2.7276 - val_acc: 0.7987\n",
      "Epoch 54/100\n",
      "1430/1430 [==============================] - 14s 10ms/sample - loss: 2.5649 - acc: 0.9587 - val_loss: 2.7190 - val_acc: 0.8092\n",
      "Epoch 55/100\n",
      "1430/1430 [==============================] - 14s 10ms/sample - loss: 2.5637 - acc: 0.9594 - val_loss: 2.7146 - val_acc: 0.8113\n",
      "Epoch 56/100\n",
      "1430/1430 [==============================] - 14s 10ms/sample - loss: 2.5580 - acc: 0.9636 - val_loss: 2.7110 - val_acc: 0.8155\n",
      "Epoch 57/100\n",
      "1430/1430 [==============================] - 14s 10ms/sample - loss: 2.5580 - acc: 0.9636 - val_loss: 2.7151 - val_acc: 0.8113\n",
      "Epoch 58/100\n",
      "1430/1430 [==============================] - 14s 10ms/sample - loss: 2.5578 - acc: 0.9650 - val_loss: 2.7024 - val_acc: 0.8365\n",
      "Epoch 59/100\n"
     ]
    },
    {
     "name": "stdout",
     "output_type": "stream",
     "text": [
      "1430/1430 [==============================] - 14s 10ms/sample - loss: 2.5592 - acc: 0.9629 - val_loss: 2.7007 - val_acc: 0.8344\n",
      "Epoch 60/100\n",
      "1430/1430 [==============================] - 14s 10ms/sample - loss: 2.5592 - acc: 0.9636 - val_loss: 2.7104 - val_acc: 0.8239\n",
      "Epoch 61/100\n",
      "1430/1430 [==============================] - 15s 10ms/sample - loss: 2.5572 - acc: 0.9657 - val_loss: 2.7194 - val_acc: 0.8050\n",
      "Epoch 62/100\n",
      "1430/1430 [==============================] - 14s 10ms/sample - loss: 2.5530 - acc: 0.9685 - val_loss: 2.7114 - val_acc: 0.8197\n",
      "Epoch 63/100\n",
      "1430/1430 [==============================] - 14s 10ms/sample - loss: 2.5533 - acc: 0.9699 - val_loss: 2.6997 - val_acc: 0.8407\n",
      "Epoch 64/100\n",
      "1430/1430 [==============================] - 14s 10ms/sample - loss: 2.5494 - acc: 0.9734 - val_loss: 2.6998 - val_acc: 0.8344\n",
      "Epoch 65/100\n",
      "1430/1430 [==============================] - 14s 10ms/sample - loss: 2.5530 - acc: 0.9699 - val_loss: 2.6963 - val_acc: 0.8449\n",
      "Epoch 66/100\n",
      "1430/1430 [==============================] - 14s 10ms/sample - loss: 2.5511 - acc: 0.9734 - val_loss: 2.7009 - val_acc: 0.8281\n",
      "Epoch 67/100\n",
      "1430/1430 [==============================] - 14s 10ms/sample - loss: 2.5513 - acc: 0.9706 - val_loss: 2.6901 - val_acc: 0.8428\n",
      "Epoch 68/100\n",
      "1430/1430 [==============================] - 14s 10ms/sample - loss: 2.5496 - acc: 0.9713 - val_loss: 2.7037 - val_acc: 0.8323\n",
      "Epoch 69/100\n",
      "1430/1430 [==============================] - 14s 10ms/sample - loss: 2.5518 - acc: 0.9706 - val_loss: 2.6857 - val_acc: 0.8470\n",
      "Epoch 70/100\n",
      "1430/1430 [==============================] - 14s 10ms/sample - loss: 2.5511 - acc: 0.9713 - val_loss: 2.7134 - val_acc: 0.8176\n",
      "Epoch 71/100\n",
      "1430/1430 [==============================] - 14s 10ms/sample - loss: 2.5457 - acc: 0.9755 - val_loss: 2.7099 - val_acc: 0.8218\n",
      "Epoch 72/100\n",
      "1430/1430 [==============================] - 14s 10ms/sample - loss: 2.5476 - acc: 0.9755 - val_loss: 2.6940 - val_acc: 0.8344\n",
      "Epoch 73/100\n",
      "1430/1430 [==============================] - 14s 10ms/sample - loss: 2.5493 - acc: 0.9699 - val_loss: 2.6984 - val_acc: 0.8281\n",
      "Epoch 74/100\n",
      "1430/1430 [==============================] - 14s 10ms/sample - loss: 2.5453 - acc: 0.9769 - val_loss: 2.7054 - val_acc: 0.8218\n",
      "Epoch 75/100\n",
      "1430/1430 [==============================] - 14s 10ms/sample - loss: 2.5502 - acc: 0.9713 - val_loss: 2.6945 - val_acc: 0.8344\n",
      "Epoch 76/100\n",
      "1430/1430 [==============================] - 14s 10ms/sample - loss: 2.5458 - acc: 0.9762 - val_loss: 2.6936 - val_acc: 0.8407\n",
      "Epoch 77/100\n",
      "1430/1430 [==============================] - 14s 10ms/sample - loss: 2.5459 - acc: 0.9762 - val_loss: 2.6982 - val_acc: 0.8302\n",
      "Epoch 78/100\n",
      "1430/1430 [==============================] - 14s 10ms/sample - loss: 2.5507 - acc: 0.9720 - val_loss: 2.6937 - val_acc: 0.8386\n",
      "Epoch 79/100\n",
      "1430/1430 [==============================] - 14s 10ms/sample - loss: 2.5452 - acc: 0.9748 - val_loss: 2.6892 - val_acc: 0.8344\n",
      "Epoch 80/100\n",
      "1430/1430 [==============================] - 14s 10ms/sample - loss: 2.5439 - acc: 0.9769 - val_loss: 2.6911 - val_acc: 0.8281\n",
      "Epoch 81/100\n",
      "1430/1430 [==============================] - 14s 10ms/sample - loss: 2.5451 - acc: 0.9755 - val_loss: 2.7139 - val_acc: 0.7966\n",
      "Epoch 82/100\n",
      "1430/1430 [==============================] - 14s 10ms/sample - loss: 2.5443 - acc: 0.9762 - val_loss: 2.6954 - val_acc: 0.8344\n",
      "Epoch 83/100\n",
      "1430/1430 [==============================] - 14s 10ms/sample - loss: 2.5431 - acc: 0.9769 - val_loss: 2.6874 - val_acc: 0.8386\n",
      "Epoch 84/100\n",
      "1430/1430 [==============================] - 15s 11ms/sample - loss: 2.5414 - acc: 0.9776 - val_loss: 2.6922 - val_acc: 0.8365\n",
      "Epoch 85/100\n",
      "1430/1430 [==============================] - 15s 11ms/sample - loss: 2.5410 - acc: 0.9783 - val_loss: 2.6902 - val_acc: 0.8407\n",
      "Epoch 86/100\n",
      "1430/1430 [==============================] - 15s 10ms/sample - loss: 2.5412 - acc: 0.9790 - val_loss: 2.7027 - val_acc: 0.8260\n",
      "Epoch 87/100\n",
      "1430/1430 [==============================] - 14s 10ms/sample - loss: 2.5403 - acc: 0.9804 - val_loss: 2.6985 - val_acc: 0.8239\n",
      "Epoch 88/100\n",
      "1430/1430 [==============================] - 14s 10ms/sample - loss: 2.5422 - acc: 0.9783 - val_loss: 2.6982 - val_acc: 0.8344\n",
      "Epoch 89/100\n",
      "1430/1430 [==============================] - 14s 10ms/sample - loss: 2.5410 - acc: 0.9790 - val_loss: 2.7070 - val_acc: 0.8218\n",
      "Epoch 90/100\n",
      "1430/1430 [==============================] - 14s 10ms/sample - loss: 2.5402 - acc: 0.9797 - val_loss: 2.7030 - val_acc: 0.8176\n",
      "Epoch 91/100\n",
      "1430/1430 [==============================] - 14s 10ms/sample - loss: 2.5413 - acc: 0.9790 - val_loss: 2.7023 - val_acc: 0.8281\n",
      "Epoch 92/100\n",
      "1430/1430 [==============================] - 14s 10ms/sample - loss: 2.5437 - acc: 0.9783 - val_loss: 2.7012 - val_acc: 0.8260\n",
      "Epoch 93/100\n",
      "1430/1430 [==============================] - 14s 10ms/sample - loss: 2.5413 - acc: 0.9790 - val_loss: 2.6920 - val_acc: 0.8260\n",
      "Epoch 94/100\n",
      "1430/1430 [==============================] - 14s 10ms/sample - loss: 2.5404 - acc: 0.9797 - val_loss: 2.6892 - val_acc: 0.8365\n",
      "Epoch 95/100\n",
      "1430/1430 [==============================] - 14s 10ms/sample - loss: 2.5400 - acc: 0.9797 - val_loss: 2.6932 - val_acc: 0.8365\n",
      "Epoch 96/100\n",
      "1430/1430 [==============================] - 14s 10ms/sample - loss: 2.5426 - acc: 0.9776 - val_loss: 2.7043 - val_acc: 0.8218\n",
      "Epoch 97/100\n",
      "1430/1430 [==============================] - 14s 10ms/sample - loss: 2.5436 - acc: 0.9755 - val_loss: 2.6948 - val_acc: 0.8281\n",
      "Epoch 98/100\n",
      "1430/1430 [==============================] - 14s 10ms/sample - loss: 2.5415 - acc: 0.9797 - val_loss: 2.6960 - val_acc: 0.8260\n",
      "Epoch 99/100\n",
      "1430/1430 [==============================] - 14s 10ms/sample - loss: 2.5401 - acc: 0.9797 - val_loss: 2.6880 - val_acc: 0.8302\n",
      "Epoch 100/100\n",
      "1430/1430 [==============================] - 14s 10ms/sample - loss: 2.5389 - acc: 0.9804 - val_loss: 2.6899 - val_acc: 0.8407\n"
     ]
    }
   ],
   "source": [
    "history = model.fit(x=X_train, y=y_train, epochs=epochs, validation_data = (X_test, y_test), callbacks=[tensorboard_callback], use_multiprocessing = True)"
   ]
  },
  {
   "cell_type": "code",
   "execution_count": 82,
   "metadata": {},
   "outputs": [
    {
     "data": {
      "text/plain": [
       "<matplotlib.legend.Legend at 0x2647128ce88>"
      ]
     },
     "execution_count": 82,
     "metadata": {},
     "output_type": "execute_result"
    },
    {
     "data": {
      "image/png": "[encoded data removed]",
      "text/plain": [
       "<Figure size 432x288 with 1 Axes>"
      ]
     },
     "metadata": {
      "needs_background": "light"
     },
     "output_type": "display_data"
    }
   ],
   "source": [
    "plt.figure()\n",
    "plt.plot([i for i in range(epochs)], history.history['val_acc'], label='Val Acc')\n",
    "plt.plot([i for i in range(epochs)], history.history['acc'], label='Training Acc')\n",
    "plt.xlabel('Epoch')\n",
    "plt.ylabel('Accuracy')\n",
    "plt.legend()"
   ]
  },
  {
   "cell_type": "code",
   "execution_count": 50,
   "metadata": {},
   "outputs": [
    {
     "data": {
      "text/plain": [
       "dict_keys(['loss', 'acc', 'val_loss', 'val_acc'])"
      ]
     },
     "execution_count": 50,
     "metadata": {},
     "output_type": "execute_result"
    }
   ],
   "source": [
    "history.history.keys()"
   ]
  },
  {
   "cell_type": "code",
   "execution_count": null,
   "metadata": {},
   "outputs": [],
   "source": []
  }
 ],
 "metadata": {
  "kernelspec": {
   "display_name": "Python 3",
   "language": "python",
   "name": "python3"
  },
  "language_info": {
   "codemirror_mode": {
    "name": "ipython",
    "version": 3
   },
   "file_extension": ".py",
   "mimetype": "text/x-python",
   "name": "python",
   "nbconvert_exporter": "python",
   "pygments_lexer": "ipython3",
   "version": "3.7.9"
  }
 },
 "nbformat": 4,
 "nbformat_minor": 4
}
