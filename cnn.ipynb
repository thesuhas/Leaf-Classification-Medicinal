{
 "cells": [
  {
   "cell_type": "code",
   "execution_count": 1,
   "metadata": {},
   "outputs": [],
   "source": [
    "import pandas as pd\n",
    "import numpy as np\n",
    "import cv2\n",
    "import tensorflow as tf\n",
    "from tensorflow import keras\n",
    "from tensorflow.keras import layers\n",
    "from tensorflow.keras.models import Sequential\n",
    "import matplotlib.pyplot as plt\n",
    "from matplotlib.pyplot import imshow\n",
    "from sklearn.model_selection import train_test_split\n",
    "import os"
   ]
  },
  {
   "cell_type": "code",
   "execution_count": 2,
   "metadata": {},
   "outputs": [
    {
     "data": {
      "text/plain": [
       "'2.3.0-tf'"
      ]
     },
     "execution_count": 2,
     "metadata": {},
     "output_type": "execute_result"
    }
   ],
   "source": [
    "keras.__version__"
   ]
  },
  {
   "cell_type": "code",
   "execution_count": 3,
   "metadata": {},
   "outputs": [],
   "source": [
    "path = \"C:/Users/suhas/Documents/Mini Project/Leaves/\"\n",
    "test = \"C:/Users/suhas/Documents/Mini Project/Leaves/Test\""
   ]
  },
  {
   "cell_type": "code",
   "execution_count": 4,
   "metadata": {},
   "outputs": [],
   "source": [
    "IMAGE_SIZE = 100\n",
    "num_classes = 32\n",
    "epochs = 100\n",
    "initializer = 'he_normal'"
   ]
  },
  {
   "cell_type": "code",
   "execution_count": 5,
   "metadata": {},
   "outputs": [],
   "source": [
    "def label(img_name):\n",
    "    num = img_name.split('_')[1]\n",
    "    #print(num)\n",
    "    if num == 'pubescent bamboo':\n",
    "        return 0 \n",
    "    elif num == 'chinese horse chestnut':\n",
    "        return 1 \n",
    "    elif num == 'anhui barberry':\n",
    "        return 2 \n",
    "    elif num == 'chinese redbud':\n",
    "        return 3\n",
    "    elif num == 'true indigo':\n",
    "        return 4\n",
    "    elif num == 'japanese maple':\n",
    "        return 5 \n",
    "    elif num == 'nanmu':\n",
    "        return 6 \n",
    "    elif num == 'castor aralia':\n",
    "        return 7 \n",
    "    elif num == 'chinese cinnamon':\n",
    "        return 8 \n",
    "    elif num == 'goldenrain tree':\n",
    "        return 9 \n",
    "    elif num == 'big fruited holly':\n",
    "        return 10 \n",
    "    elif num == 'japanese chestwood':\n",
    "        return 11 \n",
    "    elif num == 'wintersweet':\n",
    "        return 12 \n",
    "    elif num == 'camphor tree':\n",
    "        return 13\n",
    "    elif num == 'japan arrowwood':\n",
    "        return 14\n",
    "    elif num == 'sweet osmanthus':\n",
    "        return 15\n",
    "    elif num == 'deodar':\n",
    "        return 16\n",
    "    elif num == 'ginkgo':\n",
    "        return 17 \n",
    "    elif num == 'crape myrtle':\n",
    "        return 18 \n",
    "    elif num == 'oleandar':\n",
    "        return 19\n",
    "    elif num == 'yew plum pie':\n",
    "        return 20\n",
    "    elif num == 'japanese flowering cherry':\n",
    "        return 21 \n",
    "    elif num == 'glossy privet':\n",
    "        return 22\n",
    "    elif num == 'chinese toon':\n",
    "        return 23\n",
    "    elif num == 'peach':\n",
    "        return 24\n",
    "    elif num == 'ford woodlotus':\n",
    "        return 25\n",
    "    elif num == 'trident maple':\n",
    "        return 26\n",
    "    elif num == 'beales barberry':\n",
    "        return 27\n",
    "    elif num == 'southern magnolia':\n",
    "        return 28\n",
    "    elif num == 'canadian poplar':\n",
    "        return 29\n",
    "    elif num == 'chinese tulip tree':\n",
    "        return 30\n",
    "    elif num == 'tangerine':\n",
    "        return 31"
   ]
  },
  {
   "cell_type": "markdown",
   "metadata": {},
   "source": [
    "# Creating Dataset"
   ]
  },
  {
   "cell_type": "code",
   "execution_count": 22,
   "metadata": {},
   "outputs": [],
   "source": [
    "def create_dataset(path):\n",
    "    data = []\n",
    "    for folder in os.scandir(path):\n",
    "        if \"leaf\" in str(folder):\n",
    "            for image in os.scandir(os.path.join(path, folder)):\n",
    "                leaf = label(folder.name)\n",
    "                if (leaf == None):\n",
    "                    print(folder.name)\n",
    "                    break\n",
    "                img = cv2.imread(os.path.join(path, folder, image))\n",
    "\n",
    "                # Basic processing\n",
    "                '''imgGray = cv2.cvtColor(img, cv2.COLOR_BGR2GRAY)\n",
    "\n",
    "                imgBlur = cv2.GaussianBlur(imgGray, (3, 3), 0)\n",
    "                thresh, imgBW = cv2.threshold(imgBlur, 128, 255, cv2.THRESH_BINARY | cv2.THRESH_OTSU)\n",
    "                imgInv = cv2.bitwise_not(imgBW)\n",
    "                kernel = np.ones((50, 50))\n",
    "                imgClosed = cv2.morphologyEx(imgInv, cv2.MORPH_CLOSE, kernel)'''\n",
    "\n",
    "                # Resize\n",
    "                new = cv2.resize(img, (IMAGE_SIZE, IMAGE_SIZE))\n",
    "                #Adding third dimension to shape\n",
    "                data.append([new, leaf])\n",
    "    return data"
   ]
  },
  {
   "cell_type": "code",
   "execution_count": 23,
   "metadata": {},
   "outputs": [],
   "source": [
    "data = create_dataset(path)"
   ]
  },
  {
   "cell_type": "code",
   "execution_count": 24,
   "metadata": {},
   "outputs": [
    {
     "data": {
      "text/plain": [
       "1907"
      ]
     },
     "execution_count": 24,
     "metadata": {},
     "output_type": "execute_result"
    }
   ],
   "source": [
    "X = np.array([d[0] for d in data])\n",
    "len(X)"
   ]
  },
  {
   "cell_type": "code",
   "execution_count": 25,
   "metadata": {},
   "outputs": [
    {
     "data": {
      "text/plain": [
       "(1907, 100, 100, 3)"
      ]
     },
     "execution_count": 25,
     "metadata": {},
     "output_type": "execute_result"
    }
   ],
   "source": [
    "X = np.divide(X, 255)\n",
    "len(X)\n",
    "X.shape"
   ]
  },
  {
   "cell_type": "code",
   "execution_count": 26,
   "metadata": {},
   "outputs": [
    {
     "data": {
      "text/plain": [
       "1907"
      ]
     },
     "execution_count": 26,
     "metadata": {},
     "output_type": "execute_result"
    }
   ],
   "source": [
    "y = np.array([d[1] for d in data])\n",
    "len(y)"
   ]
  },
  {
   "cell_type": "code",
   "execution_count": 27,
   "metadata": {},
   "outputs": [],
   "source": [
    "X_train, X_test, y_train, y_test = train_test_split(X, y, random_state = 1, stratify=y)\n",
    "X_train, X_val, y_train, y_val = train_test_split(X_train, y_train, random_state = 1, stratify=y_train)"
   ]
  },
  {
   "cell_type": "markdown",
   "metadata": {},
   "source": [
    "# CNN"
   ]
  },
  {
   "cell_type": "code",
   "execution_count": 50,
   "metadata": {},
   "outputs": [],
   "source": [
    "model = Sequential([\n",
    "    layers.InputLayer(input_shape=(IMAGE_SIZE, IMAGE_SIZE, 3)),\n",
    "    layers.Conv2D(16, 3, padding='same', activation='relu', kernel_initializer=initializer),\n",
    "    layers.MaxPool2D(),\n",
    "    layers.BatchNormalization(),\n",
    "    # Dropout layer for regularisation\n",
    "    layers.Dropout(rate=0.5),\n",
    "    layers.Conv2D(32, 3, padding='same', activation='relu', kernel_initializer=initializer),\n",
    "    layers.MaxPool2D(),\n",
    "    layers.BatchNormalization(),\n",
    "    # Dropout layer for regularisation\n",
    "    layers.Dropout(rate=0.5),\n",
    "    layers.Conv2D(64, 5, padding='same', activation='relu', kernel_initializer=initializer),\n",
    "    layers.MaxPool2D(),\n",
    "    layers.BatchNormalization(),\n",
    "    # Dropout layer for regularisation\n",
    "    layers.Dropout(rate=0.5),\n",
    "    # Flattening output to connect to Densely Connected Layers\n",
    "    layers.Flatten(),\n",
    "    layers.Dense(128, activation='relu', kernel_initializer=initializer),\n",
    "    layers.BatchNormalization(),\n",
    "    layers.Dense(num_classes, activation='softmax', kernel_initializer=initializer)\n",
    "])"
   ]
  },
  {
   "cell_type": "code",
   "execution_count": 51,
   "metadata": {},
   "outputs": [],
   "source": [
    "model.compile(optimizer='adam', loss=tf.keras.losses.SparseCategoricalCrossentropy(from_logits=True), metrics=['accuracy'])"
   ]
  },
  {
   "cell_type": "code",
   "execution_count": 52,
   "metadata": {},
   "outputs": [
    {
     "data": {
      "text/plain": [
       "(1072, 100, 100, 3)"
      ]
     },
     "execution_count": 52,
     "metadata": {},
     "output_type": "execute_result"
    }
   ],
   "source": [
    "X_train.shape"
   ]
  },
  {
   "cell_type": "code",
   "execution_count": 53,
   "metadata": {},
   "outputs": [
    {
     "name": "stdout",
     "output_type": "stream",
     "text": [
      "Model: \"sequential_4\"\n",
      "_________________________________________________________________\n",
      "Layer (type)                 Output Shape              Param #   \n",
      "=================================================================\n",
      "conv2d_12 (Conv2D)           (None, 100, 100, 16)      448       \n",
      "_________________________________________________________________\n",
      "max_pooling2d_12 (MaxPooling (None, 50, 50, 16)        0         \n",
      "_________________________________________________________________\n",
      "batch_normalization_16 (Batc (None, 50, 50, 16)        64        \n",
      "_________________________________________________________________\n",
      "dropout_12 (Dropout)         (None, 50, 50, 16)        0         \n",
      "_________________________________________________________________\n",
      "conv2d_13 (Conv2D)           (None, 50, 50, 32)        4640      \n",
      "_________________________________________________________________\n",
      "max_pooling2d_13 (MaxPooling (None, 25, 25, 32)        0         \n",
      "_________________________________________________________________\n",
      "batch_normalization_17 (Batc (None, 25, 25, 32)        128       \n",
      "_________________________________________________________________\n",
      "dropout_13 (Dropout)         (None, 25, 25, 32)        0         \n",
      "_________________________________________________________________\n",
      "conv2d_14 (Conv2D)           (None, 25, 25, 64)        51264     \n",
      "_________________________________________________________________\n",
      "max_pooling2d_14 (MaxPooling (None, 12, 12, 64)        0         \n",
      "_________________________________________________________________\n",
      "batch_normalization_18 (Batc (None, 12, 12, 64)        256       \n",
      "_________________________________________________________________\n",
      "dropout_14 (Dropout)         (None, 12, 12, 64)        0         \n",
      "_________________________________________________________________\n",
      "flatten_4 (Flatten)          (None, 9216)              0         \n",
      "_________________________________________________________________\n",
      "dense_8 (Dense)              (None, 128)               1179776   \n",
      "_________________________________________________________________\n",
      "batch_normalization_19 (Batc (None, 128)               512       \n",
      "_________________________________________________________________\n",
      "dense_9 (Dense)              (None, 32)                4128      \n",
      "=================================================================\n",
      "Total params: 1,241,216\n",
      "Trainable params: 1,240,736\n",
      "Non-trainable params: 480\n",
      "_________________________________________________________________\n"
     ]
    }
   ],
   "source": [
    "model.summary()"
   ]
  },
  {
   "cell_type": "code",
   "execution_count": 54,
   "metadata": {},
   "outputs": [],
   "source": [
    "callback = tf.keras.callbacks.EarlyStopping(monitor='loss', patience=20)"
   ]
  },
  {
   "cell_type": "code",
   "execution_count": 55,
   "metadata": {},
   "outputs": [
    {
     "name": "stdout",
     "output_type": "stream",
     "text": [
      "Epoch 1/100\n",
      "34/34 [==============================] - 8s 240ms/step - loss: 3.2263 - accuracy: 0.3209 - val_loss: 3.4477 - val_accuracy: 0.0447\n",
      "Epoch 2/100\n",
      "34/34 [==============================] - 10s 291ms/step - loss: 2.9596 - accuracy: 0.6035 - val_loss: 3.4511 - val_accuracy: 0.0419\n",
      "Epoch 3/100\n",
      "34/34 [==============================] - 9s 265ms/step - loss: 2.8720 - accuracy: 0.6940 - val_loss: 3.4534 - val_accuracy: 0.0475\n",
      "Epoch 4/100\n",
      "34/34 [==============================] - 9s 267ms/step - loss: 2.8094 - accuracy: 0.7565 - val_loss: 3.4198 - val_accuracy: 0.0810\n",
      "Epoch 5/100\n",
      "34/34 [==============================] - 9s 255ms/step - loss: 2.7407 - accuracy: 0.8144 - val_loss: 3.3757 - val_accuracy: 0.1480\n",
      "Epoch 6/100\n",
      "34/34 [==============================] - 9s 269ms/step - loss: 2.7096 - accuracy: 0.8414 - val_loss: 3.3863 - val_accuracy: 0.1229\n",
      "Epoch 7/100\n",
      "34/34 [==============================] - 9s 271ms/step - loss: 2.6854 - accuracy: 0.8591 - val_loss: 3.3265 - val_accuracy: 0.2039\n",
      "Epoch 8/100\n",
      "34/34 [==============================] - 9s 270ms/step - loss: 2.6734 - accuracy: 0.8759 - val_loss: 3.2864 - val_accuracy: 0.2318\n",
      "Epoch 9/100\n",
      "34/34 [==============================] - 10s 297ms/step - loss: 2.6545 - accuracy: 0.8862 - val_loss: 3.2178 - val_accuracy: 0.3324\n",
      "Epoch 10/100\n",
      "34/34 [==============================] - 10s 297ms/step - loss: 2.6471 - accuracy: 0.8955 - val_loss: 3.1617 - val_accuracy: 0.3631\n",
      "Epoch 11/100\n",
      "34/34 [==============================] - 11s 315ms/step - loss: 2.6290 - accuracy: 0.9198 - val_loss: 3.2311 - val_accuracy: 0.2989\n",
      "Epoch 12/100\n",
      "34/34 [==============================] - 13s 373ms/step - loss: 2.6101 - accuracy: 0.9263 - val_loss: 3.0950 - val_accuracy: 0.4413\n",
      "Epoch 13/100\n",
      "34/34 [==============================] - 14s 414ms/step - loss: 2.6006 - accuracy: 0.9375 - val_loss: 3.0490 - val_accuracy: 0.4832\n",
      "Epoch 14/100\n",
      "34/34 [==============================] - 13s 387ms/step - loss: 2.5931 - accuracy: 0.9422 - val_loss: 3.0183 - val_accuracy: 0.5112\n",
      "Epoch 15/100\n",
      "34/34 [==============================] - 12s 351ms/step - loss: 2.5839 - accuracy: 0.9487 - val_loss: 2.9996 - val_accuracy: 0.5559\n",
      "Epoch 16/100\n",
      "34/34 [==============================] - 13s 378ms/step - loss: 2.5768 - accuracy: 0.9562 - val_loss: 2.9830 - val_accuracy: 0.5559\n",
      "Epoch 17/100\n",
      "34/34 [==============================] - 13s 387ms/step - loss: 2.5785 - accuracy: 0.9571 - val_loss: 2.9515 - val_accuracy: 0.5894\n",
      "Epoch 18/100\n",
      "34/34 [==============================] - 13s 376ms/step - loss: 2.5702 - accuracy: 0.9608 - val_loss: 2.9113 - val_accuracy: 0.6285\n",
      "Epoch 19/100\n",
      "34/34 [==============================] - 13s 397ms/step - loss: 2.5697 - accuracy: 0.9636 - val_loss: 2.9160 - val_accuracy: 0.6257\n",
      "Epoch 20/100\n",
      "34/34 [==============================] - 13s 375ms/step - loss: 2.5596 - accuracy: 0.9720 - val_loss: 2.8218 - val_accuracy: 0.7151\n",
      "Epoch 21/100\n",
      "34/34 [==============================] - 12s 353ms/step - loss: 2.5568 - accuracy: 0.9739 - val_loss: 2.7962 - val_accuracy: 0.7458\n",
      "Epoch 22/100\n",
      "34/34 [==============================] - 12s 356ms/step - loss: 2.5569 - accuracy: 0.9739 - val_loss: 2.7935 - val_accuracy: 0.7542\n",
      "Epoch 23/100\n",
      "34/34 [==============================] - 14s 406ms/step - loss: 2.5542 - accuracy: 0.9767 - val_loss: 2.8123 - val_accuracy: 0.7207\n",
      "Epoch 24/100\n",
      "34/34 [==============================] - 14s 408ms/step - loss: 2.5506 - accuracy: 0.9776 - val_loss: 2.7994 - val_accuracy: 0.7458\n",
      "Epoch 25/100\n",
      "34/34 [==============================] - 13s 385ms/step - loss: 2.5487 - accuracy: 0.9795 - val_loss: 2.7882 - val_accuracy: 0.7402\n",
      "Epoch 26/100\n",
      "34/34 [==============================] - 13s 373ms/step - loss: 2.5433 - accuracy: 0.9851 - val_loss: 2.8372 - val_accuracy: 0.7011\n",
      "Epoch 27/100\n",
      "34/34 [==============================] - 13s 371ms/step - loss: 2.5421 - accuracy: 0.9841 - val_loss: 2.7567 - val_accuracy: 0.7737\n",
      "Epoch 28/100\n",
      "34/34 [==============================] - 15s 434ms/step - loss: 2.5391 - accuracy: 0.9860 - val_loss: 2.7257 - val_accuracy: 0.8184\n",
      "Epoch 29/100\n",
      "34/34 [==============================] - 15s 429ms/step - loss: 2.5398 - accuracy: 0.9851 - val_loss: 2.7922 - val_accuracy: 0.7570\n",
      "Epoch 30/100\n",
      "34/34 [==============================] - 13s 374ms/step - loss: 2.5403 - accuracy: 0.9860 - val_loss: 2.7501 - val_accuracy: 0.7821\n",
      "Epoch 31/100\n",
      "34/34 [==============================] - 13s 386ms/step - loss: 2.5412 - accuracy: 0.9851 - val_loss: 2.7058 - val_accuracy: 0.8212\n",
      "Epoch 32/100\n",
      "34/34 [==============================] - 12s 365ms/step - loss: 2.5365 - accuracy: 0.9879 - val_loss: 2.7409 - val_accuracy: 0.7877\n",
      "Epoch 33/100\n",
      "34/34 [==============================] - 15s 445ms/step - loss: 2.5359 - accuracy: 0.9888 - val_loss: 2.8112 - val_accuracy: 0.7291\n",
      "Epoch 34/100\n",
      "34/34 [==============================] - 14s 397ms/step - loss: 2.5344 - accuracy: 0.9888 - val_loss: 2.7661 - val_accuracy: 0.7626\n",
      "Epoch 35/100\n",
      "34/34 [==============================] - 13s 386ms/step - loss: 2.5334 - accuracy: 0.9897 - val_loss: 2.7860 - val_accuracy: 0.7542\n",
      "Epoch 36/100\n",
      "34/34 [==============================] - 13s 377ms/step - loss: 2.5331 - accuracy: 0.9897 - val_loss: 2.7665 - val_accuracy: 0.7737\n",
      "Epoch 37/100\n",
      "34/34 [==============================] - 12s 350ms/step - loss: 2.5335 - accuracy: 0.9897 - val_loss: 2.7487 - val_accuracy: 0.7821\n",
      "Epoch 38/100\n",
      "34/34 [==============================] - 11s 325ms/step - loss: 2.5351 - accuracy: 0.9888 - val_loss: 2.7204 - val_accuracy: 0.8156\n",
      "Epoch 39/100\n",
      "34/34 [==============================] - 12s 365ms/step - loss: 2.5324 - accuracy: 0.9907 - val_loss: 2.7421 - val_accuracy: 0.7933\n",
      "Epoch 40/100\n",
      "34/34 [==============================] - 10s 305ms/step - loss: 2.5319 - accuracy: 0.9907 - val_loss: 2.6908 - val_accuracy: 0.8492\n",
      "Epoch 41/100\n",
      "34/34 [==============================] - 11s 337ms/step - loss: 2.5321 - accuracy: 0.9907 - val_loss: 2.7010 - val_accuracy: 0.8240\n",
      "Epoch 42/100\n",
      "34/34 [==============================] - 14s 414ms/step - loss: 2.5317 - accuracy: 0.9897 - val_loss: 2.6832 - val_accuracy: 0.8464\n",
      "Epoch 43/100\n",
      "34/34 [==============================] - 12s 338ms/step - loss: 2.5301 - accuracy: 0.9916 - val_loss: 2.7217 - val_accuracy: 0.8045\n",
      "Epoch 44/100\n",
      "34/34 [==============================] - 11s 337ms/step - loss: 2.5314 - accuracy: 0.9916 - val_loss: 2.7279 - val_accuracy: 0.8045\n",
      "Epoch 45/100\n",
      "34/34 [==============================] - 21s 627ms/step - loss: 2.5298 - accuracy: 0.9916 - val_loss: 2.7011 - val_accuracy: 0.8324\n",
      "Epoch 46/100\n",
      "34/34 [==============================] - 17s 508ms/step - loss: 2.5298 - accuracy: 0.9925 - val_loss: 2.7169 - val_accuracy: 0.8156\n",
      "Epoch 47/100\n",
      "34/34 [==============================] - 21s 606ms/step - loss: 2.5294 - accuracy: 0.9925 - val_loss: 2.6718 - val_accuracy: 0.8631\n",
      "Epoch 48/100\n",
      "34/34 [==============================] - 14s 415ms/step - loss: 2.5263 - accuracy: 0.9953 - val_loss: 2.7572 - val_accuracy: 0.7821\n",
      "Epoch 49/100\n",
      "34/34 [==============================] - 13s 371ms/step - loss: 2.5263 - accuracy: 0.9953 - val_loss: 2.7752 - val_accuracy: 0.7654\n",
      "Epoch 50/100\n",
      "34/34 [==============================] - 12s 360ms/step - loss: 2.5298 - accuracy: 0.9907 - val_loss: 2.7984 - val_accuracy: 0.7346\n",
      "Epoch 51/100\n",
      "34/34 [==============================] - 12s 360ms/step - loss: 2.5293 - accuracy: 0.9925 - val_loss: 2.7205 - val_accuracy: 0.8212\n",
      "Epoch 52/100\n",
      "34/34 [==============================] - 12s 357ms/step - loss: 2.5276 - accuracy: 0.9953 - val_loss: 2.6869 - val_accuracy: 0.8436\n",
      "Epoch 53/100\n",
      "34/34 [==============================] - 13s 383ms/step - loss: 2.5274 - accuracy: 0.9944 - val_loss: 2.7239 - val_accuracy: 0.7989\n",
      "Epoch 54/100\n",
      "34/34 [==============================] - 13s 386ms/step - loss: 2.5262 - accuracy: 0.9981 - val_loss: 2.7363 - val_accuracy: 0.7905\n",
      "Epoch 55/100\n",
      "34/34 [==============================] - 13s 386ms/step - loss: 2.5253 - accuracy: 0.9963 - val_loss: 2.7174 - val_accuracy: 0.8045\n",
      "Epoch 56/100\n",
      "34/34 [==============================] - 13s 368ms/step - loss: 2.5236 - accuracy: 0.9981 - val_loss: 2.7504 - val_accuracy: 0.7849\n",
      "Epoch 57/100\n"
     ]
    },
    {
     "name": "stdout",
     "output_type": "stream",
     "text": [
      "34/34 [==============================] - 12s 359ms/step - loss: 2.5268 - accuracy: 0.9944 - val_loss: 2.7061 - val_accuracy: 0.8128\n",
      "Epoch 58/100\n",
      "34/34 [==============================] - 15s 428ms/step - loss: 2.5259 - accuracy: 0.9953 - val_loss: 2.7266 - val_accuracy: 0.8045\n",
      "Epoch 59/100\n",
      "34/34 [==============================] - 13s 369ms/step - loss: 2.5269 - accuracy: 0.9944 - val_loss: 2.7835 - val_accuracy: 0.7626\n",
      "Epoch 60/100\n",
      "34/34 [==============================] - 12s 365ms/step - loss: 2.5266 - accuracy: 0.9953 - val_loss: 2.6923 - val_accuracy: 0.8436\n",
      "Epoch 61/100\n",
      "34/34 [==============================] - 14s 402ms/step - loss: 2.5284 - accuracy: 0.9935 - val_loss: 2.8374 - val_accuracy: 0.7123\n",
      "Epoch 62/100\n",
      "34/34 [==============================] - 13s 388ms/step - loss: 2.5277 - accuracy: 0.9944 - val_loss: 2.8165 - val_accuracy: 0.7151\n",
      "Epoch 63/100\n",
      "34/34 [==============================] - 12s 363ms/step - loss: 2.5259 - accuracy: 0.9972 - val_loss: 2.6867 - val_accuracy: 0.8492\n",
      "Epoch 64/100\n",
      "34/34 [==============================] - 13s 380ms/step - loss: 2.5238 - accuracy: 0.9981 - val_loss: 2.6938 - val_accuracy: 0.8324\n",
      "Epoch 65/100\n",
      "34/34 [==============================] - 13s 368ms/step - loss: 2.5257 - accuracy: 0.9953 - val_loss: 2.7622 - val_accuracy: 0.7737\n",
      "Epoch 66/100\n",
      "34/34 [==============================] - 13s 392ms/step - loss: 2.5210 - accuracy: 0.9991 - val_loss: 2.7110 - val_accuracy: 0.8212\n",
      "Epoch 67/100\n",
      "34/34 [==============================] - 12s 354ms/step - loss: 2.5217 - accuracy: 0.9972 - val_loss: 2.6978 - val_accuracy: 0.8380\n",
      "Epoch 68/100\n",
      "34/34 [==============================] - 15s 450ms/step - loss: 2.5227 - accuracy: 0.9981 - val_loss: 2.6942 - val_accuracy: 0.8408\n",
      "Epoch 69/100\n",
      "34/34 [==============================] - 14s 420ms/step - loss: 2.5223 - accuracy: 0.9981 - val_loss: 2.6781 - val_accuracy: 0.8464\n",
      "Epoch 70/100\n",
      "34/34 [==============================] - 13s 376ms/step - loss: 2.5227 - accuracy: 0.9963 - val_loss: 2.6528 - val_accuracy: 0.8799\n",
      "Epoch 71/100\n",
      "34/34 [==============================] - 13s 386ms/step - loss: 2.5216 - accuracy: 0.9981 - val_loss: 2.6347 - val_accuracy: 0.9022\n",
      "Epoch 72/100\n",
      "34/34 [==============================] - 13s 385ms/step - loss: 2.5211 - accuracy: 0.9991 - val_loss: 2.6480 - val_accuracy: 0.8855\n",
      "Epoch 73/100\n",
      "34/34 [==============================] - 13s 391ms/step - loss: 2.5229 - accuracy: 0.9981 - val_loss: 2.6780 - val_accuracy: 0.8520\n",
      "Epoch 74/100\n",
      "34/34 [==============================] - 12s 358ms/step - loss: 2.5240 - accuracy: 0.9981 - val_loss: 2.6828 - val_accuracy: 0.8436\n",
      "Epoch 75/100\n",
      "34/34 [==============================] - 13s 377ms/step - loss: 2.5246 - accuracy: 0.9972 - val_loss: 2.6857 - val_accuracy: 0.8408\n",
      "Epoch 76/100\n",
      "34/34 [==============================] - 13s 382ms/step - loss: 2.5249 - accuracy: 0.9953 - val_loss: 2.6810 - val_accuracy: 0.8575\n",
      "Epoch 77/100\n",
      "34/34 [==============================] - 13s 396ms/step - loss: 2.5216 - accuracy: 0.9991 - val_loss: 2.6934 - val_accuracy: 0.8296\n",
      "Epoch 78/100\n",
      "34/34 [==============================] - 13s 371ms/step - loss: 2.5218 - accuracy: 0.9972 - val_loss: 2.6600 - val_accuracy: 0.8687\n",
      "Epoch 79/100\n",
      "34/34 [==============================] - 12s 365ms/step - loss: 2.5200 - accuracy: 0.9991 - val_loss: 2.6617 - val_accuracy: 0.8771\n",
      "Epoch 80/100\n",
      "34/34 [==============================] - 13s 379ms/step - loss: 2.5202 - accuracy: 0.9991 - val_loss: 2.6605 - val_accuracy: 0.8715\n",
      "Epoch 81/100\n",
      "34/34 [==============================] - 12s 352ms/step - loss: 2.5198 - accuracy: 0.9991 - val_loss: 2.6682 - val_accuracy: 0.8575\n",
      "Epoch 82/100\n",
      "34/34 [==============================] - 12s 345ms/step - loss: 2.5203 - accuracy: 0.9991 - val_loss: 2.6812 - val_accuracy: 0.8492\n",
      "Epoch 83/100\n",
      "34/34 [==============================] - 10s 300ms/step - loss: 2.5215 - accuracy: 0.9972 - val_loss: 2.6949 - val_accuracy: 0.8324\n",
      "Epoch 84/100\n",
      "34/34 [==============================] - 11s 316ms/step - loss: 2.5214 - accuracy: 0.9981 - val_loss: 2.7027 - val_accuracy: 0.8296\n",
      "Epoch 85/100\n",
      "34/34 [==============================] - 11s 332ms/step - loss: 2.5215 - accuracy: 0.9991 - val_loss: 2.6756 - val_accuracy: 0.8603\n",
      "Epoch 86/100\n",
      "34/34 [==============================] - 11s 316ms/step - loss: 2.5209 - accuracy: 0.9981 - val_loss: 2.6527 - val_accuracy: 0.8799\n",
      "Epoch 87/100\n",
      "34/34 [==============================] - 12s 342ms/step - loss: 2.5206 - accuracy: 0.9991 - val_loss: 2.6792 - val_accuracy: 0.8520\n",
      "Epoch 88/100\n",
      "34/34 [==============================] - 11s 312ms/step - loss: 2.5210 - accuracy: 0.9991 - val_loss: 2.6633 - val_accuracy: 0.8659\n",
      "Epoch 89/100\n",
      "34/34 [==============================] - 11s 329ms/step - loss: 2.5208 - accuracy: 0.9991 - val_loss: 2.6708 - val_accuracy: 0.8492\n",
      "Epoch 90/100\n",
      "34/34 [==============================] - 11s 312ms/step - loss: 2.5215 - accuracy: 0.9972 - val_loss: 2.6582 - val_accuracy: 0.8631\n",
      "Epoch 91/100\n",
      "34/34 [==============================] - 10s 307ms/step - loss: 2.5204 - accuracy: 0.9991 - val_loss: 2.6697 - val_accuracy: 0.8631\n",
      "Epoch 92/100\n",
      "34/34 [==============================] - 10s 308ms/step - loss: 2.5218 - accuracy: 0.9972 - val_loss: 2.6424 - val_accuracy: 0.8883\n",
      "Epoch 93/100\n",
      "34/34 [==============================] - 11s 317ms/step - loss: 2.5197 - accuracy: 0.9991 - val_loss: 2.6481 - val_accuracy: 0.8771\n",
      "Epoch 94/100\n",
      "34/34 [==============================] - 12s 353ms/step - loss: 2.5223 - accuracy: 0.9963 - val_loss: 2.6664 - val_accuracy: 0.8631\n",
      "Epoch 95/100\n",
      "34/34 [==============================] - 11s 323ms/step - loss: 2.5202 - accuracy: 0.9991 - val_loss: 2.6639 - val_accuracy: 0.8743\n",
      "Epoch 96/100\n",
      "34/34 [==============================] - 12s 360ms/step - loss: 2.5218 - accuracy: 0.9963 - val_loss: 2.6385 - val_accuracy: 0.9022\n",
      "Epoch 97/100\n",
      "34/34 [==============================] - 13s 370ms/step - loss: 2.5247 - accuracy: 0.9944 - val_loss: 2.6385 - val_accuracy: 0.8883\n",
      "Epoch 98/100\n",
      "34/34 [==============================] - 14s 423ms/step - loss: 2.5214 - accuracy: 0.9981 - val_loss: 2.6200 - val_accuracy: 0.9078\n",
      "Epoch 99/100\n",
      "34/34 [==============================] - 13s 383ms/step - loss: 2.5218 - accuracy: 0.9972 - val_loss: 2.6790 - val_accuracy: 0.8492\n",
      "Epoch 100/100\n",
      "34/34 [==============================] - 14s 423ms/step - loss: 2.5225 - accuracy: 0.9981 - val_loss: 2.6744 - val_accuracy: 0.8547\n"
     ]
    }
   ],
   "source": [
    "history = model.fit(x=X_train, y=y_train, epochs=epochs, validation_data = (X_val, y_val), use_multiprocessing = True, batch_size=32, callbacks=[callback])"
   ]
  },
  {
   "cell_type": "code",
   "execution_count": 56,
   "metadata": {},
   "outputs": [
    {
     "data": {
      "text/plain": [
       "<matplotlib.legend.Legend at 0x1ef9e7cc708>"
      ]
     },
     "execution_count": 56,
     "metadata": {},
     "output_type": "execute_result"
    },
    {
     "data": {
      "image/png": "[encoded data removed]",
      "text/plain": [
       "<Figure size 432x288 with 1 Axes>"
      ]
     },
     "metadata": {
      "needs_background": "light"
     },
     "output_type": "display_data"
    }
   ],
   "source": [
    "plt.figure()\n",
    "plt.plot([i for i in range(epochs)], history.history['val_accuracy'], label='Val Acc')\n",
    "plt.plot([i for i in range(epochs)], history.history['accuracy'], label='Training Acc')\n",
    "plt.xlabel('Epoch')\n",
    "plt.ylabel('Accuracy')\n",
    "plt.legend()"
   ]
  },
  {
   "cell_type": "code",
   "execution_count": 57,
   "metadata": {},
   "outputs": [
    {
     "data": {
      "text/plain": [
       "dict_keys(['loss', 'accuracy', 'val_loss', 'val_accuracy'])"
      ]
     },
     "execution_count": 57,
     "metadata": {},
     "output_type": "execute_result"
    }
   ],
   "source": [
    "history.history.keys()"
   ]
  },
  {
   "cell_type": "code",
   "execution_count": 58,
   "metadata": {},
   "outputs": [
    {
     "name": "stdout",
     "output_type": "stream",
     "text": [
      "15/15 [==============================] - 1s 70ms/step - loss: 2.6936 - accuracy: 0.8365\n"
     ]
    },
    {
     "data": {
      "text/plain": [
       "[2.6935768127441406, 0.8364779949188232]"
      ]
     },
     "execution_count": 58,
     "metadata": {},
     "output_type": "execute_result"
    }
   ],
   "source": [
    "model.evaluate(X_test, y_test)"
   ]
  },
  {
   "cell_type": "code",
   "execution_count": 59,
   "metadata": {},
   "outputs": [
    {
     "name": "stdout",
     "output_type": "stream",
     "text": [
      "WARNING:tensorflow:From C:\\Users\\suhas\\anaconda3\\lib\\site-packages\\tensorflow\\python\\ops\\resource_variable_ops.py:1817: calling BaseResourceVariable.__init__ (from tensorflow.python.ops.resource_variable_ops) with constraint is deprecated and will be removed in a future version.\n",
      "Instructions for updating:\n",
      "If using Keras pass *_constraint arguments to layers.\n",
      "INFO:tensorflow:Assets written to: C:/Users/suhas/Documents/College Projects/Leaf-Classification-Medicinal/model\\assets\n"
     ]
    }
   ],
   "source": [
    "tf.keras.models.save_model(model, 'C:/Users/suhas/Documents/College Projects/Leaf-Classification-Medicinal/model')"
   ]
  },
  {
   "cell_type": "code",
   "execution_count": 60,
   "metadata": {},
   "outputs": [
    {
     "data": {
      "text/plain": [
       "0.9078212380409241"
      ]
     },
     "execution_count": 60,
     "metadata": {},
     "output_type": "execute_result"
    }
   ],
   "source": [
    "max(history.history['val_accuracy'])"
   ]
  }
 ],
 "metadata": {
  "kernelspec": {
   "display_name": "Python 3",
   "language": "python",
   "name": "python3"
  },
  "language_info": {
   "codemirror_mode": {
    "name": "ipython",
    "version": 3
   },
   "file_extension": ".py",
   "mimetype": "text/x-python",
   "name": "python",
   "nbconvert_exporter": "python",
   "pygments_lexer": "ipython3",
   "version": "3.7.9"
  }
 },
 "nbformat": 4,
 "nbformat_minor": 4
}
