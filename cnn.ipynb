{
 "cells": [
  {
   "cell_type": "code",
   "execution_count": 1,
   "metadata": {},
   "outputs": [],
   "source": [
    "import pandas as pd\n",
    "import numpy as np\n",
    "import cv2\n",
    "import tensorflow as tf\n",
    "from tensorflow import keras\n",
    "from tensorflow.keras import layers\n",
    "from tensorflow.keras.models import Sequential\n",
    "import matplotlib.pyplot as plt\n",
    "from matplotlib.pyplot import imshow\n",
    "from sklearn.model_selection import train_test_split\n",
    "from datetime import datetime\n",
    "import os\n",
    "import itertools\n",
    "import io\n",
    "import sklearn\n",
    "from sklearn.metrics import confusion_matrix\n",
    "# Load the TensorBoard notebook extension.\n",
    "%load_ext tensorboard\n",
    "import seaborn as sns"
   ]
  },
  {
   "cell_type": "code",
   "execution_count": 2,
   "metadata": {},
   "outputs": [],
   "source": [
    "os.environ['TF_FORCE_GPU_ALLOW_GROWTH'] = 'true'"
   ]
  },
  {
   "cell_type": "code",
   "execution_count": 3,
   "metadata": {},
   "outputs": [
    {
     "data": {
      "text/plain": [
       "'2.4.0'"
      ]
     },
     "execution_count": 3,
     "metadata": {},
     "output_type": "execute_result"
    }
   ],
   "source": [
    "keras.__version__"
   ]
  },
  {
   "cell_type": "code",
   "execution_count": 4,
   "metadata": {},
   "outputs": [],
   "source": [
    "path = \"C:/Users/suhas/Documents/Mini Project/Leaves/\"\n",
    "test = \"C:/Users/suhas/Documents/Mini Project/Leaves/Test\""
   ]
  },
  {
   "cell_type": "code",
   "execution_count": 5,
   "metadata": {},
   "outputs": [
    {
     "name": "stdout",
     "output_type": "stream",
     "text": [
      "/device:GPU:0\n"
     ]
    }
   ],
   "source": [
    "print(tf.test.gpu_device_name())"
   ]
  },
  {
   "cell_type": "code",
   "execution_count": 6,
   "metadata": {},
   "outputs": [],
   "source": [
    "IMAGE_SIZE = 100\n",
    "num_classes = 47 #changed from 32\n",
    "epochs = 100\n",
    "initializer = 'he_normal'"
   ]
  },
  {
   "cell_type": "code",
   "execution_count": 7,
   "metadata": {},
   "outputs": [],
   "source": [
    "def label(img_name):\n",
    "    num = img_name.split('_')[1]\n",
    "    #print(num)\n",
    "    if num == 'pubescent bamboo':\n",
    "        return 0 \n",
    "    elif num == 'chinese horse chestnut':\n",
    "        return 1 \n",
    "    elif num == 'anhui barberry':\n",
    "        return 2 \n",
    "    elif num == 'chinese redbud':\n",
    "        return 3\n",
    "    elif num == 'true indigo':\n",
    "        return 4\n",
    "    elif num == 'japanese maple':\n",
    "        return 5 \n",
    "    elif num == 'nanmu':\n",
    "        return 6 \n",
    "    elif num == 'castor aralia':\n",
    "        return 7 \n",
    "    elif num == 'chinese cinnamon':\n",
    "        return 8 \n",
    "    elif num == 'goldenrain tree':\n",
    "        return 9 \n",
    "    elif num == 'big fruited holly':\n",
    "        return 10 \n",
    "    elif num == 'japanese chestwood':\n",
    "        return 11 \n",
    "    elif num == 'wintersweet':\n",
    "        return 12 \n",
    "    elif num == 'camphor tree':\n",
    "        return 13\n",
    "    elif num == 'japan arrowwood':\n",
    "        return 14\n",
    "    elif num == 'sweet osmanthus':\n",
    "        return 15\n",
    "    elif num == 'deodar':\n",
    "        return 16\n",
    "    elif num == 'ginkgo':\n",
    "        return 17 \n",
    "    elif num == 'crape myrtle':\n",
    "        return 18 \n",
    "    elif num == 'oleandar':\n",
    "        return 19\n",
    "    elif num == 'yew plum pie':\n",
    "        return 20\n",
    "    elif num == 'japanese flowering cherry':\n",
    "        return 21 \n",
    "    elif num == 'glossy privet':\n",
    "        return 22\n",
    "    elif num == 'chinese toon':\n",
    "        return 23\n",
    "    elif num == 'peach':\n",
    "        return 24\n",
    "    elif num == 'ford woodlotus':\n",
    "        return 25\n",
    "    elif num == 'trident maple':\n",
    "        return 26\n",
    "    elif num == 'beales barberry':\n",
    "        return 27\n",
    "    elif num == 'southern magnolia':\n",
    "        return 28\n",
    "    elif num == 'canadian poplar':\n",
    "        return 29\n",
    "    elif num == 'chinese tulip tree':\n",
    "        return 30\n",
    "    elif num == 'tangerine':\n",
    "        return 31\n",
    "    elif num == 'ulmus carpinofolia':\n",
    "        return 32 \n",
    "    elif num == 'acer':\n",
    "        return 33\n",
    "    elif num == 'salix aurita':\n",
    "        return 34\n",
    "    elif num == 'quercus':\n",
    "        return 35 \n",
    "    elif num == 'alnus incana':\n",
    "        return 36 \n",
    "    elif num == 'betula pubescens':\n",
    "        return 37 \n",
    "    elif num == 'salix alba sericea':\n",
    "        return 38 \n",
    "    elif num == 'populus tremula':\n",
    "        return 39 \n",
    "    elif num == 'ulmus glabra':\n",
    "        return 40 \n",
    "    elif num == 'sorbus aucuparia':\n",
    "        return 41 \n",
    "    elif num == 'salix sinerea':\n",
    "        return 42 \n",
    "    elif num == 'populus':\n",
    "        return 43\n",
    "    elif num == 'tilia':\n",
    "        return 44\n",
    "    elif num == 'sorbus intermedia':\n",
    "        return 45\n",
    "    elif num == 'fagus silvatica':\n",
    "        return 46"
   ]
  },
  {
   "cell_type": "markdown",
   "metadata": {},
   "source": [
    "# Creating Dataset"
   ]
  },
  {
   "cell_type": "code",
   "execution_count": 65,
   "metadata": {},
   "outputs": [],
   "source": [
    "def create_dataset(path):\n",
    "    data = []\n",
    "    for folder in os.scandir(path):\n",
    "        if \"leaf\" in str(folder):\n",
    "            for image in os.scandir(os.path.join(path, folder)):\n",
    "                leaf = label(folder.name)\n",
    "                if (leaf == None):\n",
    "                    print(folder.name)\n",
    "                    break\n",
    "                img = cv2.imread(os.path.join(path, folder, image))\n",
    "\n",
    "                # Basic processing\n",
    "                '''imgGray = cv2.cvtColor(img, cv2.COLOR_BGR2GRAY)\n",
    "\n",
    "                imgBlur = cv2.GaussianBlur(imgGray, (3, 3), 0)\n",
    "                thresh, imgBW = cv2.threshold(imgBlur, 128, 255, cv2.THRESH_BINARY | cv2.THRESH_OTSU)\n",
    "                imgInv = cv2.bitwise_not(imgBW)\n",
    "                kernel = np.ones((50, 50))\n",
    "                imgClosed = cv2.morphologyEx(imgInv, cv2.MORPH_CLOSE, kernel)'''\n",
    "\n",
    "                # Resize\n",
    "                new = cv2.resize(img, (IMAGE_SIZE, IMAGE_SIZE))\n",
    "                #Adding third dimension to shape\n",
    "                data.append([new, leaf])\n",
    "    return data"
   ]
  },
  {
   "cell_type": "code",
   "execution_count": null,
   "metadata": {},
   "outputs": [],
   "source": [
    "data = create_dataset(path)"
   ]
  },
  {
   "cell_type": "code",
   "execution_count": 10,
   "metadata": {},
   "outputs": [
    {
     "data": {
      "text/plain": [
       "1907"
      ]
     },
     "execution_count": 10,
     "metadata": {},
     "output_type": "execute_result"
    }
   ],
   "source": [
    "X = np.array([d[0] for d in data])\n",
    "len(X)"
   ]
  },
  {
   "cell_type": "code",
   "execution_count": 11,
   "metadata": {},
   "outputs": [
    {
     "data": {
      "text/plain": [
       "(1907, 100, 100, 3)"
      ]
     },
     "execution_count": 11,
     "metadata": {},
     "output_type": "execute_result"
    }
   ],
   "source": [
    "X = np.divide(X, 255)\n",
    "len(X)\n",
    "X.shape"
   ]
  },
  {
   "cell_type": "code",
   "execution_count": 12,
   "metadata": {},
   "outputs": [
    {
     "data": {
      "text/plain": [
       "1907"
      ]
     },
     "execution_count": 12,
     "metadata": {},
     "output_type": "execute_result"
    }
   ],
   "source": [
    "y = np.array([d[1] for d in data])\n",
    "len(y)"
   ]
  },
  {
   "cell_type": "code",
   "execution_count": 13,
   "metadata": {},
   "outputs": [],
   "source": [
    "X_train, X_test, y_train, y_test = train_test_split(X, y, random_state = 1, stratify=y)\n",
    "X_train, X_val, y_train, y_val = train_test_split(X_train, y_train, random_state = 1, stratify=y_train)"
   ]
  },
  {
   "cell_type": "code",
   "execution_count": 14,
   "metadata": {},
   "outputs": [
    {
     "data": {
      "text/plain": [
       "[0,\n",
       " 1,\n",
       " 2,\n",
       " 3,\n",
       " 4,\n",
       " 5,\n",
       " 6,\n",
       " 7,\n",
       " 8,\n",
       " 9,\n",
       " 10,\n",
       " 11,\n",
       " 12,\n",
       " 13,\n",
       " 14,\n",
       " 15,\n",
       " 16,\n",
       " 17,\n",
       " 18,\n",
       " 19,\n",
       " 20,\n",
       " 21,\n",
       " 22,\n",
       " 23,\n",
       " 24,\n",
       " 25,\n",
       " 26,\n",
       " 27,\n",
       " 28,\n",
       " 29,\n",
       " 30,\n",
       " 31]"
      ]
     },
     "execution_count": 14,
     "metadata": {},
     "output_type": "execute_result"
    }
   ],
   "source": [
    "class_names = list(range(47)) #changed from 32\n",
    "class_names"
   ]
  },
  {
   "cell_type": "markdown",
   "metadata": {},
   "source": [
    "# CNN"
   ]
  },
  {
   "cell_type": "code",
   "execution_count": 67,
   "metadata": {},
   "outputs": [],
   "source": [
    "model = Sequential([\n",
    "    layers.InputLayer(input_shape=(IMAGE_SIZE, IMAGE_SIZE, 3)),\n",
    "    layers.Conv2D(16, 3, padding='same', activation='relu', kernel_initializer=initializer),\n",
    "    layers.MaxPool2D(),\n",
    "    layers.BatchNormalization(),\n",
    "    # Dropout layer for regularisation\n",
    "    #layers.Dropout(rate=0.5),\n",
    "    layers.Conv2D(32, 3, padding='same', activation='relu', kernel_initializer=initializer),\n",
    "    layers.MaxPool2D(),\n",
    "    layers.BatchNormalization(),\n",
    "    # Dropout layer for regularisation\n",
    "    #layers.Dropout(rate=0.5),\n",
    "    layers.Conv2D(64, 5, padding='valid', activation='relu', kernel_initializer=initializer),\n",
    "    layers.MaxPool2D(),\n",
    "    layers.BatchNormalization(),\n",
    "    # Dropout layer for regularisation\n",
    "    #layers.Dropout(rate=0.5),\n",
    "    # Flattening output to connect to Densely Connected Layers\n",
    "    layers.Flatten(),\n",
    "    layers.Dense(128, activation='relu', kernel_initializer=initializer),\n",
    "    layers.BatchNormalization(),\n",
    "    layers.Dense(num_classes, activation='softmax', kernel_initializer=initializer)\n",
    "])"
   ]
  },
  {
   "cell_type": "code",
   "execution_count": 68,
   "metadata": {},
   "outputs": [],
   "source": [
    "model.compile(optimizer='adam', loss=tf.keras.losses.SparseCategoricalCrossentropy(from_logits=True), metrics=['accuracy'])"
   ]
  },
  {
   "cell_type": "code",
   "execution_count": 69,
   "metadata": {},
   "outputs": [
    {
     "data": {
      "text/plain": [
       "(1072, 100, 100, 3)"
      ]
     },
     "execution_count": 69,
     "metadata": {},
     "output_type": "execute_result"
    }
   ],
   "source": [
    "X_train.shape"
   ]
  },
  {
   "cell_type": "code",
   "execution_count": 70,
   "metadata": {},
   "outputs": [
    {
     "name": "stdout",
     "output_type": "stream",
     "text": [
      "Model: \"sequential_4\"\n",
      "_________________________________________________________________\n",
      "Layer (type)                 Output Shape              Param #   \n",
      "=================================================================\n",
      "conv2d_12 (Conv2D)           (None, 100, 100, 16)      448       \n",
      "_________________________________________________________________\n",
      "max_pooling2d_12 (MaxPooling (None, 50, 50, 16)        0         \n",
      "_________________________________________________________________\n",
      "batch_normalization_16 (Batc (None, 50, 50, 16)        64        \n",
      "_________________________________________________________________\n",
      "conv2d_13 (Conv2D)           (None, 50, 50, 32)        4640      \n",
      "_________________________________________________________________\n",
      "max_pooling2d_13 (MaxPooling (None, 25, 25, 32)        0         \n",
      "_________________________________________________________________\n",
      "batch_normalization_17 (Batc (None, 25, 25, 32)        128       \n",
      "_________________________________________________________________\n",
      "conv2d_14 (Conv2D)           (None, 21, 21, 64)        51264     \n",
      "_________________________________________________________________\n",
      "max_pooling2d_14 (MaxPooling (None, 10, 10, 64)        0         \n",
      "_________________________________________________________________\n",
      "batch_normalization_18 (Batc (None, 10, 10, 64)        256       \n",
      "_________________________________________________________________\n",
      "flatten_4 (Flatten)          (None, 6400)              0         \n",
      "_________________________________________________________________\n",
      "dense_8 (Dense)              (None, 128)               819328    \n",
      "_________________________________________________________________\n",
      "batch_normalization_19 (Batc (None, 128)               512       \n",
      "_________________________________________________________________\n",
      "dense_9 (Dense)              (None, 32)                4128      \n",
      "=================================================================\n",
      "Total params: 880,768\n",
      "Trainable params: 880,288\n",
      "Non-trainable params: 480\n",
      "_________________________________________________________________\n"
     ]
    }
   ],
   "source": [
    "model.summary()"
   ]
  },
  {
   "cell_type": "code",
   "execution_count": 71,
   "metadata": {},
   "outputs": [],
   "source": [
    "callback = tf.keras.callbacks.EarlyStopping(monitor='loss', patience=20)"
   ]
  },
  {
   "cell_type": "code",
   "execution_count": null,
   "metadata": {},
   "outputs": [
    {
     "name": "stdout",
     "output_type": "stream",
     "text": [
      "Epoch 1/100\n",
      "17/17 [==============================] - 0s 28ms/step - loss: 3.1046 - accuracy: 0.4580 - val_loss: 3.4832 - val_accuracy: 0.0279\n",
      "Epoch 2/100\n",
      "17/17 [==============================] - 0s 16ms/step - loss: 2.8844 - accuracy: 0.6604 - val_loss: 3.4822 - val_accuracy: 0.0279\n",
      "Epoch 3/100\n",
      "17/17 [==============================] - 0s 16ms/step - loss: 2.7779 - accuracy: 0.7612 - val_loss: 3.3742 - val_accuracy: 0.1369\n",
      "Epoch 4/100\n",
      "17/17 [==============================] - 0s 17ms/step - loss: 2.6711 - accuracy: 0.8666 - val_loss: 3.3022 - val_accuracy: 0.2709\n",
      "Epoch 5/100\n",
      "17/17 [==============================] - 0s 17ms/step - loss: 2.6255 - accuracy: 0.9049 - val_loss: 3.2856 - val_accuracy: 0.2961\n",
      "Epoch 6/100\n",
      "17/17 [==============================] - 0s 17ms/step - loss: 2.5786 - accuracy: 0.9534 - val_loss: 3.3405 - val_accuracy: 0.2067\n",
      "Epoch 7/100\n",
      "17/17 [==============================] - 0s 16ms/step - loss: 2.5517 - accuracy: 0.9767 - val_loss: 3.3472 - val_accuracy: 0.1788\n",
      "Epoch 8/100\n",
      "17/17 [==============================] - 0s 17ms/step - loss: 2.5368 - accuracy: 0.9879 - val_loss: 3.2956 - val_accuracy: 0.2709\n",
      "Epoch 9/100\n",
      "17/17 [==============================] - 0s 17ms/step - loss: 2.5323 - accuracy: 0.9888 - val_loss: 3.2849 - val_accuracy: 0.2821\n",
      "Epoch 10/100\n",
      "17/17 [==============================] - 0s 16ms/step - loss: 2.5298 - accuracy: 0.9907 - val_loss: 3.2719 - val_accuracy: 0.2821\n",
      "Epoch 11/100\n",
      "17/17 [==============================] - 0s 16ms/step - loss: 2.5268 - accuracy: 0.9925 - val_loss: 3.2720 - val_accuracy: 0.2570\n",
      "Epoch 12/100\n",
      "17/17 [==============================] - 0s 17ms/step - loss: 2.5255 - accuracy: 0.9935 - val_loss: 3.2615 - val_accuracy: 0.2737\n",
      "Epoch 13/100\n",
      "17/17 [==============================] - 0s 16ms/step - loss: 2.5253 - accuracy: 0.9935 - val_loss: 3.2235 - val_accuracy: 0.3436\n",
      "Epoch 14/100\n",
      "17/17 [==============================] - 0s 16ms/step - loss: 2.5239 - accuracy: 0.9953 - val_loss: 3.1748 - val_accuracy: 0.4050\n",
      "Epoch 15/100\n",
      "17/17 [==============================] - 0s 17ms/step - loss: 2.5225 - accuracy: 0.9972 - val_loss: 3.1103 - val_accuracy: 0.4888\n",
      "Epoch 16/100\n",
      "17/17 [==============================] - 0s 17ms/step - loss: 2.5220 - accuracy: 0.9972 - val_loss: 3.1215 - val_accuracy: 0.4609\n",
      "Epoch 17/100\n",
      "17/17 [==============================] - 0s 17ms/step - loss: 2.5215 - accuracy: 0.9972 - val_loss: 3.0925 - val_accuracy: 0.5000\n",
      "Epoch 18/100\n",
      "17/17 [==============================] - 0s 17ms/step - loss: 2.5207 - accuracy: 0.9981 - val_loss: 3.0310 - val_accuracy: 0.5726\n",
      "Epoch 19/100\n",
      "17/17 [==============================] - 0s 17ms/step - loss: 2.5204 - accuracy: 0.9981 - val_loss: 2.9684 - val_accuracy: 0.6425\n",
      "Epoch 20/100\n",
      "17/17 [==============================] - 0s 17ms/step - loss: 2.5203 - accuracy: 0.9981 - val_loss: 2.9070 - val_accuracy: 0.6955\n",
      "Epoch 21/100\n",
      "17/17 [==============================] - 0s 17ms/step - loss: 2.5203 - accuracy: 0.9981 - val_loss: 2.8543 - val_accuracy: 0.7654\n",
      "Epoch 22/100\n",
      "17/17 [==============================] - 0s 17ms/step - loss: 2.5202 - accuracy: 0.9981 - val_loss: 2.8153 - val_accuracy: 0.7877\n",
      "Epoch 23/100\n",
      "17/17 [==============================] - 0s 17ms/step - loss: 2.5202 - accuracy: 0.9981 - val_loss: 2.7828 - val_accuracy: 0.8128\n",
      "Epoch 24/100\n",
      "17/17 [==============================] - 0s 16ms/step - loss: 2.5202 - accuracy: 0.9981 - val_loss: 2.7508 - val_accuracy: 0.8380\n",
      "Epoch 25/100\n",
      "17/17 [==============================] - 0s 17ms/step - loss: 2.5202 - accuracy: 0.9981 - val_loss: 2.7242 - val_accuracy: 0.8520\n",
      "Epoch 26/100\n",
      "17/17 [==============================] - 0s 17ms/step - loss: 2.5202 - accuracy: 0.9981 - val_loss: 2.7027 - val_accuracy: 0.8743\n",
      "Epoch 27/100\n",
      "17/17 [==============================] - 0s 16ms/step - loss: 2.5201 - accuracy: 0.9981 - val_loss: 2.6841 - val_accuracy: 0.8883\n",
      "Epoch 28/100\n",
      "17/17 [==============================] - 0s 17ms/step - loss: 2.5201 - accuracy: 0.9981 - val_loss: 2.6690 - val_accuracy: 0.9022\n",
      "Epoch 29/100\n",
      "17/17 [==============================] - 0s 16ms/step - loss: 2.5211 - accuracy: 0.9972 - val_loss: 2.6662 - val_accuracy: 0.9050\n",
      "Epoch 30/100\n",
      "17/17 [==============================] - 0s 17ms/step - loss: 2.5200 - accuracy: 0.9981 - val_loss: 2.6505 - val_accuracy: 0.9134\n",
      "Epoch 31/100\n",
      "17/17 [==============================] - 0s 17ms/step - loss: 2.5195 - accuracy: 0.9991 - val_loss: 2.6378 - val_accuracy: 0.9218\n",
      "Epoch 32/100\n",
      "17/17 [==============================] - 0s 17ms/step - loss: 2.5193 - accuracy: 0.9991 - val_loss: 2.6410 - val_accuracy: 0.9274\n",
      "Epoch 33/100\n",
      "17/17 [==============================] - 0s 17ms/step - loss: 2.5192 - accuracy: 0.9991 - val_loss: 2.6334 - val_accuracy: 0.9274\n",
      "Epoch 34/100\n",
      "17/17 [==============================] - 0s 17ms/step - loss: 2.5184 - accuracy: 1.0000 - val_loss: 2.6292 - val_accuracy: 0.9246\n",
      "Epoch 35/100\n",
      "17/17 [==============================] - 0s 17ms/step - loss: 2.5183 - accuracy: 1.0000 - val_loss: 2.6239 - val_accuracy: 0.9218\n",
      "Epoch 36/100\n",
      "17/17 [==============================] - 0s 16ms/step - loss: 2.5183 - accuracy: 1.0000 - val_loss: 2.6194 - val_accuracy: 0.9246\n",
      "Epoch 37/100\n",
      "17/17 [==============================] - 0s 17ms/step - loss: 2.5182 - accuracy: 1.0000 - val_loss: 2.6157 - val_accuracy: 0.9246\n",
      "Epoch 38/100\n",
      "17/17 [==============================] - 0s 17ms/step - loss: 2.5182 - accuracy: 1.0000 - val_loss: 2.6131 - val_accuracy: 0.9246\n",
      "Epoch 39/100\n",
      "17/17 [==============================] - 0s 16ms/step - loss: 2.5182 - accuracy: 1.0000 - val_loss: 2.6114 - val_accuracy: 0.9246\n",
      "Epoch 40/100\n",
      "17/17 [==============================] - 0s 17ms/step - loss: 2.5182 - accuracy: 1.0000 - val_loss: 2.6098 - val_accuracy: 0.9246\n",
      "Epoch 41/100\n",
      "17/17 [==============================] - 0s 17ms/step - loss: 2.5182 - accuracy: 1.0000 - val_loss: 2.6084 - val_accuracy: 0.9302\n",
      "Epoch 42/100\n",
      "17/17 [==============================] - 0s 18ms/step - loss: 2.5182 - accuracy: 1.0000 - val_loss: 2.6073 - val_accuracy: 0.9302\n",
      "Epoch 43/100\n",
      "17/17 [==============================] - 0s 18ms/step - loss: 2.5182 - accuracy: 1.0000 - val_loss: 2.6065 - val_accuracy: 0.9302\n",
      "Epoch 44/100\n",
      "17/17 [==============================] - 0s 18ms/step - loss: 2.5182 - accuracy: 1.0000 - val_loss: 2.6059 - val_accuracy: 0.9302\n",
      "Epoch 45/100\n",
      "17/17 [==============================] - 0s 17ms/step - loss: 2.5182 - accuracy: 1.0000 - val_loss: 2.6055 - val_accuracy: 0.9302\n",
      "Epoch 46/100\n",
      "17/17 [==============================] - 0s 16ms/step - loss: 2.5182 - accuracy: 1.0000 - val_loss: 2.6050 - val_accuracy: 0.9302\n",
      "Epoch 47/100\n",
      "17/17 [==============================] - 0s 17ms/step - loss: 2.5182 - accuracy: 1.0000 - val_loss: 2.6044 - val_accuracy: 0.9302\n",
      "Epoch 48/100\n",
      "17/17 [==============================] - 0s 18ms/step - loss: 2.5181 - accuracy: 1.0000 - val_loss: 2.6040 - val_accuracy: 0.9302\n",
      "Epoch 49/100\n",
      "17/17 [==============================] - 0s 17ms/step - loss: 2.5182 - accuracy: 1.0000 - val_loss: 2.6040 - val_accuracy: 0.9302\n",
      "Epoch 50/100\n",
      "17/17 [==============================] - 0s 17ms/step - loss: 2.5181 - accuracy: 1.0000 - val_loss: 2.6037 - val_accuracy: 0.9302\n",
      "Epoch 51/100\n",
      "17/17 [==============================] - 0s 17ms/step - loss: 2.5181 - accuracy: 1.0000 - val_loss: 2.6032 - val_accuracy: 0.9302\n",
      "Epoch 52/100\n",
      "17/17 [==============================] - 0s 17ms/step - loss: 2.5181 - accuracy: 1.0000 - val_loss: 2.6028 - val_accuracy: 0.9302\n",
      "Epoch 53/100\n",
      "17/17 [==============================] - 0s 18ms/step - loss: 2.5181 - accuracy: 1.0000 - val_loss: 2.6025 - val_accuracy: 0.9302\n",
      "Epoch 54/100\n",
      "17/17 [==============================] - 0s 17ms/step - loss: 2.5181 - accuracy: 1.0000 - val_loss: 2.6023 - val_accuracy: 0.9302\n",
      "Epoch 55/100\n",
      "17/17 [==============================] - 0s 17ms/step - loss: 2.5181 - accuracy: 1.0000 - val_loss: 2.6020 - val_accuracy: 0.9302\n",
      "Epoch 56/100\n",
      "17/17 [==============================] - 0s 17ms/step - loss: 2.5181 - accuracy: 1.0000 - val_loss: 2.6018 - val_accuracy: 0.9302\n",
      "Epoch 57/100\n",
      "17/17 [==============================] - 0s 17ms/step - loss: 2.5181 - accuracy: 1.0000 - val_loss: 2.6017 - val_accuracy: 0.9302\n",
      "Epoch 58/100\n",
      "17/17 [==============================] - 0s 18ms/step - loss: 2.5181 - accuracy: 1.0000 - val_loss: 2.6018 - val_accuracy: 0.9302\n",
      "Epoch 59/100\n",
      "17/17 [==============================] - 0s 16ms/step - loss: 2.5181 - accuracy: 1.0000 - val_loss: 2.6017 - val_accuracy: 0.9302\n",
      "Epoch 60/100\n",
      "17/17 [==============================] - 0s 17ms/step - loss: 2.5181 - accuracy: 1.0000 - val_loss: 2.6014 - val_accuracy: 0.9302\n",
      "Epoch 61/100\n",
      "17/17 [==============================] - 0s 17ms/step - loss: 2.5181 - accuracy: 1.0000 - val_loss: 2.6012 - val_accuracy: 0.9302\n",
      "Epoch 62/100\n",
      "17/17 [==============================] - 0s 17ms/step - loss: 2.5181 - accuracy: 1.0000 - val_loss: 2.6010 - val_accuracy: 0.9302\n",
      "Epoch 63/100\n",
      "17/17 [==============================] - 0s 17ms/step - loss: 2.5181 - accuracy: 1.0000 - val_loss: 2.6009 - val_accuracy: 0.9302\n",
      "Epoch 64/100\n",
      "17/17 [==============================] - 0s 18ms/step - loss: 2.5181 - accuracy: 1.0000 - val_loss: 2.6008 - val_accuracy: 0.9302\n",
      "Epoch 65/100\n",
      "17/17 [==============================] - 0s 17ms/step - loss: 2.5181 - accuracy: 1.0000 - val_loss: 2.6006 - val_accuracy: 0.9302\n",
      "Epoch 66/100\n",
      "17/17 [==============================] - 0s 17ms/step - loss: 2.5181 - accuracy: 1.0000 - val_loss: 2.6003 - val_accuracy: 0.9302\n",
      "Epoch 67/100\n",
      "17/17 [==============================] - 0s 19ms/step - loss: 2.5181 - accuracy: 1.0000 - val_loss: 2.6002 - val_accuracy: 0.9302\n",
      "Epoch 68/100\n",
      "17/17 [==============================] - 0s 17ms/step - loss: 2.5181 - accuracy: 1.0000 - val_loss: 2.6003 - val_accuracy: 0.9302\n",
      "Epoch 69/100\n",
      "17/17 [==============================] - 0s 17ms/step - loss: 2.5181 - accuracy: 1.0000 - val_loss: 2.6003 - val_accuracy: 0.9330\n",
      "Epoch 70/100\n",
      "17/17 [==============================] - 0s 17ms/step - loss: 2.5181 - accuracy: 1.0000 - val_loss: 2.6003 - val_accuracy: 0.9330\n",
      "Epoch 71/100\n",
      "17/17 [==============================] - 0s 19ms/step - loss: 2.5181 - accuracy: 1.0000 - val_loss: 2.6002 - val_accuracy: 0.9330\n",
      "Epoch 72/100\n",
      "17/17 [==============================] - 0s 17ms/step - loss: 2.5181 - accuracy: 1.0000 - val_loss: 2.6002 - val_accuracy: 0.9330\n",
      "Epoch 73/100\n",
      "17/17 [==============================] - 0s 18ms/step - loss: 2.5181 - accuracy: 1.0000 - val_loss: 2.5998 - val_accuracy: 0.9330\n",
      "Epoch 74/100\n",
      "17/17 [==============================] - 0s 17ms/step - loss: 2.5181 - accuracy: 1.0000 - val_loss: 2.5995 - val_accuracy: 0.9358\n",
      "Epoch 75/100\n",
      "17/17 [==============================] - 0s 17ms/step - loss: 2.5181 - accuracy: 1.0000 - val_loss: 2.5994 - val_accuracy: 0.9358\n",
      "Epoch 76/100\n",
      "17/17 [==============================] - 0s 17ms/step - loss: 2.5181 - accuracy: 1.0000 - val_loss: 2.5994 - val_accuracy: 0.9358\n",
      "Epoch 77/100\n",
      "17/17 [==============================] - 0s 18ms/step - loss: 2.5181 - accuracy: 1.0000 - val_loss: 2.5992 - val_accuracy: 0.9330\n",
      "Epoch 78/100\n",
      "17/17 [==============================] - 0s 17ms/step - loss: 2.5181 - accuracy: 1.0000 - val_loss: 2.5993 - val_accuracy: 0.9330\n",
      "Epoch 79/100\n",
      "17/17 [==============================] - 0s 17ms/step - loss: 2.5181 - accuracy: 1.0000 - val_loss: 2.5992 - val_accuracy: 0.9330\n",
      "Epoch 80/100\n",
      "17/17 [==============================] - 0s 17ms/step - loss: 2.5181 - accuracy: 1.0000 - val_loss: 2.5990 - val_accuracy: 0.9302\n",
      "Epoch 81/100\n",
      "17/17 [==============================] - 0s 17ms/step - loss: 2.5181 - accuracy: 1.0000 - val_loss: 2.5989 - val_accuracy: 0.9302\n",
      "Epoch 82/100\n",
      "17/17 [==============================] - 0s 17ms/step - loss: 2.5181 - accuracy: 1.0000 - val_loss: 2.5989 - val_accuracy: 0.9302\n",
      "Epoch 83/100\n",
      "17/17 [==============================] - 0s 16ms/step - loss: 2.5181 - accuracy: 1.0000 - val_loss: 2.5990 - val_accuracy: 0.9302\n",
      "Epoch 84/100\n",
      "17/17 [==============================] - 0s 17ms/step - loss: 2.5181 - accuracy: 1.0000 - val_loss: 2.5988 - val_accuracy: 0.9302\n",
      "Epoch 85/100\n",
      "17/17 [==============================] - 0s 18ms/step - loss: 2.5181 - accuracy: 1.0000 - val_loss: 2.5986 - val_accuracy: 0.9302\n",
      "Epoch 86/100\n",
      "17/17 [==============================] - 0s 17ms/step - loss: 2.5181 - accuracy: 1.0000 - val_loss: 2.5984 - val_accuracy: 0.9330\n",
      "Epoch 87/100\n",
      "17/17 [==============================] - 0s 18ms/step - loss: 2.5181 - accuracy: 1.0000 - val_loss: 2.5982 - val_accuracy: 0.9330\n",
      "Epoch 88/100\n",
      "17/17 [==============================] - 0s 17ms/step - loss: 2.5181 - accuracy: 1.0000 - val_loss: 2.5982 - val_accuracy: 0.9330\n",
      "Epoch 89/100\n",
      "17/17 [==============================] - 0s 18ms/step - loss: 2.5181 - accuracy: 1.0000 - val_loss: 2.5980 - val_accuracy: 0.9330\n",
      "Epoch 90/100\n",
      "17/17 [==============================] - 0s 17ms/step - loss: 2.5181 - accuracy: 1.0000 - val_loss: 2.5978 - val_accuracy: 0.9302\n",
      "Epoch 91/100\n",
      "17/17 [==============================] - 0s 17ms/step - loss: 2.5181 - accuracy: 1.0000 - val_loss: 2.5976 - val_accuracy: 0.9330\n",
      "Epoch 92/100\n",
      "13/17 [=====================>........] - ETA: 0s - loss: 2.5181 - accuracy: 1.0000"
     ]
    }
   ],
   "source": [
    "# Start TensorBoard.\n",
    "#%tensorboard --logdir logs/image\n",
    "\n",
    "history = model.fit(x=X_train, y=y_train, epochs=epochs, validation_data = (X_val, y_val), use_multiprocessing = True, batch_size=64, callbacks=[callback])"
   ]
  },
  {
   "cell_type": "code",
   "execution_count": 58,
   "metadata": {},
   "outputs": [
    {
     "data": {
      "text/plain": [
       "<matplotlib.legend.Legend at 0x271ce435820>"
      ]
     },
     "execution_count": 58,
     "metadata": {},
     "output_type": "execute_result"
    },
    {
     "data": {
      "image/png": "[encoded data removed]",
      "text/plain": [
       "<Figure size 432x288 with 1 Axes>"
      ]
     },
     "metadata": {
      "needs_background": "light"
     },
     "output_type": "display_data"
    }
   ],
   "source": [
    "plt.figure()\n",
    "plt.plot([i for i in range(epochs)], history.history['val_accuracy'], label='Val Acc')\n",
    "plt.plot([i for i in range(epochs)], history.history['accuracy'], label='Training Acc')\n",
    "plt.xlabel('Epoch')\n",
    "plt.ylabel('Accuracy')\n",
    "plt.legend()"
   ]
  },
  {
   "cell_type": "code",
   "execution_count": 59,
   "metadata": {},
   "outputs": [
    {
     "data": {
      "text/plain": [
       "dict_keys(['loss', 'accuracy', 'val_loss', 'val_accuracy'])"
      ]
     },
     "execution_count": 59,
     "metadata": {},
     "output_type": "execute_result"
    }
   ],
   "source": [
    "history.history.keys()"
   ]
  },
  {
   "cell_type": "code",
   "execution_count": 60,
   "metadata": {},
   "outputs": [
    {
     "name": "stdout",
     "output_type": "stream",
     "text": [
      "15/15 [==============================] - 0s 4ms/step - loss: 2.6144 - accuracy: 0.9161\n"
     ]
    },
    {
     "data": {
      "text/plain": [
       "[2.6143596172332764, 0.9161425828933716]"
      ]
     },
     "execution_count": 60,
     "metadata": {},
     "output_type": "execute_result"
    }
   ],
   "source": [
    "model.evaluate(X_test, y_test)"
   ]
  },
  {
   "cell_type": "code",
   "execution_count": 66,
   "metadata": {},
   "outputs": [
    {
     "name": "stdout",
     "output_type": "stream",
     "text": [
      "INFO:tensorflow:Assets written to: C:/Users/suhas/Documents/College Projects/Leaf-Classification-Medicinal/model\\assets\n"
     ]
    }
   ],
   "source": [
    "tf.keras.models.save_model(model, 'C:/Users/suhas/Documents/College Projects/Leaf-Classification-Medicinal/model')"
   ]
  },
  {
   "cell_type": "code",
   "execution_count": 62,
   "metadata": {},
   "outputs": [
    {
     "data": {
      "text/plain": [
       "0.924580991268158"
      ]
     },
     "execution_count": 62,
     "metadata": {},
     "output_type": "execute_result"
    }
   ],
   "source": [
    "max(history.history['val_accuracy'])"
   ]
  },
  {
   "cell_type": "markdown",
   "metadata": {},
   "source": [
    "## Confusion Matrix with Seaborn (On Test Data)"
   ]
  },
  {
   "cell_type": "code",
   "execution_count": 35,
   "metadata": {},
   "outputs": [],
   "source": [
    "pred = model.predict(X_test)"
   ]
  },
  {
   "cell_type": "code",
   "execution_count": 36,
   "metadata": {},
   "outputs": [],
   "source": [
    "conf = confusion_matrix(y_test, np.argmax(pred, axis = 1))"
   ]
  },
  {
   "cell_type": "code",
   "execution_count": 37,
   "metadata": {},
   "outputs": [
    {
     "data": {
      "text/plain": [
       "<AxesSubplot:>"
      ]
     },
     "execution_count": 37,
     "metadata": {},
     "output_type": "execute_result"
    },
    {
     "data": {
      "image/png": "[encoded data removed]",
      "text/plain": [
       "<Figure size 864x864 with 2 Axes>"
      ]
     },
     "metadata": {
      "needs_background": "light"
     },
     "output_type": "display_data"
    }
   ],
   "source": [
    "plt.figure(figsize=(12, 12))\n",
    "sns.heatmap(conf, annot=True)"
   ]
  },
  {
   "cell_type": "markdown",
   "metadata": {},
   "source": [
    "## Confusion Matrix (On Validation Data)"
   ]
  },
  {
   "cell_type": "code",
   "execution_count": 38,
   "metadata": {},
   "outputs": [],
   "source": [
    "vald = model.predict(X_val)\n"
   ]
  },
  {
   "cell_type": "code",
   "execution_count": 39,
   "metadata": {},
   "outputs": [],
   "source": [
    "conf_val = confusion_matrix(y_val, np.argmax(vald, axis = 1))"
   ]
  },
  {
   "cell_type": "code",
   "execution_count": 40,
   "metadata": {},
   "outputs": [
    {
     "data": {
      "text/plain": [
       "<AxesSubplot:>"
      ]
     },
     "execution_count": 40,
     "metadata": {},
     "output_type": "execute_result"
    },
    {
     "data": {
      "image/png": "[encoded data removed]",
      "text/plain": [
       "<Figure size 864x864 with 2 Axes>"
      ]
     },
     "metadata": {
      "needs_background": "light"
     },
     "output_type": "display_data"
    }
   ],
   "source": [
    "plt.figure(figsize=(12, 12))\n",
    "sns.heatmap(conf_val, annot=True)"
   ]
  },
  {
   "cell_type": "code",
   "execution_count": null,
   "metadata": {},
   "outputs": [],
   "source": []
  }
 ],
 "metadata": {
  "kernelspec": {
   "display_name": "Python 3",
   "language": "python",
   "name": "python3"
  },
  "language_info": {
   "codemirror_mode": {
    "name": "ipython",
    "version": 3
   },
   "file_extension": ".py",
   "mimetype": "text/x-python",
   "name": "python",
   "nbconvert_exporter": "python",
   "pygments_lexer": "ipython3",
   "version": "3.8.5"
  }
 },
 "nbformat": 4,
 "nbformat_minor": 4
}
