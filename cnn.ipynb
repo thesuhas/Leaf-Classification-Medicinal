{
 "cells": [
  {
   "cell_type": "code",
   "execution_count": 1,
   "metadata": {},
   "outputs": [],
   "source": [
    "import pandas as pd\n",
    "import numpy as np\n",
    "import cv2\n",
    "import tensorflow as tf\n",
    "from tensorflow import keras\n",
    "from tensorflow.keras import layers\n",
    "from tensorflow.keras.models import Sequential\n",
    "import matplotlib.pyplot as plt\n",
    "from matplotlib.pyplot import imshow\n",
    "from sklearn.model_selection import train_test_split\n",
    "from datetime import datetime\n",
    "import os\n",
    "import itertools\n",
    "import io\n",
    "import sklearn\n",
    "from sklearn.metrics import confusion_matrix\n",
    "# Load the TensorBoard notebook extension.\n",
    "%load_ext tensorboard\n",
    "import seaborn as sns"
   ]
  },
  {
   "cell_type": "code",
   "execution_count": 2,
   "metadata": {},
   "outputs": [],
   "source": [
    "os.environ['TF_FORCE_GPU_ALLOW_GROWTH'] = 'true'"
   ]
  },
  {
   "cell_type": "code",
   "execution_count": 3,
   "metadata": {},
   "outputs": [
    {
     "data": {
      "text/plain": [
       "'2.4.0'"
      ]
     },
     "execution_count": 3,
     "metadata": {},
     "output_type": "execute_result"
    }
   ],
   "source": [
    "keras.__version__"
   ]
  },
  {
   "cell_type": "code",
   "execution_count": 4,
   "metadata": {},
   "outputs": [],
   "source": [
    "path = \"C:/Users/suhas/Documents/Mini Project/Leaves/\"\n",
    "test = \"C:/Users/suhas/Documents/Mini Project/Leaves/Test\""
   ]
  },
  {
   "cell_type": "code",
   "execution_count": 5,
   "metadata": {},
   "outputs": [
    {
     "name": "stdout",
     "output_type": "stream",
     "text": [
      "/device:GPU:0\n"
     ]
    }
   ],
   "source": [
    "print(tf.test.gpu_device_name())"
   ]
  },
  {
   "cell_type": "code",
   "execution_count": 6,
   "metadata": {},
   "outputs": [],
   "source": [
    "IMAGE_SIZE = 100\n",
    "num_classes = 32\n",
    "epochs = 100\n",
    "initializer = 'he_normal'"
   ]
  },
  {
   "cell_type": "code",
   "execution_count": 7,
   "metadata": {},
   "outputs": [],
   "source": [
    "def label(img_name):\n",
    "    num = img_name.split('_')[1]\n",
    "    #print(num)\n",
    "    if num == 'pubescent bamboo':\n",
    "        return 0 \n",
    "    elif num == 'chinese horse chestnut':\n",
    "        return 1 \n",
    "    elif num == 'anhui barberry':\n",
    "        return 2 \n",
    "    elif num == 'chinese redbud':\n",
    "        return 3\n",
    "    elif num == 'true indigo':\n",
    "        return 4\n",
    "    elif num == 'japanese maple':\n",
    "        return 5 \n",
    "    elif num == 'nanmu':\n",
    "        return 6 \n",
    "    elif num == 'castor aralia':\n",
    "        return 7 \n",
    "    elif num == 'chinese cinnamon':\n",
    "        return 8 \n",
    "    elif num == 'goldenrain tree':\n",
    "        return 9 \n",
    "    elif num == 'big fruited holly':\n",
    "        return 10 \n",
    "    elif num == 'japanese chestwood':\n",
    "        return 11 \n",
    "    elif num == 'wintersweet':\n",
    "        return 12 \n",
    "    elif num == 'camphor tree':\n",
    "        return 13\n",
    "    elif num == 'japan arrowwood':\n",
    "        return 14\n",
    "    elif num == 'sweet osmanthus':\n",
    "        return 15\n",
    "    elif num == 'deodar':\n",
    "        return 16\n",
    "    elif num == 'ginkgo':\n",
    "        return 17 \n",
    "    elif num == 'crape myrtle':\n",
    "        return 18 \n",
    "    elif num == 'oleandar':\n",
    "        return 19\n",
    "    elif num == 'yew plum pie':\n",
    "        return 20\n",
    "    elif num == 'japanese flowering cherry':\n",
    "        return 21 \n",
    "    elif num == 'glossy privet':\n",
    "        return 22\n",
    "    elif num == 'chinese toon':\n",
    "        return 23\n",
    "    elif num == 'peach':\n",
    "        return 24\n",
    "    elif num == 'ford woodlotus':\n",
    "        return 25\n",
    "    elif num == 'trident maple':\n",
    "        return 26\n",
    "    elif num == 'beales barberry':\n",
    "        return 27\n",
    "    elif num == 'southern magnolia':\n",
    "        return 28\n",
    "    elif num == 'canadian poplar':\n",
    "        return 29\n",
    "    elif num == 'chinese tulip tree':\n",
    "        return 30\n",
    "    elif num == 'tangerine':\n",
    "        return 31"
   ]
  },
  {
   "cell_type": "markdown",
   "metadata": {},
   "source": [
    "# Creating Dataset"
   ]
  },
  {
   "cell_type": "code",
   "execution_count": 8,
   "metadata": {},
   "outputs": [],
   "source": [
    "def create_dataset(path):\n",
    "    data = []\n",
    "    for folder in os.scandir(path):\n",
    "        if \"leaf\" in str(folder):\n",
    "            for image in os.scandir(os.path.join(path, folder)):\n",
    "                leaf = label(folder.name)\n",
    "                if (leaf == None):\n",
    "                    print(folder.name)\n",
    "                    break\n",
    "                img = cv2.imread(os.path.join(path, folder, image))\n",
    "\n",
    "                # Basic processing\n",
    "                '''imgGray = cv2.cvtColor(img, cv2.COLOR_BGR2GRAY)\n",
    "\n",
    "                imgBlur = cv2.GaussianBlur(imgGray, (3, 3), 0)\n",
    "                thresh, imgBW = cv2.threshold(imgBlur, 128, 255, cv2.THRESH_BINARY | cv2.THRESH_OTSU)\n",
    "                imgInv = cv2.bitwise_not(imgBW)\n",
    "                kernel = np.ones((50, 50))\n",
    "                imgClosed = cv2.morphologyEx(imgInv, cv2.MORPH_CLOSE, kernel)'''\n",
    "\n",
    "                # Resize\n",
    "                new = cv2.resize(img, (IMAGE_SIZE, IMAGE_SIZE))\n",
    "                #Adding third dimension to shape\n",
    "                data.append([new, leaf])\n",
    "    return data"
   ]
  },
  {
   "cell_type": "code",
   "execution_count": 9,
   "metadata": {},
   "outputs": [],
   "source": [
    "data = create_dataset(path)"
   ]
  },
  {
   "cell_type": "code",
   "execution_count": 10,
   "metadata": {},
   "outputs": [
    {
     "data": {
      "text/plain": [
       "1907"
      ]
     },
     "execution_count": 10,
     "metadata": {},
     "output_type": "execute_result"
    }
   ],
   "source": [
    "X = np.array([d[0] for d in data])\n",
    "len(X)"
   ]
  },
  {
   "cell_type": "code",
   "execution_count": 11,
   "metadata": {},
   "outputs": [
    {
     "data": {
      "text/plain": [
       "(1907, 100, 100, 3)"
      ]
     },
     "execution_count": 11,
     "metadata": {},
     "output_type": "execute_result"
    }
   ],
   "source": [
    "X = np.divide(X, 255)\n",
    "len(X)\n",
    "X.shape"
   ]
  },
  {
   "cell_type": "code",
   "execution_count": 12,
   "metadata": {},
   "outputs": [
    {
     "data": {
      "text/plain": [
       "1907"
      ]
     },
     "execution_count": 12,
     "metadata": {},
     "output_type": "execute_result"
    }
   ],
   "source": [
    "y = np.array([d[1] for d in data])\n",
    "len(y)"
   ]
  },
  {
   "cell_type": "code",
   "execution_count": 13,
   "metadata": {},
   "outputs": [],
   "source": [
    "X_train, X_test, y_train, y_test = train_test_split(X, y, random_state = 1, stratify=y)\n",
    "X_train, X_val, y_train, y_val = train_test_split(X_train, y_train, random_state = 1, stratify=y_train)"
   ]
  },
  {
   "cell_type": "code",
   "execution_count": 14,
   "metadata": {},
   "outputs": [
    {
     "data": {
      "text/plain": [
       "[0,\n",
       " 1,\n",
       " 2,\n",
       " 3,\n",
       " 4,\n",
       " 5,\n",
       " 6,\n",
       " 7,\n",
       " 8,\n",
       " 9,\n",
       " 10,\n",
       " 11,\n",
       " 12,\n",
       " 13,\n",
       " 14,\n",
       " 15,\n",
       " 16,\n",
       " 17,\n",
       " 18,\n",
       " 19,\n",
       " 20,\n",
       " 21,\n",
       " 22,\n",
       " 23,\n",
       " 24,\n",
       " 25,\n",
       " 26,\n",
       " 27,\n",
       " 28,\n",
       " 29,\n",
       " 30,\n",
       " 31]"
      ]
     },
     "execution_count": 14,
     "metadata": {},
     "output_type": "execute_result"
    }
   ],
   "source": [
    "class_names = list(range(32))\n",
    "class_names"
   ]
  },
  {
   "cell_type": "markdown",
   "metadata": {},
   "source": [
    "# CNN"
   ]
  },
  {
   "cell_type": "code",
   "execution_count": 30,
   "metadata": {},
   "outputs": [],
   "source": [
    "model = Sequential([\n",
    "    layers.InputLayer(input_shape=(IMAGE_SIZE, IMAGE_SIZE, 3)),\n",
    "    layers.Conv2D(16, 3, padding='same', activation='relu', kernel_initializer=initializer),\n",
    "    layers.MaxPool2D(),\n",
    "    layers.BatchNormalization(),\n",
    "    # Dropout layer for regularisation\n",
    "    layers.Dropout(rate=0.5),\n",
    "    layers.Conv2D(32, 3, padding='same', activation='relu', kernel_initializer=initializer),\n",
    "    layers.MaxPool2D(),\n",
    "    layers.BatchNormalization(),\n",
    "    # Dropout layer for regularisation\n",
    "    layers.Dropout(rate=0.5),\n",
    "    layers.Conv2D(64, 5, padding='same', activation='relu', kernel_initializer=initializer),\n",
    "    layers.MaxPool2D(),\n",
    "    layers.BatchNormalization(),\n",
    "    # Dropout layer for regularisation\n",
    "    layers.Dropout(rate=0.5),\n",
    "    # Flattening output to connect to Densely Connected Layers\n",
    "    layers.Flatten(),\n",
    "    layers.Dense(128, activation='relu', kernel_initializer=initializer),\n",
    "    layers.BatchNormalization(),\n",
    "    layers.Dense(num_classes, activation='softmax', kernel_initializer=initializer)\n",
    "])"
   ]
  },
  {
   "cell_type": "code",
   "execution_count": 31,
   "metadata": {},
   "outputs": [],
   "source": [
    "model.compile(optimizer='adam', loss=tf.keras.losses.SparseCategoricalCrossentropy(from_logits=True), metrics=['accuracy'])"
   ]
  },
  {
   "cell_type": "code",
   "execution_count": 32,
   "metadata": {},
   "outputs": [
    {
     "data": {
      "text/plain": [
       "(1072, 100, 100, 3)"
      ]
     },
     "execution_count": 32,
     "metadata": {},
     "output_type": "execute_result"
    }
   ],
   "source": [
    "X_train.shape"
   ]
  },
  {
   "cell_type": "code",
   "execution_count": 33,
   "metadata": {},
   "outputs": [
    {
     "name": "stdout",
     "output_type": "stream",
     "text": [
      "Model: \"sequential_1\"\n",
      "_________________________________________________________________\n",
      "Layer (type)                 Output Shape              Param #   \n",
      "=================================================================\n",
      "conv2d_3 (Conv2D)            (None, 100, 100, 16)      448       \n",
      "_________________________________________________________________\n",
      "max_pooling2d_3 (MaxPooling2 (None, 50, 50, 16)        0         \n",
      "_________________________________________________________________\n",
      "batch_normalization_4 (Batch (None, 50, 50, 16)        64        \n",
      "_________________________________________________________________\n",
      "dropout_3 (Dropout)          (None, 50, 50, 16)        0         \n",
      "_________________________________________________________________\n",
      "conv2d_4 (Conv2D)            (None, 50, 50, 32)        4640      \n",
      "_________________________________________________________________\n",
      "max_pooling2d_4 (MaxPooling2 (None, 25, 25, 32)        0         \n",
      "_________________________________________________________________\n",
      "batch_normalization_5 (Batch (None, 25, 25, 32)        128       \n",
      "_________________________________________________________________\n",
      "dropout_4 (Dropout)          (None, 25, 25, 32)        0         \n",
      "_________________________________________________________________\n",
      "conv2d_5 (Conv2D)            (None, 25, 25, 64)        51264     \n",
      "_________________________________________________________________\n",
      "max_pooling2d_5 (MaxPooling2 (None, 12, 12, 64)        0         \n",
      "_________________________________________________________________\n",
      "batch_normalization_6 (Batch (None, 12, 12, 64)        256       \n",
      "_________________________________________________________________\n",
      "dropout_5 (Dropout)          (None, 12, 12, 64)        0         \n",
      "_________________________________________________________________\n",
      "flatten_1 (Flatten)          (None, 9216)              0         \n",
      "_________________________________________________________________\n",
      "dense_2 (Dense)              (None, 128)               1179776   \n",
      "_________________________________________________________________\n",
      "batch_normalization_7 (Batch (None, 128)               512       \n",
      "_________________________________________________________________\n",
      "dense_3 (Dense)              (None, 32)                4128      \n",
      "=================================================================\n",
      "Total params: 1,241,216\n",
      "Trainable params: 1,240,736\n",
      "Non-trainable params: 480\n",
      "_________________________________________________________________\n"
     ]
    }
   ],
   "source": [
    "model.summary()"
   ]
  },
  {
   "cell_type": "code",
   "execution_count": 19,
   "metadata": {},
   "outputs": [],
   "source": [
    "callback = tf.keras.callbacks.EarlyStopping(monitor='loss', patience=20)"
   ]
  },
  {
   "cell_type": "markdown",
   "metadata": {},
   "source": [
    "## Confusion Matrix\n"
   ]
  },
  {
   "cell_type": "code",
   "execution_count": 20,
   "metadata": {},
   "outputs": [],
   "source": [
    "def plot_confusion_matrix(cm, class_names):\n",
    "  \"\"\"\n",
    "  Returns a matplotlib figure containing the plotted confusion matrix.\n",
    "\n",
    "  Args:\n",
    "    cm (array, shape = [n, n]): a confusion matrix of integer classes\n",
    "    class_names (array, shape = [n]): String names of the integer classes\n",
    "  \"\"\"\n",
    "  figure = plt.figure(figsize=(8, 8))\n",
    "  plt.imshow(cm, interpolation='nearest', cmap=plt.cm.Blues)\n",
    "  plt.title(\"Confusion matrix\")\n",
    "  plt.colorbar()\n",
    "  tick_marks = np.arange(len(class_names))\n",
    "  plt.xticks(tick_marks, class_names, rotation=45)\n",
    "  plt.yticks(tick_marks, class_names)\n",
    "\n",
    "  # Compute the labels from the normalized confusion matrix.\n",
    "  labels = np.around(cm.astype('float') / cm.sum(axis=1)[:, np.newaxis], decimals=2)\n",
    "\n",
    "  # Use white text if squares are dark; otherwise black.\n",
    "  threshold = cm.max() / 2.\n",
    "  for i, j in itertools.product(range(cm.shape[0]), range(cm.shape[1])):\n",
    "    color = \"white\" if cm[i, j] > threshold else \"black\"\n",
    "    plt.text(j, i, labels[i, j], horizontalalignment=\"center\", color=color)\n",
    "\n",
    "  plt.tight_layout()\n",
    "  plt.ylabel('True label')\n",
    "  plt.xlabel('Predicted label')\n",
    "  return figure"
   ]
  },
  {
   "cell_type": "code",
   "execution_count": 21,
   "metadata": {},
   "outputs": [
    {
     "name": "stderr",
     "output_type": "stream",
     "text": [
      "'rm' is not recognized as an internal or external command,\n",
      "operable program or batch file.\n"
     ]
    }
   ],
   "source": [
    "# Clear out prior logging data.\n",
    "!rm -rf logs/image\n",
    "\n",
    "logdir = \"logs/image/\" + datetime.now().strftime(\"%Y%m%d-%H%M%S\")\n",
    "# Define the basic TensorBoard callback.\n",
    "tensorboard_callback = keras.callbacks.TensorBoard(log_dir=logdir)\n",
    "file_writer_cm = tf.summary.create_file_writer(logdir + '/cm')"
   ]
  },
  {
   "cell_type": "code",
   "execution_count": 22,
   "metadata": {},
   "outputs": [],
   "source": [
    "def log_confusion_matrix(epoch, logs):\n",
    "  # Use the model to predict the values from the validation dataset.\n",
    "  test_pred_raw = model.predict(X_test)\n",
    "  test_pred = np.argmax(test_pred_raw, axis=1)\n",
    "\n",
    "  # Calculate the confusion matrix.\n",
    "  cm = sklearn.metrics.confusion_matrix(y_test, test_pred)\n",
    "  # Log the confusion matrix as an image summary.\n",
    "  figure = plot_confusion_matrix(cm, class_names=class_names)\n",
    "  cm_image = plot_to_image(figure)\n",
    "\n",
    "  # Log the confusion matrix as an image summary.\n",
    "  with file_writer_cm.as_default():\n",
    "    tf.summary.image(\"Confusion Matrix\", cm_image, step=epoch)\n",
    "\n",
    "# Define the per-epoch callback.\n",
    "cm_callback = keras.callbacks.LambdaCallback(on_epoch_end=log_confusion_matrix)"
   ]
  },
  {
   "cell_type": "code",
   "execution_count": 23,
   "metadata": {},
   "outputs": [],
   "source": [
    "def plot_to_image(figure):\n",
    "  \"\"\"Converts the matplotlib plot specified by 'figure' to a PNG image and\n",
    "  returns it. The supplied figure is closed and inaccessible after this call.\"\"\"\n",
    "  # Save the plot to a PNG in memory.\n",
    "  buf = io.BytesIO()\n",
    "  plt.savefig(buf, format='png')\n",
    "  # Closing the figure prevents it from being displayed directly inside\n",
    "  # the notebook.\n",
    "  plt.close(figure)\n",
    "  buf.seek(0)\n",
    "  # Convert PNG buffer to TF image\n",
    "  image = tf.image.decode_png(buf.getvalue(), channels=4)\n",
    "  # Add the batch dimension\n",
    "  image = tf.expand_dims(image, 0)\n",
    "  return image"
   ]
  },
  {
   "cell_type": "code",
   "execution_count": 34,
   "metadata": {},
   "outputs": [
    {
     "name": "stdout",
     "output_type": "stream",
     "text": [
      "Epoch 1/100\n",
      "34/34 [==============================] - 1s 15ms/step - loss: 3.2085 - accuracy: 0.3424 - val_loss: 3.3795 - val_accuracy: 0.1508\n",
      "Epoch 2/100\n",
      "34/34 [==============================] - 0s 11ms/step - loss: 3.0079 - accuracy: 0.5457 - val_loss: 3.4149 - val_accuracy: 0.0782\n",
      "Epoch 3/100\n",
      "34/34 [==============================] - 0s 11ms/step - loss: 2.9068 - accuracy: 0.6418 - val_loss: 3.4166 - val_accuracy: 0.1034\n",
      "Epoch 4/100\n",
      "34/34 [==============================] - 0s 10ms/step - loss: 2.8501 - accuracy: 0.6978 - val_loss: 3.3859 - val_accuracy: 0.1425\n",
      "Epoch 5/100\n",
      "34/34 [==============================] - 0s 11ms/step - loss: 2.7953 - accuracy: 0.7481 - val_loss: 3.4310 - val_accuracy: 0.0810\n",
      "Epoch 6/100\n",
      "34/34 [==============================] - 0s 11ms/step - loss: 2.7512 - accuracy: 0.7994 - val_loss: 3.4603 - val_accuracy: 0.0419\n",
      "Epoch 7/100\n",
      "34/34 [==============================] - 0s 11ms/step - loss: 2.7121 - accuracy: 0.8368 - val_loss: 3.4335 - val_accuracy: 0.0782\n",
      "Epoch 8/100\n",
      "34/34 [==============================] - 0s 11ms/step - loss: 2.6900 - accuracy: 0.8573 - val_loss: 3.4047 - val_accuracy: 0.1061\n",
      "Epoch 9/100\n",
      "34/34 [==============================] - 0s 11ms/step - loss: 2.6690 - accuracy: 0.8703 - val_loss: 3.4509 - val_accuracy: 0.0587\n",
      "Epoch 10/100\n",
      "34/34 [==============================] - 0s 11ms/step - loss: 2.6578 - accuracy: 0.8769 - val_loss: 3.3053 - val_accuracy: 0.2123\n",
      "Epoch 11/100\n",
      "34/34 [==============================] - 0s 11ms/step - loss: 2.6471 - accuracy: 0.8881 - val_loss: 3.3226 - val_accuracy: 0.1983\n",
      "Epoch 12/100\n",
      "34/34 [==============================] - 0s 12ms/step - loss: 2.6325 - accuracy: 0.9030 - val_loss: 3.2989 - val_accuracy: 0.2235\n",
      "Epoch 13/100\n",
      "34/34 [==============================] - 0s 11ms/step - loss: 2.6178 - accuracy: 0.9226 - val_loss: 3.2552 - val_accuracy: 0.2542\n",
      "Epoch 14/100\n",
      "34/34 [==============================] - 0s 11ms/step - loss: 2.5950 - accuracy: 0.9496 - val_loss: 3.2037 - val_accuracy: 0.3240\n",
      "Epoch 15/100\n",
      "34/34 [==============================] - 0s 11ms/step - loss: 2.5821 - accuracy: 0.9515 - val_loss: 3.2662 - val_accuracy: 0.2402\n",
      "Epoch 16/100\n",
      "34/34 [==============================] - 0s 11ms/step - loss: 2.5719 - accuracy: 0.9608 - val_loss: 3.0107 - val_accuracy: 0.5196\n",
      "Epoch 17/100\n",
      "34/34 [==============================] - 0s 11ms/step - loss: 2.5725 - accuracy: 0.9580 - val_loss: 3.0831 - val_accuracy: 0.4469\n",
      "Epoch 18/100\n",
      "34/34 [==============================] - 0s 11ms/step - loss: 2.5657 - accuracy: 0.9646 - val_loss: 3.2641 - val_accuracy: 0.2542\n",
      "Epoch 19/100\n",
      "34/34 [==============================] - 0s 10ms/step - loss: 2.5679 - accuracy: 0.9599 - val_loss: 2.9924 - val_accuracy: 0.5363\n",
      "Epoch 20/100\n",
      "34/34 [==============================] - 0s 11ms/step - loss: 2.5585 - accuracy: 0.9674 - val_loss: 2.9198 - val_accuracy: 0.6061\n",
      "Epoch 21/100\n",
      "34/34 [==============================] - 0s 11ms/step - loss: 2.5542 - accuracy: 0.9729 - val_loss: 2.9268 - val_accuracy: 0.6006\n",
      "Epoch 22/100\n",
      "34/34 [==============================] - 0s 10ms/step - loss: 2.5563 - accuracy: 0.9720 - val_loss: 2.9559 - val_accuracy: 0.5726\n",
      "Epoch 23/100\n",
      "34/34 [==============================] - 0s 11ms/step - loss: 2.5518 - accuracy: 0.9767 - val_loss: 2.8927 - val_accuracy: 0.6369\n",
      "Epoch 24/100\n",
      "34/34 [==============================] - 0s 11ms/step - loss: 2.5503 - accuracy: 0.9739 - val_loss: 2.8140 - val_accuracy: 0.7095\n",
      "Epoch 25/100\n",
      "34/34 [==============================] - 0s 11ms/step - loss: 2.5489 - accuracy: 0.9757 - val_loss: 3.0054 - val_accuracy: 0.5363\n",
      "Epoch 26/100\n",
      "34/34 [==============================] - 0s 11ms/step - loss: 2.5500 - accuracy: 0.9776 - val_loss: 2.9822 - val_accuracy: 0.5419\n",
      "Epoch 27/100\n",
      "34/34 [==============================] - 0s 11ms/step - loss: 2.5466 - accuracy: 0.9813 - val_loss: 2.9497 - val_accuracy: 0.5950\n",
      "Epoch 28/100\n",
      "34/34 [==============================] - 0s 11ms/step - loss: 2.5439 - accuracy: 0.9804 - val_loss: 2.9799 - val_accuracy: 0.5447\n",
      "Epoch 29/100\n",
      "34/34 [==============================] - 0s 11ms/step - loss: 2.5418 - accuracy: 0.9832 - val_loss: 3.0593 - val_accuracy: 0.4749\n",
      "Epoch 30/100\n",
      "34/34 [==============================] - 0s 11ms/step - loss: 2.5397 - accuracy: 0.9832 - val_loss: 2.8087 - val_accuracy: 0.7291\n",
      "Epoch 31/100\n",
      "34/34 [==============================] - 0s 11ms/step - loss: 2.5403 - accuracy: 0.9832 - val_loss: 2.8889 - val_accuracy: 0.6453\n",
      "Epoch 32/100\n",
      "34/34 [==============================] - 0s 11ms/step - loss: 2.5463 - accuracy: 0.9823 - val_loss: 2.8562 - val_accuracy: 0.6760\n",
      "Epoch 33/100\n",
      "34/34 [==============================] - 0s 11ms/step - loss: 2.5431 - accuracy: 0.9823 - val_loss: 3.1101 - val_accuracy: 0.3966\n",
      "Epoch 34/100\n",
      "34/34 [==============================] - 0s 10ms/step - loss: 2.5405 - accuracy: 0.9841 - val_loss: 2.8259 - val_accuracy: 0.7207\n",
      "Epoch 35/100\n",
      "34/34 [==============================] - 0s 11ms/step - loss: 2.5434 - accuracy: 0.9813 - val_loss: 2.7461 - val_accuracy: 0.7765\n",
      "Epoch 36/100\n",
      "34/34 [==============================] - 0s 11ms/step - loss: 2.5383 - accuracy: 0.9832 - val_loss: 2.8139 - val_accuracy: 0.7123\n",
      "Epoch 37/100\n",
      "34/34 [==============================] - 0s 10ms/step - loss: 2.5373 - accuracy: 0.9869 - val_loss: 2.7427 - val_accuracy: 0.7961\n",
      "Epoch 38/100\n",
      "34/34 [==============================] - 0s 10ms/step - loss: 2.5373 - accuracy: 0.9841 - val_loss: 2.7897 - val_accuracy: 0.7374\n",
      "Epoch 39/100\n",
      "34/34 [==============================] - 0s 11ms/step - loss: 2.5342 - accuracy: 0.9869 - val_loss: 2.7873 - val_accuracy: 0.7346\n",
      "Epoch 40/100\n",
      "34/34 [==============================] - 0s 10ms/step - loss: 2.5326 - accuracy: 0.9888 - val_loss: 2.7867 - val_accuracy: 0.7402\n",
      "Epoch 41/100\n",
      "34/34 [==============================] - 0s 10ms/step - loss: 2.5317 - accuracy: 0.9897 - val_loss: 3.0373 - val_accuracy: 0.4944\n",
      "Epoch 42/100\n",
      "34/34 [==============================] - 0s 11ms/step - loss: 2.5330 - accuracy: 0.9888 - val_loss: 2.8481 - val_accuracy: 0.6816\n",
      "Epoch 43/100\n",
      "34/34 [==============================] - 0s 11ms/step - loss: 2.5343 - accuracy: 0.9869 - val_loss: 2.8121 - val_accuracy: 0.7235\n",
      "Epoch 44/100\n",
      "34/34 [==============================] - 0s 11ms/step - loss: 2.5325 - accuracy: 0.9888 - val_loss: 2.7816 - val_accuracy: 0.7542\n",
      "Epoch 45/100\n",
      "34/34 [==============================] - 0s 11ms/step - loss: 2.5298 - accuracy: 0.9916 - val_loss: 2.8222 - val_accuracy: 0.7123\n",
      "Epoch 46/100\n",
      "34/34 [==============================] - 0s 10ms/step - loss: 2.5314 - accuracy: 0.9907 - val_loss: 2.8518 - val_accuracy: 0.6872\n",
      "Epoch 47/100\n",
      "34/34 [==============================] - 0s 11ms/step - loss: 2.5343 - accuracy: 0.9879 - val_loss: 2.7926 - val_accuracy: 0.7486\n",
      "Epoch 48/100\n",
      "34/34 [==============================] - 0s 10ms/step - loss: 2.5346 - accuracy: 0.9860 - val_loss: 2.7289 - val_accuracy: 0.8045\n",
      "Epoch 49/100\n",
      "34/34 [==============================] - 0s 11ms/step - loss: 2.5320 - accuracy: 0.9897 - val_loss: 2.8879 - val_accuracy: 0.6425\n",
      "Epoch 50/100\n",
      "34/34 [==============================] - 0s 11ms/step - loss: 2.5306 - accuracy: 0.9888 - val_loss: 2.8942 - val_accuracy: 0.6229\n",
      "Epoch 51/100\n",
      "34/34 [==============================] - 0s 11ms/step - loss: 2.5310 - accuracy: 0.9897 - val_loss: 3.0564 - val_accuracy: 0.4637\n",
      "Epoch 52/100\n",
      "34/34 [==============================] - 0s 11ms/step - loss: 2.5292 - accuracy: 0.9916 - val_loss: 2.8425 - val_accuracy: 0.6899\n",
      "Epoch 53/100\n",
      "34/34 [==============================] - 0s 11ms/step - loss: 2.5304 - accuracy: 0.9907 - val_loss: 2.7520 - val_accuracy: 0.7765\n",
      "Epoch 54/100\n",
      "34/34 [==============================] - 0s 11ms/step - loss: 2.5302 - accuracy: 0.9916 - val_loss: 2.9814 - val_accuracy: 0.5475\n",
      "Epoch 55/100\n",
      "34/34 [==============================] - 0s 12ms/step - loss: 2.5275 - accuracy: 0.9935 - val_loss: 2.8643 - val_accuracy: 0.6620\n",
      "Epoch 56/100\n",
      "34/34 [==============================] - 0s 12ms/step - loss: 2.5265 - accuracy: 0.9953 - val_loss: 2.7215 - val_accuracy: 0.8128\n",
      "Epoch 57/100\n",
      "34/34 [==============================] - 0s 12ms/step - loss: 2.5264 - accuracy: 0.9953 - val_loss: 2.9119 - val_accuracy: 0.6201\n",
      "Epoch 58/100\n"
     ]
    },
    {
     "name": "stdout",
     "output_type": "stream",
     "text": [
      "34/34 [==============================] - 0s 11ms/step - loss: 2.5276 - accuracy: 0.9925 - val_loss: 2.9104 - val_accuracy: 0.6089\n",
      "Epoch 59/100\n",
      "34/34 [==============================] - 0s 12ms/step - loss: 2.5272 - accuracy: 0.9935 - val_loss: 2.7420 - val_accuracy: 0.7933\n",
      "Epoch 60/100\n",
      "34/34 [==============================] - 0s 11ms/step - loss: 2.5269 - accuracy: 0.9935 - val_loss: 2.7459 - val_accuracy: 0.7821\n",
      "Epoch 61/100\n",
      "34/34 [==============================] - 0s 11ms/step - loss: 2.5264 - accuracy: 0.9925 - val_loss: 2.8724 - val_accuracy: 0.6536\n",
      "Epoch 62/100\n",
      "34/34 [==============================] - 0s 11ms/step - loss: 2.5281 - accuracy: 0.9935 - val_loss: 2.6890 - val_accuracy: 0.8324\n",
      "Epoch 63/100\n",
      "34/34 [==============================] - 0s 11ms/step - loss: 2.5276 - accuracy: 0.9944 - val_loss: 2.7813 - val_accuracy: 0.7514\n",
      "Epoch 64/100\n",
      "34/34 [==============================] - 0s 11ms/step - loss: 2.5256 - accuracy: 0.9944 - val_loss: 2.8027 - val_accuracy: 0.7263\n",
      "Epoch 65/100\n",
      "34/34 [==============================] - 0s 11ms/step - loss: 2.5271 - accuracy: 0.9944 - val_loss: 2.8377 - val_accuracy: 0.7011\n",
      "Epoch 66/100\n",
      "34/34 [==============================] - 0s 11ms/step - loss: 2.5250 - accuracy: 0.9953 - val_loss: 2.9148 - val_accuracy: 0.5950\n",
      "Epoch 67/100\n",
      "34/34 [==============================] - 0s 11ms/step - loss: 2.5247 - accuracy: 0.9944 - val_loss: 2.7268 - val_accuracy: 0.8045\n",
      "Epoch 68/100\n",
      "34/34 [==============================] - 0s 11ms/step - loss: 2.5222 - accuracy: 0.9972 - val_loss: 2.7208 - val_accuracy: 0.8073\n",
      "Epoch 69/100\n",
      "34/34 [==============================] - 0s 11ms/step - loss: 2.5263 - accuracy: 0.9944 - val_loss: 2.7099 - val_accuracy: 0.8156\n",
      "Epoch 70/100\n",
      "34/34 [==============================] - 0s 11ms/step - loss: 2.5270 - accuracy: 0.9935 - val_loss: 2.9810 - val_accuracy: 0.5587\n",
      "Epoch 71/100\n",
      "34/34 [==============================] - 0s 12ms/step - loss: 2.5233 - accuracy: 0.9972 - val_loss: 2.7478 - val_accuracy: 0.7821\n",
      "Epoch 72/100\n",
      "34/34 [==============================] - 0s 11ms/step - loss: 2.5221 - accuracy: 0.9972 - val_loss: 2.7322 - val_accuracy: 0.7961\n",
      "Epoch 73/100\n",
      "34/34 [==============================] - 0s 11ms/step - loss: 2.5231 - accuracy: 0.9972 - val_loss: 2.6653 - val_accuracy: 0.8771\n",
      "Epoch 74/100\n",
      "34/34 [==============================] - 0s 11ms/step - loss: 2.5254 - accuracy: 0.9953 - val_loss: 2.7367 - val_accuracy: 0.7905\n",
      "Epoch 75/100\n",
      "34/34 [==============================] - 0s 11ms/step - loss: 2.5247 - accuracy: 0.9963 - val_loss: 2.6708 - val_accuracy: 0.8603\n",
      "Epoch 76/100\n",
      "34/34 [==============================] - 0s 11ms/step - loss: 2.5238 - accuracy: 0.9963 - val_loss: 2.7027 - val_accuracy: 0.8408\n",
      "Epoch 77/100\n",
      "34/34 [==============================] - 0s 11ms/step - loss: 2.5222 - accuracy: 0.9972 - val_loss: 2.8072 - val_accuracy: 0.7374\n",
      "Epoch 78/100\n",
      "34/34 [==============================] - 0s 11ms/step - loss: 2.5221 - accuracy: 0.9972 - val_loss: 2.7385 - val_accuracy: 0.7905\n",
      "Epoch 79/100\n",
      "34/34 [==============================] - 0s 10ms/step - loss: 2.5233 - accuracy: 0.9963 - val_loss: 2.6709 - val_accuracy: 0.8575\n",
      "Epoch 80/100\n",
      "34/34 [==============================] - 0s 11ms/step - loss: 2.5259 - accuracy: 0.9953 - val_loss: 2.7583 - val_accuracy: 0.7765\n",
      "Epoch 81/100\n",
      "34/34 [==============================] - 0s 11ms/step - loss: 2.5300 - accuracy: 0.9907 - val_loss: 3.1321 - val_accuracy: 0.3771\n",
      "Epoch 82/100\n",
      "34/34 [==============================] - 0s 11ms/step - loss: 2.5273 - accuracy: 0.9953 - val_loss: 2.7698 - val_accuracy: 0.7598\n",
      "Epoch 83/100\n",
      "34/34 [==============================] - 0s 11ms/step - loss: 2.5234 - accuracy: 0.9972 - val_loss: 2.9085 - val_accuracy: 0.5978\n",
      "Epoch 84/100\n",
      "34/34 [==============================] - 0s 11ms/step - loss: 2.5243 - accuracy: 0.9963 - val_loss: 2.8629 - val_accuracy: 0.6620\n",
      "Epoch 85/100\n",
      "34/34 [==============================] - 0s 10ms/step - loss: 2.5245 - accuracy: 0.9963 - val_loss: 3.0295 - val_accuracy: 0.4972\n",
      "Epoch 86/100\n",
      "34/34 [==============================] - 0s 11ms/step - loss: 2.5253 - accuracy: 0.9944 - val_loss: 2.6823 - val_accuracy: 0.8603\n",
      "Epoch 87/100\n",
      "34/34 [==============================] - 0s 11ms/step - loss: 2.5240 - accuracy: 0.9963 - val_loss: 2.7095 - val_accuracy: 0.8156\n",
      "Epoch 88/100\n",
      "34/34 [==============================] - 0s 11ms/step - loss: 2.5233 - accuracy: 0.9963 - val_loss: 2.7281 - val_accuracy: 0.7989\n",
      "Epoch 89/100\n",
      "34/34 [==============================] - 0s 11ms/step - loss: 2.5249 - accuracy: 0.9953 - val_loss: 2.6603 - val_accuracy: 0.8687\n",
      "Epoch 90/100\n",
      "34/34 [==============================] - 0s 11ms/step - loss: 2.5232 - accuracy: 0.9972 - val_loss: 2.6737 - val_accuracy: 0.8547\n",
      "Epoch 91/100\n",
      "34/34 [==============================] - 0s 11ms/step - loss: 2.5228 - accuracy: 0.9972 - val_loss: 2.8070 - val_accuracy: 0.7207\n",
      "Epoch 92/100\n",
      "34/34 [==============================] - 0s 11ms/step - loss: 2.5236 - accuracy: 0.9953 - val_loss: 2.6912 - val_accuracy: 0.8520\n",
      "Epoch 93/100\n",
      "34/34 [==============================] - 0s 11ms/step - loss: 2.5216 - accuracy: 0.9972 - val_loss: 2.7027 - val_accuracy: 0.8240\n",
      "Epoch 94/100\n",
      "34/34 [==============================] - 0s 11ms/step - loss: 2.5217 - accuracy: 0.9972 - val_loss: 2.6739 - val_accuracy: 0.8520\n",
      "Epoch 95/100\n",
      "34/34 [==============================] - 0s 11ms/step - loss: 2.5223 - accuracy: 0.9963 - val_loss: 2.6921 - val_accuracy: 0.8352\n",
      "Epoch 96/100\n",
      "34/34 [==============================] - 0s 11ms/step - loss: 2.5220 - accuracy: 0.9972 - val_loss: 2.6683 - val_accuracy: 0.8659\n",
      "Epoch 97/100\n",
      "34/34 [==============================] - 0s 11ms/step - loss: 2.5226 - accuracy: 0.9963 - val_loss: 2.7095 - val_accuracy: 0.8240\n",
      "Epoch 98/100\n",
      "34/34 [==============================] - 0s 11ms/step - loss: 2.5218 - accuracy: 0.9972 - val_loss: 2.6899 - val_accuracy: 0.8492\n",
      "Epoch 99/100\n",
      "34/34 [==============================] - 0s 11ms/step - loss: 2.5233 - accuracy: 0.9963 - val_loss: 2.6802 - val_accuracy: 0.8575\n",
      "Epoch 100/100\n",
      "34/34 [==============================] - 0s 10ms/step - loss: 2.5238 - accuracy: 0.9953 - val_loss: 2.6582 - val_accuracy: 0.8715\n"
     ]
    }
   ],
   "source": [
    "# Start TensorBoard.\n",
    "#%tensorboard --logdir logs/image\n",
    "\n",
    "history = model.fit(x=X_train, y=y_train, epochs=epochs, validation_data = (X_val, y_val), use_multiprocessing = True, batch_size=32, callbacks=[callback])"
   ]
  },
  {
   "cell_type": "code",
   "execution_count": 35,
   "metadata": {},
   "outputs": [
    {
     "data": {
      "text/plain": [
       "<matplotlib.legend.Legend at 0x1ef53479dc0>"
      ]
     },
     "execution_count": 35,
     "metadata": {},
     "output_type": "execute_result"
    },
    {
     "data": {
      "image/png": "[encoded data removed]",
      "text/plain": [
       "<Figure size 432x288 with 1 Axes>"
      ]
     },
     "metadata": {
      "needs_background": "light"
     },
     "output_type": "display_data"
    }
   ],
   "source": [
    "plt.figure()\n",
    "plt.plot([i for i in range(epochs)], history.history['val_accuracy'], label='Val Acc')\n",
    "plt.plot([i for i in range(epochs)], history.history['accuracy'], label='Training Acc')\n",
    "plt.xlabel('Epoch')\n",
    "plt.ylabel('Accuracy')\n",
    "plt.legend()"
   ]
  },
  {
   "cell_type": "code",
   "execution_count": 36,
   "metadata": {},
   "outputs": [
    {
     "data": {
      "text/plain": [
       "dict_keys(['loss', 'accuracy', 'val_loss', 'val_accuracy'])"
      ]
     },
     "execution_count": 36,
     "metadata": {},
     "output_type": "execute_result"
    }
   ],
   "source": [
    "history.history.keys()"
   ]
  },
  {
   "cell_type": "code",
   "execution_count": 37,
   "metadata": {},
   "outputs": [
    {
     "name": "stdout",
     "output_type": "stream",
     "text": [
      "15/15 [==============================] - 0s 4ms/step - loss: 2.6688 - accuracy: 0.8574\n"
     ]
    },
    {
     "data": {
      "text/plain": [
       "[2.6687800884246826, 0.857442319393158]"
      ]
     },
     "execution_count": 37,
     "metadata": {},
     "output_type": "execute_result"
    }
   ],
   "source": [
    "model.evaluate(X_test, y_test)"
   ]
  },
  {
   "cell_type": "code",
   "execution_count": null,
   "metadata": {},
   "outputs": [],
   "source": [
    "tf.keras.models.save_model(model, 'C:/Users/suhas/Documents/College Projects/Leaf-Classification-Medicinal/model')"
   ]
  },
  {
   "cell_type": "code",
   "execution_count": 38,
   "metadata": {},
   "outputs": [
    {
     "data": {
      "text/plain": [
       "0.8770949840545654"
      ]
     },
     "execution_count": 38,
     "metadata": {},
     "output_type": "execute_result"
    }
   ],
   "source": [
    "max(history.history['val_accuracy'])"
   ]
  },
  {
   "cell_type": "markdown",
   "metadata": {},
   "source": [
    "## Confusion Matrix with Seaborn (On Test Data)"
   ]
  },
  {
   "cell_type": "code",
   "execution_count": 39,
   "metadata": {},
   "outputs": [],
   "source": [
    "pred = model.predict(X_test)"
   ]
  },
  {
   "cell_type": "code",
   "execution_count": 44,
   "metadata": {},
   "outputs": [],
   "source": [
    "conf = confusion_matrix(y_test, np.argmax(pred, axis = 1))"
   ]
  },
  {
   "cell_type": "code",
   "execution_count": 50,
   "metadata": {},
   "outputs": [
    {
     "data": {
      "text/plain": [
       "<AxesSubplot:>"
      ]
     },
     "execution_count": 50,
     "metadata": {},
     "output_type": "execute_result"
    },
    {
     "data": {
      "image/png": "[encoded data removed]",
      "text/plain": [
       "<Figure size 864x864 with 2 Axes>"
      ]
     },
     "metadata": {
      "needs_background": "light"
     },
     "output_type": "display_data"
    }
   ],
   "source": [
    "plt.figure(figsize=(12, 12))\n",
    "sns.heatmap(conf, annot=True)"
   ]
  },
  {
   "cell_type": "markdown",
   "metadata": {},
   "source": [
    "## Confusion Matrix (On Validation Data)"
   ]
  },
  {
   "cell_type": "code",
   "execution_count": 51,
   "metadata": {},
   "outputs": [],
   "source": [
    "vald = model.predict(X_val)"
   ]
  },
  {
   "cell_type": "code",
   "execution_count": 52,
   "metadata": {},
   "outputs": [],
   "source": [
    "conf_val = confusion_matrix(y_val, np.argmax(vald, axis = 1))"
   ]
  },
  {
   "cell_type": "code",
   "execution_count": 53,
   "metadata": {},
   "outputs": [
    {
     "data": {
      "text/plain": [
       "<AxesSubplot:>"
      ]
     },
     "execution_count": 53,
     "metadata": {},
     "output_type": "execute_result"
    },
    {
     "data": {
      "image/png": "[encoded data removed]",
      "text/plain": [
       "<Figure size 864x864 with 2 Axes>"
      ]
     },
     "metadata": {
      "needs_background": "light"
     },
     "output_type": "display_data"
    }
   ],
   "source": [
    "plt.figure(figsize=(12, 12))\n",
    "sns.heatmap(conf_val, annot=True)"
   ]
  },
  {
   "cell_type": "code",
   "execution_count": null,
   "metadata": {},
   "outputs": [],
   "source": []
  }
 ],
 "metadata": {
  "kernelspec": {
   "display_name": "Python 3",
   "language": "python",
   "name": "python3"
  },
  "language_info": {
   "codemirror_mode": {
    "name": "ipython",
    "version": 3
   },
   "file_extension": ".py",
   "mimetype": "text/x-python",
   "name": "python",
   "nbconvert_exporter": "python",
   "pygments_lexer": "ipython3",
   "version": "3.8.5"
  }
 },
 "nbformat": 4,
 "nbformat_minor": 4
}
