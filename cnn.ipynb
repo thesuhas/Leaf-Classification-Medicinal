{
 "cells": [
  {
   "cell_type": "code",
   "execution_count": 1,
   "metadata": {},
   "outputs": [
    {
     "name": "stderr",
     "output_type": "stream",
     "text": [
      "C:\\Users\\suhas\\anaconda3\\lib\\site-packages\\tensorflow\\python\\framework\\dtypes.py:516: FutureWarning: Passing (type, 1) or '1type' as a synonym of type is deprecated; in a future version of numpy, it will be understood as (type, (1,)) / '(1,)type'.\n",
      "  _np_qint8 = np.dtype([(\"qint8\", np.int8, 1)])\n",
      "C:\\Users\\suhas\\anaconda3\\lib\\site-packages\\tensorflow\\python\\framework\\dtypes.py:517: FutureWarning: Passing (type, 1) or '1type' as a synonym of type is deprecated; in a future version of numpy, it will be understood as (type, (1,)) / '(1,)type'.\n",
      "  _np_quint8 = np.dtype([(\"quint8\", np.uint8, 1)])\n",
      "C:\\Users\\suhas\\anaconda3\\lib\\site-packages\\tensorflow\\python\\framework\\dtypes.py:518: FutureWarning: Passing (type, 1) or '1type' as a synonym of type is deprecated; in a future version of numpy, it will be understood as (type, (1,)) / '(1,)type'.\n",
      "  _np_qint16 = np.dtype([(\"qint16\", np.int16, 1)])\n",
      "C:\\Users\\suhas\\anaconda3\\lib\\site-packages\\tensorflow\\python\\framework\\dtypes.py:519: FutureWarning: Passing (type, 1) or '1type' as a synonym of type is deprecated; in a future version of numpy, it will be understood as (type, (1,)) / '(1,)type'.\n",
      "  _np_quint16 = np.dtype([(\"quint16\", np.uint16, 1)])\n",
      "C:\\Users\\suhas\\anaconda3\\lib\\site-packages\\tensorflow\\python\\framework\\dtypes.py:520: FutureWarning: Passing (type, 1) or '1type' as a synonym of type is deprecated; in a future version of numpy, it will be understood as (type, (1,)) / '(1,)type'.\n",
      "  _np_qint32 = np.dtype([(\"qint32\", np.int32, 1)])\n",
      "C:\\Users\\suhas\\anaconda3\\lib\\site-packages\\tensorflow\\python\\framework\\dtypes.py:525: FutureWarning: Passing (type, 1) or '1type' as a synonym of type is deprecated; in a future version of numpy, it will be understood as (type, (1,)) / '(1,)type'.\n",
      "  np_resource = np.dtype([(\"resource\", np.ubyte, 1)])\n",
      "C:\\Users\\suhas\\anaconda3\\lib\\site-packages\\tensorboard\\compat\\tensorflow_stub\\dtypes.py:541: FutureWarning: Passing (type, 1) or '1type' as a synonym of type is deprecated; in a future version of numpy, it will be understood as (type, (1,)) / '(1,)type'.\n",
      "  _np_qint8 = np.dtype([(\"qint8\", np.int8, 1)])\n",
      "C:\\Users\\suhas\\anaconda3\\lib\\site-packages\\tensorboard\\compat\\tensorflow_stub\\dtypes.py:542: FutureWarning: Passing (type, 1) or '1type' as a synonym of type is deprecated; in a future version of numpy, it will be understood as (type, (1,)) / '(1,)type'.\n",
      "  _np_quint8 = np.dtype([(\"quint8\", np.uint8, 1)])\n",
      "C:\\Users\\suhas\\anaconda3\\lib\\site-packages\\tensorboard\\compat\\tensorflow_stub\\dtypes.py:543: FutureWarning: Passing (type, 1) or '1type' as a synonym of type is deprecated; in a future version of numpy, it will be understood as (type, (1,)) / '(1,)type'.\n",
      "  _np_qint16 = np.dtype([(\"qint16\", np.int16, 1)])\n",
      "C:\\Users\\suhas\\anaconda3\\lib\\site-packages\\tensorboard\\compat\\tensorflow_stub\\dtypes.py:544: FutureWarning: Passing (type, 1) or '1type' as a synonym of type is deprecated; in a future version of numpy, it will be understood as (type, (1,)) / '(1,)type'.\n",
      "  _np_quint16 = np.dtype([(\"quint16\", np.uint16, 1)])\n",
      "C:\\Users\\suhas\\anaconda3\\lib\\site-packages\\tensorboard\\compat\\tensorflow_stub\\dtypes.py:545: FutureWarning: Passing (type, 1) or '1type' as a synonym of type is deprecated; in a future version of numpy, it will be understood as (type, (1,)) / '(1,)type'.\n",
      "  _np_qint32 = np.dtype([(\"qint32\", np.int32, 1)])\n",
      "C:\\Users\\suhas\\anaconda3\\lib\\site-packages\\tensorboard\\compat\\tensorflow_stub\\dtypes.py:550: FutureWarning: Passing (type, 1) or '1type' as a synonym of type is deprecated; in a future version of numpy, it will be understood as (type, (1,)) / '(1,)type'.\n",
      "  np_resource = np.dtype([(\"resource\", np.ubyte, 1)])\n"
     ]
    }
   ],
   "source": [
    "import pandas as pd\n",
    "import numpy as np\n",
    "import cv2\n",
    "import tensorflow as tf\n",
    "from tensorflow import keras\n",
    "from tensorflow.keras import layers\n",
    "from tensorflow.keras.models import Sequential\n",
    "import matplotlib.pyplot as plt\n",
    "from matplotlib.pyplot import imshow\n",
    "from sklearn.model_selection import train_test_split\n",
    "import glob\n",
    "%load_ext tensorboard"
   ]
  },
  {
   "cell_type": "code",
   "execution_count": 2,
   "metadata": {},
   "outputs": [
    {
     "data": {
      "text/plain": [
       "'2.2.4-tf'"
      ]
     },
     "execution_count": 2,
     "metadata": {},
     "output_type": "execute_result"
    }
   ],
   "source": [
    "keras.__version__"
   ]
  },
  {
   "cell_type": "code",
   "execution_count": 3,
   "metadata": {},
   "outputs": [],
   "source": [
    "path = glob.glob(\"C:/Users/suhas/Documents/Mini Project/Leaves/*.jpg\")"
   ]
  },
  {
   "cell_type": "code",
   "execution_count": 38,
   "metadata": {},
   "outputs": [],
   "source": [
    "IMAGE_SIZE = 100\n",
    "num_classes = 32\n",
    "epochs = 50"
   ]
  },
  {
   "cell_type": "code",
   "execution_count": 5,
   "metadata": {},
   "outputs": [],
   "source": [
    "def label(img_name):\n",
    "    num = int(img_name[-8:-4])\n",
    "    if num >= 1001 and num <= 1059:\n",
    "        return 0 #'pubescent bamboo'\n",
    "    elif num >= 1060 and num <= 1122:\n",
    "        return 1 #'chinese horse chestnut'\n",
    "    elif num >= 1552 and num <= 1616:\n",
    "        return 2 #'anhui barberry'\n",
    "    elif num >= 1123 and num <= 1194:\n",
    "        return 3 #'chinese redbud'\n",
    "    elif num >= 1195 and num <= 1267:\n",
    "        return 4 #'true indigo'\n",
    "    elif num >= 1268 and num <= 1323:\n",
    "        return 5 #'japanese maple'\n",
    "    elif num >= 1324 and num <= 1385:\n",
    "        return 6 #'nanmu'\n",
    "    elif num >= 1386 and num <= 1437:\n",
    "        return 7 #'castor aralia'\n",
    "    elif num >= 1497 and num <= 1551:\n",
    "        return 8 #'chinese cinnamon'\n",
    "    elif num >= 1438 and num <= 1496:\n",
    "        return 9 #'goldenrain tree'\n",
    "    elif num >= 2001 and num <= 2050:\n",
    "        return 10 #'big-fruited holly'\n",
    "    elif num >= 2051 and num <= 2113:\n",
    "        return 11 #'japanese cheesewood'\n",
    "    elif num >= 2114 and num <= 2165:\n",
    "        return 12 #'wintersweet'\n",
    "    elif num >= 2166 and num <= 2230:\n",
    "        return 13 #'camphor tree'\n",
    "    elif num >= 2231 and num <= 2290:\n",
    "        return 14 #'japan arrowwood'\n",
    "    elif num >= 2291 and num <= 2346:\n",
    "        return 15 #'sweet osmanthus'\n",
    "    elif num >= 2347 and num <= 2423:\n",
    "        return 16 #'deodar'\n",
    "    elif num >= 2424 and num <= 2485:\n",
    "        return 17 #'gingko'\n",
    "    elif num >= 2486 and num <= 2546:\n",
    "        return 18 #'crepe myrtle'\n",
    "    elif num >= 2547 and num <= 2612:\n",
    "        return 19 #'oleander'\n",
    "    elif num >= 2616 and num <= 2675:\n",
    "        return 20 #'yew plum pine'\n",
    "    elif num >= 3001 and num <= 3055:\n",
    "        return 21 #'japanese flowering cherry'\n",
    "    elif num >= 3056 and num <= 3110:\n",
    "        return 22 #'glossy privet'\n",
    "    elif num >= 3111 and num <= 3175:\n",
    "        return 23 #'chinese toon'\n",
    "    elif num >= 3176 and num <= 3229:\n",
    "        return 24 #'peach'\n",
    "    elif num >= 3230 and num <= 3281:\n",
    "        return 25 #'ford woodlotus'\n",
    "    elif num >= 3282 and num <= 3334:\n",
    "        return 26 #'trident maple'\n",
    "    elif num >= 3335 and num <= 3389:\n",
    "        return 27 #'beales barberry'\n",
    "    elif num >= 3390 and num <= 3446:\n",
    "        return 28 #'southern magnolia'\n",
    "    elif num >= 3447 and num <= 3510:\n",
    "        return 29 #'canadian poplar'\n",
    "    elif num >= 3511 and num <= 3563:\n",
    "        return 30 #'chinese tulip tree'\n",
    "    elif num >= 3566 and num <= 3621:\n",
    "        return 31 #'tangerine'"
   ]
  },
  {
   "cell_type": "markdown",
   "metadata": {},
   "source": [
    "# Creating Dataset"
   ]
  },
  {
   "cell_type": "code",
   "execution_count": 6,
   "metadata": {},
   "outputs": [],
   "source": [
    "data = []\n",
    "for image in path:\n",
    "    leaf = label(image)\n",
    "    img = cv2.imread(image)\n",
    "    \n",
    "    # Basic processing\n",
    "    imgGray = cv2.cvtColor(img, cv2.COLOR_BGR2GRAY)\n",
    "    \n",
    "    imgBlur = cv2.GaussianBlur(imgGray, (3, 3), 0)\n",
    "    thresh, imgBW = cv2.threshold(imgBlur, 128, 255, cv2.THRESH_BINARY | cv2.THRESH_OTSU)\n",
    "    imgInv = cv2.bitwise_not(imgBW)\n",
    "    kernel = np.ones((50, 50))\n",
    "    imgClosed = cv2.morphologyEx(imgInv, cv2.MORPH_CLOSE, kernel)\n",
    "    \n",
    "    # Resize\n",
    "    new = cv2.resize(imgClosed, (IMAGE_SIZE, IMAGE_SIZE))\n",
    "    #Adding third dimension to shape\n",
    "    new.shape += (1,)\n",
    "    data.append([new, leaf])"
   ]
  },
  {
   "cell_type": "code",
   "execution_count": 7,
   "metadata": {},
   "outputs": [
    {
     "data": {
      "text/plain": [
       "1907"
      ]
     },
     "execution_count": 7,
     "metadata": {},
     "output_type": "execute_result"
    }
   ],
   "source": [
    "len(data)"
   ]
  },
  {
   "cell_type": "code",
   "execution_count": 8,
   "metadata": {},
   "outputs": [
    {
     "data": {
      "text/plain": [
       "1907"
      ]
     },
     "execution_count": 8,
     "metadata": {},
     "output_type": "execute_result"
    }
   ],
   "source": [
    "X = np.array([d[0] for d in data])\n",
    "len(X)"
   ]
  },
  {
   "cell_type": "code",
   "execution_count": 9,
   "metadata": {},
   "outputs": [
    {
     "data": {
      "text/plain": [
       "(100, 100, 1)"
      ]
     },
     "execution_count": 9,
     "metadata": {},
     "output_type": "execute_result"
    }
   ],
   "source": [
    "X = np.divide(X, 255)\n",
    "len(X)\n",
    "X[0].shape"
   ]
  },
  {
   "cell_type": "code",
   "execution_count": 10,
   "metadata": {},
   "outputs": [
    {
     "data": {
      "text/plain": [
       "1907"
      ]
     },
     "execution_count": 10,
     "metadata": {},
     "output_type": "execute_result"
    }
   ],
   "source": [
    "y = [d[1] for d in data]\n",
    "len(y)"
   ]
  },
  {
   "cell_type": "code",
   "execution_count": 11,
   "metadata": {},
   "outputs": [],
   "source": [
    "X_train, X_test, y_train, y_test = train_test_split(X, y, random_state = 1)"
   ]
  },
  {
   "cell_type": "markdown",
   "metadata": {},
   "source": [
    "# CNN"
   ]
  },
  {
   "cell_type": "code",
   "execution_count": 41,
   "metadata": {},
   "outputs": [],
   "source": [
    "model = Sequential([\n",
    "    layers.InputLayer(input_shape=(IMAGE_SIZE, IMAGE_SIZE, 1)),\n",
    "    layers.Conv2D(16, 3, padding='same', activation='relu'),\n",
    "    layers.MaxPool2D(),\n",
    "    layers.BatchNormalization(),\n",
    "    # Dropout layer for regularisation\n",
    "    layers.Dropout(rate=0.2),\n",
    "    layers.Conv2D(32, 3, padding='same', activation='relu'),\n",
    "    layers.MaxPool2D(),\n",
    "    layers.BatchNormalization(),\n",
    "    # Dropout layer for regularisation\n",
    "    layers.Dropout(rate=0.3),\n",
    "    layers.Conv2D(64, 5, padding='same', activation='relu'),\n",
    "    layers.MaxPool2D(),\n",
    "    layers.BatchNormalization(),\n",
    "    # Dropout layer for regularisation\n",
    "    layers.Dropout(rate=0.4),\n",
    "    # Flattening output to connect to Densely Connected Layers\n",
    "    layers.Flatten(),\n",
    "    layers.Dense(128, activation='relu'),\n",
    "    layers.BatchNormalization(),\n",
    "    layers.Dense(num_classes, activation='softmax')\n",
    "])"
   ]
  },
  {
   "cell_type": "code",
   "execution_count": 42,
   "metadata": {},
   "outputs": [],
   "source": [
    "model.compile(optimizer='adam', loss=tf.keras.losses.SparseCategoricalCrossentropy(from_logits=True), metrics=['accuracy'])"
   ]
  },
  {
   "cell_type": "code",
   "execution_count": 43,
   "metadata": {},
   "outputs": [
    {
     "name": "stdout",
     "output_type": "stream",
     "text": [
      "Model: \"sequential_7\"\n",
      "_________________________________________________________________\n",
      "Layer (type)                 Output Shape              Param #   \n",
      "=================================================================\n",
      "conv2d_23 (Conv2D)           (None, 100, 100, 16)      160       \n",
      "_________________________________________________________________\n",
      "max_pooling2d_23 (MaxPooling (None, 50, 50, 16)        0         \n",
      "_________________________________________________________________\n",
      "batch_normalization_19 (Batc (None, 50, 50, 16)        64        \n",
      "_________________________________________________________________\n",
      "dropout_23 (Dropout)         (None, 50, 50, 16)        0         \n",
      "_________________________________________________________________\n",
      "conv2d_24 (Conv2D)           (None, 50, 50, 32)        4640      \n",
      "_________________________________________________________________\n",
      "max_pooling2d_24 (MaxPooling (None, 25, 25, 32)        0         \n",
      "_________________________________________________________________\n",
      "batch_normalization_20 (Batc (None, 25, 25, 32)        128       \n",
      "_________________________________________________________________\n",
      "dropout_24 (Dropout)         (None, 25, 25, 32)        0         \n",
      "_________________________________________________________________\n",
      "conv2d_25 (Conv2D)           (None, 25, 25, 64)        51264     \n",
      "_________________________________________________________________\n",
      "max_pooling2d_25 (MaxPooling (None, 12, 12, 64)        0         \n",
      "_________________________________________________________________\n",
      "batch_normalization_21 (Batc (None, 12, 12, 64)        256       \n",
      "_________________________________________________________________\n",
      "dropout_25 (Dropout)         (None, 12, 12, 64)        0         \n",
      "_________________________________________________________________\n",
      "flatten_7 (Flatten)          (None, 9216)              0         \n",
      "_________________________________________________________________\n",
      "dense_14 (Dense)             (None, 128)               1179776   \n",
      "_________________________________________________________________\n",
      "batch_normalization_22 (Batc (None, 128)               512       \n",
      "_________________________________________________________________\n",
      "dense_15 (Dense)             (None, 32)                4128      \n",
      "=================================================================\n",
      "Total params: 1,240,928\n",
      "Trainable params: 1,240,448\n",
      "Non-trainable params: 480\n",
      "_________________________________________________________________\n"
     ]
    }
   ],
   "source": [
    "model.summary()"
   ]
  },
  {
   "cell_type": "code",
   "execution_count": 44,
   "metadata": {},
   "outputs": [],
   "source": [
    "tensorboard_callback = tf.keras.callbacks.TensorBoard(log_dir=\"logs\")"
   ]
  },
  {
   "cell_type": "code",
   "execution_count": 45,
   "metadata": {},
   "outputs": [
    {
     "name": "stdout",
     "output_type": "stream",
     "text": [
      "Train on 1430 samples, validate on 477 samples\n",
      "Epoch 1/50\n",
      "1430/1430 [==============================] - 12s 8ms/sample - loss: 3.1534 - acc: 0.3860 - val_loss: 3.4681 - val_acc: 0.0356\n",
      "Epoch 2/50\n",
      "1430/1430 [==============================] - 11s 8ms/sample - loss: 2.9360 - acc: 0.6133 - val_loss: 3.4727 - val_acc: 0.0356\n",
      "Epoch 3/50\n",
      "1430/1430 [==============================] - 11s 8ms/sample - loss: 2.8608 - acc: 0.6853 - val_loss: 3.4774 - val_acc: 0.0356\n",
      "Epoch 4/50\n",
      "1430/1430 [==============================] - 12s 8ms/sample - loss: 2.8087 - acc: 0.7308 - val_loss: 3.4799 - val_acc: 0.0356\n",
      "Epoch 5/50\n",
      "1430/1430 [==============================] - 11s 8ms/sample - loss: 2.7653 - acc: 0.7755 - val_loss: 3.4780 - val_acc: 0.0356\n",
      "Epoch 6/50\n",
      "1430/1430 [==============================] - 12s 8ms/sample - loss: 2.7440 - acc: 0.7972 - val_loss: 3.4745 - val_acc: 0.0356\n",
      "Epoch 7/50\n",
      "1430/1430 [==============================] - 13s 9ms/sample - loss: 2.7160 - acc: 0.8231 - val_loss: 3.4696 - val_acc: 0.0356\n",
      "Epoch 8/50\n",
      "1430/1430 [==============================] - 13s 9ms/sample - loss: 2.6915 - acc: 0.8524 - val_loss: 3.4379 - val_acc: 0.0608\n",
      "Epoch 9/50\n",
      "1430/1430 [==============================] - 13s 9ms/sample - loss: 2.6571 - acc: 0.8832 - val_loss: 3.4141 - val_acc: 0.0692\n",
      "Epoch 10/50\n",
      "1430/1430 [==============================] - 13s 9ms/sample - loss: 2.6504 - acc: 0.8825 - val_loss: 3.3532 - val_acc: 0.1342\n",
      "Epoch 11/50\n",
      "1430/1430 [==============================] - 14s 10ms/sample - loss: 2.6377 - acc: 0.8979 - val_loss: 3.1704 - val_acc: 0.3899\n",
      "Epoch 12/50\n",
      "1430/1430 [==============================] - 14s 10ms/sample - loss: 2.6285 - acc: 0.9049 - val_loss: 3.0939 - val_acc: 0.4696\n",
      "Epoch 13/50\n",
      "1430/1430 [==============================] - 15s 11ms/sample - loss: 2.6261 - acc: 0.9035 - val_loss: 2.9087 - val_acc: 0.6709\n",
      "Epoch 14/50\n",
      "1430/1430 [==============================] - 16s 11ms/sample - loss: 2.6126 - acc: 0.9182 - val_loss: 2.8585 - val_acc: 0.7107\n",
      "Epoch 15/50\n",
      "1430/1430 [==============================] - 16s 11ms/sample - loss: 2.6028 - acc: 0.9266 - val_loss: 2.7882 - val_acc: 0.7757\n",
      "Epoch 16/50\n",
      "1430/1430 [==============================] - 16s 12ms/sample - loss: 2.5967 - acc: 0.9294 - val_loss: 2.7637 - val_acc: 0.7925\n",
      "Epoch 17/50\n",
      "1430/1430 [==============================] - 17s 12ms/sample - loss: 2.5924 - acc: 0.9322 - val_loss: 2.7514 - val_acc: 0.8071\n",
      "Epoch 18/50\n",
      "1430/1430 [==============================] - 16s 11ms/sample - loss: 2.5909 - acc: 0.9350 - val_loss: 2.7314 - val_acc: 0.8092\n",
      "Epoch 19/50\n",
      "1430/1430 [==============================] - 16s 11ms/sample - loss: 2.5828 - acc: 0.9420 - val_loss: 2.7121 - val_acc: 0.8365\n",
      "Epoch 20/50\n",
      "1430/1430 [==============================] - 16s 11ms/sample - loss: 2.5811 - acc: 0.9413 - val_loss: 2.6992 - val_acc: 0.8449\n",
      "Epoch 21/50\n",
      "1430/1430 [==============================] - 15s 11ms/sample - loss: 2.5792 - acc: 0.9441 - val_loss: 2.7364 - val_acc: 0.8239\n",
      "Epoch 22/50\n",
      "1430/1430 [==============================] - 15s 10ms/sample - loss: 2.5814 - acc: 0.9413 - val_loss: 2.6987 - val_acc: 0.8386\n",
      "Epoch 23/50\n",
      "1430/1430 [==============================] - 14s 10ms/sample - loss: 2.5757 - acc: 0.9483 - val_loss: 2.6998 - val_acc: 0.8260\n",
      "Epoch 24/50\n",
      "1430/1430 [==============================] - 14s 10ms/sample - loss: 2.5726 - acc: 0.9517 - val_loss: 2.7142 - val_acc: 0.8176\n",
      "Epoch 25/50\n",
      "1430/1430 [==============================] - 14s 10ms/sample - loss: 2.5706 - acc: 0.9545 - val_loss: 2.6944 - val_acc: 0.8470\n",
      "Epoch 26/50\n",
      "1430/1430 [==============================] - 14s 10ms/sample - loss: 2.5648 - acc: 0.9573 - val_loss: 2.6957 - val_acc: 0.8470\n",
      "Epoch 27/50\n",
      "1430/1430 [==============================] - 13s 9ms/sample - loss: 2.5633 - acc: 0.9601 - val_loss: 2.7140 - val_acc: 0.8302\n",
      "Epoch 28/50\n",
      "1430/1430 [==============================] - 13s 9ms/sample - loss: 2.5660 - acc: 0.9587 - val_loss: 2.6978 - val_acc: 0.8407\n",
      "Epoch 29/50\n",
      "1430/1430 [==============================] - 13s 9ms/sample - loss: 2.5625 - acc: 0.9601 - val_loss: 2.6939 - val_acc: 0.8428\n",
      "Epoch 30/50\n",
      "1430/1430 [==============================] - 13s 9ms/sample - loss: 2.5578 - acc: 0.9657 - val_loss: 2.6870 - val_acc: 0.8491\n",
      "Epoch 31/50\n",
      "1430/1430 [==============================] - 13s 9ms/sample - loss: 2.5562 - acc: 0.9650 - val_loss: 2.6856 - val_acc: 0.8491\n",
      "Epoch 32/50\n",
      "1430/1430 [==============================] - 13s 9ms/sample - loss: 2.5543 - acc: 0.9678 - val_loss: 2.6869 - val_acc: 0.8595\n",
      "Epoch 33/50\n",
      "1430/1430 [==============================] - 13s 9ms/sample - loss: 2.5509 - acc: 0.9720 - val_loss: 2.7033 - val_acc: 0.8344\n",
      "Epoch 34/50\n",
      "1430/1430 [==============================] - 13s 9ms/sample - loss: 2.5512 - acc: 0.9720 - val_loss: 2.6843 - val_acc: 0.8470\n",
      "Epoch 35/50\n",
      "1430/1430 [==============================] - 13s 9ms/sample - loss: 2.5514 - acc: 0.9699 - val_loss: 2.6978 - val_acc: 0.8323\n",
      "Epoch 36/50\n",
      "1430/1430 [==============================] - 13s 9ms/sample - loss: 2.5514 - acc: 0.9713 - val_loss: 2.6963 - val_acc: 0.8386\n",
      "Epoch 37/50\n",
      "1430/1430 [==============================] - 13s 9ms/sample - loss: 2.5502 - acc: 0.9692 - val_loss: 2.7000 - val_acc: 0.8386\n",
      "Epoch 38/50\n",
      "1430/1430 [==============================] - 13s 9ms/sample - loss: 2.5490 - acc: 0.9727 - val_loss: 2.7067 - val_acc: 0.8197\n",
      "Epoch 39/50\n",
      "1430/1430 [==============================] - 13s 9ms/sample - loss: 2.5448 - acc: 0.9762 - val_loss: 2.6924 - val_acc: 0.8407\n",
      "Epoch 40/50\n",
      "1430/1430 [==============================] - 14s 10ms/sample - loss: 2.5421 - acc: 0.9783 - val_loss: 2.7001 - val_acc: 0.8323\n",
      "Epoch 41/50\n",
      "1430/1430 [==============================] - 14s 10ms/sample - loss: 2.5417 - acc: 0.9790 - val_loss: 2.6985 - val_acc: 0.8302\n",
      "Epoch 42/50\n",
      "1430/1430 [==============================] - 14s 10ms/sample - loss: 2.5403 - acc: 0.9804 - val_loss: 2.6893 - val_acc: 0.8407\n",
      "Epoch 43/50\n",
      "1430/1430 [==============================] - 15s 10ms/sample - loss: 2.5357 - acc: 0.9839 - val_loss: 2.6942 - val_acc: 0.8386\n",
      "Epoch 44/50\n",
      "1430/1430 [==============================] - 14s 10ms/sample - loss: 2.5358 - acc: 0.9853 - val_loss: 2.6942 - val_acc: 0.8428\n",
      "Epoch 45/50\n",
      "1430/1430 [==============================] - 14s 10ms/sample - loss: 2.5371 - acc: 0.9853 - val_loss: 2.6784 - val_acc: 0.8553\n",
      "Epoch 46/50\n",
      "1430/1430 [==============================] - 14s 10ms/sample - loss: 2.5386 - acc: 0.9839 - val_loss: 2.6972 - val_acc: 0.8365\n",
      "Epoch 47/50\n",
      "1430/1430 [==============================] - 15s 10ms/sample - loss: 2.5404 - acc: 0.9811 - val_loss: 2.6848 - val_acc: 0.8470\n",
      "Epoch 48/50\n",
      "1430/1430 [==============================] - 14s 10ms/sample - loss: 2.5378 - acc: 0.9818 - val_loss: 2.6915 - val_acc: 0.8344\n",
      "Epoch 49/50\n",
      "1430/1430 [==============================] - 15s 10ms/sample - loss: 2.5344 - acc: 0.9867 - val_loss: 2.6889 - val_acc: 0.8407\n",
      "Epoch 50/50\n",
      "1430/1430 [==============================] - 14s 10ms/sample - loss: 2.5341 - acc: 0.9860 - val_loss: 2.6988 - val_acc: 0.8239\n"
     ]
    }
   ],
   "source": [
    "history = model.fit(x=X_train, y=y_train, epochs=epochs, validation_data = (X_test, y_test), callbacks=[tensorboard_callback], use_multiprocessing = True)"
   ]
  },
  {
   "cell_type": "code",
   "execution_count": 58,
   "metadata": {},
   "outputs": [
    {
     "data": {
      "text/plain": [
       "<matplotlib.legend.Legend at 0x2645f6c8d08>"
      ]
     },
     "execution_count": 58,
     "metadata": {},
     "output_type": "execute_result"
    },
    {
     "data": {
      "image/png": "[encoded data removed]",
      "text/plain": [
       "<Figure size 432x288 with 1 Axes>"
      ]
     },
     "metadata": {
      "needs_background": "light"
     },
     "output_type": "display_data"
    }
   ],
   "source": [
    "plt.figure()\n",
    "plt.plot([i for i in range(50)], history.history['val_acc'], label='Val Acc')\n",
    "plt.plot([i for i in range(50)], history.history['acc'], label='Training Acc')\n",
    "plt.xlabel('Epoch')\n",
    "plt.ylabel('Accuracy')\n",
    "plt.legend()"
   ]
  },
  {
   "cell_type": "code",
   "execution_count": 50,
   "metadata": {},
   "outputs": [
    {
     "data": {
      "text/plain": [
       "dict_keys(['loss', 'acc', 'val_loss', 'val_acc'])"
      ]
     },
     "execution_count": 50,
     "metadata": {},
     "output_type": "execute_result"
    }
   ],
   "source": [
    "history.history.keys()"
   ]
  },
  {
   "cell_type": "code",
   "execution_count": null,
   "metadata": {},
   "outputs": [],
   "source": []
  }
 ],
 "metadata": {
  "kernelspec": {
   "display_name": "Python 3",
   "language": "python",
   "name": "python3"
  },
  "language_info": {
   "codemirror_mode": {
    "name": "ipython",
    "version": 3
   },
   "file_extension": ".py",
   "mimetype": "text/x-python",
   "name": "python",
   "nbconvert_exporter": "python",
   "pygments_lexer": "ipython3",
   "version": "3.7.9"
  }
 },
 "nbformat": 4,
 "nbformat_minor": 4
}
