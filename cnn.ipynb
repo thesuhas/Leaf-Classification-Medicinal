{
 "cells": [
  {
   "cell_type": "code",
   "execution_count": 1,
   "metadata": {},
   "outputs": [],
   "source": [
    "import pandas as pd\n",
    "import numpy as np\n",
    "import cv2\n",
    "import tensorflow as tf\n",
    "from tensorflow import keras\n",
    "from tensorflow.keras import layers\n",
    "from tensorflow.keras.models import Sequential\n",
    "import matplotlib.pyplot as plt\n",
    "from matplotlib.pyplot import imshow\n",
    "from sklearn.model_selection import train_test_split\n",
    "from datetime import datetime\n",
    "import os\n",
    "import itertools\n",
    "import io\n",
    "import sklearn\n",
    "from sklearn.metrics import confusion_matrix\n",
    "# Load the TensorBoard notebook extension.\n",
    "%load_ext tensorboard\n",
    "import seaborn as sns"
   ]
  },
  {
   "cell_type": "code",
   "execution_count": 2,
   "metadata": {},
   "outputs": [],
   "source": [
    "os.environ['TF_FORCE_GPU_ALLOW_GROWTH'] = 'true'"
   ]
  },
  {
   "cell_type": "code",
   "execution_count": 3,
   "metadata": {},
   "outputs": [
    {
     "data": {
      "text/plain": [
       "'2.4.0'"
      ]
     },
     "execution_count": 3,
     "metadata": {},
     "output_type": "execute_result"
    }
   ],
   "source": [
    "keras.__version__"
   ]
  },
  {
   "cell_type": "code",
   "execution_count": 4,
   "metadata": {},
   "outputs": [],
   "source": [
    "path = \"C:/Users/suhas/Documents/Mini Project/Leaves/\"\n",
    "test = \"C:/Users/suhas/Documents/Mini Project/Leaves/Test\""
   ]
  },
  {
   "cell_type": "code",
   "execution_count": 5,
   "metadata": {},
   "outputs": [
    {
     "name": "stdout",
     "output_type": "stream",
     "text": [
      "/device:GPU:0\n"
     ]
    }
   ],
   "source": [
    "print(tf.test.gpu_device_name())"
   ]
  },
  {
   "cell_type": "code",
   "execution_count": 6,
   "metadata": {},
   "outputs": [],
   "source": [
    "IMAGE_SIZE = 100\n",
    "num_classes = 47 #changed from 32\n",
    "epochs = 100\n",
    "initializer = 'he_normal'"
   ]
  },
  {
   "cell_type": "code",
   "execution_count": 7,
   "metadata": {},
   "outputs": [],
   "source": [
    "def label(img_name):\n",
    "    num = img_name.split('_')[1]\n",
    "    #print(num)\n",
    "    if num == 'pubescent bamboo':\n",
    "        return 0 \n",
    "    elif num == 'chinese horse chestnut':\n",
    "        return 1 \n",
    "    elif num == 'anhui barberry':\n",
    "        return 2 \n",
    "    elif num == 'chinese redbud':\n",
    "        return 3\n",
    "    elif num == 'true indigo':\n",
    "        return 4\n",
    "    elif num == 'japanese maple':\n",
    "        return 5 \n",
    "    elif num == 'nanmu':\n",
    "        return 6 \n",
    "    elif num == 'castor aralia':\n",
    "        return 7 \n",
    "    elif num == 'chinese cinnamon':\n",
    "        return 8 \n",
    "    elif num == 'goldenrain tree':\n",
    "        return 9 \n",
    "    elif num == 'big fruited holly':\n",
    "        return 10 \n",
    "    elif num == 'japanese chestwood':\n",
    "        return 11 \n",
    "    elif num == 'wintersweet':\n",
    "        return 12 \n",
    "    elif num == 'camphor tree':\n",
    "        return 13\n",
    "    elif num == 'japan arrowwood':\n",
    "        return 14\n",
    "    elif num == 'sweet osmanthus':\n",
    "        return 15\n",
    "    elif num == 'deodar':\n",
    "        return 16\n",
    "    elif num == 'ginkgo':\n",
    "        return 17 \n",
    "    elif num == 'crape myrtle':\n",
    "        return 18 \n",
    "    elif num == 'oleandar':\n",
    "        return 19\n",
    "    elif num == 'yew plum pie':\n",
    "        return 20\n",
    "    elif num == 'japanese flowering cherry':\n",
    "        return 21 \n",
    "    elif num == 'glossy privet':\n",
    "        return 22\n",
    "    elif num == 'chinese toon':\n",
    "        return 23\n",
    "    elif num == 'peach':\n",
    "        return 24\n",
    "    elif num == 'ford woodlotus':\n",
    "        return 25\n",
    "    elif num == 'trident maple':\n",
    "        return 26\n",
    "    elif num == 'beales barberry':\n",
    "        return 27\n",
    "    elif num == 'southern magnolia':\n",
    "        return 28\n",
    "    elif num == 'canadian poplar':\n",
    "        return 29\n",
    "    elif num == 'chinese tulip tree':\n",
    "        return 30\n",
    "    elif num == 'tangerine':\n",
    "        return 31\n",
    "    elif num == 'ulmus carpinofolia':\n",
    "        return 32 \n",
    "    elif num == 'acer':\n",
    "        return 33\n",
    "    elif num == 'salix aurita':\n",
    "        return 34\n",
    "    elif num == 'quercus':\n",
    "        return 35 \n",
    "    elif num == 'alnus incana':\n",
    "        return 36 \n",
    "    elif num == 'betula pubescens':\n",
    "        return 37 \n",
    "    elif num == 'salix alba sericea':\n",
    "        return 38 \n",
    "    elif num == 'populus tremula':\n",
    "        return 39 \n",
    "    elif num == 'ulmus glabra':\n",
    "        return 40 \n",
    "    elif num == 'sorbus aucuparia':\n",
    "        return 41 \n",
    "    elif num == 'salix sinerea':\n",
    "        return 42 \n",
    "    elif num == 'populus':\n",
    "        return 43\n",
    "    elif num == 'tilia':\n",
    "        return 44\n",
    "    elif num == 'sorbus intermedia':\n",
    "        return 45\n",
    "    elif num == 'fagus silvatica':\n",
    "        return 46"
   ]
  },
  {
   "cell_type": "markdown",
   "metadata": {},
   "source": [
    "# Creating Dataset"
   ]
  },
  {
   "cell_type": "code",
   "execution_count": 8,
   "metadata": {},
   "outputs": [],
   "source": [
    "def create_dataset(path):\n",
    "    data = []\n",
    "    for folder in os.scandir(path):\n",
    "        if \"leaf\" in str(folder):\n",
    "            for image in os.scandir(os.path.join(path, folder)):\n",
    "                leaf = label(folder.name)\n",
    "                if (leaf == None):\n",
    "                    print(folder.name)\n",
    "                    break\n",
    "                img = cv2.imread(os.path.join(path, folder, image))\n",
    "\n",
    "                # Basic processing\n",
    "                '''imgGray = cv2.cvtColor(img, cv2.COLOR_BGR2GRAY)\n",
    "\n",
    "                imgBlur = cv2.GaussianBlur(imgGray, (3, 3), 0)\n",
    "                thresh, imgBW = cv2.threshold(imgBlur, 128, 255, cv2.THRESH_BINARY | cv2.THRESH_OTSU)\n",
    "                imgInv = cv2.bitwise_not(imgBW)\n",
    "                kernel = np.ones((50, 50))\n",
    "                imgClosed = cv2.morphologyEx(imgInv, cv2.MORPH_CLOSE, kernel)'''\n",
    "\n",
    "                # Resize\n",
    "                new = cv2.resize(img, (IMAGE_SIZE, IMAGE_SIZE))\n",
    "                #Adding third dimension to shape\n",
    "                data.append([new, leaf])\n",
    "    return data"
   ]
  },
  {
   "cell_type": "code",
   "execution_count": 9,
   "metadata": {},
   "outputs": [],
   "source": [
    "data = create_dataset(path)"
   ]
  },
  {
   "cell_type": "code",
   "execution_count": 10,
   "metadata": {},
   "outputs": [
    {
     "data": {
      "text/plain": [
       "1907"
      ]
     },
     "execution_count": 10,
     "metadata": {},
     "output_type": "execute_result"
    }
   ],
   "source": [
    "X = np.array([d[0] for d in data])\n",
    "len(X)"
   ]
  },
  {
   "cell_type": "code",
   "execution_count": 11,
   "metadata": {},
   "outputs": [
    {
     "data": {
      "text/plain": [
       "(1907, 100, 100, 3)"
      ]
     },
     "execution_count": 11,
     "metadata": {},
     "output_type": "execute_result"
    }
   ],
   "source": [
    "X = np.divide(X, 255)\n",
    "len(X)\n",
    "X.shape"
   ]
  },
  {
   "cell_type": "code",
   "execution_count": 12,
   "metadata": {},
   "outputs": [
    {
     "data": {
      "text/plain": [
       "1907"
      ]
     },
     "execution_count": 12,
     "metadata": {},
     "output_type": "execute_result"
    }
   ],
   "source": [
    "y = np.array([d[1] for d in data])\n",
    "len(y)"
   ]
  },
  {
   "cell_type": "code",
   "execution_count": 13,
   "metadata": {},
   "outputs": [],
   "source": [
    "X_train, X_test, y_train, y_test = train_test_split(X, y, random_state = 1, stratify=y)\n",
    "X_train, X_val, y_train, y_val = train_test_split(X_train, y_train, random_state = 1, stratify=y_train)"
   ]
  },
  {
   "cell_type": "code",
   "execution_count": 14,
   "metadata": {},
   "outputs": [
    {
     "data": {
      "text/plain": [
       "[0,\n",
       " 1,\n",
       " 2,\n",
       " 3,\n",
       " 4,\n",
       " 5,\n",
       " 6,\n",
       " 7,\n",
       " 8,\n",
       " 9,\n",
       " 10,\n",
       " 11,\n",
       " 12,\n",
       " 13,\n",
       " 14,\n",
       " 15,\n",
       " 16,\n",
       " 17,\n",
       " 18,\n",
       " 19,\n",
       " 20,\n",
       " 21,\n",
       " 22,\n",
       " 23,\n",
       " 24,\n",
       " 25,\n",
       " 26,\n",
       " 27,\n",
       " 28,\n",
       " 29,\n",
       " 30,\n",
       " 31]"
      ]
     },
     "execution_count": 14,
     "metadata": {},
     "output_type": "execute_result"
    }
   ],
   "source": [
    "class_names = list(range(47)) #changed from 32\n",
    "class_names"
   ]
  },
  {
   "cell_type": "markdown",
   "metadata": {},
   "source": [
    "# CNN"
   ]
  },
  {
   "cell_type": "code",
   "execution_count": 71,
   "metadata": {},
   "outputs": [],
   "source": [
    "model = Sequential([\n",
    "    layers.InputLayer(input_shape=(IMAGE_SIZE, IMAGE_SIZE, 3)),\n",
    "    layers.Conv2D(16, 3, padding='same', activation='relu', kernel_initializer=initializer),\n",
    "    layers.MaxPool2D(),\n",
    "    layers.BatchNormalization(),\n",
    "    # Dropout layer for regularisation\n",
    "    #layers.Dropout(rate=0.5),\n",
    "    layers.Conv2D(32, 3, padding='same', activation='relu', kernel_initializer=initializer),\n",
    "    layers.MaxPool2D(),\n",
    "    layers.BatchNormalization(),\n",
    "    # Dropout layer for regularisation\n",
    "    #layers.Dropout(rate=0.5),\n",
    "    layers.Conv2D(64, 5, padding='valid', activation='relu', kernel_initializer=initializer),\n",
    "    layers.MaxPool2D(),\n",
    "    layers.BatchNormalization(),\n",
    "    # Dropout layer for regularisation\n",
    "    #layers.Dropout(rate=0.5),\n",
    "    # Flattening output to connect to Densely Connected Layers\n",
    "    layers.Flatten(),\n",
    "    layers.Dense(128, activation='relu', kernel_initializer=initializer),\n",
    "    layers.BatchNormalization(),\n",
    "    layers.Dense(num_classes, activation='softmax', kernel_initializer=initializer)\n",
    "])"
   ]
  },
  {
   "cell_type": "code",
   "execution_count": 72,
   "metadata": {},
   "outputs": [],
   "source": [
    "model.compile(optimizer='adam', loss=tf.keras.losses.SparseCategoricalCrossentropy(from_logits=True), metrics=['accuracy'])"
   ]
  },
  {
   "cell_type": "code",
   "execution_count": 73,
   "metadata": {},
   "outputs": [
    {
     "data": {
      "text/plain": [
       "(1072, 100, 100, 3)"
      ]
     },
     "execution_count": 73,
     "metadata": {},
     "output_type": "execute_result"
    }
   ],
   "source": [
    "X_train.shape"
   ]
  },
  {
   "cell_type": "code",
   "execution_count": 74,
   "metadata": {},
   "outputs": [
    {
     "name": "stdout",
     "output_type": "stream",
     "text": [
      "Model: \"sequential_4\"\n",
      "_________________________________________________________________\n",
      "Layer (type)                 Output Shape              Param #   \n",
      "=================================================================\n",
      "conv2d_18 (Conv2D)           (None, 100, 100, 16)      448       \n",
      "_________________________________________________________________\n",
      "max_pooling2d_18 (MaxPooling (None, 50, 50, 16)        0         \n",
      "_________________________________________________________________\n",
      "batch_normalization_22 (Batc (None, 50, 50, 16)        64        \n",
      "_________________________________________________________________\n",
      "conv2d_19 (Conv2D)           (None, 50, 50, 32)        4640      \n",
      "_________________________________________________________________\n",
      "max_pooling2d_19 (MaxPooling (None, 25, 25, 32)        0         \n",
      "_________________________________________________________________\n",
      "batch_normalization_23 (Batc (None, 25, 25, 32)        128       \n",
      "_________________________________________________________________\n",
      "conv2d_20 (Conv2D)           (None, 21, 21, 64)        51264     \n",
      "_________________________________________________________________\n",
      "max_pooling2d_20 (MaxPooling (None, 10, 10, 64)        0         \n",
      "_________________________________________________________________\n",
      "batch_normalization_24 (Batc (None, 10, 10, 64)        256       \n",
      "_________________________________________________________________\n",
      "flatten_6 (Flatten)          (None, 6400)              0         \n",
      "_________________________________________________________________\n",
      "dense_8 (Dense)              (None, 128)               819328    \n",
      "_________________________________________________________________\n",
      "batch_normalization_25 (Batc (None, 128)               512       \n",
      "_________________________________________________________________\n",
      "dense_9 (Dense)              (None, 32)                4128      \n",
      "=================================================================\n",
      "Total params: 880,768\n",
      "Trainable params: 880,288\n",
      "Non-trainable params: 480\n",
      "_________________________________________________________________\n"
     ]
    }
   ],
   "source": [
    "model.summary()"
   ]
  },
  {
   "cell_type": "code",
   "execution_count": 75,
   "metadata": {},
   "outputs": [],
   "source": [
    "callback = tf.keras.callbacks.EarlyStopping(monitor='loss', patience=20)"
   ]
  },
  {
   "cell_type": "code",
   "execution_count": 76,
   "metadata": {},
   "outputs": [
    {
     "name": "stdout",
     "output_type": "stream",
     "text": [
      "Epoch 1/100\n",
      "17/17 [==============================] - 0s 28ms/step - loss: 3.1640 - accuracy: 0.3797 - val_loss: 3.4311 - val_accuracy: 0.0726\n",
      "Epoch 2/100\n",
      "17/17 [==============================] - 0s 16ms/step - loss: 2.8737 - accuracy: 0.6800 - val_loss: 3.4415 - val_accuracy: 0.0391\n",
      "Epoch 3/100\n",
      "17/17 [==============================] - 0s 16ms/step - loss: 2.7475 - accuracy: 0.7985 - val_loss: 3.4231 - val_accuracy: 0.0559\n",
      "Epoch 4/100\n",
      "17/17 [==============================] - 0s 16ms/step - loss: 2.6337 - accuracy: 0.9095 - val_loss: 3.3069 - val_accuracy: 0.3045\n",
      "Epoch 5/100\n",
      "17/17 [==============================] - 0s 16ms/step - loss: 2.5923 - accuracy: 0.9394 - val_loss: 3.2557 - val_accuracy: 0.4162\n",
      "Epoch 6/100\n",
      "17/17 [==============================] - 0s 16ms/step - loss: 2.5626 - accuracy: 0.9692 - val_loss: 3.2544 - val_accuracy: 0.3687\n",
      "Epoch 7/100\n",
      "17/17 [==============================] - 0s 16ms/step - loss: 2.5424 - accuracy: 0.9841 - val_loss: 3.2179 - val_accuracy: 0.3994\n",
      "Epoch 8/100\n",
      "17/17 [==============================] - 0s 16ms/step - loss: 2.5321 - accuracy: 0.9897 - val_loss: 3.1856 - val_accuracy: 0.4413\n",
      "Epoch 9/100\n",
      "17/17 [==============================] - 0s 16ms/step - loss: 2.5303 - accuracy: 0.9897 - val_loss: 3.1450 - val_accuracy: 0.4860\n",
      "Epoch 10/100\n",
      "17/17 [==============================] - 0s 16ms/step - loss: 2.5294 - accuracy: 0.9897 - val_loss: 3.1249 - val_accuracy: 0.4916\n",
      "Epoch 11/100\n",
      "17/17 [==============================] - 0s 16ms/step - loss: 2.5283 - accuracy: 0.9907 - val_loss: 3.0685 - val_accuracy: 0.5782\n",
      "Epoch 12/100\n",
      "17/17 [==============================] - 0s 17ms/step - loss: 2.5274 - accuracy: 0.9925 - val_loss: 3.0389 - val_accuracy: 0.6173\n",
      "Epoch 13/100\n",
      "17/17 [==============================] - 0s 16ms/step - loss: 2.5255 - accuracy: 0.9944 - val_loss: 3.0126 - val_accuracy: 0.5922\n",
      "Epoch 14/100\n",
      "17/17 [==============================] - 0s 17ms/step - loss: 2.5250 - accuracy: 0.9944 - val_loss: 3.0011 - val_accuracy: 0.5978\n",
      "Epoch 15/100\n",
      "17/17 [==============================] - 0s 16ms/step - loss: 2.5245 - accuracy: 0.9944 - val_loss: 2.9415 - val_accuracy: 0.6844\n",
      "Epoch 16/100\n",
      "17/17 [==============================] - 0s 16ms/step - loss: 2.5233 - accuracy: 0.9953 - val_loss: 2.8941 - val_accuracy: 0.7263\n",
      "Epoch 17/100\n",
      "17/17 [==============================] - 0s 16ms/step - loss: 2.5232 - accuracy: 0.9953 - val_loss: 2.8444 - val_accuracy: 0.7709\n",
      "Epoch 18/100\n",
      "17/17 [==============================] - 0s 16ms/step - loss: 2.5225 - accuracy: 0.9963 - val_loss: 2.8155 - val_accuracy: 0.8017\n",
      "Epoch 19/100\n",
      "17/17 [==============================] - 0s 16ms/step - loss: 2.5222 - accuracy: 0.9963 - val_loss: 2.7794 - val_accuracy: 0.8380\n",
      "Epoch 20/100\n",
      "17/17 [==============================] - 0s 17ms/step - loss: 2.5220 - accuracy: 0.9972 - val_loss: 2.7513 - val_accuracy: 0.8687\n",
      "Epoch 21/100\n",
      "17/17 [==============================] - 0s 16ms/step - loss: 2.5197 - accuracy: 0.9991 - val_loss: 2.7184 - val_accuracy: 0.8827\n",
      "Epoch 22/100\n",
      "17/17 [==============================] - 0s 16ms/step - loss: 2.5199 - accuracy: 0.9991 - val_loss: 2.7349 - val_accuracy: 0.8575\n",
      "Epoch 23/100\n",
      "17/17 [==============================] - 0s 16ms/step - loss: 2.5195 - accuracy: 0.9991 - val_loss: 2.7034 - val_accuracy: 0.8743\n",
      "Epoch 24/100\n",
      "17/17 [==============================] - 0s 16ms/step - loss: 2.5193 - accuracy: 0.9991 - val_loss: 2.6790 - val_accuracy: 0.8939\n",
      "Epoch 25/100\n",
      "17/17 [==============================] - 0s 16ms/step - loss: 2.5193 - accuracy: 0.9991 - val_loss: 2.6641 - val_accuracy: 0.8994\n",
      "Epoch 26/100\n",
      "17/17 [==============================] - 0s 16ms/step - loss: 2.5193 - accuracy: 0.9991 - val_loss: 2.6523 - val_accuracy: 0.9022\n",
      "Epoch 27/100\n",
      "17/17 [==============================] - 0s 16ms/step - loss: 2.5192 - accuracy: 0.9991 - val_loss: 2.6437 - val_accuracy: 0.9050\n",
      "Epoch 28/100\n",
      "17/17 [==============================] - 0s 16ms/step - loss: 2.5192 - accuracy: 0.9991 - val_loss: 2.6366 - val_accuracy: 0.9134\n",
      "Epoch 29/100\n",
      "17/17 [==============================] - 0s 17ms/step - loss: 2.5191 - accuracy: 0.9991 - val_loss: 2.6469 - val_accuracy: 0.9050\n",
      "Epoch 30/100\n",
      "17/17 [==============================] - 0s 16ms/step - loss: 2.5185 - accuracy: 1.0000 - val_loss: 2.6386 - val_accuracy: 0.9162\n",
      "Epoch 31/100\n",
      "17/17 [==============================] - 0s 16ms/step - loss: 2.5184 - accuracy: 1.0000 - val_loss: 2.6220 - val_accuracy: 0.9274\n",
      "Epoch 32/100\n",
      "17/17 [==============================] - 0s 17ms/step - loss: 2.5183 - accuracy: 1.0000 - val_loss: 2.6156 - val_accuracy: 0.9330\n",
      "Epoch 33/100\n",
      "17/17 [==============================] - 0s 16ms/step - loss: 2.5183 - accuracy: 1.0000 - val_loss: 2.6119 - val_accuracy: 0.9358\n",
      "Epoch 34/100\n",
      "17/17 [==============================] - 0s 16ms/step - loss: 2.5183 - accuracy: 1.0000 - val_loss: 2.6086 - val_accuracy: 0.9358\n",
      "Epoch 35/100\n",
      "17/17 [==============================] - 0s 16ms/step - loss: 2.5182 - accuracy: 1.0000 - val_loss: 2.6055 - val_accuracy: 0.9413\n",
      "Epoch 36/100\n",
      "17/17 [==============================] - 0s 17ms/step - loss: 2.5182 - accuracy: 1.0000 - val_loss: 2.6033 - val_accuracy: 0.9413\n",
      "Epoch 37/100\n",
      "17/17 [==============================] - 0s 16ms/step - loss: 2.5182 - accuracy: 1.0000 - val_loss: 2.6015 - val_accuracy: 0.9413\n",
      "Epoch 38/100\n",
      "17/17 [==============================] - 0s 17ms/step - loss: 2.5182 - accuracy: 1.0000 - val_loss: 2.5995 - val_accuracy: 0.9413\n",
      "Epoch 39/100\n",
      "17/17 [==============================] - 0s 16ms/step - loss: 2.5182 - accuracy: 1.0000 - val_loss: 2.5982 - val_accuracy: 0.9413\n",
      "Epoch 40/100\n",
      "17/17 [==============================] - 0s 17ms/step - loss: 2.5182 - accuracy: 1.0000 - val_loss: 2.5970 - val_accuracy: 0.9441\n",
      "Epoch 41/100\n",
      "17/17 [==============================] - 0s 17ms/step - loss: 2.5182 - accuracy: 1.0000 - val_loss: 2.5958 - val_accuracy: 0.9441\n",
      "Epoch 42/100\n",
      "17/17 [==============================] - 0s 16ms/step - loss: 2.5182 - accuracy: 1.0000 - val_loss: 2.5950 - val_accuracy: 0.9441\n",
      "Epoch 43/100\n",
      "17/17 [==============================] - 0s 16ms/step - loss: 2.5182 - accuracy: 1.0000 - val_loss: 2.5944 - val_accuracy: 0.9469\n",
      "Epoch 44/100\n",
      "17/17 [==============================] - 0s 18ms/step - loss: 2.5182 - accuracy: 1.0000 - val_loss: 2.5937 - val_accuracy: 0.9441\n",
      "Epoch 45/100\n",
      "17/17 [==============================] - 0s 17ms/step - loss: 2.5182 - accuracy: 1.0000 - val_loss: 2.5930 - val_accuracy: 0.9469\n",
      "Epoch 46/100\n",
      "17/17 [==============================] - 0s 17ms/step - loss: 2.5182 - accuracy: 1.0000 - val_loss: 2.5926 - val_accuracy: 0.9469\n",
      "Epoch 47/100\n",
      "17/17 [==============================] - 0s 18ms/step - loss: 2.5182 - accuracy: 1.0000 - val_loss: 2.5923 - val_accuracy: 0.9469\n",
      "Epoch 48/100\n",
      "17/17 [==============================] - 0s 16ms/step - loss: 2.5182 - accuracy: 1.0000 - val_loss: 2.5919 - val_accuracy: 0.9469\n",
      "Epoch 49/100\n",
      "17/17 [==============================] - 0s 17ms/step - loss: 2.5182 - accuracy: 1.0000 - val_loss: 2.5917 - val_accuracy: 0.9469\n",
      "Epoch 50/100\n",
      "17/17 [==============================] - 0s 18ms/step - loss: 2.5181 - accuracy: 1.0000 - val_loss: 2.5915 - val_accuracy: 0.9469\n",
      "Epoch 51/100\n",
      "17/17 [==============================] - 0s 16ms/step - loss: 2.5181 - accuracy: 1.0000 - val_loss: 2.5913 - val_accuracy: 0.9469\n",
      "Epoch 52/100\n",
      "17/17 [==============================] - 0s 17ms/step - loss: 2.5182 - accuracy: 1.0000 - val_loss: 2.5911 - val_accuracy: 0.9469\n",
      "Epoch 53/100\n",
      "17/17 [==============================] - 0s 17ms/step - loss: 2.5181 - accuracy: 1.0000 - val_loss: 2.5908 - val_accuracy: 0.9469\n",
      "Epoch 54/100\n",
      "17/17 [==============================] - 0s 17ms/step - loss: 2.5181 - accuracy: 1.0000 - val_loss: 2.5905 - val_accuracy: 0.9469\n",
      "Epoch 55/100\n",
      "17/17 [==============================] - 0s 16ms/step - loss: 2.5181 - accuracy: 1.0000 - val_loss: 2.5901 - val_accuracy: 0.9469\n",
      "Epoch 56/100\n",
      "17/17 [==============================] - 0s 16ms/step - loss: 2.5181 - accuracy: 1.0000 - val_loss: 2.5899 - val_accuracy: 0.9469\n",
      "Epoch 57/100\n",
      "17/17 [==============================] - 0s 16ms/step - loss: 2.5181 - accuracy: 1.0000 - val_loss: 2.5898 - val_accuracy: 0.9469\n",
      "Epoch 58/100\n",
      "17/17 [==============================] - 0s 16ms/step - loss: 2.5181 - accuracy: 1.0000 - val_loss: 2.5898 - val_accuracy: 0.9469\n",
      "Epoch 59/100\n",
      "17/17 [==============================] - 0s 16ms/step - loss: 2.5181 - accuracy: 1.0000 - val_loss: 2.5898 - val_accuracy: 0.9469\n",
      "Epoch 60/100\n",
      "17/17 [==============================] - 0s 16ms/step - loss: 2.5181 - accuracy: 1.0000 - val_loss: 2.5897 - val_accuracy: 0.9469\n",
      "Epoch 61/100\n",
      "17/17 [==============================] - 0s 16ms/step - loss: 2.5181 - accuracy: 1.0000 - val_loss: 2.5895 - val_accuracy: 0.9469\n",
      "Epoch 62/100\n",
      "17/17 [==============================] - 0s 16ms/step - loss: 2.5181 - accuracy: 1.0000 - val_loss: 2.5893 - val_accuracy: 0.9469\n",
      "Epoch 63/100\n",
      "17/17 [==============================] - 0s 17ms/step - loss: 2.5181 - accuracy: 1.0000 - val_loss: 2.5892 - val_accuracy: 0.9469\n",
      "Epoch 64/100\n",
      "17/17 [==============================] - 0s 16ms/step - loss: 2.5181 - accuracy: 1.0000 - val_loss: 2.5892 - val_accuracy: 0.9469\n",
      "Epoch 65/100\n",
      "17/17 [==============================] - 0s 16ms/step - loss: 2.5181 - accuracy: 1.0000 - val_loss: 2.5889 - val_accuracy: 0.9469\n",
      "Epoch 66/100\n",
      "17/17 [==============================] - 0s 16ms/step - loss: 2.5181 - accuracy: 1.0000 - val_loss: 2.5889 - val_accuracy: 0.9469\n",
      "Epoch 67/100\n",
      "17/17 [==============================] - 0s 16ms/step - loss: 2.5181 - accuracy: 1.0000 - val_loss: 2.5887 - val_accuracy: 0.9469\n",
      "Epoch 68/100\n",
      "17/17 [==============================] - 0s 16ms/step - loss: 2.5181 - accuracy: 1.0000 - val_loss: 2.5886 - val_accuracy: 0.9469\n",
      "Epoch 69/100\n",
      "17/17 [==============================] - 0s 17ms/step - loss: 2.5181 - accuracy: 1.0000 - val_loss: 2.5884 - val_accuracy: 0.9469\n",
      "Epoch 70/100\n",
      "17/17 [==============================] - 0s 16ms/step - loss: 2.5181 - accuracy: 1.0000 - val_loss: 2.5884 - val_accuracy: 0.9469\n",
      "Epoch 71/100\n",
      "17/17 [==============================] - 0s 16ms/step - loss: 2.5181 - accuracy: 1.0000 - val_loss: 2.5882 - val_accuracy: 0.9469\n",
      "Epoch 72/100\n",
      "17/17 [==============================] - 0s 16ms/step - loss: 2.5181 - accuracy: 1.0000 - val_loss: 2.5881 - val_accuracy: 0.9469\n",
      "Epoch 73/100\n",
      "17/17 [==============================] - 0s 16ms/step - loss: 2.5181 - accuracy: 1.0000 - val_loss: 2.5880 - val_accuracy: 0.9469\n",
      "Epoch 74/100\n",
      "17/17 [==============================] - 0s 16ms/step - loss: 2.5181 - accuracy: 1.0000 - val_loss: 2.5880 - val_accuracy: 0.9469\n",
      "Epoch 75/100\n",
      "17/17 [==============================] - 0s 16ms/step - loss: 2.5181 - accuracy: 1.0000 - val_loss: 2.5880 - val_accuracy: 0.9469\n",
      "Epoch 76/100\n",
      "17/17 [==============================] - 0s 16ms/step - loss: 2.5181 - accuracy: 1.0000 - val_loss: 2.5879 - val_accuracy: 0.9469\n",
      "Epoch 77/100\n",
      "17/17 [==============================] - 0s 16ms/step - loss: 2.5181 - accuracy: 1.0000 - val_loss: 2.5877 - val_accuracy: 0.9497\n",
      "Epoch 78/100\n",
      "17/17 [==============================] - 0s 16ms/step - loss: 2.5181 - accuracy: 1.0000 - val_loss: 2.5878 - val_accuracy: 0.9469\n",
      "Epoch 79/100\n",
      "17/17 [==============================] - 0s 17ms/step - loss: 2.5181 - accuracy: 1.0000 - val_loss: 2.5877 - val_accuracy: 0.9469\n",
      "Epoch 80/100\n",
      "17/17 [==============================] - 0s 16ms/step - loss: 2.5181 - accuracy: 1.0000 - val_loss: 2.5876 - val_accuracy: 0.9497\n",
      "Epoch 81/100\n",
      "17/17 [==============================] - 0s 16ms/step - loss: 2.5181 - accuracy: 1.0000 - val_loss: 2.5876 - val_accuracy: 0.9469\n",
      "Epoch 82/100\n",
      "17/17 [==============================] - 0s 16ms/step - loss: 2.5181 - accuracy: 1.0000 - val_loss: 2.5874 - val_accuracy: 0.9469\n",
      "Epoch 83/100\n",
      "17/17 [==============================] - 0s 16ms/step - loss: 2.5181 - accuracy: 1.0000 - val_loss: 2.5873 - val_accuracy: 0.9469\n",
      "Epoch 84/100\n",
      "17/17 [==============================] - 0s 16ms/step - loss: 2.5181 - accuracy: 1.0000 - val_loss: 2.5874 - val_accuracy: 0.9469\n",
      "Epoch 85/100\n",
      "17/17 [==============================] - 0s 16ms/step - loss: 2.5181 - accuracy: 1.0000 - val_loss: 2.5873 - val_accuracy: 0.9469\n",
      "Epoch 86/100\n",
      "17/17 [==============================] - 0s 16ms/step - loss: 2.5181 - accuracy: 1.0000 - val_loss: 2.5872 - val_accuracy: 0.9469\n",
      "Epoch 87/100\n",
      "17/17 [==============================] - 0s 16ms/step - loss: 2.5181 - accuracy: 1.0000 - val_loss: 2.5872 - val_accuracy: 0.9497\n",
      "Epoch 88/100\n",
      "17/17 [==============================] - 0s 16ms/step - loss: 2.5181 - accuracy: 1.0000 - val_loss: 2.5871 - val_accuracy: 0.9469\n",
      "Epoch 89/100\n",
      "17/17 [==============================] - 0s 16ms/step - loss: 2.5181 - accuracy: 1.0000 - val_loss: 2.5870 - val_accuracy: 0.9469\n",
      "Epoch 90/100\n",
      "17/17 [==============================] - 0s 18ms/step - loss: 2.5181 - accuracy: 1.0000 - val_loss: 2.5869 - val_accuracy: 0.9469\n",
      "Epoch 91/100\n",
      "17/17 [==============================] - 0s 16ms/step - loss: 2.5181 - accuracy: 1.0000 - val_loss: 2.5867 - val_accuracy: 0.9497\n",
      "Epoch 92/100\n",
      "17/17 [==============================] - 0s 16ms/step - loss: 2.5181 - accuracy: 1.0000 - val_loss: 2.5868 - val_accuracy: 0.9497\n",
      "Epoch 93/100\n",
      "17/17 [==============================] - 0s 16ms/step - loss: 2.5181 - accuracy: 1.0000 - val_loss: 2.5868 - val_accuracy: 0.9497\n",
      "Epoch 94/100\n",
      "17/17 [==============================] - 0s 16ms/step - loss: 2.5181 - accuracy: 1.0000 - val_loss: 2.5866 - val_accuracy: 0.9497\n",
      "Epoch 95/100\n",
      "17/17 [==============================] - 0s 16ms/step - loss: 2.5181 - accuracy: 1.0000 - val_loss: 2.5866 - val_accuracy: 0.9497\n",
      "Epoch 96/100\n",
      "17/17 [==============================] - 0s 16ms/step - loss: 2.5181 - accuracy: 1.0000 - val_loss: 2.5865 - val_accuracy: 0.9497\n",
      "Epoch 97/100\n",
      "17/17 [==============================] - 0s 16ms/step - loss: 2.5181 - accuracy: 1.0000 - val_loss: 2.5864 - val_accuracy: 0.9497\n",
      "Epoch 98/100\n",
      "17/17 [==============================] - 0s 17ms/step - loss: 2.5181 - accuracy: 1.0000 - val_loss: 2.5864 - val_accuracy: 0.9497\n",
      "Epoch 99/100\n",
      "17/17 [==============================] - 0s 17ms/step - loss: 2.5181 - accuracy: 1.0000 - val_loss: 2.5864 - val_accuracy: 0.9497\n",
      "Epoch 100/100\n",
      "17/17 [==============================] - 0s 16ms/step - loss: 2.5181 - accuracy: 1.0000 - val_loss: 2.5865 - val_accuracy: 0.9497\n"
     ]
    }
   ],
   "source": [
    "# Start TensorBoard.\n",
    "#%tensorboard --logdir logs/image\n",
    "\n",
    "history = model.fit(x=X_train, y=y_train, epochs=epochs, validation_data = (X_val, y_val), use_multiprocessing = True, batch_size=64, callbacks=[callback])"
   ]
  },
  {
   "cell_type": "code",
   "execution_count": 77,
   "metadata": {},
   "outputs": [
    {
     "data": {
      "text/plain": [
       "<matplotlib.legend.Legend at 0x1ef21a97d30>"
      ]
     },
     "execution_count": 77,
     "metadata": {},
     "output_type": "execute_result"
    },
    {
     "data": {
      "image/png": "[encoded data removed]",
      "text/plain": [
       "<Figure size 432x288 with 1 Axes>"
      ]
     },
     "metadata": {
      "needs_background": "light"
     },
     "output_type": "display_data"
    }
   ],
   "source": [
    "plt.figure()\n",
    "plt.plot([i for i in range(epochs)], history.history['val_accuracy'], label='Val Acc')\n",
    "plt.plot([i for i in range(epochs)], history.history['accuracy'], label='Training Acc')\n",
    "plt.xlabel('Epoch')\n",
    "plt.ylabel('Accuracy')\n",
    "plt.legend()"
   ]
  },
  {
   "cell_type": "code",
   "execution_count": 78,
   "metadata": {},
   "outputs": [
    {
     "data": {
      "text/plain": [
       "dict_keys(['loss', 'accuracy', 'val_loss', 'val_accuracy'])"
      ]
     },
     "execution_count": 78,
     "metadata": {},
     "output_type": "execute_result"
    }
   ],
   "source": [
    "history.history.keys()"
   ]
  },
  {
   "cell_type": "code",
   "execution_count": 79,
   "metadata": {},
   "outputs": [
    {
     "name": "stdout",
     "output_type": "stream",
     "text": [
      "15/15 [==============================] - 0s 4ms/step - loss: 2.6057 - accuracy: 0.9245\n"
     ]
    },
    {
     "data": {
      "text/plain": [
       "[2.6056745052337646, 0.9245283007621765]"
      ]
     },
     "execution_count": 79,
     "metadata": {},
     "output_type": "execute_result"
    }
   ],
   "source": [
    "model.evaluate(X_test, y_test)"
   ]
  },
  {
   "cell_type": "code",
   "execution_count": 80,
   "metadata": {},
   "outputs": [
    {
     "name": "stdout",
     "output_type": "stream",
     "text": [
      "WARNING:tensorflow:From C:\\Users\\suhas\\anaconda3\\lib\\site-packages\\tensorflow\\python\\training\\tracking\\tracking.py:111: Model.state_updates (from tensorflow.python.keras.engine.training) is deprecated and will be removed in a future version.\n",
      "Instructions for updating:\n",
      "This property should not be used in TensorFlow 2.0, as updates are applied automatically.\n",
      "WARNING:tensorflow:From C:\\Users\\suhas\\anaconda3\\lib\\site-packages\\tensorflow\\python\\training\\tracking\\tracking.py:111: Layer.updates (from tensorflow.python.keras.engine.base_layer) is deprecated and will be removed in a future version.\n",
      "Instructions for updating:\n",
      "This property should not be used in TensorFlow 2.0, as updates are applied automatically.\n",
      "INFO:tensorflow:Assets written to: C:/Users/suhas/Documents/College Projects/Leaf-Classification-Medicinal/model\\assets\n"
     ]
    }
   ],
   "source": [
    "tf.keras.models.save_model(model, 'C:/Users/suhas/Documents/College Projects/Leaf-Classification-Medicinal/model')"
   ]
  },
  {
   "cell_type": "code",
   "execution_count": 81,
   "metadata": {},
   "outputs": [
    {
     "data": {
      "text/plain": [
       "0.9497206807136536"
      ]
     },
     "execution_count": 81,
     "metadata": {},
     "output_type": "execute_result"
    }
   ],
   "source": [
    "max(history.history['val_accuracy'])"
   ]
  },
  {
   "cell_type": "markdown",
   "metadata": {},
   "source": [
    "## Confusion Matrix with Seaborn (On Test Data)"
   ]
  },
  {
   "cell_type": "code",
   "execution_count": 82,
   "metadata": {},
   "outputs": [],
   "source": [
    "pred = model.predict(X_test)"
   ]
  },
  {
   "cell_type": "code",
   "execution_count": 83,
   "metadata": {},
   "outputs": [],
   "source": [
    "conf = confusion_matrix(y_test, np.argmax(pred, axis = 1))"
   ]
  },
  {
   "cell_type": "code",
   "execution_count": 84,
   "metadata": {},
   "outputs": [
    {
     "data": {
      "text/plain": [
       "<AxesSubplot:>"
      ]
     },
     "execution_count": 84,
     "metadata": {},
     "output_type": "execute_result"
    },
    {
     "data": {
      "image/png": "[encoded data removed]",
      "text/plain": [
       "<Figure size 864x864 with 2 Axes>"
      ]
     },
     "metadata": {
      "needs_background": "light"
     },
     "output_type": "display_data"
    }
   ],
   "source": [
    "plt.figure(figsize=(12, 12))\n",
    "sns.heatmap(conf, annot=True)"
   ]
  },
  {
   "cell_type": "markdown",
   "metadata": {},
   "source": [
    "## Confusion Matrix (On Validation Data)"
   ]
  },
  {
   "cell_type": "code",
   "execution_count": 85,
   "metadata": {},
   "outputs": [],
   "source": [
    "vald = model.predict(X_val)\n"
   ]
  },
  {
   "cell_type": "code",
   "execution_count": 86,
   "metadata": {},
   "outputs": [],
   "source": [
    "conf_val = confusion_matrix(y_val, np.argmax(vald, axis = 1))"
   ]
  },
  {
   "cell_type": "code",
   "execution_count": 87,
   "metadata": {},
   "outputs": [
    {
     "data": {
      "text/plain": [
       "<AxesSubplot:>"
      ]
     },
     "execution_count": 87,
     "metadata": {},
     "output_type": "execute_result"
    },
    {
     "data": {
      "image/png": "[encoded data removed]",
      "text/plain": [
       "<Figure size 864x864 with 2 Axes>"
      ]
     },
     "metadata": {
      "needs_background": "light"
     },
     "output_type": "display_data"
    }
   ],
   "source": [
    "plt.figure(figsize=(12, 12))\n",
    "sns.heatmap(conf_val, annot=True)"
   ]
  },
  {
   "cell_type": "code",
   "execution_count": null,
   "metadata": {},
   "outputs": [],
   "source": []
  }
 ],
 "metadata": {
  "kernelspec": {
   "display_name": "Python 3",
   "language": "python",
   "name": "python3"
  },
  "language_info": {
   "codemirror_mode": {
    "name": "ipython",
    "version": 3
   },
   "file_extension": ".py",
   "mimetype": "text/x-python",
   "name": "python",
   "nbconvert_exporter": "python",
   "pygments_lexer": "ipython3",
   "version": "3.8.5"
  }
 },
 "nbformat": 4,
 "nbformat_minor": 4
}
