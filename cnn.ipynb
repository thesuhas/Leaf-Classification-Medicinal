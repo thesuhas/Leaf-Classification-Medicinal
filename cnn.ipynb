{
 "cells": [
  {
   "cell_type": "code",
   "execution_count": 1,
   "metadata": {},
   "outputs": [],
   "source": [
    "import pandas as pd\n",
    "import numpy as np\n",
    "import cv2\n",
    "import tensorflow as tf\n",
    "from tensorflow import keras\n",
    "from tensorflow.keras import layers\n",
    "from tensorflow.keras.models import Sequential\n",
    "import matplotlib.pyplot as plt\n",
    "from matplotlib.pyplot import imshow\n",
    "from sklearn.model_selection import train_test_split\n",
    "from datetime import datetime\n",
    "import os\n",
    "import itertools\n",
    "import io\n",
    "import sklearn\n",
    "from sklearn.metrics import confusion_matrix, classification_report\n",
    "# Load the TensorBoard notebook extension.\n",
    "%load_ext tensorboard\n",
    "import seaborn as sns"
   ]
  },
  {
   "cell_type": "code",
   "execution_count": 2,
   "metadata": {},
   "outputs": [],
   "source": [
    "os.environ['TF_FORCE_GPU_ALLOW_GROWTH'] = 'true'"
   ]
  },
  {
   "cell_type": "code",
   "execution_count": 3,
   "metadata": {},
   "outputs": [
    {
     "data": {
      "text/plain": [
       "'2.4.0'"
      ]
     },
     "execution_count": 3,
     "metadata": {},
     "output_type": "execute_result"
    }
   ],
   "source": [
    "keras.__version__"
   ]
  },
  {
   "cell_type": "code",
   "execution_count": 4,
   "metadata": {},
   "outputs": [],
   "source": [
    "path = \"C:/Users/suhas/Documents/Mini Project/Leaves/\"\n",
    "test = \"C:/Users/suhas/Documents/Mini Project/Leaves/Test\""
   ]
  },
  {
   "cell_type": "code",
   "execution_count": 5,
   "metadata": {},
   "outputs": [
    {
     "name": "stdout",
     "output_type": "stream",
     "text": [
      "/device:GPU:0\n"
     ]
    }
   ],
   "source": [
    "print(tf.test.gpu_device_name())"
   ]
  },
  {
   "cell_type": "code",
   "execution_count": 6,
   "metadata": {},
   "outputs": [],
   "source": [
    "IMAGE_SIZE = 100\n",
    "num_classes = 47 #changed from 32\n",
    "epochs = 100\n",
    "initializer = 'he_normal'"
   ]
  },
  {
   "cell_type": "code",
   "execution_count": 7,
   "metadata": {},
   "outputs": [],
   "source": [
    "def label(img_name):\n",
    "    num = img_name.split('_')[1]\n",
    "    #print(num)\n",
    "    if num == 'pubescent bamboo':\n",
    "        return 0 \n",
    "    elif num == 'chinese horse chestnut':\n",
    "        return 1 \n",
    "    elif num == 'anhui barberry':\n",
    "        return 2 \n",
    "    elif num == 'chinese redbud':\n",
    "        return 3\n",
    "    elif num == 'true indigo':\n",
    "        return 4\n",
    "    elif num == 'japanese maple':\n",
    "        return 5 \n",
    "    elif num == 'nanmu':\n",
    "        return 6 \n",
    "    elif num == 'castor aralia':\n",
    "        return 7 \n",
    "    elif num == 'chinese cinnamon':\n",
    "        return 8 \n",
    "    elif num == 'goldenrain tree':\n",
    "        return 9 \n",
    "    elif num == 'big fruited holly':\n",
    "        return 10 \n",
    "    elif num == 'japanese chestwood':\n",
    "        return 11 \n",
    "    elif num == 'wintersweet':\n",
    "        return 12 \n",
    "    elif num == 'camphor tree':\n",
    "        return 13\n",
    "    elif num == 'japan arrowwood':\n",
    "        return 14\n",
    "    elif num == 'sweet osmanthus':\n",
    "        return 15\n",
    "    elif num == 'deodar':\n",
    "        return 16\n",
    "    elif num == 'ginkgo':\n",
    "        return 17 \n",
    "    elif num == 'crape myrtle':\n",
    "        return 18 \n",
    "    elif num == 'oleandar':\n",
    "        return 19\n",
    "    elif num == 'yew plum pie':\n",
    "        return 20\n",
    "    elif num == 'japanese flowering cherry':\n",
    "        return 21 \n",
    "    elif num == 'glossy privet':\n",
    "        return 22\n",
    "    elif num == 'chinese toon':\n",
    "        return 23\n",
    "    elif num == 'peach':\n",
    "        return 24\n",
    "    elif num == 'ford woodlotus':\n",
    "        return 25\n",
    "    elif num == 'trident maple':\n",
    "        return 26\n",
    "    elif num == 'beales barberry':\n",
    "        return 27\n",
    "    elif num == 'southern magnolia':\n",
    "        return 28\n",
    "    elif num == 'canadian poplar':\n",
    "        return 29\n",
    "    elif num == 'chinese tulip tree':\n",
    "        return 30\n",
    "    elif num == 'tangerine':\n",
    "        return 31\n",
    "    elif num == 'ulmus carpinifolia':\n",
    "        return 32 \n",
    "    elif num == 'acer':\n",
    "        return 33\n",
    "    elif num == 'salix aurita':\n",
    "        return 34\n",
    "    elif num == 'quercus':\n",
    "        return 35 \n",
    "    elif num == 'alnus incana':\n",
    "        return 36 \n",
    "    elif num == 'betula pubescens':\n",
    "        return 37 \n",
    "    elif num == 'salix alba sericea':\n",
    "        return 38 \n",
    "    elif num == 'populus tremula':\n",
    "        return 39 \n",
    "    elif num == 'ulmus glabra':\n",
    "        return 40 \n",
    "    elif num == 'sorbus aucuparia':\n",
    "        return 41 \n",
    "    elif num == 'salix sinerea':\n",
    "        return 42 \n",
    "    elif num == 'populus':\n",
    "        return 43\n",
    "    elif num == 'tilia':\n",
    "        return 44\n",
    "    elif num == 'sorbus intermedia':\n",
    "        return 45\n",
    "    elif num == 'fagus silvatica':\n",
    "        return 46"
   ]
  },
  {
   "cell_type": "markdown",
   "metadata": {},
   "source": [
    "# Creating Dataset"
   ]
  },
  {
   "cell_type": "code",
   "execution_count": 8,
   "metadata": {},
   "outputs": [],
   "source": [
    "def create_dataset(path):\n",
    "    data = []\n",
    "    for folder in os.scandir(path):\n",
    "        if \"leaf\" in str(folder):\n",
    "            for image in os.scandir(os.path.join(path, folder)):\n",
    "                leaf = label(folder.name)\n",
    "                if (leaf == None):\n",
    "                    print(folder.name)\n",
    "                    break\n",
    "                img = cv2.imread(os.path.join(path, folder, image))\n",
    "\n",
    "                # Basic processing\n",
    "                '''imgGray = cv2.cvtColor(img, cv2.COLOR_BGR2GRAY)\n",
    "\n",
    "                imgBlur = cv2.GaussianBlur(imgGray, (3, 3), 0)\n",
    "                thresh, imgBW = cv2.threshold(imgBlur, 128, 255, cv2.THRESH_BINARY | cv2.THRESH_OTSU)\n",
    "                imgInv = cv2.bitwise_not(imgBW)\n",
    "                kernel = np.ones((50, 50))\n",
    "                imgClosed = cv2.morphologyEx(imgInv, cv2.MORPH_CLOSE, kernel)'''\n",
    "\n",
    "                # Resize\n",
    "                new = cv2.resize(img, (IMAGE_SIZE, IMAGE_SIZE))\n",
    "                #Adding third dimension to shape\n",
    "                data.append([new, leaf])\n",
    "                #plt.figure()\n",
    "                #plt.imshow(new)\n",
    "                #print(leaf, image)\n",
    "    return data"
   ]
  },
  {
   "cell_type": "code",
   "execution_count": 9,
   "metadata": {},
   "outputs": [],
   "source": [
    "data = create_dataset(path)"
   ]
  },
  {
   "cell_type": "code",
   "execution_count": 10,
   "metadata": {},
   "outputs": [
    {
     "data": {
      "text/plain": [
       "3032"
      ]
     },
     "execution_count": 10,
     "metadata": {},
     "output_type": "execute_result"
    }
   ],
   "source": [
    "X = np.array([d[0] for d in data])\n",
    "len(X)"
   ]
  },
  {
   "cell_type": "code",
   "execution_count": 11,
   "metadata": {},
   "outputs": [
    {
     "data": {
      "text/plain": [
       "(3032, 100, 100, 3)"
      ]
     },
     "execution_count": 11,
     "metadata": {},
     "output_type": "execute_result"
    }
   ],
   "source": [
    "X = np.divide(X, 255)\n",
    "len(X)\n",
    "X.shape"
   ]
  },
  {
   "cell_type": "code",
   "execution_count": 12,
   "metadata": {},
   "outputs": [
    {
     "data": {
      "text/plain": [
       "3032"
      ]
     },
     "execution_count": 12,
     "metadata": {},
     "output_type": "execute_result"
    }
   ],
   "source": [
    "y = np.array([d[1] for d in data])\n",
    "len(y)"
   ]
  },
  {
   "cell_type": "code",
   "execution_count": 13,
   "metadata": {},
   "outputs": [],
   "source": [
    "X_train, X_test, y_train, y_test = train_test_split(X, y, random_state = 1, stratify=y)\n",
    "X_train, X_val, y_train, y_val = train_test_split(X_train, y_train, random_state = 1, stratify=y_train)"
   ]
  },
  {
   "cell_type": "code",
   "execution_count": 14,
   "metadata": {},
   "outputs": [
    {
     "data": {
      "text/plain": [
       "[0,\n",
       " 1,\n",
       " 2,\n",
       " 3,\n",
       " 4,\n",
       " 5,\n",
       " 6,\n",
       " 7,\n",
       " 8,\n",
       " 9,\n",
       " 10,\n",
       " 11,\n",
       " 12,\n",
       " 13,\n",
       " 14,\n",
       " 15,\n",
       " 16,\n",
       " 17,\n",
       " 18,\n",
       " 19,\n",
       " 20,\n",
       " 21,\n",
       " 22,\n",
       " 23,\n",
       " 24,\n",
       " 25,\n",
       " 26,\n",
       " 27,\n",
       " 28,\n",
       " 29,\n",
       " 30,\n",
       " 31,\n",
       " 32,\n",
       " 33,\n",
       " 34,\n",
       " 35,\n",
       " 36,\n",
       " 37,\n",
       " 38,\n",
       " 39,\n",
       " 40,\n",
       " 41,\n",
       " 42,\n",
       " 43,\n",
       " 44,\n",
       " 45,\n",
       " 46]"
      ]
     },
     "execution_count": 14,
     "metadata": {},
     "output_type": "execute_result"
    }
   ],
   "source": [
    "class_names = list(range(47)) #changed from 32\n",
    "class_names"
   ]
  },
  {
   "cell_type": "markdown",
   "metadata": {},
   "source": [
    "# CNN"
   ]
  },
  {
   "cell_type": "code",
   "execution_count": 15,
   "metadata": {},
   "outputs": [],
   "source": [
    "model = Sequential([\n",
    "    layers.InputLayer(input_shape=(IMAGE_SIZE, IMAGE_SIZE, 3)),\n",
    "    layers.Conv2D(16, 3, padding='same', activation='relu', kernel_initializer=initializer),\n",
    "    layers.MaxPool2D(),\n",
    "    layers.BatchNormalization(),\n",
    "    # Dropout layer for regularisation\n",
    "    #layers.Dropout(rate=0.5),\n",
    "    layers.Conv2D(32, 3, padding='same', activation='relu', kernel_initializer=initializer),\n",
    "    layers.MaxPool2D(),\n",
    "    layers.BatchNormalization(),\n",
    "    # Dropout layer for regularisation\n",
    "    #layers.Dropout(rate=0.5),\n",
    "    layers.Conv2D(64, 5, padding='valid', activation='relu', kernel_initializer=initializer),\n",
    "    layers.MaxPool2D(),\n",
    "    layers.BatchNormalization(),\n",
    "    # Dropout layer for regularisation\n",
    "    #layers.Dropout(rate=0.5),\n",
    "    # Flattening output to connect to Densely Connected Layers\n",
    "    layers.Flatten(),\n",
    "    layers.Dense(128, activation='relu', kernel_initializer=initializer),\n",
    "    layers.BatchNormalization(),\n",
    "    layers.Dense(num_classes, activation='softmax', kernel_initializer=initializer)\n",
    "])"
   ]
  },
  {
   "cell_type": "code",
   "execution_count": 16,
   "metadata": {},
   "outputs": [],
   "source": [
    "model.compile(optimizer='adam', loss=tf.keras.losses.SparseCategoricalCrossentropy(from_logits=False), metrics=['accuracy'])"
   ]
  },
  {
   "cell_type": "code",
   "execution_count": 17,
   "metadata": {},
   "outputs": [
    {
     "data": {
      "text/plain": [
       "(1705, 100, 100, 3)"
      ]
     },
     "execution_count": 17,
     "metadata": {},
     "output_type": "execute_result"
    }
   ],
   "source": [
    "X_train.shape"
   ]
  },
  {
   "cell_type": "code",
   "execution_count": 18,
   "metadata": {},
   "outputs": [
    {
     "name": "stdout",
     "output_type": "stream",
     "text": [
      "Model: \"sequential\"\n",
      "_________________________________________________________________\n",
      "Layer (type)                 Output Shape              Param #   \n",
      "=================================================================\n",
      "conv2d (Conv2D)              (None, 100, 100, 16)      448       \n",
      "_________________________________________________________________\n",
      "max_pooling2d (MaxPooling2D) (None, 50, 50, 16)        0         \n",
      "_________________________________________________________________\n",
      "batch_normalization (BatchNo (None, 50, 50, 16)        64        \n",
      "_________________________________________________________________\n",
      "conv2d_1 (Conv2D)            (None, 50, 50, 32)        4640      \n",
      "_________________________________________________________________\n",
      "max_pooling2d_1 (MaxPooling2 (None, 25, 25, 32)        0         \n",
      "_________________________________________________________________\n",
      "batch_normalization_1 (Batch (None, 25, 25, 32)        128       \n",
      "_________________________________________________________________\n",
      "conv2d_2 (Conv2D)            (None, 21, 21, 64)        51264     \n",
      "_________________________________________________________________\n",
      "max_pooling2d_2 (MaxPooling2 (None, 10, 10, 64)        0         \n",
      "_________________________________________________________________\n",
      "batch_normalization_2 (Batch (None, 10, 10, 64)        256       \n",
      "_________________________________________________________________\n",
      "flatten (Flatten)            (None, 6400)              0         \n",
      "_________________________________________________________________\n",
      "dense (Dense)                (None, 128)               819328    \n",
      "_________________________________________________________________\n",
      "batch_normalization_3 (Batch (None, 128)               512       \n",
      "_________________________________________________________________\n",
      "dense_1 (Dense)              (None, 47)                6063      \n",
      "=================================================================\n",
      "Total params: 882,703\n",
      "Trainable params: 882,223\n",
      "Non-trainable params: 480\n",
      "_________________________________________________________________\n"
     ]
    }
   ],
   "source": [
    "model.summary()"
   ]
  },
  {
   "cell_type": "code",
   "execution_count": 19,
   "metadata": {},
   "outputs": [],
   "source": [
    "callback = tf.keras.callbacks.EarlyStopping(monitor='loss', patience=20)"
   ]
  },
  {
   "cell_type": "code",
   "execution_count": 20,
   "metadata": {},
   "outputs": [
    {
     "name": "stdout",
     "output_type": "stream",
     "text": [
      "Epoch 1/100\n",
      "27/27 [==============================] - 1s 35ms/step - loss: 1.5556 - accuracy: 0.6287 - val_loss: 3.8453 - val_accuracy: 0.0826\n",
      "Epoch 2/100\n",
      "27/27 [==============================] - 1s 19ms/step - loss: 0.4267 - accuracy: 0.9109 - val_loss: 2.6563 - val_accuracy: 0.2707\n",
      "Epoch 3/100\n",
      "27/27 [==============================] - 1s 19ms/step - loss: 0.1775 - accuracy: 0.9736 - val_loss: 2.5614 - val_accuracy: 0.2988\n",
      "Epoch 4/100\n",
      "27/27 [==============================] - 1s 19ms/step - loss: 0.0641 - accuracy: 0.9965 - val_loss: 2.3088 - val_accuracy: 0.3550\n",
      "Epoch 5/100\n",
      "27/27 [==============================] - 1s 20ms/step - loss: 0.0329 - accuracy: 0.9988 - val_loss: 1.9977 - val_accuracy: 0.4798\n",
      "Epoch 6/100\n",
      "27/27 [==============================] - 1s 19ms/step - loss: 0.0173 - accuracy: 1.0000 - val_loss: 1.8635 - val_accuracy: 0.5044\n",
      "Epoch 7/100\n",
      "27/27 [==============================] - 1s 20ms/step - loss: 0.0108 - accuracy: 1.0000 - val_loss: 1.5452 - val_accuracy: 0.6274\n",
      "Epoch 8/100\n",
      "27/27 [==============================] - 1s 19ms/step - loss: 0.0084 - accuracy: 1.0000 - val_loss: 1.3228 - val_accuracy: 0.6907\n",
      "Epoch 9/100\n",
      "27/27 [==============================] - 1s 19ms/step - loss: 0.0062 - accuracy: 1.0000 - val_loss: 1.1099 - val_accuracy: 0.7311\n",
      "Epoch 10/100\n",
      "27/27 [==============================] - 1s 19ms/step - loss: 0.0052 - accuracy: 1.0000 - val_loss: 0.9596 - val_accuracy: 0.7540\n",
      "Epoch 11/100\n",
      "27/27 [==============================] - 1s 19ms/step - loss: 0.0042 - accuracy: 1.0000 - val_loss: 0.7691 - val_accuracy: 0.7996\n",
      "Epoch 12/100\n",
      "27/27 [==============================] - 1s 19ms/step - loss: 0.0038 - accuracy: 1.0000 - val_loss: 0.6462 - val_accuracy: 0.8330\n",
      "Epoch 13/100\n",
      "27/27 [==============================] - 1s 19ms/step - loss: 0.0035 - accuracy: 1.0000 - val_loss: 0.5758 - val_accuracy: 0.8401\n",
      "Epoch 14/100\n",
      "27/27 [==============================] - 1s 19ms/step - loss: 0.0031 - accuracy: 1.0000 - val_loss: 0.4781 - val_accuracy: 0.8717\n",
      "Epoch 15/100\n",
      "27/27 [==============================] - 1s 19ms/step - loss: 0.0028 - accuracy: 1.0000 - val_loss: 0.4365 - val_accuracy: 0.8858\n",
      "Epoch 16/100\n",
      "27/27 [==============================] - 1s 19ms/step - loss: 0.0025 - accuracy: 1.0000 - val_loss: 0.4043 - val_accuracy: 0.8946\n",
      "Epoch 17/100\n",
      "27/27 [==============================] - 1s 19ms/step - loss: 0.0024 - accuracy: 1.0000 - val_loss: 0.3718 - val_accuracy: 0.8981\n",
      "Epoch 18/100\n",
      "27/27 [==============================] - 1s 19ms/step - loss: 0.0021 - accuracy: 1.0000 - val_loss: 0.3446 - val_accuracy: 0.9016\n",
      "Epoch 19/100\n",
      "27/27 [==============================] - 1s 19ms/step - loss: 0.0018 - accuracy: 1.0000 - val_loss: 0.3401 - val_accuracy: 0.8998\n",
      "Epoch 20/100\n",
      "27/27 [==============================] - 1s 19ms/step - loss: 0.0018 - accuracy: 1.0000 - val_loss: 0.3259 - val_accuracy: 0.9069\n",
      "Epoch 21/100\n",
      "27/27 [==============================] - 1s 19ms/step - loss: 0.0016 - accuracy: 1.0000 - val_loss: 0.3150 - val_accuracy: 0.9121\n",
      "Epoch 22/100\n",
      "27/27 [==============================] - 1s 19ms/step - loss: 0.0015 - accuracy: 1.0000 - val_loss: 0.3086 - val_accuracy: 0.9104\n",
      "Epoch 23/100\n",
      "27/27 [==============================] - 1s 19ms/step - loss: 0.0015 - accuracy: 1.0000 - val_loss: 0.3025 - val_accuracy: 0.9139\n",
      "Epoch 24/100\n",
      "27/27 [==============================] - 1s 19ms/step - loss: 0.0013 - accuracy: 1.0000 - val_loss: 0.2961 - val_accuracy: 0.9086\n",
      "Epoch 25/100\n",
      "27/27 [==============================] - 1s 20ms/step - loss: 0.0013 - accuracy: 1.0000 - val_loss: 0.2925 - val_accuracy: 0.9174\n",
      "Epoch 26/100\n",
      "27/27 [==============================] - 1s 19ms/step - loss: 0.0011 - accuracy: 1.0000 - val_loss: 0.2846 - val_accuracy: 0.9192\n",
      "Epoch 27/100\n",
      "27/27 [==============================] - 1s 19ms/step - loss: 0.0011 - accuracy: 1.0000 - val_loss: 0.2879 - val_accuracy: 0.9192\n",
      "Epoch 28/100\n",
      "27/27 [==============================] - 1s 20ms/step - loss: 0.0010 - accuracy: 1.0000 - val_loss: 0.2841 - val_accuracy: 0.9192\n",
      "Epoch 29/100\n",
      "27/27 [==============================] - 1s 19ms/step - loss: 9.4968e-04 - accuracy: 1.0000 - val_loss: 0.2834 - val_accuracy: 0.9139\n",
      "Epoch 30/100\n",
      "27/27 [==============================] - 1s 19ms/step - loss: 9.1893e-04 - accuracy: 1.0000 - val_loss: 0.2831 - val_accuracy: 0.9174\n",
      "Epoch 31/100\n",
      "27/27 [==============================] - 1s 20ms/step - loss: 9.1071e-04 - accuracy: 1.0000 - val_loss: 0.2819 - val_accuracy: 0.9121\n",
      "Epoch 32/100\n",
      "27/27 [==============================] - 1s 19ms/step - loss: 8.1111e-04 - accuracy: 1.0000 - val_loss: 0.2796 - val_accuracy: 0.9139\n",
      "Epoch 33/100\n",
      "27/27 [==============================] - 1s 19ms/step - loss: 7.9570e-04 - accuracy: 1.0000 - val_loss: 0.2801 - val_accuracy: 0.9156\n",
      "Epoch 34/100\n",
      "27/27 [==============================] - 1s 19ms/step - loss: 7.4459e-04 - accuracy: 1.0000 - val_loss: 0.2822 - val_accuracy: 0.9156\n",
      "Epoch 35/100\n",
      "27/27 [==============================] - 1s 20ms/step - loss: 7.2334e-04 - accuracy: 1.0000 - val_loss: 0.2813 - val_accuracy: 0.9156\n",
      "Epoch 36/100\n",
      "27/27 [==============================] - 1s 19ms/step - loss: 6.5774e-04 - accuracy: 1.0000 - val_loss: 0.2806 - val_accuracy: 0.9139\n",
      "Epoch 37/100\n",
      "27/27 [==============================] - 1s 19ms/step - loss: 6.4239e-04 - accuracy: 1.0000 - val_loss: 0.2807 - val_accuracy: 0.9156\n",
      "Epoch 38/100\n",
      "27/27 [==============================] - 1s 20ms/step - loss: 6.5402e-04 - accuracy: 1.0000 - val_loss: 0.2814 - val_accuracy: 0.9174\n",
      "Epoch 39/100\n",
      "27/27 [==============================] - 1s 19ms/step - loss: 5.7814e-04 - accuracy: 1.0000 - val_loss: 0.2787 - val_accuracy: 0.9192\n",
      "Epoch 40/100\n",
      "27/27 [==============================] - 1s 20ms/step - loss: 5.5526e-04 - accuracy: 1.0000 - val_loss: 0.2772 - val_accuracy: 0.9139\n",
      "Epoch 41/100\n",
      "27/27 [==============================] - 1s 19ms/step - loss: 5.4822e-04 - accuracy: 1.0000 - val_loss: 0.2799 - val_accuracy: 0.9139\n",
      "Epoch 42/100\n",
      "27/27 [==============================] - 1s 19ms/step - loss: 5.4120e-04 - accuracy: 1.0000 - val_loss: 0.2798 - val_accuracy: 0.9174\n",
      "Epoch 43/100\n",
      "27/27 [==============================] - 1s 19ms/step - loss: 4.9803e-04 - accuracy: 1.0000 - val_loss: 0.2777 - val_accuracy: 0.9156\n",
      "Epoch 44/100\n",
      "27/27 [==============================] - 1s 21ms/step - loss: 4.7964e-04 - accuracy: 1.0000 - val_loss: 0.2784 - val_accuracy: 0.9174\n",
      "Epoch 45/100\n",
      "27/27 [==============================] - 1s 20ms/step - loss: 4.6173e-04 - accuracy: 1.0000 - val_loss: 0.2791 - val_accuracy: 0.9174\n",
      "Epoch 46/100\n",
      "27/27 [==============================] - 1s 19ms/step - loss: 4.6374e-04 - accuracy: 1.0000 - val_loss: 0.2793 - val_accuracy: 0.9156\n",
      "Epoch 47/100\n",
      "27/27 [==============================] - 1s 21ms/step - loss: 4.3375e-04 - accuracy: 1.0000 - val_loss: 0.2769 - val_accuracy: 0.9192\n",
      "Epoch 48/100\n",
      "27/27 [==============================] - 1s 20ms/step - loss: 4.1019e-04 - accuracy: 1.0000 - val_loss: 0.2789 - val_accuracy: 0.9156\n",
      "Epoch 49/100\n",
      "27/27 [==============================] - 1s 20ms/step - loss: 4.1483e-04 - accuracy: 1.0000 - val_loss: 0.2791 - val_accuracy: 0.9139\n",
      "Epoch 50/100\n",
      "27/27 [==============================] - 1s 19ms/step - loss: 3.8613e-04 - accuracy: 1.0000 - val_loss: 0.2779 - val_accuracy: 0.9174\n",
      "Epoch 51/100\n",
      "27/27 [==============================] - 1s 19ms/step - loss: 3.8473e-04 - accuracy: 1.0000 - val_loss: 0.2793 - val_accuracy: 0.9192\n",
      "Epoch 52/100\n",
      "27/27 [==============================] - 1s 20ms/step - loss: 3.5067e-04 - accuracy: 1.0000 - val_loss: 0.2789 - val_accuracy: 0.9209\n",
      "Epoch 53/100\n",
      "27/27 [==============================] - 1s 20ms/step - loss: 3.4841e-04 - accuracy: 1.0000 - val_loss: 0.2758 - val_accuracy: 0.9192\n",
      "Epoch 54/100\n",
      "27/27 [==============================] - 1s 19ms/step - loss: 3.4070e-04 - accuracy: 1.0000 - val_loss: 0.2776 - val_accuracy: 0.9174\n",
      "Epoch 55/100\n",
      "27/27 [==============================] - 1s 20ms/step - loss: 3.2698e-04 - accuracy: 1.0000 - val_loss: 0.2777 - val_accuracy: 0.9209\n",
      "Epoch 56/100\n",
      "27/27 [==============================] - 1s 19ms/step - loss: 3.1143e-04 - accuracy: 1.0000 - val_loss: 0.2773 - val_accuracy: 0.9209\n",
      "Epoch 57/100\n",
      "27/27 [==============================] - 1s 19ms/step - loss: 3.2087e-04 - accuracy: 1.0000 - val_loss: 0.2762 - val_accuracy: 0.9227\n",
      "Epoch 58/100\n",
      "27/27 [==============================] - 1s 20ms/step - loss: 3.0573e-04 - accuracy: 1.0000 - val_loss: 0.2785 - val_accuracy: 0.9192\n",
      "Epoch 59/100\n",
      "27/27 [==============================] - 1s 19ms/step - loss: 2.9033e-04 - accuracy: 1.0000 - val_loss: 0.2773 - val_accuracy: 0.9174\n",
      "Epoch 60/100\n",
      "27/27 [==============================] - 1s 19ms/step - loss: 2.8475e-04 - accuracy: 1.0000 - val_loss: 0.2777 - val_accuracy: 0.9192\n",
      "Epoch 61/100\n",
      "27/27 [==============================] - 1s 19ms/step - loss: 2.7858e-04 - accuracy: 1.0000 - val_loss: 0.2759 - val_accuracy: 0.9192\n",
      "Epoch 62/100\n",
      "27/27 [==============================] - 1s 19ms/step - loss: 2.5352e-04 - accuracy: 1.0000 - val_loss: 0.2762 - val_accuracy: 0.9209\n",
      "Epoch 63/100\n",
      "27/27 [==============================] - 1s 19ms/step - loss: 2.4425e-04 - accuracy: 1.0000 - val_loss: 0.2774 - val_accuracy: 0.9156\n",
      "Epoch 64/100\n",
      "27/27 [==============================] - 1s 19ms/step - loss: 2.6928e-04 - accuracy: 1.0000 - val_loss: 0.2759 - val_accuracy: 0.9192\n",
      "Epoch 65/100\n",
      "27/27 [==============================] - 1s 19ms/step - loss: 2.3986e-04 - accuracy: 1.0000 - val_loss: 0.2766 - val_accuracy: 0.9174\n",
      "Epoch 66/100\n",
      "27/27 [==============================] - 1s 19ms/step - loss: 2.3786e-04 - accuracy: 1.0000 - val_loss: 0.2772 - val_accuracy: 0.9174\n",
      "Epoch 67/100\n",
      "27/27 [==============================] - 1s 19ms/step - loss: 2.2680e-04 - accuracy: 1.0000 - val_loss: 0.2758 - val_accuracy: 0.9192\n",
      "Epoch 68/100\n",
      "27/27 [==============================] - 1s 20ms/step - loss: 2.1465e-04 - accuracy: 1.0000 - val_loss: 0.2746 - val_accuracy: 0.9174\n",
      "Epoch 69/100\n",
      "27/27 [==============================] - 1s 20ms/step - loss: 2.1551e-04 - accuracy: 1.0000 - val_loss: 0.2776 - val_accuracy: 0.9174\n",
      "Epoch 70/100\n",
      "27/27 [==============================] - 1s 19ms/step - loss: 2.1481e-04 - accuracy: 1.0000 - val_loss: 0.2766 - val_accuracy: 0.9174\n",
      "Epoch 71/100\n",
      "27/27 [==============================] - 1s 20ms/step - loss: 2.0513e-04 - accuracy: 1.0000 - val_loss: 0.2778 - val_accuracy: 0.9174\n",
      "Epoch 72/100\n",
      "27/27 [==============================] - 1s 19ms/step - loss: 2.0355e-04 - accuracy: 1.0000 - val_loss: 0.2781 - val_accuracy: 0.9156\n",
      "Epoch 73/100\n",
      "27/27 [==============================] - 1s 19ms/step - loss: 2.0650e-04 - accuracy: 1.0000 - val_loss: 0.2787 - val_accuracy: 0.9156\n",
      "Epoch 74/100\n",
      "27/27 [==============================] - 1s 21ms/step - loss: 1.8650e-04 - accuracy: 1.0000 - val_loss: 0.2769 - val_accuracy: 0.9192\n",
      "Epoch 75/100\n",
      "27/27 [==============================] - 1s 21ms/step - loss: 1.8026e-04 - accuracy: 1.0000 - val_loss: 0.2783 - val_accuracy: 0.9192\n",
      "Epoch 76/100\n",
      "27/27 [==============================] - 1s 19ms/step - loss: 1.8217e-04 - accuracy: 1.0000 - val_loss: 0.2771 - val_accuracy: 0.9209\n",
      "Epoch 77/100\n",
      "27/27 [==============================] - 1s 19ms/step - loss: 1.7894e-04 - accuracy: 1.0000 - val_loss: 0.2768 - val_accuracy: 0.9192\n",
      "Epoch 78/100\n",
      "27/27 [==============================] - 1s 20ms/step - loss: 1.7556e-04 - accuracy: 1.0000 - val_loss: 0.2750 - val_accuracy: 0.9192\n",
      "Epoch 79/100\n",
      "27/27 [==============================] - 1s 20ms/step - loss: 1.6824e-04 - accuracy: 1.0000 - val_loss: 0.2759 - val_accuracy: 0.9227\n",
      "Epoch 80/100\n",
      "27/27 [==============================] - 1s 19ms/step - loss: 1.6241e-04 - accuracy: 1.0000 - val_loss: 0.2764 - val_accuracy: 0.9209\n",
      "Epoch 81/100\n",
      "27/27 [==============================] - 1s 19ms/step - loss: 1.6365e-04 - accuracy: 1.0000 - val_loss: 0.2769 - val_accuracy: 0.9192\n",
      "Epoch 82/100\n",
      "27/27 [==============================] - 1s 20ms/step - loss: 1.6130e-04 - accuracy: 1.0000 - val_loss: 0.2773 - val_accuracy: 0.9209\n",
      "Epoch 83/100\n",
      "27/27 [==============================] - 1s 20ms/step - loss: 1.4436e-04 - accuracy: 1.0000 - val_loss: 0.2762 - val_accuracy: 0.9209\n",
      "Epoch 84/100\n",
      "27/27 [==============================] - 1s 20ms/step - loss: 1.4733e-04 - accuracy: 1.0000 - val_loss: 0.2775 - val_accuracy: 0.9192\n",
      "Epoch 85/100\n",
      "27/27 [==============================] - 1s 20ms/step - loss: 1.4008e-04 - accuracy: 1.0000 - val_loss: 0.2772 - val_accuracy: 0.9192\n",
      "Epoch 86/100\n",
      "27/27 [==============================] - 1s 20ms/step - loss: 1.3841e-04 - accuracy: 1.0000 - val_loss: 0.2755 - val_accuracy: 0.9192\n",
      "Epoch 87/100\n",
      "27/27 [==============================] - 1s 19ms/step - loss: 1.3700e-04 - accuracy: 1.0000 - val_loss: 0.2759 - val_accuracy: 0.9227\n",
      "Epoch 88/100\n",
      "27/27 [==============================] - 1s 19ms/step - loss: 1.3830e-04 - accuracy: 1.0000 - val_loss: 0.2746 - val_accuracy: 0.9227\n",
      "Epoch 89/100\n",
      "27/27 [==============================] - 1s 19ms/step - loss: 1.2816e-04 - accuracy: 1.0000 - val_loss: 0.2785 - val_accuracy: 0.9192\n",
      "Epoch 90/100\n",
      "27/27 [==============================] - 1s 19ms/step - loss: 1.2981e-04 - accuracy: 1.0000 - val_loss: 0.2777 - val_accuracy: 0.9174\n",
      "Epoch 91/100\n",
      "27/27 [==============================] - 1s 19ms/step - loss: 1.2770e-04 - accuracy: 1.0000 - val_loss: 0.2771 - val_accuracy: 0.9192\n",
      "Epoch 92/100\n",
      "27/27 [==============================] - 1s 19ms/step - loss: 1.1895e-04 - accuracy: 1.0000 - val_loss: 0.2750 - val_accuracy: 0.9227\n",
      "Epoch 93/100\n",
      "27/27 [==============================] - 1s 19ms/step - loss: 1.2696e-04 - accuracy: 1.0000 - val_loss: 0.2772 - val_accuracy: 0.9209\n",
      "Epoch 94/100\n",
      "27/27 [==============================] - 1s 20ms/step - loss: 1.1581e-04 - accuracy: 1.0000 - val_loss: 0.2777 - val_accuracy: 0.9209\n",
      "Epoch 95/100\n",
      "27/27 [==============================] - 1s 20ms/step - loss: 1.1687e-04 - accuracy: 1.0000 - val_loss: 0.2763 - val_accuracy: 0.9227\n",
      "Epoch 96/100\n",
      "27/27 [==============================] - 1s 19ms/step - loss: 1.1116e-04 - accuracy: 1.0000 - val_loss: 0.2770 - val_accuracy: 0.9209\n",
      "Epoch 97/100\n",
      "27/27 [==============================] - 1s 20ms/step - loss: 1.0934e-04 - accuracy: 1.0000 - val_loss: 0.2786 - val_accuracy: 0.9227\n",
      "Epoch 98/100\n",
      "27/27 [==============================] - 1s 20ms/step - loss: 1.0939e-04 - accuracy: 1.0000 - val_loss: 0.2770 - val_accuracy: 0.9209\n",
      "Epoch 99/100\n",
      "27/27 [==============================] - 1s 20ms/step - loss: 1.0394e-04 - accuracy: 1.0000 - val_loss: 0.2770 - val_accuracy: 0.9227\n",
      "Epoch 100/100\n",
      "27/27 [==============================] - 1s 19ms/step - loss: 1.0116e-04 - accuracy: 1.0000 - val_loss: 0.2792 - val_accuracy: 0.9227\n"
     ]
    }
   ],
   "source": [
    "# Start TensorBoard.\n",
    "#%tensorboard --logdir logs/image\n",
    "\n",
    "history = model.fit(x=X_train, y=y_train, epochs=epochs, validation_data = (X_val, y_val), use_multiprocessing = True, batch_size=64)"
   ]
  },
  {
   "cell_type": "code",
   "execution_count": 21,
   "metadata": {},
   "outputs": [
    {
     "data": {
      "text/plain": [
       "<matplotlib.legend.Legend at 0x26fa3a23550>"
      ]
     },
     "execution_count": 21,
     "metadata": {},
     "output_type": "execute_result"
    },
    {
     "data": {
      "image/png": "[encoded data removed]",
      "text/plain": [
       "<Figure size 432x288 with 1 Axes>"
      ]
     },
     "metadata": {
      "needs_background": "light"
     },
     "output_type": "display_data"
    }
   ],
   "source": [
    "plt.figure()\n",
    "plt.plot([i for i in range(epochs)], history.history['val_accuracy'], label='Validation Accuracy')\n",
    "plt.plot([i for i in range(epochs)], history.history['accuracy'], label='Training Accuracy')\n",
    "plt.xlabel('Epoch')\n",
    "plt.ylabel('Accuracy')\n",
    "plt.legend()"
   ]
  },
  {
   "cell_type": "code",
   "execution_count": 22,
   "metadata": {},
   "outputs": [
    {
     "data": {
      "text/plain": [
       "dict_keys(['loss', 'accuracy', 'val_loss', 'val_accuracy'])"
      ]
     },
     "execution_count": 22,
     "metadata": {},
     "output_type": "execute_result"
    }
   ],
   "source": [
    "history.history.keys()"
   ]
  },
  {
   "cell_type": "code",
   "execution_count": 23,
   "metadata": {},
   "outputs": [
    {
     "name": "stdout",
     "output_type": "stream",
     "text": [
      "24/24 [==============================] - 0s 6ms/step - loss: 0.2431 - accuracy: 0.9420\n"
     ]
    },
    {
     "data": {
      "text/plain": [
       "[0.24311569333076477, 0.9419525265693665]"
      ]
     },
     "execution_count": 23,
     "metadata": {},
     "output_type": "execute_result"
    }
   ],
   "source": [
    "model.evaluate(X_test, y_test)"
   ]
  },
  {
   "cell_type": "code",
   "execution_count": 24,
   "metadata": {},
   "outputs": [
    {
     "name": "stdout",
     "output_type": "stream",
     "text": [
      "WARNING:tensorflow:From C:\\Users\\suhas\\anaconda3\\lib\\site-packages\\tensorflow\\python\\training\\tracking\\tracking.py:111: Model.state_updates (from tensorflow.python.keras.engine.training) is deprecated and will be removed in a future version.\n",
      "Instructions for updating:\n",
      "This property should not be used in TensorFlow 2.0, as updates are applied automatically.\n",
      "WARNING:tensorflow:From C:\\Users\\suhas\\anaconda3\\lib\\site-packages\\tensorflow\\python\\training\\tracking\\tracking.py:111: Layer.updates (from tensorflow.python.keras.engine.base_layer) is deprecated and will be removed in a future version.\n",
      "Instructions for updating:\n",
      "This property should not be used in TensorFlow 2.0, as updates are applied automatically.\n",
      "INFO:tensorflow:Assets written to: C:/Users/suhas/Documents/College Projects/Leaf-Classification-Medicinal/model\\assets\n"
     ]
    }
   ],
   "source": [
    "tf.keras.models.save_model(model, 'C:/Users/suhas/Documents/College Projects/Leaf-Classification-Medicinal/model')"
   ]
  },
  {
   "cell_type": "code",
   "execution_count": 25,
   "metadata": {},
   "outputs": [
    {
     "data": {
      "text/plain": [
       "0.922671377658844"
      ]
     },
     "execution_count": 25,
     "metadata": {},
     "output_type": "execute_result"
    }
   ],
   "source": [
    "max(history.history['val_accuracy'])"
   ]
  },
  {
   "cell_type": "markdown",
   "metadata": {},
   "source": [
    "## Classification Report"
   ]
  },
  {
   "cell_type": "code",
   "execution_count": 26,
   "metadata": {},
   "outputs": [],
   "source": [
    "y_pred = model.predict(X_test)"
   ]
  },
  {
   "cell_type": "code",
   "execution_count": 27,
   "metadata": {},
   "outputs": [],
   "source": [
    "pred = list()"
   ]
  },
  {
   "cell_type": "code",
   "execution_count": 28,
   "metadata": {},
   "outputs": [],
   "source": [
    "for i in range(len(y_pred)):\n",
    "    pred.append(np.argmax(y_pred[i]))"
   ]
  },
  {
   "cell_type": "code",
   "execution_count": 29,
   "metadata": {
    "scrolled": true
   },
   "outputs": [
    {
     "name": "stdout",
     "output_type": "stream",
     "text": [
      "              precision    recall  f1-score   support\n",
      "\n",
      "           0       0.88      0.47      0.61        15\n",
      "           1       0.94      0.94      0.94        16\n",
      "           2       0.71      0.94      0.81        16\n",
      "           3       0.94      0.94      0.94        18\n",
      "           4       1.00      1.00      1.00        18\n",
      "           5       0.93      1.00      0.97        14\n",
      "           6       0.94      1.00      0.97        15\n",
      "           7       1.00      1.00      1.00        13\n",
      "           8       0.91      0.71      0.80        14\n",
      "           9       0.88      1.00      0.94        15\n",
      "          10       0.86      1.00      0.92        12\n",
      "          11       0.94      1.00      0.97        16\n",
      "          12       0.92      0.92      0.92        13\n",
      "          13       1.00      0.94      0.97        16\n",
      "          14       1.00      1.00      1.00        15\n",
      "          15       1.00      0.86      0.92        14\n",
      "          16       0.86      1.00      0.93        19\n",
      "          17       1.00      1.00      1.00        15\n",
      "          18       1.00      1.00      1.00        15\n",
      "          19       1.00      1.00      1.00        16\n",
      "          20       0.81      0.87      0.84        15\n",
      "          21       0.85      0.79      0.81        14\n",
      "          22       0.93      1.00      0.97        14\n",
      "          23       1.00      0.69      0.81        16\n",
      "          24       0.71      0.92      0.80        13\n",
      "          25       0.93      1.00      0.96        13\n",
      "          26       1.00      0.85      0.92        13\n",
      "          27       1.00      1.00      1.00        14\n",
      "          28       1.00      0.93      0.96        14\n",
      "          29       0.94      0.94      0.94        16\n",
      "          30       1.00      0.85      0.92        13\n",
      "          31       1.00      1.00      1.00        14\n",
      "          32       0.94      0.79      0.86        19\n",
      "          33       1.00      1.00      1.00        19\n",
      "          34       0.82      0.95      0.88        19\n",
      "          35       0.95      1.00      0.97        19\n",
      "          36       1.00      1.00      1.00        19\n",
      "          37       0.90      0.95      0.92        19\n",
      "          38       1.00      1.00      1.00        18\n",
      "          39       1.00      0.95      0.97        19\n",
      "          40       0.95      1.00      0.97        19\n",
      "          41       1.00      1.00      1.00        19\n",
      "          42       1.00      1.00      1.00        19\n",
      "          43       0.95      1.00      0.97        19\n",
      "          44       1.00      1.00      1.00        19\n",
      "          45       1.00      0.95      0.97        19\n",
      "          46       1.00      1.00      1.00        19\n",
      "\n",
      "    accuracy                           0.94       758\n",
      "   macro avg       0.94      0.94      0.94       758\n",
      "weighted avg       0.95      0.94      0.94       758\n",
      "\n"
     ]
    }
   ],
   "source": [
    "print(classification_report(y_test, pred))"
   ]
  },
  {
   "cell_type": "markdown",
   "metadata": {},
   "source": [
    "## Confusion Matrix with Seaborn (On Test Data)"
   ]
  },
  {
   "cell_type": "code",
   "execution_count": 30,
   "metadata": {},
   "outputs": [],
   "source": [
    "pred = model.predict(X_test)"
   ]
  },
  {
   "cell_type": "code",
   "execution_count": 31,
   "metadata": {},
   "outputs": [],
   "source": [
    "conf = confusion_matrix(y_test, np.argmax(pred, axis = 1))"
   ]
  },
  {
   "cell_type": "code",
   "execution_count": null,
   "metadata": {},
   "outputs": [
    {
     "data": {
      "text/plain": [
       "<AxesSubplot:>"
      ]
     },
     "execution_count": 36,
     "metadata": {},
     "output_type": "execute_result"
    }
   ],
   "source": [
    "plt.figure(figsize=(12, 12))\n",
    "sns.heatmap(conf, annot=True)"
   ]
  },
  {
   "cell_type": "markdown",
   "metadata": {},
   "source": [
    "## Confusion Matrix (On Validation Data)"
   ]
  },
  {
   "cell_type": "code",
   "execution_count": null,
   "metadata": {},
   "outputs": [],
   "source": [
    "vald = model.predict(X_val)\n"
   ]
  },
  {
   "cell_type": "code",
   "execution_count": null,
   "metadata": {},
   "outputs": [],
   "source": [
    "conf_val = confusion_matrix(y_val, np.argmax(vald, axis = 1))"
   ]
  },
  {
   "cell_type": "code",
   "execution_count": null,
   "metadata": {},
   "outputs": [],
   "source": [
    "plt.figure(figsize=(12, 12))\n",
    "sns.heatmap(conf_val, annot=True)"
   ]
  }
 ],
 "metadata": {
  "kernelspec": {
   "display_name": "Python 3",
   "language": "python",
   "name": "python3"
  },
  "language_info": {
   "codemirror_mode": {
    "name": "ipython",
    "version": 3
   },
   "file_extension": ".py",
   "mimetype": "text/x-python",
   "name": "python",
   "nbconvert_exporter": "python",
   "pygments_lexer": "ipython3",
   "version": "3.8.5"
  }
 },
 "nbformat": 4,
 "nbformat_minor": 4
}
