{
 "cells": [
  {
   "cell_type": "code",
   "execution_count": 1,
   "metadata": {},
   "outputs": [],
   "source": [
    "import pandas as pd\n",
    "import numpy as np\n",
    "import cv2\n",
    "import tensorflow as tf\n",
    "from tensorflow import keras\n",
    "from tensorflow.keras import layers\n",
    "from tensorflow.keras.models import Sequential\n",
    "import matplotlib.pyplot as plt\n",
    "from matplotlib.pyplot import imshow\n",
    "from sklearn.model_selection import train_test_split\n",
    "from datetime import datetime\n",
    "import os\n",
    "import itertools\n",
    "import io\n",
    "import sklearn\n",
    "from sklearn.metrics import confusion_matrix\n",
    "# Load the TensorBoard notebook extension.\n",
    "%load_ext tensorboard\n",
    "import seaborn as sns"
   ]
  },
  {
   "cell_type": "code",
   "execution_count": 2,
   "metadata": {},
   "outputs": [],
   "source": [
    "os.environ['TF_FORCE_GPU_ALLOW_GROWTH'] = 'true'"
   ]
  },
  {
   "cell_type": "code",
   "execution_count": 3,
   "metadata": {},
   "outputs": [
    {
     "data": {
      "text/plain": [
       "'2.4.0'"
      ]
     },
     "execution_count": 3,
     "metadata": {},
     "output_type": "execute_result"
    }
   ],
   "source": [
    "keras.__version__"
   ]
  },
  {
   "cell_type": "code",
   "execution_count": 4,
   "metadata": {},
   "outputs": [],
   "source": [
    "path = \"C:/Users/suhas/Documents/Mini Project/Leaves/\"\n",
    "test = \"C:/Users/suhas/Documents/Mini Project/Leaves/Test\""
   ]
  },
  {
   "cell_type": "code",
   "execution_count": 5,
   "metadata": {},
   "outputs": [
    {
     "name": "stdout",
     "output_type": "stream",
     "text": [
      "/device:GPU:0\n"
     ]
    }
   ],
   "source": [
    "print(tf.test.gpu_device_name())"
   ]
  },
  {
   "cell_type": "code",
   "execution_count": 6,
   "metadata": {},
   "outputs": [],
   "source": [
    "IMAGE_SIZE = 100\n",
    "num_classes = 32\n",
    "epochs = 100\n",
    "initializer = 'he_normal'"
   ]
  },
  {
   "cell_type": "code",
   "execution_count": 7,
   "metadata": {},
   "outputs": [],
   "source": [
    "def label(img_name):\n",
    "    num = img_name.split('_')[1]\n",
    "    #print(num)\n",
    "    if num == 'pubescent bamboo':\n",
    "        return 0 \n",
    "    elif num == 'chinese horse chestnut':\n",
    "        return 1 \n",
    "    elif num == 'anhui barberry':\n",
    "        return 2 \n",
    "    elif num == 'chinese redbud':\n",
    "        return 3\n",
    "    elif num == 'true indigo':\n",
    "        return 4\n",
    "    elif num == 'japanese maple':\n",
    "        return 5 \n",
    "    elif num == 'nanmu':\n",
    "        return 6 \n",
    "    elif num == 'castor aralia':\n",
    "        return 7 \n",
    "    elif num == 'chinese cinnamon':\n",
    "        return 8 \n",
    "    elif num == 'goldenrain tree':\n",
    "        return 9 \n",
    "    elif num == 'big fruited holly':\n",
    "        return 10 \n",
    "    elif num == 'japanese chestwood':\n",
    "        return 11 \n",
    "    elif num == 'wintersweet':\n",
    "        return 12 \n",
    "    elif num == 'camphor tree':\n",
    "        return 13\n",
    "    elif num == 'japan arrowwood':\n",
    "        return 14\n",
    "    elif num == 'sweet osmanthus':\n",
    "        return 15\n",
    "    elif num == 'deodar':\n",
    "        return 16\n",
    "    elif num == 'ginkgo':\n",
    "        return 17 \n",
    "    elif num == 'crape myrtle':\n",
    "        return 18 \n",
    "    elif num == 'oleandar':\n",
    "        return 19\n",
    "    elif num == 'yew plum pie':\n",
    "        return 20\n",
    "    elif num == 'japanese flowering cherry':\n",
    "        return 21 \n",
    "    elif num == 'glossy privet':\n",
    "        return 22\n",
    "    elif num == 'chinese toon':\n",
    "        return 23\n",
    "    elif num == 'peach':\n",
    "        return 24\n",
    "    elif num == 'ford woodlotus':\n",
    "        return 25\n",
    "    elif num == 'trident maple':\n",
    "        return 26\n",
    "    elif num == 'beales barberry':\n",
    "        return 27\n",
    "    elif num == 'southern magnolia':\n",
    "        return 28\n",
    "    elif num == 'canadian poplar':\n",
    "        return 29\n",
    "    elif num == 'chinese tulip tree':\n",
    "        return 30\n",
    "    elif num == 'tangerine':\n",
    "        return 31"
   ]
  },
  {
   "cell_type": "markdown",
   "metadata": {},
   "source": [
    "# Creating Dataset"
   ]
  },
  {
   "cell_type": "code",
   "execution_count": 8,
   "metadata": {},
   "outputs": [],
   "source": [
    "def create_dataset(path):\n",
    "    data = []\n",
    "    for folder in os.scandir(path):\n",
    "        if \"leaf\" in str(folder):\n",
    "            for image in os.scandir(os.path.join(path, folder)):\n",
    "                leaf = label(folder.name)\n",
    "                if (leaf == None):\n",
    "                    print(folder.name)\n",
    "                    break\n",
    "                img = cv2.imread(os.path.join(path, folder, image))\n",
    "\n",
    "                # Basic processing\n",
    "                '''imgGray = cv2.cvtColor(img, cv2.COLOR_BGR2GRAY)\n",
    "\n",
    "                imgBlur = cv2.GaussianBlur(imgGray, (3, 3), 0)\n",
    "                thresh, imgBW = cv2.threshold(imgBlur, 128, 255, cv2.THRESH_BINARY | cv2.THRESH_OTSU)\n",
    "                imgInv = cv2.bitwise_not(imgBW)\n",
    "                kernel = np.ones((50, 50))\n",
    "                imgClosed = cv2.morphologyEx(imgInv, cv2.MORPH_CLOSE, kernel)'''\n",
    "\n",
    "                # Resize\n",
    "                new = cv2.resize(img, (IMAGE_SIZE, IMAGE_SIZE))\n",
    "                #Adding third dimension to shape\n",
    "                data.append([new, leaf])\n",
    "    return data"
   ]
  },
  {
   "cell_type": "code",
   "execution_count": 9,
   "metadata": {},
   "outputs": [],
   "source": [
    "data = create_dataset(path)"
   ]
  },
  {
   "cell_type": "code",
   "execution_count": 10,
   "metadata": {},
   "outputs": [
    {
     "data": {
      "text/plain": [
       "1907"
      ]
     },
     "execution_count": 10,
     "metadata": {},
     "output_type": "execute_result"
    }
   ],
   "source": [
    "X = np.array([d[0] for d in data])\n",
    "len(X)"
   ]
  },
  {
   "cell_type": "code",
   "execution_count": 11,
   "metadata": {},
   "outputs": [
    {
     "data": {
      "text/plain": [
       "(1907, 100, 100, 3)"
      ]
     },
     "execution_count": 11,
     "metadata": {},
     "output_type": "execute_result"
    }
   ],
   "source": [
    "X = np.divide(X, 255)\n",
    "len(X)\n",
    "X.shape"
   ]
  },
  {
   "cell_type": "code",
   "execution_count": 12,
   "metadata": {},
   "outputs": [
    {
     "data": {
      "text/plain": [
       "1907"
      ]
     },
     "execution_count": 12,
     "metadata": {},
     "output_type": "execute_result"
    }
   ],
   "source": [
    "y = np.array([d[1] for d in data])\n",
    "len(y)"
   ]
  },
  {
   "cell_type": "code",
   "execution_count": 13,
   "metadata": {},
   "outputs": [],
   "source": [
    "X_train, X_test, y_train, y_test = train_test_split(X, y, random_state = 1, stratify=y)\n",
    "X_train, X_val, y_train, y_val = train_test_split(X_train, y_train, random_state = 1, stratify=y_train)"
   ]
  },
  {
   "cell_type": "code",
   "execution_count": 14,
   "metadata": {},
   "outputs": [
    {
     "data": {
      "text/plain": [
       "[0,\n",
       " 1,\n",
       " 2,\n",
       " 3,\n",
       " 4,\n",
       " 5,\n",
       " 6,\n",
       " 7,\n",
       " 8,\n",
       " 9,\n",
       " 10,\n",
       " 11,\n",
       " 12,\n",
       " 13,\n",
       " 14,\n",
       " 15,\n",
       " 16,\n",
       " 17,\n",
       " 18,\n",
       " 19,\n",
       " 20,\n",
       " 21,\n",
       " 22,\n",
       " 23,\n",
       " 24,\n",
       " 25,\n",
       " 26,\n",
       " 27,\n",
       " 28,\n",
       " 29,\n",
       " 30,\n",
       " 31]"
      ]
     },
     "execution_count": 14,
     "metadata": {},
     "output_type": "execute_result"
    }
   ],
   "source": [
    "class_names = list(range(32))\n",
    "class_names"
   ]
  },
  {
   "cell_type": "markdown",
   "metadata": {},
   "source": [
    "# CNN"
   ]
  },
  {
   "cell_type": "code",
   "execution_count": 57,
   "metadata": {},
   "outputs": [],
   "source": [
    "model = Sequential([\n",
    "    layers.InputLayer(input_shape=(IMAGE_SIZE, IMAGE_SIZE, 3)),\n",
    "    layers.Conv2D(16, 3, padding='same', activation='relu', kernel_initializer=initializer),\n",
    "    layers.MaxPool2D(),\n",
    "    layers.BatchNormalization(),\n",
    "    # Dropout layer for regularisation\n",
    "    layers.Dropout(rate=0.5),\n",
    "    layers.Conv2D(32, 3, padding='same', activation='relu', kernel_initializer=initializer),\n",
    "    layers.MaxPool2D(),\n",
    "    layers.BatchNormalization(),\n",
    "    # Dropout layer for regularisation\n",
    "    layers.Dropout(rate=0.5),\n",
    "    layers.Conv2D(64, 5, padding='valid', activation='relu', kernel_initializer=initializer),\n",
    "    layers.MaxPool2D(),\n",
    "    layers.BatchNormalization(),\n",
    "    # Dropout layer for regularisation\n",
    "    layers.Dropout(rate=0.5),\n",
    "    # Flattening output to connect to Densely Connected Layers\n",
    "    layers.Flatten(),\n",
    "    layers.Dense(128, activation='relu', kernel_initializer=initializer),\n",
    "    layers.BatchNormalization(),\n",
    "    layers.Dense(num_classes, activation='softmax', kernel_initializer=initializer)\n",
    "])"
   ]
  },
  {
   "cell_type": "code",
   "execution_count": 58,
   "metadata": {},
   "outputs": [],
   "source": [
    "model.compile(optimizer='adam', loss=tf.keras.losses.SparseCategoricalCrossentropy(from_logits=True), metrics=['accuracy'])"
   ]
  },
  {
   "cell_type": "code",
   "execution_count": 59,
   "metadata": {},
   "outputs": [
    {
     "data": {
      "text/plain": [
       "(1072, 100, 100, 3)"
      ]
     },
     "execution_count": 59,
     "metadata": {},
     "output_type": "execute_result"
    }
   ],
   "source": [
    "X_train.shape"
   ]
  },
  {
   "cell_type": "code",
   "execution_count": 60,
   "metadata": {},
   "outputs": [
    {
     "name": "stdout",
     "output_type": "stream",
     "text": [
      "Model: \"sequential_3\"\n",
      "_________________________________________________________________\n",
      "Layer (type)                 Output Shape              Param #   \n",
      "=================================================================\n",
      "conv2d_15 (Conv2D)           (None, 100, 100, 16)      448       \n",
      "_________________________________________________________________\n",
      "max_pooling2d_15 (MaxPooling (None, 50, 50, 16)        0         \n",
      "_________________________________________________________________\n",
      "batch_normalization_18 (Batc (None, 50, 50, 16)        64        \n",
      "_________________________________________________________________\n",
      "dropout_6 (Dropout)          (None, 50, 50, 16)        0         \n",
      "_________________________________________________________________\n",
      "conv2d_16 (Conv2D)           (None, 50, 50, 32)        4640      \n",
      "_________________________________________________________________\n",
      "max_pooling2d_16 (MaxPooling (None, 25, 25, 32)        0         \n",
      "_________________________________________________________________\n",
      "batch_normalization_19 (Batc (None, 25, 25, 32)        128       \n",
      "_________________________________________________________________\n",
      "dropout_7 (Dropout)          (None, 25, 25, 32)        0         \n",
      "_________________________________________________________________\n",
      "conv2d_17 (Conv2D)           (None, 21, 21, 64)        51264     \n",
      "_________________________________________________________________\n",
      "max_pooling2d_17 (MaxPooling (None, 10, 10, 64)        0         \n",
      "_________________________________________________________________\n",
      "batch_normalization_20 (Batc (None, 10, 10, 64)        256       \n",
      "_________________________________________________________________\n",
      "dropout_8 (Dropout)          (None, 10, 10, 64)        0         \n",
      "_________________________________________________________________\n",
      "flatten_5 (Flatten)          (None, 6400)              0         \n",
      "_________________________________________________________________\n",
      "dense_6 (Dense)              (None, 128)               819328    \n",
      "_________________________________________________________________\n",
      "batch_normalization_21 (Batc (None, 128)               512       \n",
      "_________________________________________________________________\n",
      "dense_7 (Dense)              (None, 32)                4128      \n",
      "=================================================================\n",
      "Total params: 880,768\n",
      "Trainable params: 880,288\n",
      "Non-trainable params: 480\n",
      "_________________________________________________________________\n"
     ]
    }
   ],
   "source": [
    "model.summary()"
   ]
  },
  {
   "cell_type": "code",
   "execution_count": 19,
   "metadata": {},
   "outputs": [],
   "source": [
    "callback = tf.keras.callbacks.EarlyStopping(monitor='loss', patience=20)"
   ]
  },
  {
   "cell_type": "markdown",
   "metadata": {},
   "source": [
    "## Confusion Matrix\n"
   ]
  },
  {
   "cell_type": "code",
   "execution_count": 20,
   "metadata": {},
   "outputs": [],
   "source": [
    "def plot_confusion_matrix(cm, class_names):\n",
    "  \"\"\"\n",
    "  Returns a matplotlib figure containing the plotted confusion matrix.\n",
    "\n",
    "  Args:\n",
    "    cm (array, shape = [n, n]): a confusion matrix of integer classes\n",
    "    class_names (array, shape = [n]): String names of the integer classes\n",
    "  \"\"\"\n",
    "  figure = plt.figure(figsize=(8, 8))\n",
    "  plt.imshow(cm, interpolation='nearest', cmap=plt.cm.Blues)\n",
    "  plt.title(\"Confusion matrix\")\n",
    "  plt.colorbar()\n",
    "  tick_marks = np.arange(len(class_names))\n",
    "  plt.xticks(tick_marks, class_names, rotation=45)\n",
    "  plt.yticks(tick_marks, class_names)\n",
    "\n",
    "  # Compute the labels from the normalized confusion matrix.\n",
    "  labels = np.around(cm.astype('float') / cm.sum(axis=1)[:, np.newaxis], decimals=2)\n",
    "\n",
    "  # Use white text if squares are dark; otherwise black.\n",
    "  threshold = cm.max() / 2.\n",
    "  for i, j in itertools.product(range(cm.shape[0]), range(cm.shape[1])):\n",
    "    color = \"white\" if cm[i, j] > threshold else \"black\"\n",
    "    plt.text(j, i, labels[i, j], horizontalalignment=\"center\", color=color)\n",
    "\n",
    "  plt.tight_layout()\n",
    "  plt.ylabel('True label')\n",
    "  plt.xlabel('Predicted label')\n",
    "  return figure"
   ]
  },
  {
   "cell_type": "code",
   "execution_count": 21,
   "metadata": {},
   "outputs": [
    {
     "name": "stderr",
     "output_type": "stream",
     "text": [
      "'rm' is not recognized as an internal or external command,\n",
      "operable program or batch file.\n"
     ]
    }
   ],
   "source": [
    "# Clear out prior logging data.\n",
    "!rm -rf logs/image\n",
    "\n",
    "logdir = \"logs/image/\" + datetime.now().strftime(\"%Y%m%d-%H%M%S\")\n",
    "# Define the basic TensorBoard callback.\n",
    "tensorboard_callback = keras.callbacks.TensorBoard(log_dir=logdir)\n",
    "file_writer_cm = tf.summary.create_file_writer(logdir + '/cm')"
   ]
  },
  {
   "cell_type": "code",
   "execution_count": 22,
   "metadata": {},
   "outputs": [],
   "source": [
    "def log_confusion_matrix(epoch, logs):\n",
    "  # Use the model to predict the values from the validation dataset.\n",
    "  test_pred_raw = model.predict(X_test)\n",
    "  test_pred = np.argmax(test_pred_raw, axis=1)\n",
    "\n",
    "  # Calculate the confusion matrix.\n",
    "  cm = sklearn.metrics.confusion_matrix(y_test, test_pred)\n",
    "  # Log the confusion matrix as an image summary.\n",
    "  figure = plot_confusion_matrix(cm, class_names=class_names)\n",
    "  cm_image = plot_to_image(figure)\n",
    "\n",
    "  # Log the confusion matrix as an image summary.\n",
    "  with file_writer_cm.as_default():\n",
    "    tf.summary.image(\"Confusion Matrix\", cm_image, step=epoch)\n",
    "\n",
    "# Define the per-epoch callback.\n",
    "cm_callback = keras.callbacks.LambdaCallback(on_epoch_end=log_confusion_matrix)"
   ]
  },
  {
   "cell_type": "code",
   "execution_count": 23,
   "metadata": {},
   "outputs": [],
   "source": [
    "def plot_to_image(figure):\n",
    "  \"\"\"Converts the matplotlib plot specified by 'figure' to a PNG image and\n",
    "  returns it. The supplied figure is closed and inaccessible after this call.\"\"\"\n",
    "  # Save the plot to a PNG in memory.\n",
    "  buf = io.BytesIO()\n",
    "  plt.savefig(buf, format='png')\n",
    "  # Closing the figure prevents it from being displayed directly inside\n",
    "  # the notebook.\n",
    "  plt.close(figure)\n",
    "  buf.seek(0)\n",
    "  # Convert PNG buffer to TF image\n",
    "  image = tf.image.decode_png(buf.getvalue(), channels=4)\n",
    "  # Add the batch dimension\n",
    "  image = tf.expand_dims(image, 0)\n",
    "  return image"
   ]
  },
  {
   "cell_type": "code",
   "execution_count": 61,
   "metadata": {},
   "outputs": [
    {
     "name": "stdout",
     "output_type": "stream",
     "text": [
      "Epoch 1/100\n",
      "17/17 [==============================] - 1s 35ms/step - loss: 3.3036 - accuracy: 0.2351 - val_loss: 3.4068 - val_accuracy: 0.1145\n",
      "Epoch 2/100\n",
      "17/17 [==============================] - 0s 17ms/step - loss: 3.0783 - accuracy: 0.4795 - val_loss: 3.4246 - val_accuracy: 0.0615\n",
      "Epoch 3/100\n",
      "17/17 [==============================] - 0s 17ms/step - loss: 2.9373 - accuracy: 0.6343 - val_loss: 3.3932 - val_accuracy: 0.1145\n",
      "Epoch 4/100\n",
      "17/17 [==============================] - 0s 17ms/step - loss: 2.8598 - accuracy: 0.7052 - val_loss: 3.3825 - val_accuracy: 0.1341\n",
      "Epoch 5/100\n",
      "17/17 [==============================] - 0s 17ms/step - loss: 2.8133 - accuracy: 0.7537 - val_loss: 3.3611 - val_accuracy: 0.1704\n",
      "Epoch 6/100\n",
      "17/17 [==============================] - 0s 17ms/step - loss: 2.7818 - accuracy: 0.7715 - val_loss: 3.3244 - val_accuracy: 0.2123\n",
      "Epoch 7/100\n",
      "17/17 [==============================] - 0s 17ms/step - loss: 2.7505 - accuracy: 0.8153 - val_loss: 3.3269 - val_accuracy: 0.2235\n",
      "Epoch 8/100\n",
      "17/17 [==============================] - 0s 17ms/step - loss: 2.7160 - accuracy: 0.8349 - val_loss: 3.3222 - val_accuracy: 0.2011\n",
      "Epoch 9/100\n",
      "17/17 [==============================] - 0s 17ms/step - loss: 2.6873 - accuracy: 0.8610 - val_loss: 3.3295 - val_accuracy: 0.2123\n",
      "Epoch 10/100\n",
      "17/17 [==============================] - 0s 18ms/step - loss: 2.6655 - accuracy: 0.8806 - val_loss: 3.3307 - val_accuracy: 0.2430\n",
      "Epoch 11/100\n",
      "17/17 [==============================] - 0s 17ms/step - loss: 2.6588 - accuracy: 0.8853 - val_loss: 3.3677 - val_accuracy: 0.1732\n",
      "Epoch 12/100\n",
      "17/17 [==============================] - 0s 17ms/step - loss: 2.6422 - accuracy: 0.8965 - val_loss: 3.3713 - val_accuracy: 0.1788\n",
      "Epoch 13/100\n",
      "17/17 [==============================] - 0s 17ms/step - loss: 2.6307 - accuracy: 0.9104 - val_loss: 3.3835 - val_accuracy: 0.1313\n",
      "Epoch 14/100\n",
      "17/17 [==============================] - 0s 17ms/step - loss: 2.6228 - accuracy: 0.9179 - val_loss: 3.3620 - val_accuracy: 0.1592\n",
      "Epoch 15/100\n",
      "17/17 [==============================] - 0s 17ms/step - loss: 2.6108 - accuracy: 0.9282 - val_loss: 3.3335 - val_accuracy: 0.2039\n",
      "Epoch 16/100\n",
      "17/17 [==============================] - 0s 17ms/step - loss: 2.6038 - accuracy: 0.9328 - val_loss: 3.3689 - val_accuracy: 0.1508\n",
      "Epoch 17/100\n",
      "17/17 [==============================] - 0s 17ms/step - loss: 2.5983 - accuracy: 0.9356 - val_loss: 3.3627 - val_accuracy: 0.1648\n",
      "Epoch 18/100\n",
      "17/17 [==============================] - 0s 18ms/step - loss: 2.5974 - accuracy: 0.9366 - val_loss: 3.3138 - val_accuracy: 0.2039\n",
      "Epoch 19/100\n",
      "17/17 [==============================] - 0s 17ms/step - loss: 2.5896 - accuracy: 0.9440 - val_loss: 3.3127 - val_accuracy: 0.2179\n",
      "Epoch 20/100\n",
      "17/17 [==============================] - 0s 17ms/step - loss: 2.5850 - accuracy: 0.9440 - val_loss: 3.3234 - val_accuracy: 0.2151\n",
      "Epoch 21/100\n",
      "17/17 [==============================] - 0s 17ms/step - loss: 2.5813 - accuracy: 0.9487 - val_loss: 3.3015 - val_accuracy: 0.2207\n",
      "Epoch 22/100\n",
      "17/17 [==============================] - 0s 17ms/step - loss: 2.5757 - accuracy: 0.9552 - val_loss: 3.2843 - val_accuracy: 0.2402\n",
      "Epoch 23/100\n",
      "17/17 [==============================] - 0s 17ms/step - loss: 2.5761 - accuracy: 0.9515 - val_loss: 3.2536 - val_accuracy: 0.2598\n",
      "Epoch 24/100\n",
      "17/17 [==============================] - 0s 17ms/step - loss: 2.5725 - accuracy: 0.9562 - val_loss: 3.1782 - val_accuracy: 0.3547\n",
      "Epoch 25/100\n",
      "17/17 [==============================] - 0s 17ms/step - loss: 2.5689 - accuracy: 0.9580 - val_loss: 3.1995 - val_accuracy: 0.3324\n",
      "Epoch 26/100\n",
      "17/17 [==============================] - 0s 17ms/step - loss: 2.5658 - accuracy: 0.9618 - val_loss: 3.2073 - val_accuracy: 0.3240\n",
      "Epoch 27/100\n",
      "17/17 [==============================] - 0s 18ms/step - loss: 2.5602 - accuracy: 0.9674 - val_loss: 3.2168 - val_accuracy: 0.3296\n",
      "Epoch 28/100\n",
      "17/17 [==============================] - 0s 17ms/step - loss: 2.5601 - accuracy: 0.9664 - val_loss: 3.2006 - val_accuracy: 0.3324\n",
      "Epoch 29/100\n",
      "17/17 [==============================] - 0s 17ms/step - loss: 2.5588 - accuracy: 0.9655 - val_loss: 3.0991 - val_accuracy: 0.4218\n",
      "Epoch 30/100\n",
      "17/17 [==============================] - 0s 17ms/step - loss: 2.5574 - accuracy: 0.9692 - val_loss: 3.2030 - val_accuracy: 0.3101\n",
      "Epoch 31/100\n",
      "17/17 [==============================] - 0s 18ms/step - loss: 2.5532 - accuracy: 0.9729 - val_loss: 3.0761 - val_accuracy: 0.4497\n",
      "Epoch 32/100\n",
      "17/17 [==============================] - 0s 17ms/step - loss: 2.5558 - accuracy: 0.9683 - val_loss: 3.0665 - val_accuracy: 0.4553\n",
      "Epoch 33/100\n",
      "17/17 [==============================] - 0s 17ms/step - loss: 2.5544 - accuracy: 0.9701 - val_loss: 3.0855 - val_accuracy: 0.4525\n",
      "Epoch 34/100\n",
      "17/17 [==============================] - 0s 17ms/step - loss: 2.5475 - accuracy: 0.9785 - val_loss: 3.0549 - val_accuracy: 0.4721\n",
      "Epoch 35/100\n",
      "17/17 [==============================] - 0s 18ms/step - loss: 2.5452 - accuracy: 0.9813 - val_loss: 3.0287 - val_accuracy: 0.5000\n",
      "Epoch 36/100\n",
      "17/17 [==============================] - 0s 17ms/step - loss: 2.5442 - accuracy: 0.9823 - val_loss: 2.9831 - val_accuracy: 0.5559\n",
      "Epoch 37/100\n",
      "17/17 [==============================] - 0s 18ms/step - loss: 2.5439 - accuracy: 0.9785 - val_loss: 2.9926 - val_accuracy: 0.5475\n",
      "Epoch 38/100\n",
      "17/17 [==============================] - 0s 18ms/step - loss: 2.5439 - accuracy: 0.9795 - val_loss: 2.9320 - val_accuracy: 0.5894\n",
      "Epoch 39/100\n",
      "17/17 [==============================] - 0s 17ms/step - loss: 2.5394 - accuracy: 0.9832 - val_loss: 2.9216 - val_accuracy: 0.6117\n",
      "Epoch 40/100\n",
      "17/17 [==============================] - 0s 19ms/step - loss: 2.5400 - accuracy: 0.9823 - val_loss: 2.9186 - val_accuracy: 0.6257\n",
      "Epoch 41/100\n",
      "17/17 [==============================] - 0s 18ms/step - loss: 2.5399 - accuracy: 0.9832 - val_loss: 2.9111 - val_accuracy: 0.6313\n",
      "Epoch 42/100\n",
      "17/17 [==============================] - 0s 18ms/step - loss: 2.5410 - accuracy: 0.9804 - val_loss: 2.8651 - val_accuracy: 0.6732\n",
      "Epoch 43/100\n",
      "17/17 [==============================] - 0s 17ms/step - loss: 2.5403 - accuracy: 0.9813 - val_loss: 2.8196 - val_accuracy: 0.7151\n",
      "Epoch 44/100\n",
      "17/17 [==============================] - 0s 18ms/step - loss: 2.5409 - accuracy: 0.9813 - val_loss: 2.7865 - val_accuracy: 0.7598\n",
      "Epoch 45/100\n",
      "17/17 [==============================] - 0s 17ms/step - loss: 2.5395 - accuracy: 0.9823 - val_loss: 2.8899 - val_accuracy: 0.6508\n",
      "Epoch 46/100\n",
      "17/17 [==============================] - 0s 17ms/step - loss: 2.5389 - accuracy: 0.9841 - val_loss: 2.8868 - val_accuracy: 0.6480\n",
      "Epoch 47/100\n",
      "17/17 [==============================] - 0s 17ms/step - loss: 2.5369 - accuracy: 0.9851 - val_loss: 2.8864 - val_accuracy: 0.6592\n",
      "Epoch 48/100\n",
      "17/17 [==============================] - 0s 17ms/step - loss: 2.5368 - accuracy: 0.9841 - val_loss: 2.8486 - val_accuracy: 0.6788\n",
      "Epoch 49/100\n",
      "17/17 [==============================] - 0s 17ms/step - loss: 2.5375 - accuracy: 0.9823 - val_loss: 2.8186 - val_accuracy: 0.7263\n",
      "Epoch 50/100\n",
      "17/17 [==============================] - 0s 17ms/step - loss: 2.5362 - accuracy: 0.9841 - val_loss: 2.8160 - val_accuracy: 0.7235\n",
      "Epoch 51/100\n",
      "17/17 [==============================] - 0s 18ms/step - loss: 2.5353 - accuracy: 0.9851 - val_loss: 2.7909 - val_accuracy: 0.7430\n",
      "Epoch 52/100\n",
      "17/17 [==============================] - 0s 18ms/step - loss: 2.5353 - accuracy: 0.9860 - val_loss: 2.8158 - val_accuracy: 0.7151\n",
      "Epoch 53/100\n",
      "17/17 [==============================] - 0s 18ms/step - loss: 2.5339 - accuracy: 0.9869 - val_loss: 2.8183 - val_accuracy: 0.7151\n",
      "Epoch 54/100\n",
      "17/17 [==============================] - 0s 18ms/step - loss: 2.5345 - accuracy: 0.9888 - val_loss: 2.7866 - val_accuracy: 0.7654\n",
      "Epoch 55/100\n",
      "17/17 [==============================] - 0s 18ms/step - loss: 2.5352 - accuracy: 0.9860 - val_loss: 2.7669 - val_accuracy: 0.7849\n",
      "Epoch 56/100\n",
      "17/17 [==============================] - 0s 19ms/step - loss: 2.5324 - accuracy: 0.9897 - val_loss: 2.8107 - val_accuracy: 0.7318\n",
      "Epoch 57/100\n",
      "17/17 [==============================] - 0s 17ms/step - loss: 2.5310 - accuracy: 0.9925 - val_loss: 2.7647 - val_accuracy: 0.7709\n",
      "Epoch 58/100\n"
     ]
    },
    {
     "name": "stdout",
     "output_type": "stream",
     "text": [
      "17/17 [==============================] - 0s 18ms/step - loss: 2.5298 - accuracy: 0.9935 - val_loss: 2.7321 - val_accuracy: 0.8128\n",
      "Epoch 59/100\n",
      "17/17 [==============================] - 0s 17ms/step - loss: 2.5283 - accuracy: 0.9935 - val_loss: 2.7266 - val_accuracy: 0.8184\n",
      "Epoch 60/100\n",
      "17/17 [==============================] - 0s 18ms/step - loss: 2.5273 - accuracy: 0.9944 - val_loss: 2.7403 - val_accuracy: 0.7933\n",
      "Epoch 61/100\n",
      "17/17 [==============================] - 0s 18ms/step - loss: 2.5268 - accuracy: 0.9925 - val_loss: 2.7204 - val_accuracy: 0.8128\n",
      "Epoch 62/100\n",
      "17/17 [==============================] - 0s 18ms/step - loss: 2.5268 - accuracy: 0.9944 - val_loss: 2.7251 - val_accuracy: 0.8128\n",
      "Epoch 63/100\n",
      "17/17 [==============================] - 0s 18ms/step - loss: 2.5274 - accuracy: 0.9935 - val_loss: 2.7507 - val_accuracy: 0.7933\n",
      "Epoch 64/100\n",
      "17/17 [==============================] - 0s 17ms/step - loss: 2.5266 - accuracy: 0.9935 - val_loss: 2.7710 - val_accuracy: 0.7542\n",
      "Epoch 65/100\n",
      "17/17 [==============================] - 0s 17ms/step - loss: 2.5267 - accuracy: 0.9925 - val_loss: 2.7778 - val_accuracy: 0.7542\n",
      "Epoch 66/100\n",
      "17/17 [==============================] - 0s 18ms/step - loss: 2.5256 - accuracy: 0.9935 - val_loss: 2.7242 - val_accuracy: 0.8128\n",
      "Epoch 67/100\n",
      "17/17 [==============================] - 0s 18ms/step - loss: 2.5259 - accuracy: 0.9944 - val_loss: 2.7296 - val_accuracy: 0.8073\n",
      "Epoch 68/100\n",
      "17/17 [==============================] - 0s 18ms/step - loss: 2.5265 - accuracy: 0.9935 - val_loss: 2.7198 - val_accuracy: 0.8156\n",
      "Epoch 69/100\n",
      "17/17 [==============================] - 0s 17ms/step - loss: 2.5270 - accuracy: 0.9935 - val_loss: 2.7118 - val_accuracy: 0.8268\n",
      "Epoch 70/100\n",
      "17/17 [==============================] - 0s 17ms/step - loss: 2.5269 - accuracy: 0.9935 - val_loss: 2.7008 - val_accuracy: 0.8296\n",
      "Epoch 71/100\n",
      "17/17 [==============================] - 0s 17ms/step - loss: 2.5259 - accuracy: 0.9944 - val_loss: 2.7105 - val_accuracy: 0.8268\n",
      "Epoch 72/100\n",
      "17/17 [==============================] - 0s 17ms/step - loss: 2.5262 - accuracy: 0.9935 - val_loss: 2.7458 - val_accuracy: 0.7905\n",
      "Epoch 73/100\n",
      "17/17 [==============================] - 0s 17ms/step - loss: 2.5253 - accuracy: 0.9944 - val_loss: 2.7182 - val_accuracy: 0.8128\n",
      "Epoch 74/100\n",
      "17/17 [==============================] - 0s 17ms/step - loss: 2.5268 - accuracy: 0.9944 - val_loss: 2.7167 - val_accuracy: 0.8184\n",
      "Epoch 75/100\n",
      "17/17 [==============================] - 0s 18ms/step - loss: 2.5260 - accuracy: 0.9935 - val_loss: 2.7010 - val_accuracy: 0.8268\n",
      "Epoch 76/100\n",
      "17/17 [==============================] - 0s 17ms/step - loss: 2.5258 - accuracy: 0.9944 - val_loss: 2.6905 - val_accuracy: 0.8380\n",
      "Epoch 77/100\n",
      "17/17 [==============================] - 0s 18ms/step - loss: 2.5248 - accuracy: 0.9944 - val_loss: 2.7180 - val_accuracy: 0.8017\n",
      "Epoch 78/100\n",
      "17/17 [==============================] - 0s 18ms/step - loss: 2.5259 - accuracy: 0.9935 - val_loss: 2.7095 - val_accuracy: 0.8268\n",
      "Epoch 79/100\n",
      "17/17 [==============================] - 0s 17ms/step - loss: 2.5250 - accuracy: 0.9944 - val_loss: 2.7378 - val_accuracy: 0.7933\n",
      "Epoch 80/100\n",
      "17/17 [==============================] - 0s 17ms/step - loss: 2.5283 - accuracy: 0.9916 - val_loss: 2.7448 - val_accuracy: 0.7961\n",
      "Epoch 81/100\n",
      "17/17 [==============================] - 0s 17ms/step - loss: 2.5268 - accuracy: 0.9935 - val_loss: 2.7057 - val_accuracy: 0.8240\n",
      "Epoch 82/100\n",
      "17/17 [==============================] - 0s 17ms/step - loss: 2.5249 - accuracy: 0.9953 - val_loss: 2.7830 - val_accuracy: 0.7514\n",
      "Epoch 83/100\n",
      "17/17 [==============================] - 0s 17ms/step - loss: 2.5232 - accuracy: 0.9963 - val_loss: 2.7721 - val_accuracy: 0.7598\n",
      "Epoch 84/100\n",
      "17/17 [==============================] - 0s 17ms/step - loss: 2.5228 - accuracy: 0.9972 - val_loss: 2.7620 - val_accuracy: 0.7542\n",
      "Epoch 85/100\n",
      "17/17 [==============================] - 0s 17ms/step - loss: 2.5229 - accuracy: 0.9963 - val_loss: 2.7237 - val_accuracy: 0.8212\n",
      "Epoch 86/100\n",
      "17/17 [==============================] - 0s 17ms/step - loss: 2.5225 - accuracy: 0.9972 - val_loss: 2.7856 - val_accuracy: 0.7430\n",
      "Epoch 87/100\n",
      "17/17 [==============================] - 0s 17ms/step - loss: 2.5226 - accuracy: 0.9972 - val_loss: 2.7418 - val_accuracy: 0.7849\n",
      "Epoch 88/100\n",
      "17/17 [==============================] - 0s 17ms/step - loss: 2.5239 - accuracy: 0.9963 - val_loss: 2.7528 - val_accuracy: 0.7793\n",
      "Epoch 89/100\n",
      "17/17 [==============================] - 0s 17ms/step - loss: 2.5239 - accuracy: 0.9953 - val_loss: 2.7727 - val_accuracy: 0.7598\n",
      "Epoch 90/100\n",
      "17/17 [==============================] - 0s 18ms/step - loss: 2.5225 - accuracy: 0.9972 - val_loss: 2.7686 - val_accuracy: 0.7598\n",
      "Epoch 91/100\n",
      "17/17 [==============================] - 0s 17ms/step - loss: 2.5226 - accuracy: 0.9963 - val_loss: 2.7396 - val_accuracy: 0.7989\n",
      "Epoch 92/100\n",
      "17/17 [==============================] - 0s 17ms/step - loss: 2.5232 - accuracy: 0.9972 - val_loss: 2.8233 - val_accuracy: 0.7011\n",
      "Epoch 93/100\n",
      "17/17 [==============================] - 0s 17ms/step - loss: 2.5231 - accuracy: 0.9972 - val_loss: 2.7217 - val_accuracy: 0.8156\n",
      "Epoch 94/100\n",
      "17/17 [==============================] - 0s 18ms/step - loss: 2.5246 - accuracy: 0.9963 - val_loss: 2.7449 - val_accuracy: 0.8017\n",
      "Epoch 95/100\n",
      "17/17 [==============================] - 0s 17ms/step - loss: 2.5241 - accuracy: 0.9963 - val_loss: 2.6608 - val_accuracy: 0.8659\n",
      "Epoch 96/100\n",
      "17/17 [==============================] - 0s 17ms/step - loss: 2.5242 - accuracy: 0.9963 - val_loss: 2.7601 - val_accuracy: 0.7821\n",
      "Epoch 97/100\n",
      "17/17 [==============================] - 0s 17ms/step - loss: 2.5228 - accuracy: 0.9981 - val_loss: 2.7119 - val_accuracy: 0.8268\n",
      "Epoch 98/100\n",
      "17/17 [==============================] - 0s 17ms/step - loss: 2.5250 - accuracy: 0.9944 - val_loss: 2.6926 - val_accuracy: 0.8436\n",
      "Epoch 99/100\n",
      "17/17 [==============================] - 0s 17ms/step - loss: 2.5231 - accuracy: 0.9981 - val_loss: 2.6562 - val_accuracy: 0.8715\n",
      "Epoch 100/100\n",
      "17/17 [==============================] - 0s 17ms/step - loss: 2.5219 - accuracy: 0.9972 - val_loss: 2.6576 - val_accuracy: 0.8687\n"
     ]
    }
   ],
   "source": [
    "# Start TensorBoard.\n",
    "#%tensorboard --logdir logs/image\n",
    "\n",
    "history = model.fit(x=X_train, y=y_train, epochs=epochs, validation_data = (X_val, y_val), use_multiprocessing = True, batch_size=64, callbacks=[callback])"
   ]
  },
  {
   "cell_type": "code",
   "execution_count": 62,
   "metadata": {},
   "outputs": [
    {
     "data": {
      "text/plain": [
       "<matplotlib.legend.Legend at 0x1ef22afd790>"
      ]
     },
     "execution_count": 62,
     "metadata": {},
     "output_type": "execute_result"
    },
    {
     "data": {
      "image/png": "[encoded data removed]",
      "text/plain": [
       "<Figure size 432x288 with 1 Axes>"
      ]
     },
     "metadata": {
      "needs_background": "light"
     },
     "output_type": "display_data"
    }
   ],
   "source": [
    "plt.figure()\n",
    "plt.plot([i for i in range(epochs)], history.history['val_accuracy'], label='Val Acc')\n",
    "plt.plot([i for i in range(epochs)], history.history['accuracy'], label='Training Acc')\n",
    "plt.xlabel('Epoch')\n",
    "plt.ylabel('Accuracy')\n",
    "plt.legend()"
   ]
  },
  {
   "cell_type": "code",
   "execution_count": 36,
   "metadata": {},
   "outputs": [
    {
     "data": {
      "text/plain": [
       "dict_keys(['loss', 'accuracy', 'val_loss', 'val_accuracy'])"
      ]
     },
     "execution_count": 36,
     "metadata": {},
     "output_type": "execute_result"
    }
   ],
   "source": [
    "history.history.keys()"
   ]
  },
  {
   "cell_type": "code",
   "execution_count": 63,
   "metadata": {},
   "outputs": [
    {
     "name": "stdout",
     "output_type": "stream",
     "text": [
      "15/15 [==============================] - 0s 5ms/step - loss: 2.6743 - accuracy: 0.8700\n"
     ]
    },
    {
     "data": {
      "text/plain": [
       "[2.6742866039276123, 0.8700209856033325]"
      ]
     },
     "execution_count": 63,
     "metadata": {},
     "output_type": "execute_result"
    }
   ],
   "source": [
    "model.evaluate(X_test, y_test)"
   ]
  },
  {
   "cell_type": "code",
   "execution_count": null,
   "metadata": {},
   "outputs": [],
   "source": [
    "tf.keras.models.save_model(model, 'C:/Users/suhas/Documents/College Projects/Leaf-Classification-Medicinal/model')"
   ]
  },
  {
   "cell_type": "code",
   "execution_count": 64,
   "metadata": {},
   "outputs": [
    {
     "data": {
      "text/plain": [
       "0.8715083599090576"
      ]
     },
     "execution_count": 64,
     "metadata": {},
     "output_type": "execute_result"
    }
   ],
   "source": [
    "max(history.history['val_accuracy'])"
   ]
  },
  {
   "cell_type": "markdown",
   "metadata": {},
   "source": [
    "## Confusion Matrix with Seaborn (On Test Data)"
   ]
  },
  {
   "cell_type": "code",
   "execution_count": 65,
   "metadata": {},
   "outputs": [],
   "source": [
    "pred = model.predict(X_test)"
   ]
  },
  {
   "cell_type": "code",
   "execution_count": 66,
   "metadata": {},
   "outputs": [],
   "source": [
    "conf = confusion_matrix(y_test, np.argmax(pred, axis = 1))"
   ]
  },
  {
   "cell_type": "code",
   "execution_count": 67,
   "metadata": {},
   "outputs": [
    {
     "data": {
      "text/plain": [
       "<AxesSubplot:>"
      ]
     },
     "execution_count": 67,
     "metadata": {},
     "output_type": "execute_result"
    },
    {
     "data": {
      "image/png": "[encoded data removed]",
      "text/plain": [
       "<Figure size 864x864 with 2 Axes>"
      ]
     },
     "metadata": {
      "needs_background": "light"
     },
     "output_type": "display_data"
    }
   ],
   "source": [
    "plt.figure(figsize=(12, 12))\n",
    "sns.heatmap(conf, annot=True)"
   ]
  },
  {
   "cell_type": "markdown",
   "metadata": {},
   "source": [
    "## Confusion Matrix (On Validation Data)"
   ]
  },
  {
   "cell_type": "code",
   "execution_count": 68,
   "metadata": {},
   "outputs": [],
   "source": [
    "vald = model.predict(X_val)\n"
   ]
  },
  {
   "cell_type": "code",
   "execution_count": 69,
   "metadata": {},
   "outputs": [],
   "source": [
    "conf_val = confusion_matrix(y_val, np.argmax(vald, axis = 1))"
   ]
  },
  {
   "cell_type": "code",
   "execution_count": 70,
   "metadata": {},
   "outputs": [
    {
     "data": {
      "text/plain": [
       "<AxesSubplot:>"
      ]
     },
     "execution_count": 70,
     "metadata": {},
     "output_type": "execute_result"
    },
    {
     "data": {
      "image/png": "[encoded data removed]",
      "text/plain": [
       "<Figure size 864x864 with 2 Axes>"
      ]
     },
     "metadata": {
      "needs_background": "light"
     },
     "output_type": "display_data"
    }
   ],
   "source": [
    "plt.figure(figsize=(12, 12))\n",
    "sns.heatmap(conf_val, annot=True)"
   ]
  },
  {
   "cell_type": "code",
   "execution_count": null,
   "metadata": {},
   "outputs": [],
   "source": []
  }
 ],
 "metadata": {
  "kernelspec": {
   "display_name": "Python 3",
   "language": "python",
   "name": "python3"
  },
  "language_info": {
   "codemirror_mode": {
    "name": "ipython",
    "version": 3
   },
   "file_extension": ".py",
   "mimetype": "text/x-python",
   "name": "python",
   "nbconvert_exporter": "python",
   "pygments_lexer": "ipython3",
   "version": "3.8.5"
  }
 },
 "nbformat": 4,
 "nbformat_minor": 4
}
