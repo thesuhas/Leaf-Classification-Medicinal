{
 "cells": [
  {
   "cell_type": "code",
   "execution_count": 1,
   "metadata": {},
   "outputs": [],
   "source": [
    "import pandas as pd\n",
    "import numpy as np\n",
    "import cv2\n",
    "import tensorflow as tf\n",
    "from tensorflow import keras\n",
    "from tensorflow.keras import layers\n",
    "from tensorflow.keras.models import Sequential\n",
    "import matplotlib.pyplot as plt\n",
    "from matplotlib.pyplot import imshow\n",
    "from sklearn.model_selection import train_test_split\n",
    "import os"
   ]
  },
  {
   "cell_type": "code",
   "execution_count": 2,
   "metadata": {},
   "outputs": [
    {
     "data": {
      "text/plain": [
       "'2.3.0-tf'"
      ]
     },
     "execution_count": 2,
     "metadata": {},
     "output_type": "execute_result"
    }
   ],
   "source": [
    "keras.__version__"
   ]
  },
  {
   "cell_type": "code",
   "execution_count": 3,
   "metadata": {},
   "outputs": [],
   "source": [
    "path = \"C:/Users/suhas/Documents/Mini Project/Leaves/\"\n",
    "test = \"C:/Users/suhas/Documents/Mini Project/Leaves/Test\""
   ]
  },
  {
   "cell_type": "code",
   "execution_count": 14,
   "metadata": {},
   "outputs": [],
   "source": [
    "IMAGE_SIZE = 100\n",
    "num_classes = 32\n",
    "epochs = 100\n",
    "initializer = 'he_normal'"
   ]
  },
  {
   "cell_type": "code",
   "execution_count": 5,
   "metadata": {},
   "outputs": [],
   "source": [
    "def label(img_name):\n",
    "    num = img_name.split('_')[1]\n",
    "    #print(num)\n",
    "    if num == 'pubescent bamboo':\n",
    "        return 0 \n",
    "    elif num == 'chinese horse chestnut':\n",
    "        return 1 \n",
    "    elif num == 'anhui barberry':\n",
    "        return 2 \n",
    "    elif num == 'chinese redbud':\n",
    "        return 3\n",
    "    elif num == 'true indigo':\n",
    "        return 4\n",
    "    elif num == 'japanese maple':\n",
    "        return 5 \n",
    "    elif num == 'nanmu':\n",
    "        return 6 \n",
    "    elif num == 'castor aralia':\n",
    "        return 7 \n",
    "    elif num == 'chinese cinnamon':\n",
    "        return 8 \n",
    "    elif num == 'goldenrain tree':\n",
    "        return 9 \n",
    "    elif num == 'big fruited holly':\n",
    "        return 10 \n",
    "    elif num == 'japanese chestwood':\n",
    "        return 11 \n",
    "    elif num == 'wintersweet':\n",
    "        return 12 \n",
    "    elif num == 'camphor tree':\n",
    "        return 13\n",
    "    elif num == 'japan arrowwood':\n",
    "        return 14\n",
    "    elif num == 'sweet osmanthus':\n",
    "        return 15\n",
    "    elif num == 'deodar':\n",
    "        return 16\n",
    "    elif num == 'ginkgo':\n",
    "        return 17 \n",
    "    elif num == 'crape myrtle':\n",
    "        return 18 \n",
    "    elif num == 'oleandar':\n",
    "        return 19\n",
    "    elif num == 'yew plum pie':\n",
    "        return 20\n",
    "    elif num == 'japanese flowering cherry':\n",
    "        return 21 \n",
    "    elif num == 'glossy privet':\n",
    "        return 22\n",
    "    elif num == 'chinese toon':\n",
    "        return 23\n",
    "    elif num == 'peach':\n",
    "        return 24\n",
    "    elif num == 'ford woodlotus':\n",
    "        return 25\n",
    "    elif num == 'trident maple':\n",
    "        return 26\n",
    "    elif num == 'beales barberry':\n",
    "        return 27\n",
    "    elif num == 'southern magnolia':\n",
    "        return 28\n",
    "    elif num == 'canadian poplar':\n",
    "        return 29\n",
    "    elif num == 'chinese tulip tree':\n",
    "        return 30\n",
    "    elif num == 'tangerine':\n",
    "        return 31"
   ]
  },
  {
   "cell_type": "markdown",
   "metadata": {},
   "source": [
    "# Creating Dataset"
   ]
  },
  {
   "cell_type": "code",
   "execution_count": 80,
   "metadata": {},
   "outputs": [],
   "source": [
    "def create_dataset(path):\n",
    "    data = []\n",
    "    for folder in os.scandir(path):\n",
    "        if \"leaf\" in str(folder):\n",
    "            for image in os.scandir(os.path.join(path, folder)):\n",
    "                leaf = label(folder.name)\n",
    "                if (leaf == None):\n",
    "                    print(folder.name)\n",
    "                    break\n",
    "                img = cv2.imread(os.path.join(path, folder, image))\n",
    "\n",
    "                # Basic processing\n",
    "                imgGray = cv2.cvtColor(img, cv2.COLOR_BGR2GRAY)\n",
    "\n",
    "                imgBlur = cv2.GaussianBlur(imgGray, (3, 3), 0)\n",
    "                thresh, imgBW = cv2.threshold(imgBlur, 128, 255, cv2.THRESH_BINARY | cv2.THRESH_OTSU)\n",
    "                imgInv = cv2.bitwise_not(imgBW)\n",
    "                kernel = np.ones((50, 50))\n",
    "                imgClosed = cv2.morphologyEx(imgInv, cv2.MORPH_CLOSE, kernel)\n",
    "\n",
    "                # Resize\n",
    "                new = cv2.resize(imgClosed, (IMAGE_SIZE, IMAGE_SIZE))\n",
    "                #Adding third dimension to shape\n",
    "                new.shape += (1,)\n",
    "                data.append([new, leaf])\n",
    "    return data"
   ]
  },
  {
   "cell_type": "code",
   "execution_count": 81,
   "metadata": {},
   "outputs": [],
   "source": [
    "data = create_dataset(path)"
   ]
  },
  {
   "cell_type": "code",
   "execution_count": 82,
   "metadata": {},
   "outputs": [
    {
     "data": {
      "text/plain": [
       "1907"
      ]
     },
     "execution_count": 82,
     "metadata": {},
     "output_type": "execute_result"
    }
   ],
   "source": [
    "X = np.array([d[0] for d in data])\n",
    "len(X)"
   ]
  },
  {
   "cell_type": "code",
   "execution_count": 83,
   "metadata": {},
   "outputs": [
    {
     "data": {
      "text/plain": [
       "(1907, 100, 100, 1)"
      ]
     },
     "execution_count": 83,
     "metadata": {},
     "output_type": "execute_result"
    }
   ],
   "source": [
    "X = np.divide(X, 255)\n",
    "len(X)\n",
    "X.shape"
   ]
  },
  {
   "cell_type": "code",
   "execution_count": 84,
   "metadata": {},
   "outputs": [
    {
     "data": {
      "text/plain": [
       "1907"
      ]
     },
     "execution_count": 84,
     "metadata": {},
     "output_type": "execute_result"
    }
   ],
   "source": [
    "y = np.array([d[1] for d in data])\n",
    "len(y)"
   ]
  },
  {
   "cell_type": "code",
   "execution_count": 85,
   "metadata": {},
   "outputs": [],
   "source": [
    "X_train, X_test, y_train, y_test = train_test_split(X, y, random_state = 1, stratify=y)\n",
    "X_train, X_val, y_train, y_val = train_test_split(X_train, y_train, random_state = 1, stratify=y_train)"
   ]
  },
  {
   "cell_type": "markdown",
   "metadata": {},
   "source": [
    "# CNN"
   ]
  },
  {
   "cell_type": "code",
   "execution_count": 86,
   "metadata": {},
   "outputs": [],
   "source": [
    "model = Sequential([\n",
    "    layers.InputLayer(input_shape=(IMAGE_SIZE, IMAGE_SIZE, 1)),\n",
    "    layers.Conv2D(16, 3, padding='same', activation='relu', kernel_initializer=initializer),\n",
    "    layers.MaxPool2D(),\n",
    "    layers.BatchNormalization(),\n",
    "    # Dropout layer for regularisation\n",
    "    layers.Dropout(rate=0.5),\n",
    "    layers.Conv2D(32, 3, padding='same', activation='relu', kernel_initializer=initializer),\n",
    "    layers.MaxPool2D(),\n",
    "    layers.BatchNormalization(),\n",
    "    # Dropout layer for regularisation\n",
    "    layers.Dropout(rate=0.5),\n",
    "    layers.Conv2D(64, 5, padding='same', activation='relu', kernel_initializer=initializer),\n",
    "    layers.MaxPool2D(),\n",
    "    layers.BatchNormalization(),\n",
    "    # Dropout layer for regularisation\n",
    "    layers.Dropout(rate=0.5),\n",
    "    # Flattening output to connect to Densely Connected Layers\n",
    "    layers.Flatten(),\n",
    "    layers.Dense(128, activation='relu', kernel_initializer=initializer),\n",
    "    layers.BatchNormalization(),\n",
    "    layers.Dense(num_classes, activation='softmax', kernel_initializer=initializer)\n",
    "])"
   ]
  },
  {
   "cell_type": "code",
   "execution_count": 87,
   "metadata": {},
   "outputs": [],
   "source": [
    "model.compile(optimizer='adam', loss=tf.keras.losses.SparseCategoricalCrossentropy(from_logits=True), metrics=['accuracy'])"
   ]
  },
  {
   "cell_type": "code",
   "execution_count": 88,
   "metadata": {},
   "outputs": [
    {
     "data": {
      "text/plain": [
       "(1072, 100, 100, 1)"
      ]
     },
     "execution_count": 88,
     "metadata": {},
     "output_type": "execute_result"
    }
   ],
   "source": [
    "X_train.shape"
   ]
  },
  {
   "cell_type": "code",
   "execution_count": 89,
   "metadata": {},
   "outputs": [
    {
     "name": "stdout",
     "output_type": "stream",
     "text": [
      "Model: \"sequential_3\"\n",
      "_________________________________________________________________\n",
      "Layer (type)                 Output Shape              Param #   \n",
      "=================================================================\n",
      "conv2d_9 (Conv2D)            (None, 100, 100, 16)      160       \n",
      "_________________________________________________________________\n",
      "max_pooling2d_9 (MaxPooling2 (None, 50, 50, 16)        0         \n",
      "_________________________________________________________________\n",
      "batch_normalization_12 (Batc (None, 50, 50, 16)        64        \n",
      "_________________________________________________________________\n",
      "dropout_9 (Dropout)          (None, 50, 50, 16)        0         \n",
      "_________________________________________________________________\n",
      "conv2d_10 (Conv2D)           (None, 50, 50, 32)        4640      \n",
      "_________________________________________________________________\n",
      "max_pooling2d_10 (MaxPooling (None, 25, 25, 32)        0         \n",
      "_________________________________________________________________\n",
      "batch_normalization_13 (Batc (None, 25, 25, 32)        128       \n",
      "_________________________________________________________________\n",
      "dropout_10 (Dropout)         (None, 25, 25, 32)        0         \n",
      "_________________________________________________________________\n",
      "conv2d_11 (Conv2D)           (None, 25, 25, 64)        51264     \n",
      "_________________________________________________________________\n",
      "max_pooling2d_11 (MaxPooling (None, 12, 12, 64)        0         \n",
      "_________________________________________________________________\n",
      "batch_normalization_14 (Batc (None, 12, 12, 64)        256       \n",
      "_________________________________________________________________\n",
      "dropout_11 (Dropout)         (None, 12, 12, 64)        0         \n",
      "_________________________________________________________________\n",
      "flatten_3 (Flatten)          (None, 9216)              0         \n",
      "_________________________________________________________________\n",
      "dense_6 (Dense)              (None, 128)               1179776   \n",
      "_________________________________________________________________\n",
      "batch_normalization_15 (Batc (None, 128)               512       \n",
      "_________________________________________________________________\n",
      "dense_7 (Dense)              (None, 32)                4128      \n",
      "=================================================================\n",
      "Total params: 1,240,928\n",
      "Trainable params: 1,240,448\n",
      "Non-trainable params: 480\n",
      "_________________________________________________________________\n"
     ]
    }
   ],
   "source": [
    "model.summary()"
   ]
  },
  {
   "cell_type": "code",
   "execution_count": 30,
   "metadata": {},
   "outputs": [
    {
     "data": {
      "text/plain": [
       "(726, 100, 100, 1)"
      ]
     },
     "execution_count": 30,
     "metadata": {},
     "output_type": "execute_result"
    }
   ],
   "source": []
  },
  {
   "cell_type": "code",
   "execution_count": 108,
   "metadata": {},
   "outputs": [
    {
     "name": "stdout",
     "output_type": "stream",
     "text": [
      "Epoch 1/100\n",
      "34/34 [==============================] - 7s 203ms/step - loss: 2.5686 - accuracy: 0.9515 - val_loss: 2.7801 - val_accuracy: 0.7458\n",
      "Epoch 2/100\n",
      "34/34 [==============================] - 7s 206ms/step - loss: 2.5687 - accuracy: 0.9515 - val_loss: 2.7649 - val_accuracy: 0.7654\n",
      "Epoch 3/100\n",
      "34/34 [==============================] - 7s 202ms/step - loss: 2.5706 - accuracy: 0.9506 - val_loss: 2.7827 - val_accuracy: 0.7542\n",
      "Epoch 4/100\n",
      "34/34 [==============================] - 7s 206ms/step - loss: 2.5696 - accuracy: 0.9506 - val_loss: 2.7627 - val_accuracy: 0.7682\n",
      "Epoch 5/100\n",
      "34/34 [==============================] - 7s 203ms/step - loss: 2.5697 - accuracy: 0.9496 - val_loss: 2.7714 - val_accuracy: 0.7598\n",
      "Epoch 6/100\n",
      "34/34 [==============================] - 7s 205ms/step - loss: 2.5701 - accuracy: 0.9524 - val_loss: 2.7463 - val_accuracy: 0.7877\n",
      "Epoch 7/100\n",
      "34/34 [==============================] - 7s 205ms/step - loss: 2.5722 - accuracy: 0.9506 - val_loss: 2.7593 - val_accuracy: 0.7709\n",
      "Epoch 8/100\n",
      "34/34 [==============================] - 7s 203ms/step - loss: 2.5706 - accuracy: 0.9515 - val_loss: 2.7667 - val_accuracy: 0.7626\n",
      "Epoch 9/100\n",
      "34/34 [==============================] - 7s 206ms/step - loss: 2.5673 - accuracy: 0.9534 - val_loss: 2.7554 - val_accuracy: 0.7765\n",
      "Epoch 10/100\n",
      "34/34 [==============================] - 7s 207ms/step - loss: 2.5663 - accuracy: 0.9534 - val_loss: 2.7606 - val_accuracy: 0.7765\n",
      "Epoch 11/100\n",
      "34/34 [==============================] - 7s 208ms/step - loss: 2.5661 - accuracy: 0.9543 - val_loss: 2.7644 - val_accuracy: 0.7570\n",
      "Epoch 12/100\n",
      "34/34 [==============================] - 7s 209ms/step - loss: 2.5653 - accuracy: 0.9552 - val_loss: 2.7515 - val_accuracy: 0.7849\n",
      "Epoch 13/100\n",
      "34/34 [==============================] - 7s 207ms/step - loss: 2.5690 - accuracy: 0.9534 - val_loss: 2.7525 - val_accuracy: 0.7765\n",
      "Epoch 14/100\n",
      "34/34 [==============================] - 7s 206ms/step - loss: 2.5681 - accuracy: 0.9534 - val_loss: 2.7458 - val_accuracy: 0.7821\n",
      "Epoch 15/100\n",
      "34/34 [==============================] - 7s 219ms/step - loss: 2.5625 - accuracy: 0.9580 - val_loss: 2.7537 - val_accuracy: 0.7793\n",
      "Epoch 16/100\n",
      "34/34 [==============================] - 7s 221ms/step - loss: 2.5618 - accuracy: 0.9608 - val_loss: 2.7665 - val_accuracy: 0.7598\n",
      "Epoch 17/100\n",
      "34/34 [==============================] - 8s 223ms/step - loss: 2.5589 - accuracy: 0.9618 - val_loss: 2.7578 - val_accuracy: 0.7709\n",
      "Epoch 18/100\n",
      "34/34 [==============================] - 8s 223ms/step - loss: 2.5582 - accuracy: 0.9627 - val_loss: 2.7521 - val_accuracy: 0.7765\n",
      "Epoch 19/100\n",
      "34/34 [==============================] - 8s 227ms/step - loss: 2.5598 - accuracy: 0.9608 - val_loss: 2.7494 - val_accuracy: 0.7849\n",
      "Epoch 20/100\n",
      "34/34 [==============================] - 8s 231ms/step - loss: 2.5569 - accuracy: 0.9636 - val_loss: 2.7583 - val_accuracy: 0.7765\n",
      "Epoch 21/100\n",
      "34/34 [==============================] - 8s 239ms/step - loss: 2.5574 - accuracy: 0.9636 - val_loss: 2.7551 - val_accuracy: 0.7765\n",
      "Epoch 22/100\n",
      "34/34 [==============================] - 8s 243ms/step - loss: 2.5562 - accuracy: 0.9636 - val_loss: 2.7607 - val_accuracy: 0.7654\n",
      "Epoch 23/100\n",
      "34/34 [==============================] - 9s 256ms/step - loss: 2.5571 - accuracy: 0.9636 - val_loss: 2.7766 - val_accuracy: 0.7570\n",
      "Epoch 24/100\n",
      "34/34 [==============================] - 9s 259ms/step - loss: 2.5597 - accuracy: 0.9618 - val_loss: 2.7580 - val_accuracy: 0.7709\n",
      "Epoch 25/100\n",
      "34/34 [==============================] - 10s 280ms/step - loss: 2.5541 - accuracy: 0.9674 - val_loss: 2.7594 - val_accuracy: 0.7709\n",
      "Epoch 26/100\n",
      "34/34 [==============================] - 10s 281ms/step - loss: 2.5685 - accuracy: 0.9515 - val_loss: 2.7559 - val_accuracy: 0.7737\n",
      "Epoch 27/100\n",
      "34/34 [==============================] - 10s 299ms/step - loss: 2.5538 - accuracy: 0.9655 - val_loss: 2.7538 - val_accuracy: 0.7793\n",
      "Epoch 28/100\n",
      "34/34 [==============================] - 10s 303ms/step - loss: 2.5534 - accuracy: 0.9664 - val_loss: 2.7538 - val_accuracy: 0.7821\n",
      "Epoch 29/100\n",
      "34/34 [==============================] - 10s 299ms/step - loss: 2.5500 - accuracy: 0.9711 - val_loss: 2.7540 - val_accuracy: 0.7821\n",
      "Epoch 30/100\n",
      "34/34 [==============================] - 10s 304ms/step - loss: 2.5516 - accuracy: 0.9674 - val_loss: 2.7510 - val_accuracy: 0.7765\n",
      "Epoch 31/100\n",
      "34/34 [==============================] - 10s 304ms/step - loss: 2.5505 - accuracy: 0.9692 - val_loss: 2.7601 - val_accuracy: 0.7654\n",
      "Epoch 32/100\n",
      "34/34 [==============================] - 10s 299ms/step - loss: 2.5515 - accuracy: 0.9683 - val_loss: 2.7596 - val_accuracy: 0.7682\n",
      "Epoch 33/100\n",
      "34/34 [==============================] - 10s 305ms/step - loss: 2.5536 - accuracy: 0.9655 - val_loss: 2.7616 - val_accuracy: 0.7654\n",
      "Epoch 34/100\n",
      "34/34 [==============================] - 10s 302ms/step - loss: 2.5507 - accuracy: 0.9683 - val_loss: 2.7618 - val_accuracy: 0.7765\n",
      "Epoch 35/100\n",
      "34/34 [==============================] - 10s 297ms/step - loss: 2.5490 - accuracy: 0.9711 - val_loss: 2.7545 - val_accuracy: 0.7793\n",
      "Epoch 36/100\n",
      "34/34 [==============================] - 11s 312ms/step - loss: 2.5494 - accuracy: 0.9701 - val_loss: 2.7501 - val_accuracy: 0.7793\n",
      "Epoch 37/100\n",
      "34/34 [==============================] - 10s 290ms/step - loss: 2.5512 - accuracy: 0.9692 - val_loss: 2.7537 - val_accuracy: 0.7849\n",
      "Epoch 38/100\n",
      "34/34 [==============================] - 9s 277ms/step - loss: 2.5515 - accuracy: 0.9692 - val_loss: 2.7580 - val_accuracy: 0.7765\n",
      "Epoch 39/100\n",
      "34/34 [==============================] - 10s 284ms/step - loss: 2.5487 - accuracy: 0.9701 - val_loss: 2.7625 - val_accuracy: 0.7570\n",
      "Epoch 40/100\n",
      "34/34 [==============================] - 9s 268ms/step - loss: 2.5505 - accuracy: 0.9692 - val_loss: 2.7633 - val_accuracy: 0.7626\n",
      "Epoch 41/100\n",
      "34/34 [==============================] - 9s 259ms/step - loss: 2.5497 - accuracy: 0.9692 - val_loss: 2.7466 - val_accuracy: 0.7877\n",
      "Epoch 42/100\n",
      "34/34 [==============================] - 9s 256ms/step - loss: 2.5487 - accuracy: 0.9701 - val_loss: 2.7452 - val_accuracy: 0.7877\n",
      "Epoch 43/100\n",
      "34/34 [==============================] - 9s 260ms/step - loss: 2.5479 - accuracy: 0.9711 - val_loss: 2.7499 - val_accuracy: 0.7793\n",
      "Epoch 44/100\n",
      "34/34 [==============================] - 11s 320ms/step - loss: 2.5482 - accuracy: 0.9711 - val_loss: 2.7687 - val_accuracy: 0.7626\n",
      "Epoch 45/100\n",
      "34/34 [==============================] - 11s 311ms/step - loss: 2.5482 - accuracy: 0.9711 - val_loss: 2.7497 - val_accuracy: 0.7933\n",
      "Epoch 46/100\n",
      "34/34 [==============================] - 10s 288ms/step - loss: 2.5485 - accuracy: 0.9711 - val_loss: 2.7578 - val_accuracy: 0.7709\n",
      "Epoch 47/100\n",
      "34/34 [==============================] - 10s 292ms/step - loss: 2.5492 - accuracy: 0.9701 - val_loss: 2.7514 - val_accuracy: 0.7765\n",
      "Epoch 48/100\n",
      "34/34 [==============================] - 8s 232ms/step - loss: 2.5492 - accuracy: 0.9692 - val_loss: 2.7416 - val_accuracy: 0.7933\n",
      "Epoch 49/100\n",
      "34/34 [==============================] - 8s 234ms/step - loss: 2.5475 - accuracy: 0.9720 - val_loss: 2.7456 - val_accuracy: 0.7821\n",
      "Epoch 50/100\n",
      "34/34 [==============================] - 8s 229ms/step - loss: 2.5484 - accuracy: 0.9711 - val_loss: 2.7435 - val_accuracy: 0.7877\n",
      "Epoch 51/100\n",
      "34/34 [==============================] - 8s 232ms/step - loss: 2.5495 - accuracy: 0.9692 - val_loss: 2.7487 - val_accuracy: 0.7821\n",
      "Epoch 52/100\n",
      "34/34 [==============================] - 8s 224ms/step - loss: 2.5479 - accuracy: 0.9711 - val_loss: 2.7410 - val_accuracy: 0.7905\n",
      "Epoch 53/100\n",
      "34/34 [==============================] - 8s 233ms/step - loss: 2.5473 - accuracy: 0.9720 - val_loss: 2.7365 - val_accuracy: 0.7905\n",
      "Epoch 54/100\n",
      "34/34 [==============================] - 8s 229ms/step - loss: 2.5468 - accuracy: 0.9720 - val_loss: 2.7313 - val_accuracy: 0.8045\n",
      "Epoch 55/100\n",
      "34/34 [==============================] - 9s 267ms/step - loss: 2.5473 - accuracy: 0.9711 - val_loss: 2.7361 - val_accuracy: 0.7989\n",
      "Epoch 56/100\n",
      "34/34 [==============================] - 9s 272ms/step - loss: 2.5467 - accuracy: 0.9720 - val_loss: 2.7321 - val_accuracy: 0.7933\n",
      "Epoch 57/100\n",
      "34/34 [==============================] - 8s 246ms/step - loss: 2.5465 - accuracy: 0.9720 - val_loss: 2.7330 - val_accuracy: 0.7989\n"
     ]
    },
    {
     "name": "stdout",
     "output_type": "stream",
     "text": [
      "Epoch 58/100\n",
      "34/34 [==============================] - 9s 268ms/step - loss: 2.5452 - accuracy: 0.9729 - val_loss: 2.7393 - val_accuracy: 0.7933\n",
      "Epoch 59/100\n",
      "34/34 [==============================] - 8s 238ms/step - loss: 2.5466 - accuracy: 0.9720 - val_loss: 2.7406 - val_accuracy: 0.7849\n",
      "Epoch 60/100\n",
      "34/34 [==============================] - 8s 237ms/step - loss: 2.5457 - accuracy: 0.9729 - val_loss: 2.7381 - val_accuracy: 0.7933\n",
      "Epoch 61/100\n",
      "34/34 [==============================] - 8s 240ms/step - loss: 2.5458 - accuracy: 0.9729 - val_loss: 2.7343 - val_accuracy: 0.7961\n",
      "Epoch 62/100\n",
      "34/34 [==============================] - 8s 239ms/step - loss: 2.5470 - accuracy: 0.9729 - val_loss: 2.7350 - val_accuracy: 0.7989\n",
      "Epoch 63/100\n",
      "34/34 [==============================] - 8s 237ms/step - loss: 2.5470 - accuracy: 0.9720 - val_loss: 2.7398 - val_accuracy: 0.7905\n",
      "Epoch 64/100\n",
      "34/34 [==============================] - 8s 245ms/step - loss: 2.5469 - accuracy: 0.9729 - val_loss: 2.7453 - val_accuracy: 0.7905\n",
      "Epoch 65/100\n",
      "34/34 [==============================] - 10s 287ms/step - loss: 2.5467 - accuracy: 0.9729 - val_loss: 2.7441 - val_accuracy: 0.7849\n",
      "Epoch 66/100\n",
      "34/34 [==============================] - 9s 268ms/step - loss: 2.5452 - accuracy: 0.9739 - val_loss: 2.7440 - val_accuracy: 0.7821\n",
      "Epoch 67/100\n",
      "34/34 [==============================] - 9s 266ms/step - loss: 2.5458 - accuracy: 0.9739 - val_loss: 2.7506 - val_accuracy: 0.7709\n",
      "Epoch 68/100\n",
      "34/34 [==============================] - 9s 257ms/step - loss: 2.5458 - accuracy: 0.9729 - val_loss: 2.7429 - val_accuracy: 0.7849\n",
      "Epoch 69/100\n",
      "34/34 [==============================] - 9s 274ms/step - loss: 2.5466 - accuracy: 0.9729 - val_loss: 2.7427 - val_accuracy: 0.7821\n",
      "Epoch 70/100\n",
      "34/34 [==============================] - 9s 252ms/step - loss: 2.5475 - accuracy: 0.9720 - val_loss: 2.7374 - val_accuracy: 0.7905\n",
      "Epoch 71/100\n",
      "34/34 [==============================] - 10s 288ms/step - loss: 2.5453 - accuracy: 0.9739 - val_loss: 2.7381 - val_accuracy: 0.7933\n",
      "Epoch 72/100\n",
      "34/34 [==============================] - 10s 281ms/step - loss: 2.5467 - accuracy: 0.9720 - val_loss: 2.7326 - val_accuracy: 0.8045\n",
      "Epoch 73/100\n",
      "34/34 [==============================] - 10s 289ms/step - loss: 2.5479 - accuracy: 0.9711 - val_loss: 2.7468 - val_accuracy: 0.7877\n",
      "Epoch 74/100\n",
      "34/34 [==============================] - 10s 283ms/step - loss: 2.5481 - accuracy: 0.9711 - val_loss: 2.7457 - val_accuracy: 0.7821\n",
      "Epoch 75/100\n",
      "34/34 [==============================] - 10s 292ms/step - loss: 2.5458 - accuracy: 0.9729 - val_loss: 2.7440 - val_accuracy: 0.7849\n",
      "Epoch 76/100\n",
      "34/34 [==============================] - 10s 289ms/step - loss: 2.5464 - accuracy: 0.9729 - val_loss: 2.7467 - val_accuracy: 0.7821\n",
      "Epoch 77/100\n",
      "34/34 [==============================] - 10s 308ms/step - loss: 2.5462 - accuracy: 0.9729 - val_loss: 2.7479 - val_accuracy: 0.7793\n",
      "Epoch 78/100\n",
      "34/34 [==============================] - 11s 329ms/step - loss: 2.5497 - accuracy: 0.9701 - val_loss: 2.7491 - val_accuracy: 0.7793\n",
      "Epoch 79/100\n",
      "34/34 [==============================] - 18s 533ms/step - loss: 2.5452 - accuracy: 0.9739 - val_loss: 2.7437 - val_accuracy: 0.7877\n",
      "Epoch 80/100\n",
      "34/34 [==============================] - 14s 406ms/step - loss: 2.5443 - accuracy: 0.9748 - val_loss: 2.7427 - val_accuracy: 0.7821\n",
      "Epoch 81/100\n",
      "34/34 [==============================] - 13s 368ms/step - loss: 2.5446 - accuracy: 0.9748 - val_loss: 2.7515 - val_accuracy: 0.7626\n",
      "Epoch 82/100\n",
      "34/34 [==============================] - 11s 311ms/step - loss: 2.5442 - accuracy: 0.9748 - val_loss: 2.7504 - val_accuracy: 0.7737\n",
      "Epoch 83/100\n",
      "34/34 [==============================] - 10s 285ms/step - loss: 2.5490 - accuracy: 0.9692 - val_loss: 2.7609 - val_accuracy: 0.7570\n",
      "Epoch 84/100\n",
      "34/34 [==============================] - 9s 277ms/step - loss: 2.5452 - accuracy: 0.9748 - val_loss: 2.7401 - val_accuracy: 0.7821\n",
      "Epoch 85/100\n",
      "34/34 [==============================] - 10s 288ms/step - loss: 2.5452 - accuracy: 0.9739 - val_loss: 2.7420 - val_accuracy: 0.7765\n",
      "Epoch 86/100\n",
      "34/34 [==============================] - 10s 303ms/step - loss: 2.5443 - accuracy: 0.9739 - val_loss: 2.7522 - val_accuracy: 0.7626\n",
      "Epoch 87/100\n",
      "34/34 [==============================] - 10s 291ms/step - loss: 2.5488 - accuracy: 0.9720 - val_loss: 2.7340 - val_accuracy: 0.7905\n",
      "Epoch 88/100\n",
      "34/34 [==============================] - 10s 290ms/step - loss: 2.5442 - accuracy: 0.9748 - val_loss: 2.7440 - val_accuracy: 0.7737\n",
      "Epoch 89/100\n",
      "34/34 [==============================] - 10s 281ms/step - loss: 2.5441 - accuracy: 0.9748 - val_loss: 2.7442 - val_accuracy: 0.7737\n",
      "Epoch 90/100\n",
      "34/34 [==============================] - 10s 286ms/step - loss: 2.5447 - accuracy: 0.9748 - val_loss: 2.7432 - val_accuracy: 0.7793\n",
      "Epoch 91/100\n",
      "34/34 [==============================] - 10s 304ms/step - loss: 2.5446 - accuracy: 0.9739 - val_loss: 2.7413 - val_accuracy: 0.7905\n",
      "Epoch 92/100\n",
      "34/34 [==============================] - 10s 281ms/step - loss: 2.5444 - accuracy: 0.9748 - val_loss: 2.7442 - val_accuracy: 0.7793\n",
      "Epoch 93/100\n",
      "34/34 [==============================] - 10s 288ms/step - loss: 2.5441 - accuracy: 0.9739 - val_loss: 2.7420 - val_accuracy: 0.7821\n",
      "Epoch 94/100\n",
      "34/34 [==============================] - 10s 296ms/step - loss: 2.5443 - accuracy: 0.9748 - val_loss: 2.7513 - val_accuracy: 0.7682\n",
      "Epoch 95/100\n",
      "34/34 [==============================] - 9s 274ms/step - loss: 2.5443 - accuracy: 0.9748 - val_loss: 2.7471 - val_accuracy: 0.7765\n",
      "Epoch 96/100\n",
      "34/34 [==============================] - 9s 277ms/step - loss: 2.5457 - accuracy: 0.9729 - val_loss: 2.7443 - val_accuracy: 0.7849\n",
      "Epoch 97/100\n",
      "34/34 [==============================] - 9s 269ms/step - loss: 2.5465 - accuracy: 0.9729 - val_loss: 2.7449 - val_accuracy: 0.7765\n",
      "Epoch 98/100\n",
      "34/34 [==============================] - 10s 286ms/step - loss: 2.5458 - accuracy: 0.9729 - val_loss: 2.7439 - val_accuracy: 0.7849\n",
      "Epoch 99/100\n",
      "34/34 [==============================] - 10s 286ms/step - loss: 2.5452 - accuracy: 0.9739 - val_loss: 2.7351 - val_accuracy: 0.7905\n",
      "Epoch 100/100\n",
      "34/34 [==============================] - 9s 264ms/step - loss: 2.5458 - accuracy: 0.9720 - val_loss: 2.7317 - val_accuracy: 0.7933\n"
     ]
    }
   ],
   "source": [
    "history = model.fit(x=X_train, y=y_train, epochs=epochs, validation_data = (X_val, y_val), use_multiprocessing = True, batch_size=32)"
   ]
  },
  {
   "cell_type": "code",
   "execution_count": 109,
   "metadata": {},
   "outputs": [
    {
     "data": {
      "text/plain": [
       "<matplotlib.legend.Legend at 0x1a5f2fd04c8>"
      ]
     },
     "execution_count": 109,
     "metadata": {},
     "output_type": "execute_result"
    },
    {
     "data": {
      "image/png": "[encoded data removed]",
      "text/plain": [
       "<Figure size 432x288 with 1 Axes>"
      ]
     },
     "metadata": {
      "needs_background": "light"
     },
     "output_type": "display_data"
    }
   ],
   "source": [
    "plt.figure()\n",
    "plt.plot([i for i in range(epochs)], history.history['val_accuracy'], label='Val Acc')\n",
    "plt.plot([i for i in range(epochs)], history.history['accuracy'], label='Training Acc')\n",
    "plt.xlabel('Epoch')\n",
    "plt.ylabel('Accuracy')\n",
    "plt.legend()"
   ]
  },
  {
   "cell_type": "code",
   "execution_count": 92,
   "metadata": {},
   "outputs": [
    {
     "data": {
      "text/plain": [
       "dict_keys(['loss', 'accuracy', 'val_loss', 'val_accuracy'])"
      ]
     },
     "execution_count": 92,
     "metadata": {},
     "output_type": "execute_result"
    }
   ],
   "source": [
    "history.history.keys()"
   ]
  },
  {
   "cell_type": "code",
   "execution_count": 110,
   "metadata": {},
   "outputs": [
    {
     "name": "stdout",
     "output_type": "stream",
     "text": [
      "15/15 [==============================] - 1s 39ms/step - loss: 2.7648 - accuracy: 0.7568\n"
     ]
    },
    {
     "data": {
      "text/plain": [
       "[2.7647666931152344, 0.7568134069442749]"
      ]
     },
     "execution_count": 110,
     "metadata": {},
     "output_type": "execute_result"
    }
   ],
   "source": [
    "model.evaluate(X_test, y_test)"
   ]
  },
  {
   "cell_type": "code",
   "execution_count": 127,
   "metadata": {},
   "outputs": [
    {
     "name": "stdout",
     "output_type": "stream",
     "text": [
      "INFO:tensorflow:Assets written to: C:/Users/suhas/Documents/College Projects/Leaf-Classification-Medicinal/model\\assets\n"
     ]
    }
   ],
   "source": [
    "tf.keras.models.save_model(model, 'C:/Users/suhas/Documents/College Projects/Leaf-Classification-Medicinal/model')"
   ]
  },
  {
   "cell_type": "code",
   "execution_count": 94,
   "metadata": {},
   "outputs": [
    {
     "data": {
      "text/plain": [
       "0.7681564092636108"
      ]
     },
     "execution_count": 94,
     "metadata": {},
     "output_type": "execute_result"
    }
   ],
   "source": [
    "max(history.history['val_accuracy'])"
   ]
  },
  {
   "cell_type": "code",
   "execution_count": 123,
   "metadata": {},
   "outputs": [],
   "source": [
    "i = 0"
   ]
  },
  {
   "cell_type": "code",
   "execution_count": 124,
   "metadata": {},
   "outputs": [
    {
     "name": "stdout",
     "output_type": "stream",
     "text": [
      "leaf_chinese cinnamon\n"
     ]
    }
   ],
   "source": [
    " for folder in os.scandir(path):\n",
    "        if \"leaf\" in str(folder):\n",
    "            for image in os.scandir(os.path.join(path, folder)):\n",
    "                leaf = label(folder.name)\n",
    "                if (leaf == None):\n",
    "                    print(folder.name)\n",
    "                    break\n",
    "                img = cv2.imread(os.path.join(path, folder, image))\n",
    "\n",
    "                # Basic processing\n",
    "                imgGray = cv2.cvtColor(img, cv2.COLOR_BGR2GRAY)\n",
    "\n",
    "                imgBlur = cv2.GaussianBlur(imgGray, (3, 3), 0)\n",
    "                thresh, imgBW = cv2.threshold(imgBlur, 128, 255, cv2.THRESH_BINARY | cv2.THRESH_OTSU)\n",
    "                imgInv = cv2.bitwise_not(imgBW)\n",
    "                kernel = np.ones((50, 50))\n",
    "                imgClosed = cv2.morphologyEx(imgInv, cv2.MORPH_CLOSE, kernel)\n",
    "\n",
    "                # Resize\n",
    "                new = cv2.resize(imgClosed, (IMAGE_SIZE, IMAGE_SIZE))\n",
    "                new.shape += (1,)\n",
    "                i +=1\n",
    "                if ( i == 400):\n",
    "                    print(folder.name)\n",
    "                    break\n",
    "            if (i == 400):\n",
    "                break"
   ]
  },
  {
   "cell_type": "code",
   "execution_count": 40,
   "metadata": {},
   "outputs": [
    {
     "name": "stdout",
     "output_type": "stream",
     "text": [
      "None\n"
     ]
    }
   ],
   "source": []
  },
  {
   "cell_type": "code",
   "execution_count": 125,
   "metadata": {},
   "outputs": [],
   "source": [
    "\n",
    "#Adding third dimension to shape\n",
    "new.shape = (1,) + new.shape\n",
    "#print(new.shape, flush=True)\n",
    "pred = model.predict(new)"
   ]
  },
  {
   "cell_type": "code",
   "execution_count": 126,
   "metadata": {},
   "outputs": [
    {
     "data": {
      "text/plain": [
       "9"
      ]
     },
     "execution_count": 126,
     "metadata": {},
     "output_type": "execute_result"
    }
   ],
   "source": [
    "pred.argmax()"
   ]
  },
  {
   "cell_type": "code",
   "execution_count": null,
   "metadata": {},
   "outputs": [],
   "source": []
  }
 ],
 "metadata": {
  "kernelspec": {
   "display_name": "Python 3",
   "language": "python",
   "name": "python3"
  },
  "language_info": {
   "codemirror_mode": {
    "name": "ipython",
    "version": 3
   },
   "file_extension": ".py",
   "mimetype": "text/x-python",
   "name": "python",
   "nbconvert_exporter": "python",
   "pygments_lexer": "ipython3",
   "version": "3.7.9"
  }
 },
 "nbformat": 4,
 "nbformat_minor": 4
}
