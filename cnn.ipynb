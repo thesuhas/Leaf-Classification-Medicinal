{
 "cells": [
  {
   "cell_type": "code",
   "execution_count": 33,
   "metadata": {},
   "outputs": [
    {
     "name": "stdout",
     "output_type": "stream",
     "text": [
      "The tensorboard extension is already loaded. To reload it, use:\n",
      "  %reload_ext tensorboard\n"
     ]
    }
   ],
   "source": [
    "import pandas as pd\n",
    "import numpy as np\n",
    "import cv2\n",
    "import tensorflow as tf\n",
    "from tensorflow import keras\n",
    "from tensorflow.keras import layers\n",
    "from tensorflow.keras.models import Sequential\n",
    "import matplotlib.pyplot as plt\n",
    "from matplotlib.pyplot import imshow\n",
    "from sklearn.model_selection import train_test_split\n",
    "from datetime import datetime\n",
    "import os\n",
    "import itertools\n",
    "import io\n",
    "import sklearn\n",
    "from sklearn.metrics import confusion_matrix, classification_report\n",
    "# Load the TensorBoard notebook extension.\n",
    "%load_ext tensorboard\n",
    "import seaborn as sns"
   ]
  },
  {
   "cell_type": "code",
   "execution_count": 2,
   "metadata": {},
   "outputs": [],
   "source": [
    "os.environ['TF_FORCE_GPU_ALLOW_GROWTH'] = 'true'"
   ]
  },
  {
   "cell_type": "code",
   "execution_count": 3,
   "metadata": {},
   "outputs": [
    {
     "data": {
      "text/plain": [
       "'2.4.0'"
      ]
     },
     "execution_count": 3,
     "metadata": {},
     "output_type": "execute_result"
    }
   ],
   "source": [
    "keras.__version__"
   ]
  },
  {
   "cell_type": "code",
   "execution_count": 4,
   "metadata": {},
   "outputs": [],
   "source": [
    "path = \"C:/Users/suhas/Documents/Mini Project/Leaves/\"\n",
    "test = \"C:/Users/suhas/Documents/Mini Project/Leaves/Test\""
   ]
  },
  {
   "cell_type": "code",
   "execution_count": 5,
   "metadata": {},
   "outputs": [
    {
     "name": "stdout",
     "output_type": "stream",
     "text": [
      "/device:GPU:0\n"
     ]
    }
   ],
   "source": [
    "print(tf.test.gpu_device_name())"
   ]
  },
  {
   "cell_type": "code",
   "execution_count": 6,
   "metadata": {},
   "outputs": [],
   "source": [
    "IMAGE_SIZE = 100\n",
    "num_classes = 32\n",
    "epochs = 100\n",
    "initializer = 'he_normal'"
   ]
  },
  {
   "cell_type": "code",
   "execution_count": 7,
   "metadata": {},
   "outputs": [],
   "source": [
    "def label(img_name):\n",
    "    num = img_name.split('_')[1]\n",
    "    #print(num)\n",
    "    if num == 'pubescent bamboo':\n",
    "        return 0 \n",
    "    elif num == 'chinese horse chestnut':\n",
    "        return 1 \n",
    "    elif num == 'anhui barberry':\n",
    "        return 2 \n",
    "    elif num == 'chinese redbud':\n",
    "        return 3\n",
    "    elif num == 'true indigo':\n",
    "        return 4\n",
    "    elif num == 'japanese maple':\n",
    "        return 5 \n",
    "    elif num == 'nanmu':\n",
    "        return 6 \n",
    "    elif num == 'castor aralia':\n",
    "        return 7 \n",
    "    elif num == 'chinese cinnamon':\n",
    "        return 8 \n",
    "    elif num == 'goldenrain tree':\n",
    "        return 9 \n",
    "    elif num == 'big fruited holly':\n",
    "        return 10 \n",
    "    elif num == 'japanese chestwood':\n",
    "        return 11 \n",
    "    elif num == 'wintersweet':\n",
    "        return 12 \n",
    "    elif num == 'camphor tree':\n",
    "        return 13\n",
    "    elif num == 'japan arrowwood':\n",
    "        return 14\n",
    "    elif num == 'sweet osmanthus':\n",
    "        return 15\n",
    "    elif num == 'deodar':\n",
    "        return 16\n",
    "    elif num == 'ginkgo':\n",
    "        return 17 \n",
    "    elif num == 'crape myrtle':\n",
    "        return 18 \n",
    "    elif num == 'oleandar':\n",
    "        return 19\n",
    "    elif num == 'yew plum pie':\n",
    "        return 20\n",
    "    elif num == 'japanese flowering cherry':\n",
    "        return 21 \n",
    "    elif num == 'glossy privet':\n",
    "        return 22\n",
    "    elif num == 'chinese toon':\n",
    "        return 23\n",
    "    elif num == 'peach':\n",
    "        return 24\n",
    "    elif num == 'ford woodlotus':\n",
    "        return 25\n",
    "    elif num == 'trident maple':\n",
    "        return 26\n",
    "    elif num == 'beales barberry':\n",
    "        return 27\n",
    "    elif num == 'southern magnolia':\n",
    "        return 28\n",
    "    elif num == 'canadian poplar':\n",
    "        return 29\n",
    "    elif num == 'chinese tulip tree':\n",
    "        return 30\n",
    "    elif num == 'tangerine':\n",
    "        return 31"
   ]
  },
  {
   "cell_type": "markdown",
   "metadata": {},
   "source": [
    "# Creating Dataset"
   ]
  },
  {
   "cell_type": "code",
   "execution_count": 8,
   "metadata": {},
   "outputs": [],
   "source": [
    "def create_dataset(path):\n",
    "    data = []\n",
    "    for folder in os.scandir(path):\n",
    "        if \"leaf\" in str(folder):\n",
    "            for image in os.scandir(os.path.join(path, folder)):\n",
    "                leaf = label(folder.name)\n",
    "                if (leaf == None):\n",
    "                    print(folder.name)\n",
    "                    break\n",
    "                img = cv2.imread(os.path.join(path, folder, image))\n",
    "\n",
    "                # Basic processing\n",
    "                '''imgGray = cv2.cvtColor(img, cv2.COLOR_BGR2GRAY)\n",
    "\n",
    "                imgBlur = cv2.GaussianBlur(imgGray, (3, 3), 0)\n",
    "                thresh, imgBW = cv2.threshold(imgBlur, 128, 255, cv2.THRESH_BINARY | cv2.THRESH_OTSU)\n",
    "                imgInv = cv2.bitwise_not(imgBW)\n",
    "                kernel = np.ones((50, 50))\n",
    "                imgClosed = cv2.morphologyEx(imgInv, cv2.MORPH_CLOSE, kernel)'''\n",
    "\n",
    "                # Resize\n",
    "                new = cv2.resize(img, (IMAGE_SIZE, IMAGE_SIZE))\n",
    "                #Adding third dimension to shape\n",
    "                data.append([new, leaf])\n",
    "    return data"
   ]
  },
  {
   "cell_type": "code",
   "execution_count": 9,
   "metadata": {},
   "outputs": [],
   "source": [
    "data = create_dataset(path)"
   ]
  },
  {
   "cell_type": "code",
   "execution_count": 10,
   "metadata": {},
   "outputs": [
    {
     "data": {
      "text/plain": [
       "1907"
      ]
     },
     "execution_count": 10,
     "metadata": {},
     "output_type": "execute_result"
    }
   ],
   "source": [
    "X = np.array([d[0] for d in data])\n",
    "len(X)"
   ]
  },
  {
   "cell_type": "code",
   "execution_count": 11,
   "metadata": {},
   "outputs": [
    {
     "data": {
      "text/plain": [
       "(1907, 100, 100, 3)"
      ]
     },
     "execution_count": 11,
     "metadata": {},
     "output_type": "execute_result"
    }
   ],
   "source": [
    "X = np.divide(X, 255)\n",
    "len(X)\n",
    "X.shape"
   ]
  },
  {
   "cell_type": "code",
   "execution_count": 12,
   "metadata": {},
   "outputs": [
    {
     "data": {
      "text/plain": [
       "1907"
      ]
     },
     "execution_count": 12,
     "metadata": {},
     "output_type": "execute_result"
    }
   ],
   "source": [
    "y = np.array([d[1] for d in data])\n",
    "len(y)"
   ]
  },
  {
   "cell_type": "code",
   "execution_count": 38,
   "metadata": {},
   "outputs": [],
   "source": [
    "X_train, X_test, y_train, y_test = train_test_split(X, y, random_state = 1, stratify=y)\n",
    "X_train, X_val, y_train, y_val = train_test_split(X_train, y_train, random_state = 1, stratify=y_train)"
   ]
  },
  {
   "cell_type": "code",
   "execution_count": 14,
   "metadata": {},
   "outputs": [
    {
     "data": {
      "text/plain": [
       "[0,\n",
       " 1,\n",
       " 2,\n",
       " 3,\n",
       " 4,\n",
       " 5,\n",
       " 6,\n",
       " 7,\n",
       " 8,\n",
       " 9,\n",
       " 10,\n",
       " 11,\n",
       " 12,\n",
       " 13,\n",
       " 14,\n",
       " 15,\n",
       " 16,\n",
       " 17,\n",
       " 18,\n",
       " 19,\n",
       " 20,\n",
       " 21,\n",
       " 22,\n",
       " 23,\n",
       " 24,\n",
       " 25,\n",
       " 26,\n",
       " 27,\n",
       " 28,\n",
       " 29,\n",
       " 30,\n",
       " 31]"
      ]
     },
     "execution_count": 14,
     "metadata": {},
     "output_type": "execute_result"
    }
   ],
   "source": [
    "class_names = list(range(32))\n",
    "class_names"
   ]
  },
  {
   "cell_type": "markdown",
   "metadata": {},
   "source": [
    "# CNN"
   ]
  },
  {
   "cell_type": "code",
   "execution_count": 15,
   "metadata": {},
   "outputs": [],
   "source": [
    "model = Sequential([\n",
    "    layers.InputLayer(input_shape=(IMAGE_SIZE, IMAGE_SIZE, 3)),\n",
    "    layers.Conv2D(16, 3, padding='same', activation='relu', kernel_initializer=initializer),\n",
    "    layers.MaxPool2D(),\n",
    "    layers.BatchNormalization(),\n",
    "    # Dropout layer for regularisation\n",
    "    #layers.Dropout(rate=0.5),\n",
    "    layers.Conv2D(32, 3, padding='same', activation='relu', kernel_initializer=initializer),\n",
    "    layers.MaxPool2D(),\n",
    "    layers.BatchNormalization(),\n",
    "    # Dropout layer for regularisation\n",
    "    #layers.Dropout(rate=0.5),\n",
    "    layers.Conv2D(64, 5, padding='valid', activation='relu', kernel_initializer=initializer),\n",
    "    layers.MaxPool2D(),\n",
    "    layers.BatchNormalization(),\n",
    "    # Dropout layer for regularisation\n",
    "    #layers.Dropout(rate=0.5),\n",
    "    # Flattening output to connect to Densely Connected Layers\n",
    "    layers.Flatten(),\n",
    "    layers.Dense(128, activation='relu', kernel_initializer=initializer),\n",
    "    layers.BatchNormalization(),\n",
    "    layers.Dense(num_classes, activation='softmax', kernel_initializer=initializer)\n",
    "])"
   ]
  },
  {
   "cell_type": "code",
   "execution_count": 16,
   "metadata": {},
   "outputs": [],
   "source": [
    "model.compile(optimizer='adam', loss=tf.keras.losses.SparseCategoricalCrossentropy(from_logits=True), metrics=['accuracy'])"
   ]
  },
  {
   "cell_type": "code",
   "execution_count": 17,
   "metadata": {},
   "outputs": [
    {
     "data": {
      "text/plain": [
       "(1072, 100, 100, 3)"
      ]
     },
     "execution_count": 17,
     "metadata": {},
     "output_type": "execute_result"
    }
   ],
   "source": [
    "X_train.shape"
   ]
  },
  {
   "cell_type": "code",
   "execution_count": 18,
   "metadata": {},
   "outputs": [
    {
     "name": "stdout",
     "output_type": "stream",
     "text": [
      "Model: \"sequential\"\n",
      "_________________________________________________________________\n",
      "Layer (type)                 Output Shape              Param #   \n",
      "=================================================================\n",
      "conv2d (Conv2D)              (None, 100, 100, 16)      448       \n",
      "_________________________________________________________________\n",
      "max_pooling2d (MaxPooling2D) (None, 50, 50, 16)        0         \n",
      "_________________________________________________________________\n",
      "batch_normalization (BatchNo (None, 50, 50, 16)        64        \n",
      "_________________________________________________________________\n",
      "conv2d_1 (Conv2D)            (None, 50, 50, 32)        4640      \n",
      "_________________________________________________________________\n",
      "max_pooling2d_1 (MaxPooling2 (None, 25, 25, 32)        0         \n",
      "_________________________________________________________________\n",
      "batch_normalization_1 (Batch (None, 25, 25, 32)        128       \n",
      "_________________________________________________________________\n",
      "conv2d_2 (Conv2D)            (None, 21, 21, 64)        51264     \n",
      "_________________________________________________________________\n",
      "max_pooling2d_2 (MaxPooling2 (None, 10, 10, 64)        0         \n",
      "_________________________________________________________________\n",
      "batch_normalization_2 (Batch (None, 10, 10, 64)        256       \n",
      "_________________________________________________________________\n",
      "flatten (Flatten)            (None, 6400)              0         \n",
      "_________________________________________________________________\n",
      "dense (Dense)                (None, 128)               819328    \n",
      "_________________________________________________________________\n",
      "batch_normalization_3 (Batch (None, 128)               512       \n",
      "_________________________________________________________________\n",
      "dense_1 (Dense)              (None, 32)                4128      \n",
      "=================================================================\n",
      "Total params: 880,768\n",
      "Trainable params: 880,288\n",
      "Non-trainable params: 480\n",
      "_________________________________________________________________\n"
     ]
    }
   ],
   "source": [
    "model.summary()"
   ]
  },
  {
   "cell_type": "code",
   "execution_count": 19,
   "metadata": {},
   "outputs": [],
   "source": [
    "callback = tf.keras.callbacks.EarlyStopping(monitor='loss', patience=20)"
   ]
  },
  {
   "cell_type": "code",
   "execution_count": 20,
   "metadata": {},
   "outputs": [
    {
     "name": "stdout",
     "output_type": "stream",
     "text": [
      "Epoch 1/100\n",
      "17/17 [==============================] - 1s 42ms/step - loss: 3.1565 - accuracy: 0.4011 - val_loss: 3.4622 - val_accuracy: 0.0335\n",
      "Epoch 2/100\n",
      "17/17 [==============================] - 0s 17ms/step - loss: 2.8968 - accuracy: 0.6576 - val_loss: 3.4782 - val_accuracy: 0.0279\n",
      "Epoch 3/100\n",
      "17/17 [==============================] - 0s 18ms/step - loss: 2.7849 - accuracy: 0.7584 - val_loss: 3.4356 - val_accuracy: 0.0642\n",
      "Epoch 4/100\n",
      "17/17 [==============================] - 0s 17ms/step - loss: 2.7098 - accuracy: 0.8302 - val_loss: 3.4034 - val_accuracy: 0.1425\n",
      "Epoch 5/100\n",
      "17/17 [==============================] - 0s 17ms/step - loss: 2.6347 - accuracy: 0.9114 - val_loss: 3.4021 - val_accuracy: 0.1145\n",
      "Epoch 6/100\n",
      "17/17 [==============================] - 0s 16ms/step - loss: 2.5952 - accuracy: 0.9375 - val_loss: 3.3867 - val_accuracy: 0.1369\n",
      "Epoch 7/100\n",
      "17/17 [==============================] - 0s 18ms/step - loss: 2.5776 - accuracy: 0.9506 - val_loss: 3.4070 - val_accuracy: 0.0894\n",
      "Epoch 8/100\n",
      "17/17 [==============================] - 0s 17ms/step - loss: 2.5625 - accuracy: 0.9627 - val_loss: 3.3937 - val_accuracy: 0.1006\n",
      "Epoch 9/100\n",
      "17/17 [==============================] - 0s 17ms/step - loss: 2.5444 - accuracy: 0.9804 - val_loss: 3.3871 - val_accuracy: 0.1006\n",
      "Epoch 10/100\n",
      "17/17 [==============================] - 0s 16ms/step - loss: 2.5393 - accuracy: 0.9841 - val_loss: 3.3544 - val_accuracy: 0.1536\n",
      "Epoch 11/100\n",
      "17/17 [==============================] - 0s 18ms/step - loss: 2.5346 - accuracy: 0.9860 - val_loss: 3.3219 - val_accuracy: 0.1983\n",
      "Epoch 12/100\n",
      "17/17 [==============================] - 0s 17ms/step - loss: 2.5312 - accuracy: 0.9888 - val_loss: 3.2294 - val_accuracy: 0.3436\n",
      "Epoch 13/100\n",
      "17/17 [==============================] - 0s 17ms/step - loss: 2.5301 - accuracy: 0.9897 - val_loss: 3.2300 - val_accuracy: 0.3240\n",
      "Epoch 14/100\n",
      "17/17 [==============================] - 0s 17ms/step - loss: 2.5261 - accuracy: 0.9944 - val_loss: 3.1323 - val_accuracy: 0.4972\n",
      "Epoch 15/100\n",
      "17/17 [==============================] - 0s 17ms/step - loss: 2.5238 - accuracy: 0.9963 - val_loss: 3.0741 - val_accuracy: 0.5391\n",
      "Epoch 16/100\n",
      "17/17 [==============================] - 0s 18ms/step - loss: 2.5226 - accuracy: 0.9963 - val_loss: 2.9867 - val_accuracy: 0.6369\n",
      "Epoch 17/100\n",
      "17/17 [==============================] - 0s 18ms/step - loss: 2.5224 - accuracy: 0.9963 - val_loss: 2.9222 - val_accuracy: 0.7235\n",
      "Epoch 18/100\n",
      "17/17 [==============================] - 0s 18ms/step - loss: 2.5214 - accuracy: 0.9972 - val_loss: 2.8838 - val_accuracy: 0.7514\n",
      "Epoch 19/100\n",
      "17/17 [==============================] - 0s 17ms/step - loss: 2.5237 - accuracy: 0.9963 - val_loss: 2.8526 - val_accuracy: 0.7654\n",
      "Epoch 20/100\n",
      "17/17 [==============================] - 0s 18ms/step - loss: 2.5211 - accuracy: 0.9981 - val_loss: 2.8683 - val_accuracy: 0.7123\n",
      "Epoch 21/100\n",
      "17/17 [==============================] - 0s 17ms/step - loss: 2.5207 - accuracy: 0.9981 - val_loss: 2.7965 - val_accuracy: 0.7682\n",
      "Epoch 22/100\n",
      "17/17 [==============================] - 0s 17ms/step - loss: 2.5204 - accuracy: 0.9981 - val_loss: 2.7623 - val_accuracy: 0.8156\n",
      "Epoch 23/100\n",
      "17/17 [==============================] - 0s 16ms/step - loss: 2.5203 - accuracy: 0.9981 - val_loss: 2.7239 - val_accuracy: 0.8631\n",
      "Epoch 24/100\n",
      "17/17 [==============================] - 0s 16ms/step - loss: 2.5202 - accuracy: 0.9981 - val_loss: 2.6901 - val_accuracy: 0.8883\n",
      "Epoch 25/100\n",
      "17/17 [==============================] - 0s 16ms/step - loss: 2.5194 - accuracy: 0.9991 - val_loss: 2.6856 - val_accuracy: 0.8911\n",
      "Epoch 26/100\n",
      "17/17 [==============================] - 0s 17ms/step - loss: 2.5193 - accuracy: 0.9991 - val_loss: 2.6717 - val_accuracy: 0.8939\n",
      "Epoch 27/100\n",
      "17/17 [==============================] - 0s 16ms/step - loss: 2.5193 - accuracy: 0.9991 - val_loss: 2.6602 - val_accuracy: 0.9050\n",
      "Epoch 28/100\n",
      "17/17 [==============================] - 0s 16ms/step - loss: 2.5193 - accuracy: 0.9991 - val_loss: 2.6509 - val_accuracy: 0.9050\n",
      "Epoch 29/100\n",
      "17/17 [==============================] - 0s 16ms/step - loss: 2.5192 - accuracy: 0.9991 - val_loss: 2.6441 - val_accuracy: 0.9134\n",
      "Epoch 30/100\n",
      "17/17 [==============================] - 0s 16ms/step - loss: 2.5192 - accuracy: 0.9991 - val_loss: 2.6362 - val_accuracy: 0.9190\n",
      "Epoch 31/100\n",
      "17/17 [==============================] - 0s 16ms/step - loss: 2.5192 - accuracy: 0.9991 - val_loss: 2.6320 - val_accuracy: 0.9190\n",
      "Epoch 32/100\n",
      "17/17 [==============================] - 0s 16ms/step - loss: 2.5192 - accuracy: 0.9991 - val_loss: 2.6290 - val_accuracy: 0.9218\n",
      "Epoch 33/100\n",
      "17/17 [==============================] - 0s 16ms/step - loss: 2.5192 - accuracy: 0.9991 - val_loss: 2.6247 - val_accuracy: 0.9218\n",
      "Epoch 34/100\n",
      "17/17 [==============================] - 0s 16ms/step - loss: 2.5192 - accuracy: 0.9991 - val_loss: 2.6208 - val_accuracy: 0.9246\n",
      "Epoch 35/100\n",
      "17/17 [==============================] - 0s 16ms/step - loss: 2.5188 - accuracy: 1.0000 - val_loss: 2.6489 - val_accuracy: 0.9106\n",
      "Epoch 36/100\n",
      "17/17 [==============================] - 0s 16ms/step - loss: 2.5184 - accuracy: 1.0000 - val_loss: 2.6305 - val_accuracy: 0.9218\n",
      "Epoch 37/100\n",
      "17/17 [==============================] - 0s 17ms/step - loss: 2.5183 - accuracy: 1.0000 - val_loss: 2.6191 - val_accuracy: 0.9358\n",
      "Epoch 38/100\n",
      "17/17 [==============================] - 0s 16ms/step - loss: 2.5183 - accuracy: 1.0000 - val_loss: 2.6159 - val_accuracy: 0.9385\n",
      "Epoch 39/100\n",
      "17/17 [==============================] - 0s 16ms/step - loss: 2.5182 - accuracy: 1.0000 - val_loss: 2.6135 - val_accuracy: 0.9385\n",
      "Epoch 40/100\n",
      "17/17 [==============================] - 0s 16ms/step - loss: 2.5182 - accuracy: 1.0000 - val_loss: 2.6107 - val_accuracy: 0.9385\n",
      "Epoch 41/100\n",
      "17/17 [==============================] - 0s 16ms/step - loss: 2.5182 - accuracy: 1.0000 - val_loss: 2.6092 - val_accuracy: 0.9385\n",
      "Epoch 42/100\n",
      "17/17 [==============================] - 0s 16ms/step - loss: 2.5182 - accuracy: 1.0000 - val_loss: 2.6081 - val_accuracy: 0.9358\n",
      "Epoch 43/100\n",
      "17/17 [==============================] - 0s 17ms/step - loss: 2.5182 - accuracy: 1.0000 - val_loss: 2.6073 - val_accuracy: 0.9385\n",
      "Epoch 44/100\n",
      "17/17 [==============================] - 0s 18ms/step - loss: 2.5182 - accuracy: 1.0000 - val_loss: 2.6068 - val_accuracy: 0.9385\n",
      "Epoch 45/100\n",
      "17/17 [==============================] - 0s 16ms/step - loss: 2.5182 - accuracy: 1.0000 - val_loss: 2.6069 - val_accuracy: 0.9385\n",
      "Epoch 46/100\n",
      "17/17 [==============================] - 0s 16ms/step - loss: 2.5182 - accuracy: 1.0000 - val_loss: 2.6062 - val_accuracy: 0.9385\n",
      "Epoch 47/100\n",
      "17/17 [==============================] - 0s 16ms/step - loss: 2.5182 - accuracy: 1.0000 - val_loss: 2.6058 - val_accuracy: 0.9385\n",
      "Epoch 48/100\n",
      "17/17 [==============================] - 0s 16ms/step - loss: 2.5182 - accuracy: 1.0000 - val_loss: 2.6056 - val_accuracy: 0.9385\n",
      "Epoch 49/100\n",
      "17/17 [==============================] - 0s 16ms/step - loss: 2.5182 - accuracy: 1.0000 - val_loss: 2.6053 - val_accuracy: 0.9358\n",
      "Epoch 50/100\n",
      "17/17 [==============================] - 0s 16ms/step - loss: 2.5182 - accuracy: 1.0000 - val_loss: 2.6052 - val_accuracy: 0.9385\n",
      "Epoch 51/100\n",
      "17/17 [==============================] - 0s 16ms/step - loss: 2.5182 - accuracy: 1.0000 - val_loss: 2.6052 - val_accuracy: 0.9358\n",
      "Epoch 52/100\n",
      "17/17 [==============================] - 0s 16ms/step - loss: 2.5182 - accuracy: 1.0000 - val_loss: 2.6045 - val_accuracy: 0.9358\n",
      "Epoch 53/100\n",
      "17/17 [==============================] - 0s 17ms/step - loss: 2.5181 - accuracy: 1.0000 - val_loss: 2.6045 - val_accuracy: 0.9358\n",
      "Epoch 54/100\n",
      "17/17 [==============================] - 0s 18ms/step - loss: 2.5181 - accuracy: 1.0000 - val_loss: 2.6046 - val_accuracy: 0.9358\n",
      "Epoch 55/100\n",
      "17/17 [==============================] - 0s 18ms/step - loss: 2.5181 - accuracy: 1.0000 - val_loss: 2.6043 - val_accuracy: 0.9358\n",
      "Epoch 56/100\n",
      "17/17 [==============================] - 0s 18ms/step - loss: 2.5181 - accuracy: 1.0000 - val_loss: 2.6040 - val_accuracy: 0.9358\n",
      "Epoch 57/100\n",
<<<<<<< HEAD
      "17/17 [==============================] - 0s 17ms/step - loss: 2.5181 - accuracy: 1.0000 - val_loss: 2.6039 - val_accuracy: 0.9358\n",
      "Epoch 58/100\n"
     ]
    },
    {
     "name": "stdout",
     "output_type": "stream",
     "text": [
      "17/17 [==============================] - 0s 18ms/step - loss: 2.5181 - accuracy: 1.0000 - val_loss: 2.6037 - val_accuracy: 0.9358\n",
=======
      "17/17 [==============================] - 0s 17ms/step - loss: 2.5181 - accuracy: 1.0000 - val_loss: 2.6017 - val_accuracy: 0.9302\n",
      "Epoch 58/100\n"
     ]
    },
    {
     "name": "stdout",
     "output_type": "stream",
     "text": [
      "17/17 [==============================] - 0s 18ms/step - loss: 2.5181 - accuracy: 1.0000 - val_loss: 2.6018 - val_accuracy: 0.9302\n",
>>>>>>> 314010350952a80fd8b7701e2dc105871856cc16
      "Epoch 59/100\n",
      "17/17 [==============================] - 0s 18ms/step - loss: 2.5181 - accuracy: 1.0000 - val_loss: 2.6037 - val_accuracy: 0.9358\n",
      "Epoch 60/100\n",
      "17/17 [==============================] - 0s 18ms/step - loss: 2.5181 - accuracy: 1.0000 - val_loss: 2.6038 - val_accuracy: 0.9358\n",
      "Epoch 61/100\n",
      "17/17 [==============================] - 0s 18ms/step - loss: 2.5181 - accuracy: 1.0000 - val_loss: 2.6033 - val_accuracy: 0.9358\n",
      "Epoch 62/100\n",
      "17/17 [==============================] - 0s 18ms/step - loss: 2.5181 - accuracy: 1.0000 - val_loss: 2.6035 - val_accuracy: 0.9385\n",
      "Epoch 63/100\n",
      "17/17 [==============================] - 0s 18ms/step - loss: 2.5181 - accuracy: 1.0000 - val_loss: 2.6035 - val_accuracy: 0.9358\n",
      "Epoch 64/100\n",
      "17/17 [==============================] - 0s 18ms/step - loss: 2.5181 - accuracy: 1.0000 - val_loss: 2.6032 - val_accuracy: 0.9385\n",
      "Epoch 65/100\n",
      "17/17 [==============================] - 0s 18ms/step - loss: 2.5181 - accuracy: 1.0000 - val_loss: 2.6030 - val_accuracy: 0.9358\n",
      "Epoch 66/100\n",
      "17/17 [==============================] - 0s 18ms/step - loss: 2.5181 - accuracy: 1.0000 - val_loss: 2.6029 - val_accuracy: 0.9385\n",
      "Epoch 67/100\n",
      "17/17 [==============================] - 0s 18ms/step - loss: 2.5181 - accuracy: 1.0000 - val_loss: 2.6030 - val_accuracy: 0.9358\n",
      "Epoch 68/100\n",
      "17/17 [==============================] - 0s 17ms/step - loss: 2.5181 - accuracy: 1.0000 - val_loss: 2.6030 - val_accuracy: 0.9358\n",
      "Epoch 69/100\n",
      "17/17 [==============================] - 0s 16ms/step - loss: 2.5181 - accuracy: 1.0000 - val_loss: 2.6030 - val_accuracy: 0.9385\n",
      "Epoch 70/100\n",
      "17/17 [==============================] - 0s 16ms/step - loss: 2.5181 - accuracy: 1.0000 - val_loss: 2.6027 - val_accuracy: 0.9358\n",
      "Epoch 71/100\n",
      "17/17 [==============================] - 0s 16ms/step - loss: 2.5181 - accuracy: 1.0000 - val_loss: 2.6028 - val_accuracy: 0.9385\n",
      "Epoch 72/100\n",
      "17/17 [==============================] - 0s 16ms/step - loss: 2.5181 - accuracy: 1.0000 - val_loss: 2.6028 - val_accuracy: 0.9330\n",
      "Epoch 73/100\n",
      "17/17 [==============================] - 0s 16ms/step - loss: 2.5181 - accuracy: 1.0000 - val_loss: 2.6028 - val_accuracy: 0.9330\n",
      "Epoch 74/100\n",
      "17/17 [==============================] - 0s 16ms/step - loss: 2.5181 - accuracy: 1.0000 - val_loss: 2.6029 - val_accuracy: 0.9358\n",
      "Epoch 75/100\n",
      "17/17 [==============================] - 0s 16ms/step - loss: 2.5181 - accuracy: 1.0000 - val_loss: 2.6029 - val_accuracy: 0.9330\n",
      "Epoch 76/100\n",
      "17/17 [==============================] - 0s 16ms/step - loss: 2.5181 - accuracy: 1.0000 - val_loss: 2.6030 - val_accuracy: 0.9330\n",
      "Epoch 77/100\n",
      "17/17 [==============================] - 0s 16ms/step - loss: 2.5181 - accuracy: 1.0000 - val_loss: 2.6028 - val_accuracy: 0.9358\n",
      "Epoch 78/100\n",
      "17/17 [==============================] - 0s 17ms/step - loss: 2.5181 - accuracy: 1.0000 - val_loss: 2.6027 - val_accuracy: 0.9330\n",
      "Epoch 79/100\n",
      "17/17 [==============================] - 0s 17ms/step - loss: 2.5181 - accuracy: 1.0000 - val_loss: 2.6027 - val_accuracy: 0.9330\n",
      "Epoch 80/100\n",
      "17/17 [==============================] - 0s 16ms/step - loss: 2.5181 - accuracy: 1.0000 - val_loss: 2.6026 - val_accuracy: 0.9330\n",
      "Epoch 81/100\n",
      "17/17 [==============================] - 0s 16ms/step - loss: 2.5181 - accuracy: 1.0000 - val_loss: 2.6023 - val_accuracy: 0.9330\n",
      "Epoch 82/100\n",
      "17/17 [==============================] - 0s 17ms/step - loss: 2.5181 - accuracy: 1.0000 - val_loss: 2.6020 - val_accuracy: 0.9358\n",
      "Epoch 83/100\n",
      "17/17 [==============================] - 0s 16ms/step - loss: 2.5181 - accuracy: 1.0000 - val_loss: 2.6019 - val_accuracy: 0.9358\n",
      "Epoch 84/100\n",
      "17/17 [==============================] - 0s 17ms/step - loss: 2.5181 - accuracy: 1.0000 - val_loss: 2.6022 - val_accuracy: 0.9358\n",
      "Epoch 85/100\n",
      "17/17 [==============================] - 0s 16ms/step - loss: 2.5181 - accuracy: 1.0000 - val_loss: 2.6021 - val_accuracy: 0.9358\n",
      "Epoch 86/100\n",
      "17/17 [==============================] - 0s 17ms/step - loss: 2.5181 - accuracy: 1.0000 - val_loss: 2.6020 - val_accuracy: 0.9358\n",
      "Epoch 87/100\n",
      "17/17 [==============================] - 0s 16ms/step - loss: 2.5181 - accuracy: 1.0000 - val_loss: 2.6016 - val_accuracy: 0.9358\n",
      "Epoch 88/100\n",
      "17/17 [==============================] - 0s 17ms/step - loss: 2.5181 - accuracy: 1.0000 - val_loss: 2.6018 - val_accuracy: 0.9358\n",
      "Epoch 89/100\n",
      "17/17 [==============================] - 0s 16ms/step - loss: 2.5181 - accuracy: 1.0000 - val_loss: 2.6019 - val_accuracy: 0.9358\n",
      "Epoch 90/100\n",
      "17/17 [==============================] - 0s 16ms/step - loss: 2.5181 - accuracy: 1.0000 - val_loss: 2.6019 - val_accuracy: 0.9358\n",
      "Epoch 91/100\n",
      "17/17 [==============================] - 0s 17ms/step - loss: 2.5181 - accuracy: 1.0000 - val_loss: 2.6018 - val_accuracy: 0.9358\n",
      "Epoch 92/100\n",
      "17/17 [==============================] - 0s 18ms/step - loss: 2.5181 - accuracy: 1.0000 - val_loss: 2.6016 - val_accuracy: 0.9358\n",
      "Epoch 93/100\n",
      "17/17 [==============================] - 0s 18ms/step - loss: 2.5181 - accuracy: 1.0000 - val_loss: 2.6015 - val_accuracy: 0.9358\n",
      "Epoch 94/100\n",
      "17/17 [==============================] - 0s 16ms/step - loss: 2.5181 - accuracy: 1.0000 - val_loss: 2.6016 - val_accuracy: 0.9358\n",
      "Epoch 95/100\n",
      "17/17 [==============================] - 0s 16ms/step - loss: 2.5181 - accuracy: 1.0000 - val_loss: 2.6012 - val_accuracy: 0.9358\n",
      "Epoch 96/100\n",
      "17/17 [==============================] - 0s 16ms/step - loss: 2.5181 - accuracy: 1.0000 - val_loss: 2.6013 - val_accuracy: 0.9358\n",
      "Epoch 97/100\n",
      "17/17 [==============================] - 0s 16ms/step - loss: 2.5181 - accuracy: 1.0000 - val_loss: 2.6013 - val_accuracy: 0.9358\n",
      "Epoch 98/100\n",
      "17/17 [==============================] - 0s 16ms/step - loss: 2.5181 - accuracy: 1.0000 - val_loss: 2.6012 - val_accuracy: 0.9358\n",
      "Epoch 99/100\n",
      "17/17 [==============================] - 0s 16ms/step - loss: 2.5181 - accuracy: 1.0000 - val_loss: 2.6010 - val_accuracy: 0.9358\n",
      "Epoch 100/100\n",
      "17/17 [==============================] - 0s 16ms/step - loss: 2.5181 - accuracy: 1.0000 - val_loss: 2.6010 - val_accuracy: 0.9358\n"
     ]
    }
   ],
   "source": [
    "# Start TensorBoard.\n",
    "#%tensorboard --logdir logs/image\n",
    "\n",
    "history = model.fit(x=X_train, y=y_train, epochs=epochs, validation_data = (X_val, y_val), use_multiprocessing = True, batch_size=64, callbacks=[callback])"
   ]
  },
  {
   "cell_type": "code",
   "execution_count": 21,
   "metadata": {},
   "outputs": [
    {
     "data": {
      "text/plain": [
       "<matplotlib.legend.Legend at 0x23a586600d0>"
      ]
     },
     "execution_count": 21,
     "metadata": {},
     "output_type": "execute_result"
    },
    {
     "data": {
      "image/png": "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\n",
      "text/plain": [
       "<Figure size 432x288 with 1 Axes>"
      ]
     },
     "metadata": {
      "needs_background": "light"
     },
     "output_type": "display_data"
    }
   ],
   "source": [
    "plt.figure()\n",
    "plt.plot([i for i in range(epochs)], history.history['val_accuracy'], label='Val Acc')\n",
    "plt.plot([i for i in range(epochs)], history.history['accuracy'], label='Training Acc')\n",
    "plt.xlabel('Epoch')\n",
    "plt.ylabel('Accuracy')\n",
    "plt.legend()"
   ]
  },
  {
   "cell_type": "code",
   "execution_count": 22,
   "metadata": {},
   "outputs": [
    {
     "data": {
      "text/plain": [
       "dict_keys(['loss', 'accuracy', 'val_loss', 'val_accuracy'])"
      ]
     },
     "execution_count": 22,
     "metadata": {},
     "output_type": "execute_result"
    }
   ],
   "source": [
    "history.history.keys()"
   ]
  },
  {
   "cell_type": "code",
   "execution_count": 23,
   "metadata": {},
   "outputs": [
    {
     "name": "stdout",
     "output_type": "stream",
     "text": [
      "15/15 [==============================] - 0s 6ms/step - loss: 2.6169 - accuracy: 0.9119\n"
     ]
    },
    {
     "data": {
      "text/plain": [
       "[2.616915225982666, 0.9119496941566467]"
      ]
     },
     "execution_count": 23,
     "metadata": {},
     "output_type": "execute_result"
    }
   ],
   "source": [
    "model.evaluate(X_test, y_test)"
   ]
  },
  {
   "cell_type": "code",
   "execution_count": 24,
   "metadata": {},
   "outputs": [
    {
     "name": "stdout",
     "output_type": "stream",
     "text": [
      "WARNING:tensorflow:From C:\\Users\\suhas\\anaconda3\\lib\\site-packages\\tensorflow\\python\\training\\tracking\\tracking.py:111: Model.state_updates (from tensorflow.python.keras.engine.training) is deprecated and will be removed in a future version.\n",
      "Instructions for updating:\n",
      "This property should not be used in TensorFlow 2.0, as updates are applied automatically.\n",
      "WARNING:tensorflow:From C:\\Users\\suhas\\anaconda3\\lib\\site-packages\\tensorflow\\python\\training\\tracking\\tracking.py:111: Layer.updates (from tensorflow.python.keras.engine.base_layer) is deprecated and will be removed in a future version.\n",
      "Instructions for updating:\n",
      "This property should not be used in TensorFlow 2.0, as updates are applied automatically.\n",
      "INFO:tensorflow:Assets written to: C:/Users/suhas/Documents/College Projects/Leaf-Classification-Medicinal/model\\assets\n"
     ]
    }
   ],
   "source": [
    "tf.keras.models.save_model(model, 'C:/Users/suhas/Documents/College Projects/Leaf-Classification-Medicinal/model')"
   ]
  },
  {
   "cell_type": "code",
   "execution_count": 25,
   "metadata": {},
   "outputs": [
    {
     "data": {
      "text/plain": [
       "0.9385474920272827"
      ]
     },
     "execution_count": 25,
     "metadata": {},
     "output_type": "execute_result"
    }
   ],
   "source": [
    "max(history.history['val_accuracy'])"
   ]
  },
  {
   "cell_type": "markdown",
   "metadata": {},
   "source": [
    "## Confusion Matrix with Seaborn (On Test Data)"
   ]
  },
  {
   "cell_type": "code",
   "execution_count": 26,
   "metadata": {},
   "outputs": [],
   "source": [
    "pred = model.predict(X_test)"
   ]
  },
  {
   "cell_type": "code",
   "execution_count": 27,
   "metadata": {},
   "outputs": [],
   "source": [
    "conf = confusion_matrix(y_test, np.argmax(pred, axis = 1))"
   ]
  },
  {
   "cell_type": "code",
   "execution_count": 28,
   "metadata": {},
   "outputs": [
    {
     "data": {
      "text/plain": [
       "<AxesSubplot:>"
      ]
     },
     "execution_count": 28,
     "metadata": {},
     "output_type": "execute_result"
    },
    {
     "data": {
      "image/png": "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\n",
      "text/plain": [
       "<Figure size 864x864 with 2 Axes>"
      ]
     },
     "metadata": {
      "needs_background": "light"
     },
     "output_type": "display_data"
    }
   ],
   "source": [
    "plt.figure(figsize=(12, 12))\n",
    "sns.heatmap(conf, annot=True)"
   ]
  },
  {
   "cell_type": "markdown",
   "metadata": {},
   "source": [
    "## Confusion Matrix (On Validation Data)"
   ]
  },
  {
   "cell_type": "code",
   "execution_count": 29,
   "metadata": {},
   "outputs": [],
   "source": [
    "vald = model.predict(X_val)\n"
   ]
  },
  {
   "cell_type": "code",
   "execution_count": 30,
   "metadata": {},
   "outputs": [],
   "source": [
    "conf_val = confusion_matrix(y_val, np.argmax(vald, axis = 1))"
   ]
  },
  {
   "cell_type": "code",
   "execution_count": 31,
   "metadata": {},
   "outputs": [
    {
     "data": {
      "text/plain": [
       "<AxesSubplot:>"
      ]
     },
     "execution_count": 31,
     "metadata": {},
     "output_type": "execute_result"
    },
    {
     "data": {
      "image/png": "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\n",
      "text/plain": [
       "<Figure size 864x864 with 2 Axes>"
      ]
     },
     "metadata": {
      "needs_background": "light"
     },
     "output_type": "display_data"
    }
   ],
   "source": [
    "plt.figure(figsize=(12, 12))\n",
    "sns.heatmap(conf_val, annot=True)"
   ]
  },
  {
   "cell_type": "markdown",
   "metadata": {},
   "source": [
    "## Classification Report"
   ]
  },
  {
   "cell_type": "code",
   "execution_count": 67,
   "metadata": {},
   "outputs": [],
   "source": [
    "y_pred = model.predict(X_test)"
   ]
  },
  {
   "cell_type": "code",
   "execution_count": 73,
   "metadata": {},
   "outputs": [
    {
     "name": "stdout",
     "output_type": "stream",
     "text": [
      "              precision    recall  f1-score   support\n",
      "\n",
      "           0       0.88      0.93      0.90        15\n",
      "           1       0.83      0.94      0.88        16\n",
      "           2       0.76      1.00      0.86        16\n",
      "           3       0.94      0.94      0.94        18\n",
      "           4       1.00      0.94      0.97        18\n",
      "           5       0.82      1.00      0.90        14\n",
      "           6       1.00      0.88      0.93        16\n",
      "           7       1.00      1.00      1.00        13\n",
      "           8       0.77      0.71      0.74        14\n",
      "           9       0.82      0.93      0.87        15\n",
      "          10       0.86      1.00      0.92        12\n",
      "          11       1.00      1.00      1.00        16\n",
      "          12       0.92      0.85      0.88        13\n",
      "          13       0.87      0.81      0.84        16\n",
      "          14       1.00      0.93      0.97        15\n",
      "          15       0.87      0.93      0.90        14\n",
      "          16       0.95      1.00      0.97        19\n",
      "          17       1.00      1.00      1.00        16\n",
      "          18       0.94      1.00      0.97        15\n",
      "          19       1.00      1.00      1.00        17\n",
      "          20       1.00      0.87      0.93        15\n",
      "          21       1.00      0.86      0.92        14\n",
      "          22       1.00      1.00      1.00        14\n",
      "          23       1.00      0.62      0.77        16\n",
      "          24       0.58      0.85      0.69        13\n",
      "          25       1.00      1.00      1.00        13\n",
      "          26       1.00      0.69      0.82        13\n",
      "          27       0.93      1.00      0.97        14\n",
      "          28       0.93      1.00      0.97        14\n",
      "          29       0.94      1.00      0.97        16\n",
      "          30       1.00      0.85      0.92        13\n",
      "          31       0.80      0.57      0.67        14\n",
      "\n",
      "    accuracy                           0.91       477\n",
      "   macro avg       0.92      0.91      0.91       477\n",
      "weighted avg       0.92      0.91      0.91       477\n",
      "\n"
     ]
    }
   ],
   "source": [
    "print(classification_report(y_test, pred))"
   ]
  },
  {
   "cell_type": "code",
   "execution_count": 68,
   "metadata": {},
   "outputs": [],
   "source": [
    "pred = list()\n",
    "for i in range(len(y_pred)):\n",
    "    pred.append(int(np.where(y_pred[i] == np.amax(y_pred[i]))[0][0]))"
   ]
  },
  {
   "cell_type": "code",
   "execution_count": 69,
   "metadata": {},
   "outputs": [
    {
     "data": {
      "text/plain": [
       "[15,\n",
       " 29,\n",
       " 26,\n",
       " 11,\n",
       " 1,\n",
       " 31,\n",
       " 7,\n",
       " 21,\n",
       " 7,\n",
       " 19,\n",
       " 30,\n",
       " 25,\n",
       " 30,\n",
       " 31,\n",
       " 5,\n",
       " 25,\n",
       " 29,\n",
       " 9,\n",
       " 1,\n",
       " 24,\n",
       " 29,\n",
       " 12,\n",
       " 5,\n",
       " 1,\n",
       " 6,\n",
       " 6,\n",
       " 5,\n",
       " 29,\n",
       " 18,\n",
       " 23,\n",
       " 19,\n",
       " 18,\n",
       " 6,\n",
       " 15,\n",
       " 27,\n",
       " 23,\n",
       " 28,\n",
       " 1,\n",
       " 8,\n",
       " 20,\n",
       " 17,\n",
       " 19,\n",
       " 13,\n",
       " 3,\n",
       " 25,\n",
       " 6,\n",
       " 7,\n",
       " 22,\n",
       " 0,\n",
       " 24,\n",
       " 5,\n",
       " 10,\n",
       " 23,\n",
       " 2,\n",
       " 25,\n",
       " 0,\n",
       " 20,\n",
       " 20,\n",
       " 14,\n",
       " 20,\n",
       " 11,\n",
       " 15,\n",
       " 13,\n",
       " 1,\n",
       " 4,\n",
       " 24,\n",
       " 5,\n",
       " 19,\n",
       " 16,\n",
       " 11,\n",
       " 6,\n",
       " 2,\n",
       " 12,\n",
       " 5,\n",
       " 27,\n",
       " 15,\n",
       " 18,\n",
       " 10,\n",
       " 13,\n",
       " 14,\n",
       " 9,\n",
       " 26,\n",
       " 27,\n",
       " 31,\n",
       " 25,\n",
       " 2,\n",
       " 14,\n",
       " 24,\n",
       " 10,\n",
       " 11,\n",
       " 31,\n",
       " 8,\n",
       " 5,\n",
       " 1,\n",
       " 3,\n",
       " 17,\n",
       " 3,\n",
       " 23,\n",
       " 13,\n",
       " 6,\n",
       " 9,\n",
       " 25,\n",
       " 6,\n",
       " 15,\n",
       " 26,\n",
       " 9,\n",
       " 27,\n",
       " 21,\n",
       " 11,\n",
       " 16,\n",
       " 13,\n",
       " 16,\n",
       " 23,\n",
       " 16,\n",
       " 3,\n",
       " 8,\n",
       " 3,\n",
       " 17,\n",
       " 17,\n",
       " 0,\n",
       " 1,\n",
       " 20,\n",
       " 0,\n",
       " 22,\n",
       " 6,\n",
       " 19,\n",
       " 27,\n",
       " 5,\n",
       " 31,\n",
       " 31,\n",
       " 30,\n",
       " 30,\n",
       " 27,\n",
       " 14,\n",
       " 22,\n",
       " 29,\n",
       " 8,\n",
       " 27,\n",
       " 31,\n",
       " 0,\n",
       " 16,\n",
       " 29,\n",
       " 2,\n",
       " 27,\n",
       " 18,\n",
       " 12,\n",
       " 2,\n",
       " 27,\n",
       " 24,\n",
       " 13,\n",
       " 9,\n",
       " 10,\n",
       " 9,\n",
       " 30,\n",
       " 26,\n",
       " 21,\n",
       " 1,\n",
       " 1,\n",
       " 14,\n",
       " 15,\n",
       " 9,\n",
       " 2,\n",
       " 16,\n",
       " 20,\n",
       " 16,\n",
       " 24,\n",
       " 2,\n",
       " 24,\n",
       " 19,\n",
       " 5,\n",
       " 4,\n",
       " 1,\n",
       " 11,\n",
       " 6,\n",
       " 18,\n",
       " 28,\n",
       " 12,\n",
       " 20,\n",
       " 15,\n",
       " 4,\n",
       " 15,\n",
       " 29,\n",
       " 30,\n",
       " 13,\n",
       " 14,\n",
       " 20,\n",
       " 6,\n",
       " 1,\n",
       " 9,\n",
       " 4,\n",
       " 10,\n",
       " 29,\n",
       " 10,\n",
       " 11,\n",
       " 29,\n",
       " 26,\n",
       " 23,\n",
       " 30,\n",
       " 2,\n",
       " 14,\n",
       " 8,\n",
       " 0,\n",
       " 15,\n",
       " 2,\n",
       " 1,\n",
       " 22,\n",
       " 18,\n",
       " 28,\n",
       " 1,\n",
       " 6,\n",
       " 12,\n",
       " 16,\n",
       " 19,\n",
       " 12,\n",
       " 16,\n",
       " 0,\n",
       " 18,\n",
       " 11,\n",
       " 17,\n",
       " 12,\n",
       " 17,\n",
       " 7,\n",
       " 14,\n",
       " 30,\n",
       " 19,\n",
       " 17,\n",
       " 11,\n",
       " 15,\n",
       " 9,\n",
       " 30,\n",
       " 28,\n",
       " 7,\n",
       " 19,\n",
       " 5,\n",
       " 17,\n",
       " 26,\n",
       " 8,\n",
       " 8,\n",
       " 13,\n",
       " 24,\n",
       " 24,\n",
       " 15,\n",
       " 2,\n",
       " 25,\n",
       " 28,\n",
       " 0,\n",
       " 2,\n",
       " 10,\n",
       " 21,\n",
       " 21,\n",
       " 22,\n",
       " 3,\n",
       " 8,\n",
       " 8,\n",
       " 18,\n",
       " 24,\n",
       " 16,\n",
       " 2,\n",
       " 14,\n",
       " 21,\n",
       " 15,\n",
       " 18,\n",
       " 0,\n",
       " 5,\n",
       " 18,\n",
       " 2,\n",
       " 16,\n",
       " 18,\n",
       " 4,\n",
       " 28,\n",
       " 13,\n",
       " 22,\n",
       " 28,\n",
       " 21,\n",
       " 14,\n",
       " 17,\n",
       " 31,\n",
       " 8,\n",
       " 18,\n",
       " 2,\n",
       " 2,\n",
       " 3,\n",
       " 2,\n",
       " 24,\n",
       " 17,\n",
       " 17,\n",
       " 0,\n",
       " 0,\n",
       " 24,\n",
       " 11,\n",
       " 9,\n",
       " 0,\n",
       " 3,\n",
       " 23,\n",
       " 11,\n",
       " 28,\n",
       " 17,\n",
       " 11,\n",
       " 26,\n",
       " 1,\n",
       " 19,\n",
       " 4,\n",
       " 13,\n",
       " 31,\n",
       " 3,\n",
       " 1,\n",
       " 28,\n",
       " 27,\n",
       " 19,\n",
       " 17,\n",
       " 27,\n",
       " 28,\n",
       " 1,\n",
       " 22,\n",
       " 15,\n",
       " 0,\n",
       " 29,\n",
       " 7,\n",
       " 21,\n",
       " 24,\n",
       " 11,\n",
       " 14,\n",
       " 14,\n",
       " 16,\n",
       " 24,\n",
       " 9,\n",
       " 22,\n",
       " 12,\n",
       " 4,\n",
       " 25,\n",
       " 7,\n",
       " 24,\n",
       " 22,\n",
       " 1,\n",
       " 17,\n",
       " 25,\n",
       " 7,\n",
       " 20,\n",
       " 27,\n",
       " 2,\n",
       " 12,\n",
       " 28,\n",
       " 13,\n",
       " 4,\n",
       " 22,\n",
       " 5,\n",
       " 29,\n",
       " 9,\n",
       " 29,\n",
       " 13,\n",
       " 12,\n",
       " 28,\n",
       " 18,\n",
       " 20,\n",
       " 30,\n",
       " 7,\n",
       " 3,\n",
       " 16,\n",
       " 14,\n",
       " 17,\n",
       " 16,\n",
       " 25,\n",
       " 8,\n",
       " 19,\n",
       " 7,\n",
       " 16,\n",
       " 0,\n",
       " 21,\n",
       " 3,\n",
       " 16,\n",
       " 23,\n",
       " 28,\n",
       " 6,\n",
       " 10,\n",
       " 5,\n",
       " 25,\n",
       " 16,\n",
       " 8,\n",
       " 4,\n",
       " 27,\n",
       " 27,\n",
       " 9,\n",
       " 18,\n",
       " 0,\n",
       " 7,\n",
       " 2,\n",
       " 20,\n",
       " 20,\n",
       " 3,\n",
       " 4,\n",
       " 25,\n",
       " 4,\n",
       " 25,\n",
       " 10,\n",
       " 8,\n",
       " 7,\n",
       " 29,\n",
       " 13,\n",
       " 12,\n",
       " 5,\n",
       " 21,\n",
       " 29,\n",
       " 5,\n",
       " 22,\n",
       " 23,\n",
       " 10,\n",
       " 24,\n",
       " 12,\n",
       " 19,\n",
       " 1,\n",
       " 3,\n",
       " 4,\n",
       " 9,\n",
       " 7,\n",
       " 3,\n",
       " 9,\n",
       " 29,\n",
       " 10,\n",
       " 30,\n",
       " 21,\n",
       " 5,\n",
       " 22,\n",
       " 19,\n",
       " 19,\n",
       " 2,\n",
       " 11,\n",
       " 3,\n",
       " 9,\n",
       " 6,\n",
       " 16,\n",
       " 26,\n",
       " 26,\n",
       " 24,\n",
       " 31,\n",
       " 4,\n",
       " 16,\n",
       " 11,\n",
       " 3,\n",
       " 28,\n",
       " 23,\n",
       " 27,\n",
       " 17,\n",
       " 15,\n",
       " 4,\n",
       " 15,\n",
       " 4,\n",
       " 4,\n",
       " 16,\n",
       " 18,\n",
       " 0,\n",
       " 24,\n",
       " 21,\n",
       " 3,\n",
       " 24,\n",
       " 28,\n",
       " 2,\n",
       " 22,\n",
       " 6,\n",
       " 13,\n",
       " 5,\n",
       " 22,\n",
       " 9,\n",
       " 19,\n",
       " 18,\n",
       " 29,\n",
       " 2,\n",
       " 13,\n",
       " 11,\n",
       " 14,\n",
       " 29,\n",
       " 10,\n",
       " 19,\n",
       " 3,\n",
       " 20,\n",
       " 10,\n",
       " 10,\n",
       " 4]"
      ]
     },
     "execution_count": 69,
     "metadata": {},
     "output_type": "execute_result"
    }
   ],
   "source": [
    "pred"
   ]
  },
  {
   "cell_type": "code",
   "execution_count": 71,
   "metadata": {},
   "outputs": [
    {
     "data": {
      "text/plain": [
       "array([1.59912990e-04, 5.95638936e-04, 5.30020392e-04, 3.90095919e-01,\n",
       "       3.15260084e-04, 8.43166141e-04, 1.24822417e-03, 3.97278200e-04,\n",
       "       4.18830808e-04, 3.26125300e-05, 2.77278654e-04, 4.01930920e-05,\n",
       "       1.36024121e-03, 8.26450647e-04, 8.55514227e-05, 4.49267478e-04,\n",
       "       2.86942086e-04, 6.13489328e-03, 4.65677411e-04, 1.85807556e-04,\n",
       "       1.69747055e-03, 1.66310798e-04, 5.87011762e-02, 2.38093967e-03,\n",
       "       2.92870882e-05, 1.73338412e-04, 1.20755176e-04, 2.51241814e-04,\n",
       "       4.94907545e-05, 5.31471550e-01, 9.25831118e-05, 1.16654919e-04],\n",
       "      dtype=float32)"
      ]
     },
     "execution_count": 71,
     "metadata": {},
     "output_type": "execute_result"
    }
   ],
   "source": [
    "y_pred[1]"
   ]
  },
  {
   "cell_type": "code",
   "execution_count": null,
   "metadata": {},
   "outputs": [],
   "source": []
  }
 ],
 "metadata": {
  "kernelspec": {
   "display_name": "Python 3",
   "language": "python",
   "name": "python3"
  },
  "language_info": {
   "codemirror_mode": {
    "name": "ipython",
    "version": 3
   },
   "file_extension": ".py",
   "mimetype": "text/x-python",
   "name": "python",
   "nbconvert_exporter": "python",
   "pygments_lexer": "ipython3",
   "version": "3.8.5"
  }
 },
 "nbformat": 4,
 "nbformat_minor": 4
}
