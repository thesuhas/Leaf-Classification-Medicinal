{
 "cells": [
  {
   "cell_type": "code",
   "execution_count": 2,
   "metadata": {},
   "outputs": [],
   "source": [
    "from sklearn.svm import SVC\n",
    "import pandas as pd\n",
    "import numpy as np\n",
    "from sklearn.model_selection import train_test_split, GridSearchCV, learning_curve\n",
    "from sklearn import datasets\n",
    "from sklearn.preprocessing import LabelEncoder\n",
    "import matplotlib.pyplot as plt"
   ]
  },
  {
   "cell_type": "markdown",
   "metadata": {},
   "source": [
    "### Importing Data"
   ]
  },
  {
   "cell_type": "code",
   "execution_count": 21,
   "metadata": {},
   "outputs": [],
   "source": [
    "df = pd.read_csv(\"C:\\\\Users\\\\suhas\\\\Documents\\\\College Projects\\\\Leaf-Classification-Medicinal\\\\features.csv\")"
   ]
  },
  {
   "cell_type": "code",
   "execution_count": 22,
   "metadata": {},
   "outputs": [
    {
     "data": {
      "text/html": [
       "<div>\n",
       "<style scoped>\n",
       "    .dataframe tbody tr th:only-of-type {\n",
       "        vertical-align: middle;\n",
       "    }\n",
       "\n",
       "    .dataframe tbody tr th {\n",
       "        vertical-align: top;\n",
       "    }\n",
       "\n",
       "    .dataframe thead th {\n",
       "        text-align: right;\n",
       "    }\n",
       "</style>\n",
       "<table border=\"1\" class=\"dataframe\">\n",
       "  <thead>\n",
       "    <tr style=\"text-align: right;\">\n",
       "      <th></th>\n",
       "      <th>common name</th>\n",
       "      <th>red_mean</th>\n",
       "      <th>red_var</th>\n",
       "      <th>blue_mean</th>\n",
       "      <th>blue_var</th>\n",
       "      <th>green_mean</th>\n",
       "      <th>green_var</th>\n",
       "      <th>area</th>\n",
       "      <th>perimeter</th>\n",
       "      <th>length</th>\n",
       "      <th>...</th>\n",
       "      <th>aspect ratio</th>\n",
       "      <th>form factor</th>\n",
       "      <th>rectangularity</th>\n",
       "      <th>narrow factor</th>\n",
       "      <th>perimeter ratio of diameter</th>\n",
       "      <th>perimeter ratio of length and width</th>\n",
       "      <th>contrast</th>\n",
       "      <th>correlation</th>\n",
       "      <th>entropy</th>\n",
       "      <th>inverse difference moments</th>\n",
       "    </tr>\n",
       "  </thead>\n",
       "  <tbody>\n",
       "    <tr>\n",
       "      <th>0</th>\n",
       "      <td>pubescent bamboo</td>\n",
       "      <td>233.042456</td>\n",
       "      <td>64.064546</td>\n",
       "      <td>230.722686</td>\n",
       "      <td>70.439153</td>\n",
       "      <td>240.572296</td>\n",
       "      <td>42.356737</td>\n",
       "      <td>198395.0</td>\n",
       "      <td>3549.119297</td>\n",
       "      <td>1635.446899</td>\n",
       "      <td>...</td>\n",
       "      <td>10.006771</td>\n",
       "      <td>0.197924</td>\n",
       "      <td>1.347250</td>\n",
       "      <td>1.071749</td>\n",
       "      <td>2.024842</td>\n",
       "      <td>1.972960</td>\n",
       "      <td>12.639656</td>\n",
       "      <td>0.997666</td>\n",
       "      <td>1.688689</td>\n",
       "      <td>0.911738</td>\n",
       "    </tr>\n",
       "    <tr>\n",
       "      <th>1</th>\n",
       "      <td>pubescent bamboo</td>\n",
       "      <td>244.073543</td>\n",
       "      <td>45.414889</td>\n",
       "      <td>242.724323</td>\n",
       "      <td>49.847930</td>\n",
       "      <td>247.329901</td>\n",
       "      <td>32.024069</td>\n",
       "      <td>100889.5</td>\n",
       "      <td>2575.796025</td>\n",
       "      <td>1232.581543</td>\n",
       "      <td>...</td>\n",
       "      <td>10.205549</td>\n",
       "      <td>0.191088</td>\n",
       "      <td>1.475533</td>\n",
       "      <td>1.422046</td>\n",
       "      <td>1.469542</td>\n",
       "      <td>1.903264</td>\n",
       "      <td>8.137424</td>\n",
       "      <td>0.997191</td>\n",
       "      <td>1.193795</td>\n",
       "      <td>0.944818</td>\n",
       "    </tr>\n",
       "    <tr>\n",
       "      <th>2</th>\n",
       "      <td>pubescent bamboo</td>\n",
       "      <td>245.420139</td>\n",
       "      <td>43.430021</td>\n",
       "      <td>244.258054</td>\n",
       "      <td>48.248481</td>\n",
       "      <td>248.636254</td>\n",
       "      <td>29.024985</td>\n",
       "      <td>86552.0</td>\n",
       "      <td>2347.269114</td>\n",
       "      <td>1124.194702</td>\n",
       "      <td>...</td>\n",
       "      <td>10.068904</td>\n",
       "      <td>0.197406</td>\n",
       "      <td>1.450186</td>\n",
       "      <td>1.559150</td>\n",
       "      <td>1.339163</td>\n",
       "      <td>1.899323</td>\n",
       "      <td>8.553729</td>\n",
       "      <td>0.996610</td>\n",
       "      <td>0.848758</td>\n",
       "      <td>0.959023</td>\n",
       "    </tr>\n",
       "    <tr>\n",
       "      <th>3</th>\n",
       "      <td>pubescent bamboo</td>\n",
       "      <td>234.287985</td>\n",
       "      <td>61.532224</td>\n",
       "      <td>232.272938</td>\n",
       "      <td>67.075823</td>\n",
       "      <td>240.416826</td>\n",
       "      <td>43.685299</td>\n",
       "      <td>191065.5</td>\n",
       "      <td>2973.893566</td>\n",
       "      <td>1384.881470</td>\n",
       "      <td>...</td>\n",
       "      <td>6.922833</td>\n",
       "      <td>0.271482</td>\n",
       "      <td>1.449970</td>\n",
       "      <td>1.265659</td>\n",
       "      <td>1.696665</td>\n",
       "      <td>1.876360</td>\n",
       "      <td>8.440041</td>\n",
       "      <td>0.998419</td>\n",
       "      <td>1.673915</td>\n",
       "      <td>0.914331</td>\n",
       "    </tr>\n",
       "    <tr>\n",
       "      <th>4</th>\n",
       "      <td>pubescent bamboo</td>\n",
       "      <td>230.049934</td>\n",
       "      <td>66.982203</td>\n",
       "      <td>226.924000</td>\n",
       "      <td>74.989247</td>\n",
       "      <td>238.373617</td>\n",
       "      <td>44.929827</td>\n",
       "      <td>229856.0</td>\n",
       "      <td>3166.503738</td>\n",
       "      <td>1443.692261</td>\n",
       "      <td>...</td>\n",
       "      <td>5.463408</td>\n",
       "      <td>0.288075</td>\n",
       "      <td>1.659701</td>\n",
       "      <td>1.214101</td>\n",
       "      <td>1.806553</td>\n",
       "      <td>1.853990</td>\n",
       "      <td>8.641438</td>\n",
       "      <td>0.998568</td>\n",
       "      <td>1.968082</td>\n",
       "      <td>0.898644</td>\n",
       "    </tr>\n",
       "    <tr>\n",
       "      <th>...</th>\n",
       "      <td>...</td>\n",
       "      <td>...</td>\n",
       "      <td>...</td>\n",
       "      <td>...</td>\n",
       "      <td>...</td>\n",
       "      <td>...</td>\n",
       "      <td>...</td>\n",
       "      <td>...</td>\n",
       "      <td>...</td>\n",
       "      <td>...</td>\n",
       "      <td>...</td>\n",
       "      <td>...</td>\n",
       "      <td>...</td>\n",
       "      <td>...</td>\n",
       "      <td>...</td>\n",
       "      <td>...</td>\n",
       "      <td>...</td>\n",
       "      <td>...</td>\n",
       "      <td>...</td>\n",
       "      <td>...</td>\n",
       "      <td>...</td>\n",
       "    </tr>\n",
       "    <tr>\n",
       "      <th>1902</th>\n",
       "      <td>tangerine</td>\n",
       "      <td>184.260525</td>\n",
       "      <td>93.180342</td>\n",
       "      <td>168.806493</td>\n",
       "      <td>112.210285</td>\n",
       "      <td>215.297724</td>\n",
       "      <td>52.827481</td>\n",
       "      <td>705823.0</td>\n",
       "      <td>4336.717276</td>\n",
       "      <td>1818.690063</td>\n",
       "      <td>...</td>\n",
       "      <td>2.979133</td>\n",
       "      <td>0.471610</td>\n",
       "      <td>1.573011</td>\n",
       "      <td>0.963764</td>\n",
       "      <td>2.474182</td>\n",
       "      <td>1.785270</td>\n",
       "      <td>71.235251</td>\n",
       "      <td>0.993018</td>\n",
       "      <td>5.632665</td>\n",
       "      <td>0.670356</td>\n",
       "    </tr>\n",
       "    <tr>\n",
       "      <th>1903</th>\n",
       "      <td>tangerine</td>\n",
       "      <td>185.346329</td>\n",
       "      <td>90.126888</td>\n",
       "      <td>175.594804</td>\n",
       "      <td>102.609698</td>\n",
       "      <td>213.140058</td>\n",
       "      <td>54.705009</td>\n",
       "      <td>727647.0</td>\n",
       "      <td>4438.599526</td>\n",
       "      <td>1874.441284</td>\n",
       "      <td>...</td>\n",
       "      <td>2.943961</td>\n",
       "      <td>0.464129</td>\n",
       "      <td>1.640177</td>\n",
       "      <td>0.935099</td>\n",
       "      <td>2.532308</td>\n",
       "      <td>1.767558</td>\n",
       "      <td>44.850095</td>\n",
       "      <td>0.995506</td>\n",
       "      <td>5.516079</td>\n",
       "      <td>0.670101</td>\n",
       "    </tr>\n",
       "    <tr>\n",
       "      <th>1904</th>\n",
       "      <td>tangerine</td>\n",
       "      <td>195.946655</td>\n",
       "      <td>76.084667</td>\n",
       "      <td>178.265622</td>\n",
       "      <td>98.048714</td>\n",
       "      <td>221.792244</td>\n",
       "      <td>44.196328</td>\n",
       "      <td>739384.0</td>\n",
       "      <td>4241.036036</td>\n",
       "      <td>1767.615234</td>\n",
       "      <td>...</td>\n",
       "      <td>2.639542</td>\n",
       "      <td>0.516578</td>\n",
       "      <td>1.600946</td>\n",
       "      <td>0.991612</td>\n",
       "      <td>2.419594</td>\n",
       "      <td>1.740067</td>\n",
       "      <td>70.911466</td>\n",
       "      <td>0.990033</td>\n",
       "      <td>5.773773</td>\n",
       "      <td>0.652729</td>\n",
       "    </tr>\n",
       "    <tr>\n",
       "      <th>1905</th>\n",
       "      <td>tangerine</td>\n",
       "      <td>181.371278</td>\n",
       "      <td>95.293325</td>\n",
       "      <td>171.446218</td>\n",
       "      <td>107.993363</td>\n",
       "      <td>208.932923</td>\n",
       "      <td>60.204933</td>\n",
       "      <td>726846.0</td>\n",
       "      <td>4480.918286</td>\n",
       "      <td>1880.785767</td>\n",
       "      <td>...</td>\n",
       "      <td>2.898120</td>\n",
       "      <td>0.454902</td>\n",
       "      <td>1.679268</td>\n",
       "      <td>0.931945</td>\n",
       "      <td>2.556452</td>\n",
       "      <td>1.771287</td>\n",
       "      <td>65.832090</td>\n",
       "      <td>0.994308</td>\n",
       "      <td>5.591044</td>\n",
       "      <td>0.663269</td>\n",
       "    </tr>\n",
       "    <tr>\n",
       "      <th>1906</th>\n",
       "      <td>tangerine</td>\n",
       "      <td>146.533021</td>\n",
       "      <td>113.578509</td>\n",
       "      <td>142.682239</td>\n",
       "      <td>117.588074</td>\n",
       "      <td>179.499540</td>\n",
       "      <td>79.894951</td>\n",
       "      <td>919659.0</td>\n",
       "      <td>4568.536475</td>\n",
       "      <td>1683.910522</td>\n",
       "      <td>...</td>\n",
       "      <td>2.037257</td>\n",
       "      <td>0.553710</td>\n",
       "      <td>1.513440</td>\n",
       "      <td>1.040903</td>\n",
       "      <td>2.606440</td>\n",
       "      <td>1.819795</td>\n",
       "      <td>30.179928</td>\n",
       "      <td>0.998297</td>\n",
       "      <td>6.208922</td>\n",
       "      <td>0.653243</td>\n",
       "    </tr>\n",
       "  </tbody>\n",
       "</table>\n",
       "<p>1907 rows × 21 columns</p>\n",
       "</div>"
      ],
      "text/plain": [
       "           common name    red_mean     red_var   blue_mean    blue_var  \\\n",
       "0     pubescent bamboo  233.042456   64.064546  230.722686   70.439153   \n",
       "1     pubescent bamboo  244.073543   45.414889  242.724323   49.847930   \n",
       "2     pubescent bamboo  245.420139   43.430021  244.258054   48.248481   \n",
       "3     pubescent bamboo  234.287985   61.532224  232.272938   67.075823   \n",
       "4     pubescent bamboo  230.049934   66.982203  226.924000   74.989247   \n",
       "...                ...         ...         ...         ...         ...   \n",
       "1902         tangerine  184.260525   93.180342  168.806493  112.210285   \n",
       "1903         tangerine  185.346329   90.126888  175.594804  102.609698   \n",
       "1904         tangerine  195.946655   76.084667  178.265622   98.048714   \n",
       "1905         tangerine  181.371278   95.293325  171.446218  107.993363   \n",
       "1906         tangerine  146.533021  113.578509  142.682239  117.588074   \n",
       "\n",
       "      green_mean  green_var      area    perimeter       length  ...  \\\n",
       "0     240.572296  42.356737  198395.0  3549.119297  1635.446899  ...   \n",
       "1     247.329901  32.024069  100889.5  2575.796025  1232.581543  ...   \n",
       "2     248.636254  29.024985   86552.0  2347.269114  1124.194702  ...   \n",
       "3     240.416826  43.685299  191065.5  2973.893566  1384.881470  ...   \n",
       "4     238.373617  44.929827  229856.0  3166.503738  1443.692261  ...   \n",
       "...          ...        ...       ...          ...          ...  ...   \n",
       "1902  215.297724  52.827481  705823.0  4336.717276  1818.690063  ...   \n",
       "1903  213.140058  54.705009  727647.0  4438.599526  1874.441284  ...   \n",
       "1904  221.792244  44.196328  739384.0  4241.036036  1767.615234  ...   \n",
       "1905  208.932923  60.204933  726846.0  4480.918286  1880.785767  ...   \n",
       "1906  179.499540  79.894951  919659.0  4568.536475  1683.910522  ...   \n",
       "\n",
       "      aspect ratio  form factor  rectangularity  narrow factor  \\\n",
       "0        10.006771     0.197924        1.347250       1.071749   \n",
       "1        10.205549     0.191088        1.475533       1.422046   \n",
       "2        10.068904     0.197406        1.450186       1.559150   \n",
       "3         6.922833     0.271482        1.449970       1.265659   \n",
       "4         5.463408     0.288075        1.659701       1.214101   \n",
       "...            ...          ...             ...            ...   \n",
       "1902      2.979133     0.471610        1.573011       0.963764   \n",
       "1903      2.943961     0.464129        1.640177       0.935099   \n",
       "1904      2.639542     0.516578        1.600946       0.991612   \n",
       "1905      2.898120     0.454902        1.679268       0.931945   \n",
       "1906      2.037257     0.553710        1.513440       1.040903   \n",
       "\n",
       "      perimeter ratio of diameter  perimeter ratio of length and width  \\\n",
       "0                        2.024842                             1.972960   \n",
       "1                        1.469542                             1.903264   \n",
       "2                        1.339163                             1.899323   \n",
       "3                        1.696665                             1.876360   \n",
       "4                        1.806553                             1.853990   \n",
       "...                           ...                                  ...   \n",
       "1902                     2.474182                             1.785270   \n",
       "1903                     2.532308                             1.767558   \n",
       "1904                     2.419594                             1.740067   \n",
       "1905                     2.556452                             1.771287   \n",
       "1906                     2.606440                             1.819795   \n",
       "\n",
       "       contrast  correlation   entropy  inverse difference moments  \n",
       "0     12.639656     0.997666  1.688689                    0.911738  \n",
       "1      8.137424     0.997191  1.193795                    0.944818  \n",
       "2      8.553729     0.996610  0.848758                    0.959023  \n",
       "3      8.440041     0.998419  1.673915                    0.914331  \n",
       "4      8.641438     0.998568  1.968082                    0.898644  \n",
       "...         ...          ...       ...                         ...  \n",
       "1902  71.235251     0.993018  5.632665                    0.670356  \n",
       "1903  44.850095     0.995506  5.516079                    0.670101  \n",
       "1904  70.911466     0.990033  5.773773                    0.652729  \n",
       "1905  65.832090     0.994308  5.591044                    0.663269  \n",
       "1906  30.179928     0.998297  6.208922                    0.653243  \n",
       "\n",
       "[1907 rows x 21 columns]"
      ]
     },
     "execution_count": 22,
     "metadata": {},
     "output_type": "execute_result"
    }
   ],
   "source": [
    "del df['Unnamed: 0']\n",
    "df"
   ]
  },
  {
   "cell_type": "markdown",
   "metadata": {},
   "source": [
    "### Pre-processing"
   ]
  },
  {
   "cell_type": "code",
   "execution_count": 24,
   "metadata": {},
   "outputs": [],
   "source": [
    "le = LabelEncoder()"
   ]
  },
  {
   "cell_type": "code",
   "execution_count": 25,
   "metadata": {},
   "outputs": [],
   "source": [
    "col = []\n",
    "\n",
    "for c in df.columns:\n",
    "    col.append(c)\n",
    "    \n",
    "y = df[col[0]]\n",
    "X = df[col[1:]]"
   ]
  },
  {
   "cell_type": "code",
   "execution_count": 26,
   "metadata": {},
   "outputs": [],
   "source": [
    "le.fit(y)\n",
    "species = le.classes_"
   ]
  },
  {
   "cell_type": "code",
   "execution_count": 27,
   "metadata": {},
   "outputs": [],
   "source": [
    "df['common name'] = le.transform(y)"
   ]
  },
  {
   "cell_type": "code",
   "execution_count": 28,
   "metadata": {},
   "outputs": [
    {
     "data": {
      "text/plain": [
       "32"
      ]
     },
     "execution_count": 28,
     "metadata": {},
     "output_type": "execute_result"
    }
   ],
   "source": [
    "df\n",
    "a = set()\n",
    "for i in range(len(df)):\n",
    "    a.add(df.iloc[i]['common name'])\n",
    "    \n",
    "len(a)"
   ]
  },
  {
   "cell_type": "markdown",
   "metadata": {},
   "source": [
    "### Splitting into Train and Test"
   ]
  },
  {
   "cell_type": "code",
   "execution_count": 31,
   "metadata": {},
   "outputs": [],
   "source": [
    "col = []\n",
    "\n",
    "for c in df.columns:\n",
    "    col.append(c)\n",
    "\n",
    "y_fin = df[col[0]]\n",
    "X_fin= df[col[1:]]\n",
    "X_train, X_test, y_train, y_test = train_test_split(X_fin, y_fin)"
   ]
  },
  {
   "cell_type": "markdown",
   "metadata": {},
   "source": [
    "### Create SVM and Optimise"
   ]
  },
  {
   "cell_type": "code",
   "execution_count": 32,
   "metadata": {},
   "outputs": [],
   "source": [
    "clf = SVC()"
   ]
  },
  {
   "cell_type": "code",
   "execution_count": 33,
   "metadata": {},
   "outputs": [],
   "source": [
    "params = {'kernel': ['linear', 'rbf'], 'C': [0.01, 0.1, 1, 5, 10], 'gamma': [0.01, 0.1, 1, 10]}"
   ]
  },
  {
   "cell_type": "code",
   "execution_count": 34,
   "metadata": {},
   "outputs": [
    {
     "data": {
      "text/plain": [
       "SVC()"
      ]
     },
     "execution_count": 34,
     "metadata": {},
     "output_type": "execute_result"
    }
   ],
   "source": [
    "clf.fit(X_train, y_train)"
   ]
  },
  {
   "cell_type": "code",
   "execution_count": 35,
   "metadata": {},
   "outputs": [
    {
     "data": {
      "text/plain": [
       "0.20964360587002095"
      ]
     },
     "execution_count": 35,
     "metadata": {},
     "output_type": "execute_result"
    }
   ],
   "source": [
    "clf.score(X_test, y_test)"
   ]
  },
  {
   "cell_type": "code",
   "execution_count": 36,
   "metadata": {},
   "outputs": [],
   "source": [
    "gsc = GridSearchCV(clf, param_grid=params)"
   ]
  },
  {
   "cell_type": "code",
   "execution_count": null,
   "metadata": {},
   "outputs": [],
   "source": [
    "grid_result = gsc.fit(X_train, y_train)"
   ]
  },
  {
   "cell_type": "code",
   "execution_count": 23,
   "metadata": {},
   "outputs": [],
   "source": [
    "best_params = grid_result.best_params_\n"
   ]
  },
  {
   "cell_type": "code",
   "execution_count": 24,
   "metadata": {},
   "outputs": [
    {
     "data": {
      "text/plain": [
       "{'C': 10, 'gamma': 10, 'kernel': 'rbf'}"
      ]
     },
     "execution_count": 24,
     "metadata": {},
     "output_type": "execute_result"
    }
   ],
   "source": [
    "best_params"
   ]
  },
  {
   "cell_type": "code",
   "execution_count": 25,
   "metadata": {},
   "outputs": [],
   "source": [
    "clf = SVC(C=best_params['C'], gamma=best_params['gamma'], kernel=best_params['kernel'])"
   ]
  },
  {
   "cell_type": "code",
   "execution_count": 26,
   "metadata": {},
   "outputs": [],
   "source": [
    "#clf.fit(X_train, y_train)"
   ]
  },
  {
   "cell_type": "code",
   "execution_count": 27,
   "metadata": {},
   "outputs": [],
   "source": [
    "#clf.score(X_test, y_test)"
   ]
  },
  {
   "cell_type": "markdown",
   "metadata": {},
   "source": [
    "### Learning Curve"
   ]
  },
  {
   "cell_type": "code",
   "execution_count": 28,
   "metadata": {},
   "outputs": [],
   "source": [
    "train_sizes, train_scores, test_scores = learning_curve(clf, X_fin, y_fin, shuffle=True)"
   ]
  },
  {
   "cell_type": "code",
   "execution_count": 29,
   "metadata": {},
   "outputs": [
    {
     "data": {
      "text/plain": [
       "array([1., 1., 1., 1., 1.])"
      ]
     },
     "execution_count": 29,
     "metadata": {},
     "output_type": "execute_result"
    }
   ],
   "source": [
    "train_scores_mean = train_scores.mean(axis = 1)\n",
    "train_scores_mean"
   ]
  },
  {
   "cell_type": "code",
   "execution_count": 30,
   "metadata": {},
   "outputs": [
    {
     "data": {
      "text/plain": [
       "array([0.49273707, 0.78288205, 0.84354232, 0.87918103, 0.90482171])"
      ]
     },
     "execution_count": 30,
     "metadata": {},
     "output_type": "execute_result"
    }
   ],
   "source": [
    "test_scores_mean = test_scores.mean(axis = 1)\n",
    "test_scores_mean"
   ]
  },
  {
   "cell_type": "code",
   "execution_count": 31,
   "metadata": {},
   "outputs": [
    {
     "data": {
      "text/plain": [
       "<matplotlib.legend.Legend at 0x2a3429ca508>"
      ]
     },
     "execution_count": 31,
     "metadata": {},
     "output_type": "execute_result"
    },
    {
     "data": {
      "image/png": "[encoded data removed]",
      "text/plain": [
       "<Figure size 432x288 with 1 Axes>"
      ]
     },
     "metadata": {
      "needs_background": "light"
     },
     "output_type": "display_data"
    }
   ],
   "source": [
    "plt.plot(train_sizes, train_scores_mean, label='Training Curve')\n",
    "plt.plot(train_sizes, test_scores_mean, label = 'Validation Curve')\n",
    "plt.xlabel('Training Set Size')\n",
    "plt.ylabel('Score')\n",
    "plt.legend()"
   ]
  },
  {
   "cell_type": "code",
   "execution_count": 32,
   "metadata": {},
   "outputs": [
    {
     "data": {
      "text/plain": [
       "SVC(C=10, break_ties=False, cache_size=200, class_weight=None, coef0=0.0,\n",
       "    decision_function_shape='ovr', degree=3, gamma=10, kernel='rbf',\n",
       "    max_iter=-1, probability=False, random_state=None, shrinking=True,\n",
       "    tol=0.001, verbose=False)"
      ]
     },
     "execution_count": 32,
     "metadata": {},
     "output_type": "execute_result"
    }
   ],
   "source": [
    "clf.fit(X_train, y_train)"
   ]
  },
  {
   "cell_type": "code",
   "execution_count": 33,
   "metadata": {},
   "outputs": [
    {
     "data": {
      "text/plain": [
       "0.8925"
      ]
     },
     "execution_count": 33,
     "metadata": {},
     "output_type": "execute_result"
    }
   ],
   "source": [
    "clf.score(X_test, y_test)"
   ]
  },
  {
   "cell_type": "code",
   "execution_count": null,
   "metadata": {},
   "outputs": [],
   "source": []
  }
 ],
 "metadata": {
  "kernelspec": {
   "display_name": "Python 3",
   "language": "python",
   "name": "python3"
  },
  "language_info": {
   "codemirror_mode": {
    "name": "ipython",
    "version": 3
   },
   "file_extension": ".py",
   "mimetype": "text/x-python",
   "name": "python",
   "nbconvert_exporter": "python",
   "pygments_lexer": "ipython3",
   "version": "3.7.6"
  }
 },
 "nbformat": 4,
 "nbformat_minor": 4
}
